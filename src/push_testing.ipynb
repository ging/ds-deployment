{
 "cells": [
  {
   "metadata": {
    "ExecuteTime": {
     "end_time": "2024-12-02T14:26:14.903121Z",
     "start_time": "2024-12-02T14:26:14.781426Z"
    }
   },
   "cell_type": "code",
   "source": "!which python",
   "id": "f5eb35243a90b60f",
   "outputs": [
    {
     "name": "stdout",
     "output_type": "stream",
     "text": [
      "/Users/apabook/Desktop/ds-deployment/.venv/bin/python\r\n"
     ]
    }
   ],
   "execution_count": 1
  },
  {
   "metadata": {
    "collapsed": true,
    "ExecuteTime": {
     "end_time": "2024-12-02T14:26:15.315349Z",
     "start_time": "2024-12-02T14:26:15.033210Z"
    }
   },
   "cell_type": "code",
   "source": [
    "import pandas as pd\n",
    "import requests\n",
    "import json\n",
    "import pprint\n"
   ],
   "id": "initial_id",
   "outputs": [
    {
     "name": "stderr",
     "output_type": "stream",
     "text": [
      "/Users/apabook/Desktop/ds-deployment/.venv/lib/python3.9/site-packages/urllib3/__init__.py:35: NotOpenSSLWarning: urllib3 v2 only supports OpenSSL 1.1.1+, currently the 'ssl' module is compiled with 'LibreSSL 2.8.3'. See: https://github.com/urllib3/urllib3/issues/3020\n",
      "  warnings.warn(\n"
     ]
    }
   ],
   "execution_count": 2
  },
  {
   "metadata": {},
   "cell_type": "markdown",
   "source": [
    "# Testing HL Api for PUSH transfer\n",
    "\n",
    "---"
   ],
   "id": "d606bf0c35b91005"
  },
  {
   "metadata": {},
   "cell_type": "markdown",
   "source": "## Consts",
   "id": "249fc7af32f10612"
  },
  {
   "metadata": {
    "ExecuteTime": {
     "end_time": "2024-12-02T14:26:16.825906Z",
     "start_time": "2024-12-02T14:26:16.823585Z"
    }
   },
   "cell_type": "code",
   "source": [
    "data_space_provider = \"http://127.0.0.1:1234\"\n",
    "data_space_consumer = \"http://127.0.0.1:1235\"\n",
    "context_broker = \"http://fiware-orion:1026\"\n",
    "streaming_processor = \"http://streaming-testing-service:1237\"\n",
    "\n",
    "catalog_id = \"\"\n",
    "dataservice_id = \"\"\n",
    "agreement_id = \"\"\n",
    "agreement_pid = \"\""
   ],
   "id": "4230628fecab09a1",
   "outputs": [],
   "execution_count": 3
  },
  {
   "metadata": {},
   "cell_type": "markdown",
   "source": "## Setup Catalog, Dataservice and agreements",
   "id": "a128721267853968"
  },
  {
   "metadata": {
    "ExecuteTime": {
     "end_time": "2024-12-02T14:26:17.627292Z",
     "start_time": "2024-12-02T14:26:17.589220Z"
    }
   },
   "cell_type": "code",
   "source": [
    "payload = {\n",
    "    \"foaf:homepage\": \"My catalog in Dataspace provider\",\n",
    "    \"dct:title\": \"My catalog in Dataspace provider\"\n",
    "}\n",
    "headers = {\n",
    "    \"Content-Type\": \"application/json\",\n",
    "}\n",
    "url = data_space_provider + \"/api/v1/catalogs\"\n",
    "response = requests.request(\"POST\", url, headers=headers, data=json.dumps(payload))\n",
    "response_as_json = response.json()\n",
    "catalog_id = response_as_json[\"@id\"]\n",
    "\n",
    "pprint.pprint(response.json())"
   ],
   "id": "2fabc6eafbe80045",
   "outputs": [
    {
     "name": "stdout",
     "output_type": "stream",
     "text": [
      "{'@context': 'https://w3id.org/dspace/2024/1/context.json',\n",
      " '@id': 'aeec1757-a93c-4d09-8057-9008240d9b36',\n",
      " '@type': 'dcat:Catalog',\n",
      " 'dcat:dataset': [],\n",
      " 'dcat:keyword': '',\n",
      " 'dcat:service': [],\n",
      " 'dcat:theme': '',\n",
      " 'dct:conformsTo': None,\n",
      " 'dct:creator': None,\n",
      " 'dct:description': [],\n",
      " 'dct:identifier': 'aeec1757-a93c-4d09-8057-9008240d9b36',\n",
      " 'dct:issued': '2024-12-02T14:26:17.607127',\n",
      " 'dct:modified': None,\n",
      " 'dct:title': 'My catalog in Dataspace provider',\n",
      " 'dspace:extraFields': None,\n",
      " 'dspace:participantId': None,\n",
      " 'foaf:homepage': 'My catalog in Dataspace provider',\n",
      " 'odrl:hasPolicy': None}\n"
     ]
    }
   ],
   "execution_count": 4
  },
  {
   "metadata": {
    "ExecuteTime": {
     "end_time": "2024-12-02T14:26:18.287366Z",
     "start_time": "2024-12-02T14:26:18.260617Z"
    }
   },
   "cell_type": "code",
   "source": [
    "suscription_payload = {\n",
    "    \"description\": \"Air Quality Unit Subscription\",\n",
    "    \"subject\": {\n",
    "        \"entities\":[\n",
    "            {\"idPattern\":\".*\",\"type\":\"AirQualityUnit\"}],\n",
    "        \"condition\": {\n",
    "            \"attrs\":[\"CO\"]\n",
    "        }\n",
    "    },\n",
    "    \"notification\": {\n",
    "        \"http\": {\n",
    "            \"url\":\"$data_url\",\n",
    "        },\n",
    "    },\n",
    "    \"expires\":\"2040-01-01T14:00:00.00Z\",\n",
    "    \"throttling\":5\n",
    "}\n",
    "payload = {\n",
    "    \"dcat:endpointURL\": context_broker + \"/v2/subscriptions\",\n",
    "    \"dcat:endpointDescription\": json.dumps(suscription_payload),\n",
    "}\n",
    "headers = {\n",
    "    \"Content-Type\": \"application/json\",\n",
    "}\n",
    "url = data_space_provider + \"/api/v1/catalogs/\" + catalog_id + \"/data-services\"\n",
    "response = requests.request(\"POST\", url, headers=headers, data=json.dumps(payload))\n",
    "response_as_json = response.json()\n",
    "dataservice_id = response_as_json[\"@id\"]\n",
    "\n",
    "pprint.pprint(response.json())"
   ],
   "id": "5bb00d1a6e7ae7fe",
   "outputs": [
    {
     "name": "stdout",
     "output_type": "stream",
     "text": [
      "{'@context': 'https://w3id.org/dspace/2024/1/context.json',\n",
      " '@id': 'fc071617-9ac7-41ae-81da-7fe8865f7c36',\n",
      " '@type': 'dcat:DataService',\n",
      " 'dcat:endpointDescription': '{\"description\": \"Air Quality Unit Subscription\", '\n",
      "                             '\"subject\": {\"entities\": [{\"idPattern\": \".*\", '\n",
      "                             '\"type\": \"AirQualityUnit\"}], \"condition\": '\n",
      "                             '{\"attrs\": [\"CO\"]}}, \"notification\": {\"http\": '\n",
      "                             '{\"url\": \"$data_url\"}}, \"expires\": '\n",
      "                             '\"2040-01-01T14:00:00.00Z\", \"throttling\": 5}',\n",
      " 'dcat:endpointURL': 'http://fiware-orion:1026/v2/subscriptions',\n",
      " 'dcat:keyword': '',\n",
      " 'dcat:theme': '',\n",
      " 'dct:conformsTo': None,\n",
      " 'dct:creator': None,\n",
      " 'dct:description': [],\n",
      " 'dct:identifier': 'fc071617-9ac7-41ae-81da-7fe8865f7c36',\n",
      " 'dct:issued': '2024-12-02T14:26:18.266731',\n",
      " 'dct:modified': None,\n",
      " 'dct:title': None,\n",
      " 'dspace:extraFields': None,\n",
      " 'odrl:hasPolicy': None}\n"
     ]
    }
   ],
   "execution_count": 5
  },
  {
   "metadata": {
    "ExecuteTime": {
     "end_time": "2024-12-02T14:26:19.133573Z",
     "start_time": "2024-12-02T14:26:19.100050Z"
    }
   },
   "cell_type": "code",
   "source": [
    "payload = {\n",
    "    \"dataServiceId\": dataservice_id\n",
    "}\n",
    "headers = {\n",
    "    \"Content-Type\": \"application/json\",\n",
    "}\n",
    "url = data_space_provider + \"/api/v1/agreements\"\n",
    "response = requests.request(\"POST\", url, headers=headers, data=json.dumps(payload))\n",
    "response_as_json = response.json()\n",
    "agreement_id = response_as_json[\"agreement_id\"]\n",
    "agreement_pid = \"urn:uuid:\" + agreement_id\n",
    "\n",
    "pprint.pprint(response.json())"
   ],
   "id": "8195a5dbe52064ed",
   "outputs": [
    {
     "name": "stdout",
     "output_type": "stream",
     "text": [
      "{'agreement_id': '92a196cc-7f3a-4c0d-836c-2dba5c9ccb17',\n",
      " 'data_service_id': 'fc071617-9ac7-41ae-81da-7fe8865f7c36',\n",
      " 'identity': None,\n",
      " 'identity_token': None}\n"
     ]
    }
   ],
   "execution_count": 6
  },
  {
   "metadata": {},
   "cell_type": "markdown",
   "source": "## Setup transfer",
   "id": "f4525c74cc0623aa"
  },
  {
   "metadata": {
    "ExecuteTime": {
     "end_time": "2024-12-02T14:26:20.369491Z",
     "start_time": "2024-12-02T14:26:20.354916Z"
    }
   },
   "cell_type": "code",
   "source": [
    "url = data_space_consumer + \"/api/v1/setup-transfer\"\n",
    "\n",
    "payload = \"\"\n",
    "headers = {}\n",
    "response = requests.request(\"POST\", url, headers=headers, data=payload)\n",
    "callbackAddress = response.json()[\"callbackAddress\"]\n",
    "callbackId = response.json()[\"callbackId\"]\n",
    "consumerPid = response.json()[\"consumerPid\"]\n",
    "\n",
    "pprint.pprint(response.json())"
   ],
   "id": "9bbec26ab424add2",
   "outputs": [
    {
     "name": "stdout",
     "output_type": "stream",
     "text": [
      "{'callbackAddress': 'http://ds-consumer:1235/754abdb3-cded-4499-9ccb-35f1c9949079',\n",
      " 'callbackId': '754abdb3-cded-4499-9ccb-35f1c9949079',\n",
      " 'consumerPid': 'urn:uuid:de019499-0421-4b5d-bea8-5cfa00aede8c'}\n"
     ]
    }
   ],
   "execution_count": 7
  },
  {
   "metadata": {},
   "cell_type": "markdown",
   "source": "## Request transfer",
   "id": "18541388a3b2edfd"
  },
  {
   "metadata": {
    "ExecuteTime": {
     "end_time": "2024-12-02T14:26:21.475942Z",
     "start_time": "2024-12-02T14:26:21.358118Z"
    }
   },
   "cell_type": "code",
   "source": [
    "url = data_space_consumer + \"/api/v1/request-transfer\"\n",
    "\n",
    "payload = json.dumps({\n",
    "    \"agreementId\": agreement_pid,\n",
    "    \"format\": \"fiware+push\",\n",
    "    \"dataAddress\": {\n",
    "        \"@type\": \"dspace:DataAddress\",\n",
    "        \"dspace:endpoint\": streaming_processor + \"/data-client\",\n",
    "        \"dspace:endpointType\": \"HTTP\",\n",
    "        \"dspace:endpointProperties\": []\n",
    "    },\n",
    "    \"callbackAddress\": callbackAddress,\n",
    "    \"callbackId\": callbackId,\n",
    "    \"consumerPid\": consumerPid\n",
    "})\n",
    "headers = {\n",
    "  'Content-Type': 'application/json'\n",
    "}\n",
    "\n",
    "response = requests.request(\"POST\", url, headers=headers, data=payload)\n",
    "\n",
    "pprint.pprint(response.json())\n"
   ],
   "id": "b77d3288a12ce247",
   "outputs": [
    {
     "name": "stdout",
     "output_type": "stream",
     "text": [
      "{'consumerPid': 'urn:uuid:de019499-0421-4b5d-bea8-5cfa00aede8c',\n",
      " 'transferProcess': {'@context': 'https://w3id.org/dspace/2024/1/context.json',\n",
      "                     '@type': 'dspace:TransferProcess',\n",
      "                     'dspace:consumerPid': 'urn:uuid:de019499-0421-4b5d-bea8-5cfa00aede8c',\n",
      "                     'dspace:providerPid': 'urn:uuid:3668821f-aa3c-4a9f-8662-386372f57b67',\n",
      "                     'dspace:state': 'dspace:REQUESTED'}}\n"
     ]
    }
   ],
   "execution_count": 8
  },
  {
   "metadata": {},
   "cell_type": "markdown",
   "source": "#### For seeing how the push service is working, please check the logs in the streaming-testing-service",
   "id": "88899432130f675f"
  },
  {
   "metadata": {},
   "cell_type": "markdown",
   "source": "## Suspend transfer",
   "id": "8cd90897a001831e"
  },
  {
   "metadata": {
    "ExecuteTime": {
     "end_time": "2024-12-02T14:27:54.582368Z",
     "start_time": "2024-12-02T14:27:54.526761Z"
    }
   },
   "cell_type": "code",
   "source": [
    "url = data_space_consumer + \"/api/v1/suspend-transfer\"\n",
    "\n",
    "payload = json.dumps({\n",
    "  \"consumerPid\": consumerPid\n",
    "})\n",
    "headers = {\n",
    "  'Content-Type': 'application/json'\n",
    "}\n",
    "\n",
    "response = requests.request(\"POST\", url, headers=headers, data=payload)\n",
    "\n",
    "pprint.pprint(response.json())"
   ],
   "id": "81a20f6fad26c983",
   "outputs": [
    {
     "name": "stdout",
     "output_type": "stream",
     "text": [
      "{'consumerPid': 'urn:uuid:de019499-0421-4b5d-bea8-5cfa00aede8c',\n",
      " 'transferProcess': {'@context': 'https://w3id.org/dspace/2024/1/context.json',\n",
      "                     '@type': 'dspace:TransferProcess',\n",
      "                     'dspace:consumerPid': 'urn:uuid:de019499-0421-4b5d-bea8-5cfa00aede8c',\n",
      "                     'dspace:providerPid': 'urn:uuid:3668821f-aa3c-4a9f-8662-386372f57b67',\n",
      "                     'dspace:state': 'dspace:SUSPENDED'}}\n"
     ]
    }
   ],
   "execution_count": 9
  },
  {
   "metadata": {},
   "cell_type": "markdown",
   "source": "## Test data access has been suspended\n",
   "id": "5dbfb9a2eedf5a3d"
  },
  {
   "metadata": {},
   "cell_type": "markdown",
   "source": "#### For seeing how the push service is no longer receiving data, please check the logs in the streaming-testing-service",
   "id": "aa9bf04b5659ddbd"
  },
  {
   "metadata": {},
   "cell_type": "markdown",
   "source": "## Restart transfer",
   "id": "1bae8e1bf5c49bcb"
  },
  {
   "metadata": {
    "ExecuteTime": {
     "end_time": "2024-11-26T12:11:35.077178Z",
     "start_time": "2024-11-26T08:41:32.396179Z"
    }
   },
   "cell_type": "code",
   "source": [
    "url = data_space_consumer + \"/api/v1/restart-transfer\"\n",
    "\n",
    "payload = json.dumps({\n",
    "  \"consumerPid\": consumerPid\n",
    "})\n",
    "headers = {\n",
    "  'Content-Type': 'application/json'\n",
    "}\n",
    "\n",
    "response = requests.request(\"POST\", url, headers=headers, data=payload)\n",
    "\n",
    "pprint.pprint(response.json())"
   ],
   "id": "89bc201efc2bd622",
   "outputs": [
    {
     "name": "stdout",
     "output_type": "stream",
     "text": [
      "{'consumerPid': 'urn:uuid:5d2ec721-4cb2-4735-9141-59acfbfded12',\n",
      " 'transferProcess': {'@context': 'https://w3id.org/dspace/2024/1/context.json',\n",
      "                     '@type': 'dspace:TransferProcess',\n",
      "                     'dspace:consumerPid': 'urn:uuid:5d2ec721-4cb2-4735-9141-59acfbfded12',\n",
      "                     'dspace:providerPid': 'urn:uuid:3712845c-27c1-4532-916d-70ee1098ee67',\n",
      "                     'dspace:state': 'dspace:STARTED'}}\n"
     ]
    }
   ],
   "execution_count": 33
  },
  {
   "metadata": {},
   "cell_type": "markdown",
   "source": "## Test data is accessible again",
   "id": "c912368502ca728c"
  },
  {
   "metadata": {},
   "cell_type": "markdown",
   "source": "#### For seeing how the push service is working, please check the logs in the streaming-testing-service",
   "id": "eac33c8a84b6a956"
  },
  {
   "metadata": {},
   "cell_type": "markdown",
   "source": "## Complete transfer",
   "id": "b6a0cec99e7c17b2"
  },
  {
   "metadata": {
    "ExecuteTime": {
     "end_time": "2024-11-26T12:11:35.080366Z",
     "start_time": "2024-11-26T08:41:32.526246Z"
    }
   },
   "cell_type": "code",
   "source": [
    "url = data_space_consumer + \"/api/v1/complete-transfer\"\n",
    "\n",
    "payload = json.dumps({\n",
    "  \"consumerPid\": consumerPid\n",
    "})\n",
    "headers = {\n",
    "  'Content-Type': 'application/json'\n",
    "}\n",
    "\n",
    "response = requests.request(\"POST\", url, headers=headers, data=payload)\n",
    "\n",
    "pprint.pprint(response.json())"
   ],
   "id": "c21cace19c0e0b30",
   "outputs": [
    {
     "name": "stdout",
     "output_type": "stream",
     "text": [
      "{'consumerPid': 'urn:uuid:5d2ec721-4cb2-4735-9141-59acfbfded12',\n",
      " 'transferProcess': {'@context': 'https://w3id.org/dspace/2024/1/context.json',\n",
      "                     '@type': 'dspace:TransferProcess',\n",
      "                     'dspace:consumerPid': 'urn:uuid:5d2ec721-4cb2-4735-9141-59acfbfded12',\n",
      "                     'dspace:providerPid': 'urn:uuid:3712845c-27c1-4532-916d-70ee1098ee67',\n",
      "                     'dspace:state': 'dspace:COMPLETED'}}\n"
     ]
    }
   ],
   "execution_count": 34
  },
  {
   "metadata": {},
   "cell_type": "markdown",
   "source": "## Data is not accessible",
   "id": "562e38f8030d1a70"
  },
  {
   "metadata": {},
   "cell_type": "markdown",
   "source": "#### For seeing how the push service is no longer receiving data, please check the logs in the streaming-testing-service",
   "id": "d61ebf416f44ca23"
  },
  {
   "metadata": {},
   "cell_type": "markdown",
   "source": "## Protocol state cannot change",
   "id": "59f9a127a11c5870"
  },
  {
   "metadata": {
    "ExecuteTime": {
     "end_time": "2024-11-26T12:11:35.080635Z",
     "start_time": "2024-11-26T08:41:32.660794Z"
    }
   },
   "cell_type": "code",
   "source": [
    "url = data_space_consumer + \"/api/v1/restart-transfer\"\n",
    "\n",
    "payload = json.dumps({\n",
    "  \"consumerPid\": consumerPid\n",
    "})\n",
    "headers = {\n",
    "  'Content-Type': 'application/json'\n",
    "}\n",
    "\n",
    "response = requests.request(\"POST\", url, headers=headers, data=payload)\n",
    "\n",
    "pprint.pprint(response.json())"
   ],
   "id": "fe5042010fcfd9bf",
   "outputs": [
    {
     "name": "stdout",
     "output_type": "stream",
     "text": [
      "{'consumerPid': 'urn:uuid:5d2ec721-4cb2-4735-9141-59acfbfded12',\n",
      " 'error': {'@context': 'https://w3id.org/dspace/2024/1/context.json',\n",
      "           '@type': 'dspace:TransferError',\n",
      "           'dspace:code': 'TRANSFER_ERROR_CODE',\n",
      "           'dspace:consumerPid': '123',\n",
      "           'dspace:providerPid': '123',\n",
      "           'dspace:reason': ['Protocol Error. dspace:TransferRequestMessage is '\n",
      "                             'not allowed here. Current state is '\n",
      "                             'dspace:COMPLETED']}}\n"
     ]
    }
   ],
   "execution_count": 35
  },
  {
   "metadata": {
    "ExecuteTime": {
     "end_time": "2024-11-26T12:11:35.080913Z",
     "start_time": "2024-11-26T08:41:32.879278Z"
    }
   },
   "cell_type": "code",
   "source": "",
   "id": "4cf907ee29639c57",
   "outputs": [],
   "execution_count": null
  }
 ],
 "metadata": {
  "kernelspec": {
   "display_name": "Python 3",
   "language": "python",
   "name": "python3"
  },
  "language_info": {
   "codemirror_mode": {
    "name": "ipython",
    "version": 2
   },
   "file_extension": ".py",
   "mimetype": "text/x-python",
   "name": "python",
   "nbconvert_exporter": "python",
   "pygments_lexer": "ipython2",
   "version": "2.7.6"
  }
 },
 "nbformat": 4,
 "nbformat_minor": 5
}

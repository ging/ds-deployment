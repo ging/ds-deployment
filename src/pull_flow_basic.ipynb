{
 "cells": [
  {
   "metadata": {
    "ExecuteTime": {
     "end_time": "2025-06-19T07:32:15.050081Z",
     "start_time": "2025-06-19T07:32:14.919278Z"
    }
   },
   "cell_type": "code",
   "source": "!which python",
   "id": "affa926f259653e0",
   "outputs": [
    {
     "name": "stdout",
     "output_type": "stream",
     "text": [
      "/Users/apabook/Desktop/ds-deployment/.venv/bin/python\r\n"
     ]
    }
   ],
   "execution_count": 64
  },
  {
   "metadata": {
    "ExecuteTime": {
     "end_time": "2025-06-19T07:32:15.057206Z",
     "start_time": "2025-06-19T07:32:15.054440Z"
    }
   },
   "cell_type": "code",
   "source": [
    "import requests\n",
    "import json\n",
    "import pandas as pd\n",
    "from urllib.error import HTTPError, URLError"
   ],
   "id": "68e1fe621d8a0ef0",
   "outputs": [],
   "execution_count": 65
  },
  {
   "metadata": {},
   "cell_type": "markdown",
   "source": "# Complete dataspace flow",
   "id": "bc15da9211b43e67"
  },
  {
   "metadata": {},
   "cell_type": "markdown",
   "source": "## Consts\n",
   "id": "b0f6ecdf966b8b68"
  },
  {
   "metadata": {
    "ExecuteTime": {
     "end_time": "2025-06-19T07:32:15.067942Z",
     "start_time": "2025-06-19T07:32:15.064898Z"
    }
   },
   "cell_type": "code",
   "source": [
    "data_space_provider = \"http://0.0.0.0:1200\"\n",
    "data_space_consumer = \"http://0.0.0.0:1100\"\n",
    "api_endpoint = \"https://jsonplaceholder.typicode.com/comments\"\n",
    "\n",
    "data_space_provider_participant_id = \"\"\n",
    "data_space_provider_participant_token = \"\"\n",
    "data_space_consumer_participant_id = \"\"\n",
    "data_space_consumer_participant_token = \"\"\n",
    "catalog_id = \"\"\n",
    "dataset_id = \"\"\n",
    "distribution_id = \"\"\n",
    "data_service_id = \"\"\n",
    "policy_id = \"\"\n",
    "target_id = \"\"\n",
    "\n",
    "cn_consumer_id = \"\"\n",
    "cn_provider_id = \"\"\n",
    "agreement_id = \"\"\n",
    "transfer_consumer_id = \"\"\n",
    "transfer_provider_id = \"\"\n",
    "consumer_data_address = \"\"\n",
    "\n",
    "json_header = {\n",
    "    \"Content-Type\": \"application/json\",\n",
    "}"
   ],
   "id": "f55ce154aa95c49d",
   "outputs": [],
   "execution_count": 66
  },
  {
   "metadata": {},
   "cell_type": "markdown",
   "source": "## Participants onboarding",
   "id": "69b1951a684bd85e"
  },
  {
   "metadata": {},
   "cell_type": "markdown",
   "source": "### Current Participants information",
   "id": "282464527a1cdffe"
  },
  {
   "metadata": {
    "ExecuteTime": {
     "end_time": "2025-06-19T07:32:15.121431Z",
     "start_time": "2025-06-19T07:32:15.075408Z"
    }
   },
   "cell_type": "code",
   "source": [
    "url = data_space_provider + \"/api/v1/participants\"\n",
    "payload = {\n",
    "    \"participantType\": \"Provider\",\n",
    "    \"participantBaseUrl\": \"http://host.docker.internal:1200\",\n",
    "    \"extraFields\": {}\n",
    "}\n",
    "response = requests.request(\"POST\", url, headers=json_header, data=json.dumps(payload))\n",
    "response_as_json = response.json()\n",
    "data_space_provider_participant_id = response_as_json[\"participant_id\"]\n",
    "data_space_provider_participant_id"
   ],
   "id": "c0cbd7496cfeee45",
   "outputs": [
    {
     "data": {
      "text/plain": [
       "'urn:uuid:5e856880-73fa-46b2-97db-6a7b89e8cda9'"
      ]
     },
     "execution_count": 67,
     "metadata": {},
     "output_type": "execute_result"
    }
   ],
   "execution_count": 67
  },
  {
   "metadata": {
    "ExecuteTime": {
     "end_time": "2025-06-19T07:32:15.154660Z",
     "start_time": "2025-06-19T07:32:15.128444Z"
    }
   },
   "cell_type": "code",
   "source": [
    "url = data_space_provider + \"/api/v1/participants\"\n",
    "payload = {\n",
    "    \"participantType\": \"Consumer\",\n",
    "    \"participantBaseUrl\": \"http://host.docker.internal:1100\",\n",
    "    \"extraFields\": {\n",
    "        \"did\": \"did:web:asdnoiasdnoaisdnoisa:com\"\n",
    "    }\n",
    "}\n",
    "response = requests.request(\"POST\", url, headers=json_header, data=json.dumps(payload))\n",
    "response_as_json = response.json()\n",
    "data_space_consumer_participant_id = response_as_json[\"participant_id\"]\n",
    "data_space_consumer_participant_id"
   ],
   "id": "abf39cd154ed72c2",
   "outputs": [
    {
     "data": {
      "text/plain": [
       "'urn:uuid:4b946d54-9b24-47ad-94fe-9a0fa769088b'"
      ]
     },
     "execution_count": 68,
     "metadata": {},
     "output_type": "execute_result"
    }
   ],
   "execution_count": 68
  },
  {
   "metadata": {},
   "cell_type": "markdown",
   "source": "## Create Catalog instances and metadata",
   "id": "89cf12a469c65479"
  },
  {
   "metadata": {
    "ExecuteTime": {
     "end_time": "2025-06-19T07:32:15.178587Z",
     "start_time": "2025-06-19T07:32:15.160775Z"
    }
   },
   "cell_type": "code",
   "source": [
    "url = data_space_provider + \"/api/v1/catalogs\"\n",
    "payload = {\n",
    "    \"foaf:homepage\": \"My dataspace catalog\",\n",
    "    \"dct:title\": \"My dataspace catalog\",\n",
    "\n",
    "}\n",
    "response = requests.request(\"POST\", url, headers=json_header, data=json.dumps(payload))\n",
    "response_as_json = response.json()\n",
    "catalog_id = response_as_json[\"@id\"]\n",
    "catalog_id"
   ],
   "id": "11ed0dd3e885a07e",
   "outputs": [
    {
     "data": {
      "text/plain": [
       "'urn:uuid:f6346d7b-af3a-4c87-b27a-b00b49b2a647'"
      ]
     },
     "execution_count": 69,
     "metadata": {},
     "output_type": "execute_result"
    }
   ],
   "execution_count": 69
  },
  {
   "metadata": {
    "ExecuteTime": {
     "end_time": "2025-06-19T07:32:15.201427Z",
     "start_time": "2025-06-19T07:32:15.184731Z"
    }
   },
   "cell_type": "code",
   "source": [
    "url = data_space_provider + \"/api/v1/catalogs/{}/datasets\".format(catalog_id)\n",
    "payload = {\n",
    "    \"dct:title\": \"My dataspace dataset\",\n",
    "}\n",
    "response = requests.request(\"POST\", url, headers=json_header, data=json.dumps(payload))\n",
    "response_as_json = response.json()\n",
    "dataset_id = response_as_json[\"@id\"]\n",
    "dataset_id"
   ],
   "id": "7baa8c98c1636e0e",
   "outputs": [
    {
     "data": {
      "text/plain": [
       "'urn:uuid:48e14d2b-a2b9-4892-a508-851fa249023a'"
      ]
     },
     "execution_count": 70,
     "metadata": {},
     "output_type": "execute_result"
    }
   ],
   "execution_count": 70
  },
  {
   "metadata": {
    "ExecuteTime": {
     "end_time": "2025-06-19T07:32:15.242844Z",
     "start_time": "2025-06-19T07:32:15.217658Z"
    }
   },
   "cell_type": "code",
   "source": [
    "url = data_space_provider + \"/api/v1/catalogs/{}/data-services\".format(catalog_id)\n",
    "payload = {\n",
    "    \"dcat:endpointURL\": api_endpoint\n",
    "}\n",
    "response = requests.request(\"POST\", url, headers=json_header, data=json.dumps(payload))\n",
    "response_as_json = response.json()\n",
    "data_service_id = response_as_json[\"@id\"]\n",
    "data_service_id"
   ],
   "id": "da71f544b74fee9e",
   "outputs": [
    {
     "data": {
      "text/plain": [
       "'urn:uuid:11c28952-b956-4bac-9c93-98c3e1e91868'"
      ]
     },
     "execution_count": 71,
     "metadata": {},
     "output_type": "execute_result"
    }
   ],
   "execution_count": 71
  },
  {
   "metadata": {
    "ExecuteTime": {
     "end_time": "2025-06-19T07:32:15.278801Z",
     "start_time": "2025-06-19T07:32:15.256398Z"
    }
   },
   "cell_type": "code",
   "source": [
    "url = data_space_provider + \"/api/v1/catalogs/{}/datasets/{}/distributions\".format(catalog_id, dataset_id)\n",
    "payload = {\n",
    "    \"dcat:accessService\": data_service_id,\n",
    "    \"dct:formats\": \"http+pull\"\n",
    "}\n",
    "response = requests.request(\"POST\", url, headers=json_header, data=json.dumps(payload))\n",
    "response_as_json = response.json()\n",
    "distribution_id = response_as_json[\"@id\"]\n",
    "distribution_id"
   ],
   "id": "e3d0ae29abb601f1",
   "outputs": [
    {
     "data": {
      "text/plain": [
       "'urn:uuid:a2487ac5-836e-4cdf-a421-21e45b8888f8'"
      ]
     },
     "execution_count": 72,
     "metadata": {},
     "output_type": "execute_result"
    }
   ],
   "execution_count": 72
  },
  {
   "metadata": {},
   "cell_type": "markdown",
   "source": "## Create policies",
   "id": "bcb61aba09d7f894"
  },
  {
   "metadata": {
    "ExecuteTime": {
     "end_time": "2025-06-19T07:32:15.299018Z",
     "start_time": "2025-06-19T07:32:15.285714Z"
    }
   },
   "cell_type": "code",
   "source": [
    "url = data_space_provider + \"/api/v1/datasets/{}/policies\".format(dataset_id)\n",
    "payload = {\n",
    "    \"permission\": [\n",
    "        {\n",
    "            \"action\": \"use\",\n",
    "            \"constraint\": [\n",
    "                {\n",
    "                    \"rightOperand\": \"user\",\n",
    "                    \"leftOperand\": \"did:web:hola.es\",\n",
    "                    \"operator\": \"eq\"\n",
    "                }\n",
    "            ]\n",
    "        }\n",
    "\n",
    "    ],\n",
    "    \"obligation\": [],\n",
    "    \"prohibition\": []\n",
    "}\n",
    "response = requests.request(\"POST\", url, headers=json_header, data=json.dumps(payload))\n",
    "response_as_json = response.json()\n",
    "policy_id = response_as_json[\"@id\"]\n",
    "target_id = response_as_json[\"target\"]\n",
    "print(json.dumps(response_as_json, indent=4))"
   ],
   "id": "3e20aede0a523dd4",
   "outputs": [
    {
     "name": "stdout",
     "output_type": "stream",
     "text": [
      "{\n",
      "    \"@id\": \"urn:uuid:e2b5b0fe-acd1-4b74-aac9-9049b97d8305\",\n",
      "    \"permission\": [\n",
      "        {\n",
      "            \"action\": \"use\",\n",
      "            \"constraint\": [\n",
      "                {\n",
      "                    \"rightOperand\": \"user\",\n",
      "                    \"leftOperand\": \"did:web:hola.es\",\n",
      "                    \"operator\": \"eq\"\n",
      "                }\n",
      "            ]\n",
      "        }\n",
      "    ],\n",
      "    \"obligation\": [],\n",
      "    \"@type\": \"Offer\",\n",
      "    \"prohibition\": [],\n",
      "    \"target\": \"urn:uuid:48e14d2b-a2b9-4892-a508-851fa249023a\"\n",
      "}\n"
     ]
    }
   ],
   "execution_count": 73
  },
  {
   "metadata": {
    "ExecuteTime": {
     "end_time": "2025-06-19T07:32:15.306358Z",
     "start_time": "2025-06-19T07:32:15.304767Z"
    }
   },
   "cell_type": "code",
   "source": "",
   "id": "ef5d5dcf111bfd6f",
   "outputs": [],
   "execution_count": null
  },
  {
   "metadata": {},
   "cell_type": "markdown",
   "source": "## Contract Negotiation",
   "id": "438aaeed57dce757"
  },
  {
   "metadata": {
    "ExecuteTime": {
     "end_time": "2025-06-19T07:32:15.418132Z",
     "start_time": "2025-06-19T07:32:15.313437Z"
    }
   },
   "cell_type": "code",
   "source": [
    "url = data_space_consumer + \"/api/v1/negotiations/rpc/setup-request\"\n",
    "payload = {\n",
    "    \"providerAddress\": \"http://host.docker.internal:1200\",\n",
    "    \"offer\": {\n",
    "        \"@id\": policy_id,    # policy id\n",
    "        \"target\": target_id, # data id\n",
    "        \"@type\": \"Offer\",\n",
    "        \"permission\": [\n",
    "            {\n",
    "                \"action\": \"use\"\n",
    "\n",
    "            }\n",
    "        ]\n",
    "    }\n",
    "}\n",
    "response = requests.request(\"POST\", url, headers=json_header, data=json.dumps(payload))\n",
    "response_as_json = response.json()\n",
    "cn_consumer_id = response_as_json[\"consumerPid\"]\n",
    "cn_provider_id = response_as_json[\"providerPid\"]\n",
    "print(json.dumps(response_as_json, indent=2))"
   ],
   "id": "8c2d2e2304b50ace",
   "outputs": [
    {
     "name": "stdout",
     "output_type": "stream",
     "text": [
      "{\n",
      "  \"consumerPid\": \"urn:uuid:1151519c-ec49-492d-913f-e686c0bbae1e\",\n",
      "  \"providerPid\": \"urn:uuid:9a49023c-ba75-4fe1-adbe-064219ae73c0\",\n",
      "  \"offer\": {\n",
      "    \"@id\": \"urn:uuid:e2b5b0fe-acd1-4b74-aac9-9049b97d8305\",\n",
      "    \"permission\": [\n",
      "      {\n",
      "        \"action\": \"use\"\n",
      "      }\n",
      "    ],\n",
      "    \"@type\": \"Offer\",\n",
      "    \"target\": \"urn:uuid:48e14d2b-a2b9-4892-a508-851fa249023a\"\n",
      "  },\n",
      "  \"message\": {\n",
      "    \"@context\": [\n",
      "      \"https://w3id.org/dspace/2025/1/context.jsonld\"\n",
      "    ],\n",
      "    \"@type\": \"ContractNegotiation\",\n",
      "    \"providerPid\": \"urn:uuid:9a49023c-ba75-4fe1-adbe-064219ae73c0\",\n",
      "    \"consumerPid\": \"urn:uuid:1151519c-ec49-492d-913f-e686c0bbae1e\",\n",
      "    \"state\": \"REQUESTED\"\n",
      "  }\n",
      "}\n"
     ]
    }
   ],
   "execution_count": 74
  },
  {
   "metadata": {
    "ExecuteTime": {
     "end_time": "2025-06-19T07:32:15.474698Z",
     "start_time": "2025-06-19T07:32:15.424274Z"
    }
   },
   "cell_type": "code",
   "source": [
    "url = data_space_provider + \"/api/v1/negotiations/rpc/setup-offer\"\n",
    "payload = {\n",
    "    \"consumerParticipantId\": data_space_consumer_participant_id,\n",
    "    \"consumerPid\": cn_consumer_id, # remove to test offer from provider\n",
    "    \"providerPid\": cn_provider_id, # remove to test offer from provider\n",
    "    \"offer\": {\n",
    "        \"@id\": policy_id,\n",
    "        \"target\": target_id,\n",
    "        \"@type\": \"Offer\",\n",
    "        \"permission\": [\n",
    "            {\n",
    "                \"action\": \"supermegause\"\n",
    "            }\n",
    "        ]\n",
    "    }\n",
    "}\n",
    "response = requests.request(\"POST\", url, headers=json_header, data=json.dumps(payload))\n",
    "response_as_json = response.json()\n",
    "print(json.dumps(response_as_json, indent=2))"
   ],
   "id": "b6ca342e690f05de",
   "outputs": [
    {
     "name": "stdout",
     "output_type": "stream",
     "text": [
      "{\n",
      "  \"consumerParticipantId\": \"urn:uuid:4b946d54-9b24-47ad-94fe-9a0fa769088b\",\n",
      "  \"consumerPid\": \"urn:uuid:1151519c-ec49-492d-913f-e686c0bbae1e\",\n",
      "  \"providerPid\": \"urn:uuid:9a49023c-ba75-4fe1-adbe-064219ae73c0\",\n",
      "  \"offer\": {\n",
      "    \"@id\": \"urn:uuid:e2b5b0fe-acd1-4b74-aac9-9049b97d8305\",\n",
      "    \"permission\": [\n",
      "      {\n",
      "        \"action\": \"supermegause\"\n",
      "      }\n",
      "    ],\n",
      "    \"@type\": \"Offer\",\n",
      "    \"target\": \"urn:uuid:48e14d2b-a2b9-4892-a508-851fa249023a\"\n",
      "  },\n",
      "  \"message\": {\n",
      "    \"@context\": [\n",
      "      \"https://w3id.org/dspace/2025/1/context.jsonld\"\n",
      "    ],\n",
      "    \"@type\": \"ContractNegotiation\",\n",
      "    \"providerPid\": \"urn:uuid:9a49023c-ba75-4fe1-adbe-064219ae73c0\",\n",
      "    \"consumerPid\": \"urn:uuid:1151519c-ec49-492d-913f-e686c0bbae1e\",\n",
      "    \"state\": \"OFFERED\"\n",
      "  }\n",
      "}\n"
     ]
    }
   ],
   "execution_count": 75
  },
  {
   "metadata": {
    "ExecuteTime": {
     "end_time": "2025-06-19T07:32:15.513436Z",
     "start_time": "2025-06-19T07:32:15.480908Z"
    }
   },
   "cell_type": "code",
   "source": [
    "url = data_space_consumer + \"/api/v1/negotiations/rpc/setup-request\"\n",
    "payload = {\n",
    "    \"providerAddress\": \"http://host.docker.internal:1200\",\n",
    "    \"consumerPid\": cn_consumer_id,\n",
    "    \"providerPid\": cn_provider_id,\n",
    "    \"offer\": {\n",
    "        \"@id\": policy_id,    # policy id\n",
    "        \"target\": target_id, # data id\n",
    "        \"@type\": \"Offer\",\n",
    "        \"permission\": [\n",
    "            {\n",
    "                \"action\": \"use\"\n",
    "\n",
    "            }\n",
    "        ]\n",
    "    }\n",
    "}\n",
    "response = requests.request(\"POST\", url, headers=json_header, data=json.dumps(payload))\n",
    "response_as_json = response.json()\n",
    "cn_consumer_id = response_as_json[\"consumerPid\"]\n",
    "cn_provider_id = response_as_json[\"providerPid\"]\n",
    "print(json.dumps(response_as_json, indent=2))"
   ],
   "id": "7ac89fa87c4165cf",
   "outputs": [
    {
     "name": "stdout",
     "output_type": "stream",
     "text": [
      "{\n",
      "  \"consumerPid\": \"urn:uuid:1151519c-ec49-492d-913f-e686c0bbae1e\",\n",
      "  \"providerPid\": \"urn:uuid:9a49023c-ba75-4fe1-adbe-064219ae73c0\",\n",
      "  \"offer\": {\n",
      "    \"@id\": \"urn:uuid:e2b5b0fe-acd1-4b74-aac9-9049b97d8305\",\n",
      "    \"permission\": [\n",
      "      {\n",
      "        \"action\": \"use\"\n",
      "      }\n",
      "    ],\n",
      "    \"@type\": \"Offer\",\n",
      "    \"target\": \"urn:uuid:48e14d2b-a2b9-4892-a508-851fa249023a\"\n",
      "  },\n",
      "  \"message\": {\n",
      "    \"@context\": [\n",
      "      \"https://w3id.org/dspace/2025/1/context.jsonld\"\n",
      "    ],\n",
      "    \"@type\": \"ContractNegotiation\",\n",
      "    \"providerPid\": \"urn:uuid:9a49023c-ba75-4fe1-adbe-064219ae73c0\",\n",
      "    \"consumerPid\": \"urn:uuid:1151519c-ec49-492d-913f-e686c0bbae1e\",\n",
      "    \"state\": \"REQUESTED\"\n",
      "  }\n",
      "}\n"
     ]
    }
   ],
   "execution_count": 76
  },
  {
   "metadata": {
    "ExecuteTime": {
     "end_time": "2025-06-19T07:32:15.554082Z",
     "start_time": "2025-06-19T07:32:15.519581Z"
    }
   },
   "cell_type": "code",
   "source": [
    "url = data_space_provider + \"/api/v1/negotiations/rpc/setup-offer\"\n",
    "payload = {\n",
    "    \"consumerParticipantId\": data_space_consumer_participant_id,\n",
    "    \"consumerPid\": cn_consumer_id,\n",
    "    \"providerPid\": cn_provider_id,\n",
    "    \"offer\": {\n",
    "        \"@id\": policy_id,\n",
    "        \"target\": target_id,\n",
    "        \"@type\": \"Offer\",\n",
    "        \"permission\": [\n",
    "            {\n",
    "                \"action\": \"supermegause\"\n",
    "            }\n",
    "        ]\n",
    "    }\n",
    "}\n",
    "response = requests.request(\"POST\", url, headers=json_header, data=json.dumps(payload))\n",
    "response_as_json = response.json()\n",
    "print(json.dumps(response_as_json, indent=2))"
   ],
   "id": "2cd0744d51abe4b5",
   "outputs": [
    {
     "name": "stdout",
     "output_type": "stream",
     "text": [
      "{\n",
      "  \"consumerParticipantId\": \"urn:uuid:4b946d54-9b24-47ad-94fe-9a0fa769088b\",\n",
      "  \"consumerPid\": \"urn:uuid:1151519c-ec49-492d-913f-e686c0bbae1e\",\n",
      "  \"providerPid\": \"urn:uuid:9a49023c-ba75-4fe1-adbe-064219ae73c0\",\n",
      "  \"offer\": {\n",
      "    \"@id\": \"urn:uuid:e2b5b0fe-acd1-4b74-aac9-9049b97d8305\",\n",
      "    \"permission\": [\n",
      "      {\n",
      "        \"action\": \"supermegause\"\n",
      "      }\n",
      "    ],\n",
      "    \"@type\": \"Offer\",\n",
      "    \"target\": \"urn:uuid:48e14d2b-a2b9-4892-a508-851fa249023a\"\n",
      "  },\n",
      "  \"message\": {\n",
      "    \"@context\": [\n",
      "      \"https://w3id.org/dspace/2025/1/context.jsonld\"\n",
      "    ],\n",
      "    \"@type\": \"ContractNegotiation\",\n",
      "    \"providerPid\": \"urn:uuid:9a49023c-ba75-4fe1-adbe-064219ae73c0\",\n",
      "    \"consumerPid\": \"urn:uuid:1151519c-ec49-492d-913f-e686c0bbae1e\",\n",
      "    \"state\": \"OFFERED\"\n",
      "  }\n",
      "}\n"
     ]
    }
   ],
   "execution_count": 77
  },
  {
   "metadata": {
    "ExecuteTime": {
     "end_time": "2025-06-19T07:32:15.593309Z",
     "start_time": "2025-06-19T07:32:15.565210Z"
    }
   },
   "cell_type": "code",
   "source": [
    "url = data_space_consumer + \"/api/v1/negotiations/rpc/setup-acceptance\"\n",
    "payload = {\n",
    "    \"providerAddress\": \"http://host.docker.internal:1200\",\n",
    "    \"consumerPid\": cn_consumer_id,\n",
    "    \"providerPid\": cn_provider_id\n",
    "}\n",
    "response = requests.request(\"POST\", url, headers=json_header, data=json.dumps(payload))\n",
    "response_as_json = response.json()\n",
    "print(json.dumps(response_as_json, indent=2))"
   ],
   "id": "4feaa2d5afa582d6",
   "outputs": [
    {
     "name": "stdout",
     "output_type": "stream",
     "text": [
      "{\n",
      "  \"consumerPid\": \"urn:uuid:1151519c-ec49-492d-913f-e686c0bbae1e\",\n",
      "  \"providerPid\": \"urn:uuid:9a49023c-ba75-4fe1-adbe-064219ae73c0\",\n",
      "  \"message\": {\n",
      "    \"@context\": [\n",
      "      \"https://w3id.org/dspace/2025/1/context.jsonld\"\n",
      "    ],\n",
      "    \"@type\": \"ContractNegotiation\",\n",
      "    \"providerPid\": \"urn:uuid:9a49023c-ba75-4fe1-adbe-064219ae73c0\",\n",
      "    \"consumerPid\": \"urn:uuid:1151519c-ec49-492d-913f-e686c0bbae1e\",\n",
      "    \"state\": \"ACCEPTED\"\n",
      "  }\n",
      "}\n"
     ]
    }
   ],
   "execution_count": 78
  },
  {
   "metadata": {
    "ExecuteTime": {
     "end_time": "2025-06-19T07:32:15.665460Z",
     "start_time": "2025-06-19T07:32:15.602540Z"
    }
   },
   "cell_type": "code",
   "source": [
    "url = data_space_provider + \"/api/v1/negotiations/rpc/setup-agreement\"\n",
    "payload = {\n",
    "    \"consumerParticipantId\": data_space_consumer_participant_id,\n",
    "    \"consumerPid\": cn_consumer_id,\n",
    "    \"providerPid\": cn_provider_id\n",
    "}\n",
    "response = requests.request(\"POST\", url, headers=json_header, data=json.dumps(payload))\n",
    "response_as_json = response.json()\n",
    "agreement_id=response_as_json[\"agreement\"][\"@id\"]\n",
    "print(json.dumps(response_as_json, indent=2))"
   ],
   "id": "84609238c0d3e043",
   "outputs": [
    {
     "name": "stdout",
     "output_type": "stream",
     "text": [
      "{\n",
      "  \"consumerPid\": \"urn:uuid:1151519c-ec49-492d-913f-e686c0bbae1e\",\n",
      "  \"providerPid\": \"urn:uuid:9a49023c-ba75-4fe1-adbe-064219ae73c0\",\n",
      "  \"agreement\": {\n",
      "    \"@id\": \"urn:uuid:d31e543b-f35b-4c5d-a378-9b39fa6bde86\",\n",
      "    \"permission\": [\n",
      "      {\n",
      "        \"action\": \"supermegause\"\n",
      "      }\n",
      "    ],\n",
      "    \"@type\": \"Agreement\",\n",
      "    \"target\": \"urn:uuid:48e14d2b-a2b9-4892-a508-851fa249023a\",\n",
      "    \"assigner\": \"urn:uuid:5e856880-73fa-46b2-97db-6a7b89e8cda9\",\n",
      "    \"assignee\": \"urn:uuid:4b946d54-9b24-47ad-94fe-9a0fa769088b\",\n",
      "    \"timestamp\": \"2025-06-19T07:32:15.619952250+00:00\"\n",
      "  },\n",
      "  \"message\": {\n",
      "    \"@context\": [\n",
      "      \"https://w3id.org/dspace/2025/1/context.jsonld\"\n",
      "    ],\n",
      "    \"@type\": \"ContractNegotiation\",\n",
      "    \"providerPid\": \"urn:uuid:9a49023c-ba75-4fe1-adbe-064219ae73c0\",\n",
      "    \"consumerPid\": \"urn:uuid:1151519c-ec49-492d-913f-e686c0bbae1e\",\n",
      "    \"state\": \"AGREED\"\n",
      "  }\n",
      "}\n"
     ]
    }
   ],
   "execution_count": 79
  },
  {
   "metadata": {
    "ExecuteTime": {
     "end_time": "2025-06-19T07:32:15.699090Z",
     "start_time": "2025-06-19T07:32:15.669975Z"
    }
   },
   "cell_type": "code",
   "source": [
    "url = data_space_consumer + \"/api/v1/negotiations/rpc/setup-verification\"\n",
    "payload = {\n",
    "    \"providerAddress\": \"http://host.docker.internal:1200\",\n",
    "    \"consumerPid\": cn_consumer_id,\n",
    "    \"providerPid\": cn_provider_id,\n",
    "}\n",
    "response = requests.request(\"POST\", url, headers=json_header, data=json.dumps(payload))\n",
    "response_as_json = response.json()\n",
    "print(json.dumps(response_as_json, indent=2))"
   ],
   "id": "8840cdbc4f7c5a99",
   "outputs": [
    {
     "name": "stdout",
     "output_type": "stream",
     "text": [
      "{\n",
      "  \"consumerPid\": \"urn:uuid:1151519c-ec49-492d-913f-e686c0bbae1e\",\n",
      "  \"providerPid\": \"urn:uuid:9a49023c-ba75-4fe1-adbe-064219ae73c0\",\n",
      "  \"message\": {\n",
      "    \"@context\": [\n",
      "      \"https://w3id.org/dspace/2025/1/context.jsonld\"\n",
      "    ],\n",
      "    \"@type\": \"ContractNegotiation\",\n",
      "    \"providerPid\": \"urn:uuid:9a49023c-ba75-4fe1-adbe-064219ae73c0\",\n",
      "    \"consumerPid\": \"urn:uuid:1151519c-ec49-492d-913f-e686c0bbae1e\",\n",
      "    \"state\": \"VERIFIED\"\n",
      "  }\n",
      "}\n"
     ]
    }
   ],
   "execution_count": 80
  },
  {
   "metadata": {
    "ExecuteTime": {
     "end_time": "2025-06-19T07:32:15.747667Z",
     "start_time": "2025-06-19T07:32:15.708984Z"
    }
   },
   "cell_type": "code",
   "source": [
    "url = data_space_provider + \"/api/v1/negotiations/rpc/setup-finalization\"\n",
    "payload = {\n",
    "    \"consumerParticipantId\": data_space_consumer_participant_id,\n",
    "    \"consumerPid\": cn_consumer_id,\n",
    "    \"providerPid\": cn_provider_id,\n",
    "}\n",
    "response = requests.request(\"POST\", url, headers=json_header, data=json.dumps(payload))\n",
    "response_as_json = response.json()\n",
    "print(json.dumps(response_as_json, indent=2))"
   ],
   "id": "fddd19bf8f2b05d9",
   "outputs": [
    {
     "name": "stdout",
     "output_type": "stream",
     "text": [
      "{\n",
      "  \"consumerPid\": \"urn:uuid:1151519c-ec49-492d-913f-e686c0bbae1e\",\n",
      "  \"providerPid\": \"urn:uuid:9a49023c-ba75-4fe1-adbe-064219ae73c0\",\n",
      "  \"message\": {\n",
      "    \"@context\": [\n",
      "      \"https://w3id.org/dspace/2025/1/context.jsonld\"\n",
      "    ],\n",
      "    \"@type\": \"ContractNegotiation\",\n",
      "    \"providerPid\": \"urn:uuid:9a49023c-ba75-4fe1-adbe-064219ae73c0\",\n",
      "    \"consumerPid\": \"urn:uuid:1151519c-ec49-492d-913f-e686c0bbae1e\",\n",
      "    \"state\": \"FINALIZED\"\n",
      "  }\n",
      "}\n"
     ]
    }
   ],
   "execution_count": 81
  },
  {
   "metadata": {},
   "cell_type": "markdown",
   "source": "## Transfer Negotiation\n",
   "id": "f8a6b52b3af734ba"
  },
  {
   "metadata": {
    "ExecuteTime": {
     "end_time": "2025-06-19T07:32:15.831411Z",
     "start_time": "2025-06-19T07:32:15.769210Z"
    }
   },
   "cell_type": "code",
   "source": [
    "url = data_space_consumer + \"/api/v1/transfers/rpc/setup-request\"\n",
    "payload = {\n",
    "    \"providerAddress\": \"http://host.docker.internal:1200\",\n",
    "    \"agreementId\": agreement_id,\n",
    "    \"format\": \"http+pull\"\n",
    "}\n",
    "response = requests.request(\"POST\", url, headers=json_header, data=json.dumps(payload))\n",
    "response_as_json = response.json()\n",
    "transfer_consumer_id = response_as_json[\"consumerPid\"]\n",
    "transfer_provider_id = response_as_json[\"providerPid\"]\n",
    "callback_address = response_as_json[\"callbackAddress\"]\n",
    "callback_address = callback_address.replace(\"0.0.0.0\", \"host.docker.internal\")\n",
    "print(json.dumps(response_as_json, indent=2))"
   ],
   "id": "c359ed2305c94f27",
   "outputs": [
    {
     "name": "stdout",
     "output_type": "stream",
     "text": [
      "{\n",
      "  \"providerPid\": \"urn:uuid:1acc5fa2-4fb6-40be-924e-2d213024136b\",\n",
      "  \"consumerPid\": \"urn:uuid:8705b9b8-92ea-434f-bd10-0096d2485cf4\",\n",
      "  \"agreementId\": \"urn:uuid:d31e543b-f35b-4c5d-a378-9b39fa6bde86\",\n",
      "  \"callbackAddress\": \"http://0.0.0.0:1100/urn:uuid:d88f8017-5254-4eb9-8d97-377355cdd923\",\n",
      "  \"format\": \"http+pull\",\n",
      "  \"message\": {\n",
      "    \"@context\": [\n",
      "      \"https://w3id.org/dspace/2025/1/context.jsonld\"\n",
      "    ],\n",
      "    \"@type\": \"TransferProcess\",\n",
      "    \"providerPid\": \"urn:uuid:1acc5fa2-4fb6-40be-924e-2d213024136b\",\n",
      "    \"consumerPid\": \"urn:uuid:8705b9b8-92ea-434f-bd10-0096d2485cf4\",\n",
      "    \"state\": \"REQUESTED\"\n",
      "  }\n",
      "}\n"
     ]
    }
   ],
   "execution_count": 82
  },
  {
   "metadata": {
    "ExecuteTime": {
     "end_time": "2025-06-19T07:32:15.911551Z",
     "start_time": "2025-06-19T07:32:15.842845Z"
    }
   },
   "cell_type": "code",
   "source": [
    "url = data_space_provider + \"/api/v1/transfers/rpc/setup-start\"\n",
    "payload = {\n",
    "    \"consumerCallbackAddress\": callback_address,\n",
    "    \"providerPid\": transfer_provider_id,\n",
    "    \"consumerPid\": transfer_consumer_id\n",
    "}\n",
    "response = requests.request(\"POST\", url, headers=json_header, data=json.dumps(payload))\n",
    "response_as_json = response.json()\n",
    "print(json.dumps(response_as_json, indent=2))"
   ],
   "id": "d905936906de088c",
   "outputs": [
    {
     "name": "stdout",
     "output_type": "stream",
     "text": [
      "{\n",
      "  \"providerPid\": \"urn:uuid:1acc5fa2-4fb6-40be-924e-2d213024136b\",\n",
      "  \"consumerPid\": \"urn:uuid:8705b9b8-92ea-434f-bd10-0096d2485cf4\",\n",
      "  \"dataAddress\": {\n",
      "    \"@type\": \"DataAddress\",\n",
      "    \"endpointType\": \"http\",\n",
      "    \"endpoint\": \"http://0.0.0.0:1200/data/urn:uuid:1acc5fa2-4fb6-40be-924e-2d213024136b\",\n",
      "    \"endpointProperties\": [\n",
      "      {\n",
      "        \"@type\": \"EndpointProperty\",\n",
      "        \"name\": \"authType\",\n",
      "        \"value\": \"\"\n",
      "      },\n",
      "      {\n",
      "        \"@type\": \"EndpointProperty\",\n",
      "        \"name\": \"authorization\",\n",
      "        \"value\": \"\"\n",
      "      }\n",
      "    ]\n",
      "  },\n",
      "  \"message\": {\n",
      "    \"@context\": [\n",
      "      \"https://w3id.org/dspace/2025/1/context.jsonld\"\n",
      "    ],\n",
      "    \"@type\": \"TransferProcess\",\n",
      "    \"providerPid\": \"urn:uuid:1acc5fa2-4fb6-40be-924e-2d213024136b\",\n",
      "    \"consumerPid\": \"urn:uuid:8705b9b8-92ea-434f-bd10-0096d2485cf4\",\n",
      "    \"state\": \"STARTED\"\n",
      "  }\n",
      "}\n"
     ]
    }
   ],
   "execution_count": 83
  },
  {
   "metadata": {
    "ExecuteTime": {
     "end_time": "2025-06-19T07:32:15.933214Z",
     "start_time": "2025-06-19T07:32:15.921852Z"
    }
   },
   "cell_type": "code",
   "source": [
    "url = data_space_provider + \"/api/v1/dataplane/\" + transfer_provider_id\n",
    "response = requests.request(\"GET\", url, headers=json_header)\n",
    "response_as_json = response.json()\n",
    "consumer_data_address = response_as_json[\"process_address\"][\"url\"]\n",
    "print(json.dumps(response_as_json, indent=2))"
   ],
   "id": "45bb48df83adbb24",
   "outputs": [
    {
     "name": "stdout",
     "output_type": "stream",
     "text": [
      "{\n",
      "  \"id\": \"urn:uuid:1acc5fa2-4fb6-40be-924e-2d213024136b\",\n",
      "  \"process_direction\": \"PULL\",\n",
      "  \"upstream_hop\": {\n",
      "    \"protocol\": \"\",\n",
      "    \"url\": \"\",\n",
      "    \"auth_type\": \"\",\n",
      "    \"auth_content\": \"\"\n",
      "  },\n",
      "  \"downstream_hop\": {\n",
      "    \"protocol\": \"https\",\n",
      "    \"url\": \"https://jsonplaceholder.typicode.com/comments\",\n",
      "    \"auth_type\": \"\",\n",
      "    \"auth_content\": \"\"\n",
      "  },\n",
      "  \"process_address\": {\n",
      "    \"protocol\": \"http\",\n",
      "    \"url\": \"http://0.0.0.0:1200/data/urn:uuid:1acc5fa2-4fb6-40be-924e-2d213024136b\",\n",
      "    \"auth_type\": \"\",\n",
      "    \"auth_content\": \"\"\n",
      "  },\n",
      "  \"created_at\": \"2025-06-19T07:32:15.799201\",\n",
      "  \"updated_at\": \"2025-06-19T07:32:15.903827\",\n",
      "  \"state\": \"STARTED\"\n",
      "}\n"
     ]
    }
   ],
   "execution_count": 84
  },
  {
   "metadata": {
    "ExecuteTime": {
     "end_time": "2025-06-19T07:32:15.976213Z",
     "start_time": "2025-06-19T07:32:15.940213Z"
    }
   },
   "cell_type": "code",
   "source": [
    "url = data_space_consumer + \"/api/v1/transfers/rpc/setup-suspension\"\n",
    "payload = {\n",
    "    \"providerAddress\": \"http://host.docker.internal:1200\",\n",
    "    \"providerPid\": transfer_provider_id,\n",
    "    \"consumerPid\": transfer_consumer_id,\n",
    "}\n",
    "response = requests.request(\"POST\", url, headers=json_header, data=json.dumps(payload))\n",
    "response_as_json = response.json()\n",
    "print(json.dumps(response_as_json, indent=2))"
   ],
   "id": "ed4a0bc53ceec45f",
   "outputs": [
    {
     "name": "stdout",
     "output_type": "stream",
     "text": [
      "{\n",
      "  \"providerPid\": \"urn:uuid:1acc5fa2-4fb6-40be-924e-2d213024136b\",\n",
      "  \"consumerPid\": \"urn:uuid:8705b9b8-92ea-434f-bd10-0096d2485cf4\",\n",
      "  \"message\": {\n",
      "    \"@context\": [\n",
      "      \"https://w3id.org/dspace/2025/1/context.jsonld\"\n",
      "    ],\n",
      "    \"@type\": \"TransferProcess\",\n",
      "    \"providerPid\": \"urn:uuid:1acc5fa2-4fb6-40be-924e-2d213024136b\",\n",
      "    \"consumerPid\": \"urn:uuid:8705b9b8-92ea-434f-bd10-0096d2485cf4\",\n",
      "    \"state\": \"SUSPENDED\"\n",
      "  }\n",
      "}\n"
     ]
    }
   ],
   "execution_count": 85
  },
  {
   "metadata": {
    "ExecuteTime": {
     "end_time": "2025-06-19T07:32:16.028605Z",
     "start_time": "2025-06-19T07:32:15.991784Z"
    }
   },
   "cell_type": "code",
   "source": [
    "url = data_space_consumer + \"/api/v1/transfers/rpc/setup-start\"\n",
    "payload = {\n",
    "    \"providerAddress\": \"http://host.docker.internal:1200\",\n",
    "    \"providerPid\": transfer_provider_id,\n",
    "    \"consumerPid\": transfer_consumer_id,\n",
    "}\n",
    "response = requests.request(\"POST\", url, headers=json_header, data=json.dumps(payload))\n",
    "response_as_json = response.json()\n",
    "print(json.dumps(response_as_json, indent=2))"
   ],
   "id": "4b0a3076674ace5f",
   "outputs": [
    {
     "name": "stdout",
     "output_type": "stream",
     "text": [
      "{\n",
      "  \"providerPid\": \"urn:uuid:1acc5fa2-4fb6-40be-924e-2d213024136b\",\n",
      "  \"consumerPid\": \"urn:uuid:8705b9b8-92ea-434f-bd10-0096d2485cf4\",\n",
      "  \"message\": {\n",
      "    \"@context\": [\n",
      "      \"https://w3id.org/dspace/2025/1/context.jsonld\"\n",
      "    ],\n",
      "    \"@type\": \"TransferProcess\",\n",
      "    \"providerPid\": \"urn:uuid:1acc5fa2-4fb6-40be-924e-2d213024136b\",\n",
      "    \"consumerPid\": \"urn:uuid:8705b9b8-92ea-434f-bd10-0096d2485cf4\",\n",
      "    \"state\": \"STARTED\"\n",
      "  }\n",
      "}\n"
     ]
    }
   ],
   "execution_count": 86
  },
  {
   "metadata": {
    "ExecuteTime": {
     "end_time": "2025-06-19T07:32:16.150625Z",
     "start_time": "2025-06-19T07:32:16.037479Z"
    }
   },
   "cell_type": "code",
   "source": [
    "url = data_space_provider + \"/api/v1/transfers/rpc/setup-suspension\"\n",
    "payload = {\n",
    "    \"consumerCallbackAddress\": callback_address,\n",
    "    \"providerPid\": transfer_provider_id,\n",
    "    \"consumerPid\": transfer_consumer_id,\n",
    "}\n",
    "response = requests.request(\"POST\", url, headers=json_header, data=json.dumps(payload))\n",
    "response_as_json = response.json()\n",
    "print(json.dumps(response_as_json, indent=2))"
   ],
   "id": "b1ec9698272484c3",
   "outputs": [
    {
     "name": "stdout",
     "output_type": "stream",
     "text": [
      "{\n",
      "  \"providerPid\": \"urn:uuid:1acc5fa2-4fb6-40be-924e-2d213024136b\",\n",
      "  \"consumerPid\": \"urn:uuid:8705b9b8-92ea-434f-bd10-0096d2485cf4\",\n",
      "  \"message\": {\n",
      "    \"@context\": [\n",
      "      \"https://w3id.org/dspace/2025/1/context.jsonld\"\n",
      "    ],\n",
      "    \"@type\": \"TransferProcess\",\n",
      "    \"providerPid\": \"urn:uuid:1acc5fa2-4fb6-40be-924e-2d213024136b\",\n",
      "    \"consumerPid\": \"urn:uuid:8705b9b8-92ea-434f-bd10-0096d2485cf4\",\n",
      "    \"state\": \"SUSPENDED\"\n",
      "  }\n",
      "}\n"
     ]
    }
   ],
   "execution_count": 87
  },
  {
   "metadata": {
    "ExecuteTime": {
     "end_time": "2025-06-19T07:32:16.221189Z",
     "start_time": "2025-06-19T07:32:16.167892Z"
    }
   },
   "cell_type": "code",
   "source": [
    "url = data_space_provider + \"/api/v1/transfers/rpc/setup-completion\"\n",
    "payload = {\n",
    "    \"consumerCallbackAddress\": callback_address,\n",
    "    \"providerPid\": transfer_provider_id,\n",
    "    \"consumerPid\": transfer_consumer_id,\n",
    "}\n",
    "response = requests.request(\"POST\", url, headers=json_header, data=json.dumps(payload))\n",
    "response_as_json = response.json()\n",
    "print(json.dumps(response_as_json, indent=2))"
   ],
   "id": "a3bf1f3c1beb4e3",
   "outputs": [
    {
     "name": "stdout",
     "output_type": "stream",
     "text": [
      "{\n",
      "  \"providerPid\": \"urn:uuid:1acc5fa2-4fb6-40be-924e-2d213024136b\",\n",
      "  \"consumerPid\": \"urn:uuid:8705b9b8-92ea-434f-bd10-0096d2485cf4\",\n",
      "  \"message\": {\n",
      "    \"@context\": [\n",
      "      \"https://w3id.org/dspace/2025/1/context.jsonld\"\n",
      "    ],\n",
      "    \"@type\": \"TransferProcess\",\n",
      "    \"providerPid\": \"urn:uuid:1acc5fa2-4fb6-40be-924e-2d213024136b\",\n",
      "    \"consumerPid\": \"urn:uuid:8705b9b8-92ea-434f-bd10-0096d2485cf4\",\n",
      "    \"state\": \"COMPLETED\"\n",
      "  }\n",
      "}\n"
     ]
    }
   ],
   "execution_count": 88
  },
  {
   "metadata": {
    "ExecuteTime": {
     "end_time": "2025-06-19T07:32:16.233733Z",
     "start_time": "2025-06-19T07:32:16.232180Z"
    }
   },
   "cell_type": "code",
   "source": "",
   "id": "b0228ad8522b7a49",
   "outputs": [],
   "execution_count": null
  },
  {
   "metadata": {
    "ExecuteTime": {
     "end_time": "2025-06-19T07:32:16.250263Z",
     "start_time": "2025-06-19T07:32:16.248678Z"
    }
   },
   "cell_type": "code",
   "source": "",
   "id": "99b0cb0b417c143a",
   "outputs": [],
   "execution_count": null
  },
  {
   "metadata": {
    "ExecuteTime": {
     "end_time": "2025-06-19T07:32:16.290657Z",
     "start_time": "2025-06-19T07:32:16.288884Z"
    }
   },
   "cell_type": "code",
   "source": "",
   "id": "a60358323bff1fad",
   "outputs": [],
   "execution_count": null
  },
  {
   "metadata": {
    "ExecuteTime": {
     "end_time": "2025-06-19T07:32:16.311934Z",
     "start_time": "2025-06-19T07:32:16.309519Z"
    }
   },
   "cell_type": "code",
   "source": "",
   "id": "b0cde08f81af69f3",
   "outputs": [],
   "execution_count": null
  }
 ],
 "metadata": {
  "kernelspec": {
   "name": "python3",
   "language": "python",
   "display_name": "Python 3 (ipykernel)"
  }
 },
 "nbformat": 5,
 "nbformat_minor": 9
}

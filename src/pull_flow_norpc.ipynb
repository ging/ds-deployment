{
 "cells": [
  {
   "metadata": {
    "ExecuteTime": {
     "end_time": "2025-05-07T13:26:31.859287Z",
     "start_time": "2025-05-07T13:26:31.718687Z"
    }
   },
   "cell_type": "code",
   "source": "!which python",
   "id": "affa926f259653e0",
   "outputs": [
    {
     "name": "stdout",
     "output_type": "stream",
     "text": [
      "/Users/apabook/Desktop/ds-deployment/.venv/bin/python\r\n"
     ]
    }
   ],
   "execution_count": 116
  },
  {
   "metadata": {
    "ExecuteTime": {
     "end_time": "2025-05-07T13:26:32.324880Z",
     "start_time": "2025-05-07T13:26:32.321332Z"
    }
   },
   "cell_type": "code",
   "source": [
    "import pandas as pd\n",
    "import requests\n",
    "import json\n",
    "import pprint\n",
    "from uuid import uuid4"
   ],
   "id": "68e1fe621d8a0ef0",
   "outputs": [],
   "execution_count": 117
  },
  {
   "metadata": {},
   "cell_type": "markdown",
   "source": "# Complete dataspace flow",
   "id": "bc15da9211b43e67"
  },
  {
   "metadata": {},
   "cell_type": "markdown",
   "source": "## Consts\n",
   "id": "b0f6ecdf966b8b68"
  },
  {
   "metadata": {
    "ExecuteTime": {
     "end_time": "2025-05-07T13:26:34.029204Z",
     "start_time": "2025-05-07T13:26:34.024953Z"
    }
   },
   "cell_type": "code",
   "source": [
    "data_space_provider = \"http://127.0.0.1:1234\"\n",
    "data_space_consumer = \"http://127.0.0.1:1235\"\n",
    "api_endpoint = \"https://jsonplaceholder.typicode.com/posts\"\n",
    "\n",
    "data_space_provider_participant_id = \"\"\n",
    "data_space_consumer_participant_id = \"\"\n",
    "catalog_id = \"\"\n",
    "dataset_id = \"\"\n",
    "distribution_id = \"\"\n",
    "data_service_id = \"\"\n",
    "policy_id = \"\"\n",
    "target_id = \"\"\n",
    "\n",
    "cn_consumer_id = \"\"\n",
    "cn_provider_id = \"\"\n",
    "agreement_id = \"\"\n",
    "transfer_consumer_id = \"\"\n",
    "transfer_provider_id = \"\"\n",
    "\n",
    "json_header = {\n",
    "    \"Content-Type\": \"application/json\",\n",
    "}"
   ],
   "id": "f55ce154aa95c49d",
   "outputs": [],
   "execution_count": 118
  },
  {
   "metadata": {},
   "cell_type": "markdown",
   "source": "## Participants onboarding",
   "id": "69b1951a684bd85e"
  },
  {
   "metadata": {
    "ExecuteTime": {
     "end_time": "2025-05-07T13:26:43.725740Z",
     "start_time": "2025-05-07T13:26:43.675960Z"
    }
   },
   "cell_type": "code",
   "source": [
    "url = data_space_provider + \"/api/v1/participants\"\n",
    "payload = {\n",
    "    \"dspace:participantType\": \"Provider\",\n",
    "    \"dspace:participantBaseUrl\": data_space_provider,\n",
    "    \"dspace:extraFields\": {}\n",
    "}\n",
    "response = requests.request(\"POST\", url, headers=json_header, data=json.dumps(payload))\n",
    "response_as_json = response.json()\n",
    "data_space_provider_participant_id = response_as_json[\"participant_id\"]\n",
    "data_space_provider_participant_id"
   ],
   "id": "c0cbd7496cfeee45",
   "outputs": [
    {
     "data": {
      "text/plain": [
       "'urn:uuid:0c409422-63b1-4f1a-9adb-8efb20971698'"
      ]
     },
     "execution_count": 120,
     "metadata": {},
     "output_type": "execute_result"
    }
   ],
   "execution_count": 120
  },
  {
   "metadata": {
    "ExecuteTime": {
     "end_time": "2025-05-07T13:26:44.552907Z",
     "start_time": "2025-05-07T13:26:44.512052Z"
    }
   },
   "cell_type": "code",
   "source": [
    "url = data_space_provider + \"/api/v1/participants\"\n",
    "payload = {\n",
    "    \"dspace:participantType\": \"Consumer\",\n",
    "    \"dspace:participantBaseUrl\": data_space_consumer,\n",
    "    \"dspace:extraFields\": {}\n",
    "}\n",
    "response = requests.request(\"POST\", url, headers=json_header, data=json.dumps(payload))\n",
    "response_as_json = response.json()\n",
    "data_space_consumer_participant_id = response_as_json[\"participant_id\"]\n",
    "data_space_consumer_participant_id"
   ],
   "id": "6d1fecf52e262ce5",
   "outputs": [
    {
     "data": {
      "text/plain": [
       "'urn:uuid:82994955-f46c-4371-b661-dbf82cca9d56'"
      ]
     },
     "execution_count": 121,
     "metadata": {},
     "output_type": "execute_result"
    }
   ],
   "execution_count": 121
  },
  {
   "metadata": {},
   "cell_type": "markdown",
   "source": "## Create Catalog instances and metadata",
   "id": "89cf12a469c65479"
  },
  {
   "metadata": {
    "ExecuteTime": {
     "end_time": "2025-05-07T13:26:45.903482Z",
     "start_time": "2025-05-07T13:26:45.833954Z"
    }
   },
   "cell_type": "code",
   "source": [
    "url = data_space_provider + \"/api/v1/catalogs\"\n",
    "payload = {\n",
    "    \"foaf:homepage\": \"My dataspace catalog\",\n",
    "    \"dct:title\": \"My dataspace catalog\",\n",
    "}\n",
    "response = requests.request(\"POST\", url, headers=json_header, data=json.dumps(payload))\n",
    "response_as_json = response.json()\n",
    "catalog_id = response_as_json[\"@id\"]\n",
    "catalog_id"
   ],
   "id": "11ed0dd3e885a07e",
   "outputs": [
    {
     "data": {
      "text/plain": [
       "'urn:uuid:26061cde-f392-4560-97c0-d7465eb1da33'"
      ]
     },
     "execution_count": 122,
     "metadata": {},
     "output_type": "execute_result"
    }
   ],
   "execution_count": 122
  },
  {
   "metadata": {
    "ExecuteTime": {
     "end_time": "2025-05-07T13:26:46.694254Z",
     "start_time": "2025-05-07T13:26:46.649886Z"
    }
   },
   "cell_type": "code",
   "source": [
    "url = data_space_provider + \"/api/v1/catalogs/{}/datasets\".format(catalog_id)\n",
    "payload = {\n",
    "    \"dct:title\": \"My dataspace dataset\",\n",
    "}\n",
    "response = requests.request(\"POST\", url, headers=json_header, data=json.dumps(payload))\n",
    "response_as_json = response.json()\n",
    "dataset_id = response_as_json[\"@id\"]\n",
    "dataset_id"
   ],
   "id": "7baa8c98c1636e0e",
   "outputs": [
    {
     "data": {
      "text/plain": [
       "'urn:uuid:7eed6a02-7f28-4148-b031-02d66e36e7f3'"
      ]
     },
     "execution_count": 123,
     "metadata": {},
     "output_type": "execute_result"
    }
   ],
   "execution_count": 123
  },
  {
   "metadata": {
    "ExecuteTime": {
     "end_time": "2025-05-07T13:26:47.308304Z",
     "start_time": "2025-05-07T13:26:47.274553Z"
    }
   },
   "cell_type": "code",
   "source": [
    "url = data_space_provider + \"/api/v1/catalogs/{}/data-services\".format(catalog_id)\n",
    "payload = {\n",
    "    \"dcat:endpointURL\": \"https://jsonplaceholder.typicode.com/posts\"\n",
    "}\n",
    "response = requests.request(\"POST\", url, headers=json_header, data=json.dumps(payload))\n",
    "response_as_json = response.json()\n",
    "data_service_id = response_as_json[\"@id\"]\n",
    "data_service_id"
   ],
   "id": "da71f544b74fee9e",
   "outputs": [
    {
     "data": {
      "text/plain": [
       "'urn:uuid:b665213a-07e5-464e-9c24-5725e61622a5'"
      ]
     },
     "execution_count": 124,
     "metadata": {},
     "output_type": "execute_result"
    }
   ],
   "execution_count": 124
  },
  {
   "metadata": {
    "ExecuteTime": {
     "end_time": "2025-05-07T13:26:47.990733Z",
     "start_time": "2025-05-07T13:26:47.850451Z"
    }
   },
   "cell_type": "code",
   "source": [
    "url = data_space_provider + \"/api/v1/catalogs/{}/datasets/{}/distributions\".format(catalog_id, dataset_id)\n",
    "payload = {\n",
    "    \"dcat:accessService\": data_service_id\n",
    "}\n",
    "response = requests.request(\"POST\", url, headers=json_header, data=json.dumps(payload))\n",
    "response_as_json = response.json()\n",
    "dataset_id = response_as_json[\"@id\"]\n",
    "dataset_id"
   ],
   "id": "e3d0ae29abb601f1",
   "outputs": [
    {
     "data": {
      "text/plain": [
       "'urn:uuid:56324666-f63e-40b4-a632-088692a1b8b5'"
      ]
     },
     "execution_count": 125,
     "metadata": {},
     "output_type": "execute_result"
    }
   ],
   "execution_count": 125
  },
  {
   "metadata": {},
   "cell_type": "markdown",
   "source": "## Create policies",
   "id": "bcb61aba09d7f894"
  },
  {
   "metadata": {
    "ExecuteTime": {
     "end_time": "2025-05-07T13:26:49.240811Z",
     "start_time": "2025-05-07T13:26:49.199205Z"
    }
   },
   "cell_type": "code",
   "source": [
    "url = data_space_provider + \"/api/v1/datasets/{}/policies\".format(dataset_id)\n",
    "payload = {\n",
    "    \"permission\": [\n",
    "        {\n",
    "            \"action\": \"use\",\n",
    "            \"constraint\": [\n",
    "                {\n",
    "                    \"rightOperand\": \"user\",\n",
    "                    \"leftOperand\": \"did:web:hola.es\",\n",
    "                    \"operator\": \"eq\"\n",
    "                }\n",
    "            ]\n",
    "        }\n",
    "    ],\n",
    "    \"obligation\": [],\n",
    "    \"prohibition\": []\n",
    "}\n",
    "response = requests.request(\"POST\", url, headers=json_header, data=json.dumps(payload))\n",
    "response_as_json = response.json()\n",
    "policy_id = response_as_json[\"id\"]\n",
    "target_id = response_as_json[\"entity\"]\n",
    "print(json.dumps(response_as_json, indent=4))"
   ],
   "id": "3e20aede0a523dd4",
   "outputs": [
    {
     "name": "stdout",
     "output_type": "stream",
     "text": [
      "{\n",
      "    \"id\": \"urn:uuid:7a763025-16b3-4b5f-82ab-4759787f99f3\",\n",
      "    \"odrl_offer\": {\n",
      "        \"obligation\": [],\n",
      "        \"permission\": [\n",
      "            {\n",
      "                \"action\": \"use\",\n",
      "                \"constraint\": [\n",
      "                    {\n",
      "                        \"leftOperand\": \"did:web:hola.es\",\n",
      "                        \"operator\": \"eq\",\n",
      "                        \"rightOperand\": \"user\"\n",
      "                    }\n",
      "                ]\n",
      "            }\n",
      "        ],\n",
      "        \"prohibition\": []\n",
      "    },\n",
      "    \"entity\": \"urn:uuid:56324666-f63e-40b4-a632-088692a1b8b5\",\n",
      "    \"entity_type\": \"Dataset\"\n",
      "}\n"
     ]
    }
   ],
   "execution_count": 126
  },
  {
   "metadata": {
    "ExecuteTime": {
     "end_time": "2025-05-07T13:26:50.548198Z",
     "start_time": "2025-05-07T13:26:50.546299Z"
    }
   },
   "cell_type": "code",
   "source": "",
   "id": "ef5d5dcf111bfd6f",
   "outputs": [],
   "execution_count": null
  },
  {
   "metadata": {},
   "cell_type": "markdown",
   "source": "## Contract Negotiation",
   "id": "438aaeed57dce757"
  },
  {
   "metadata": {
    "ExecuteTime": {
     "end_time": "2025-05-07T13:26:51.735431Z",
     "start_time": "2025-05-07T13:26:51.602338Z"
    }
   },
   "cell_type": "code",
   "source": [
    "url = data_space_consumer + \"/api/v1/negotiations/rpc/setup-request\"\n",
    "payload = {\n",
    "    \"providerAddress\": data_space_provider,\n",
    "    \"offer\": {\n",
    "        \"@id\": policy_id,\n",
    "        \"target\": target_id,\n",
    "        \"@type\": \"Offer\",\n",
    "        \"permission\": [\n",
    "            {\n",
    "                \"action\": \"use\"\n",
    "\n",
    "            }\n",
    "        ]\n",
    "    }\n",
    "}\n",
    "response = requests.request(\"POST\", url, headers=json_header, data=json.dumps(payload))\n",
    "response_as_json = response.json()\n",
    "cn_consumer_id = response_as_json[\"consumerPid\"]\n",
    "cn_provider_id = response_as_json[\"providerPid\"]\n",
    "print(json.dumps(response_as_json, indent=2))\n"
   ],
   "id": "8c2d2e2304b50ace",
   "outputs": [
    {
     "name": "stdout",
     "output_type": "stream",
     "text": [
      "{\n",
      "  \"consumerPid\": \"urn:uuid:771f8ecd-419c-4168-a567-ed73146eafe3\",\n",
      "  \"providerPid\": \"urn:uuid:a6fe3287-9880-412c-9000-21f352e52cdb\",\n",
      "  \"offer\": {\n",
      "    \"@id\": \"urn:uuid:7a763025-16b3-4b5f-82ab-4759787f99f3\",\n",
      "    \"permission\": [\n",
      "      {\n",
      "        \"action\": \"use\"\n",
      "      }\n",
      "    ],\n",
      "    \"@type\": \"Offer\",\n",
      "    \"target\": \"urn:uuid:56324666-f63e-40b4-a632-088692a1b8b5\"\n",
      "  },\n",
      "  \"message\": {\n",
      "    \"@context\": [\n",
      "      \"https://w3id.org/dspace/2025/1/context.jsonld\"\n",
      "    ],\n",
      "    \"@type\": \"ContractNegotiation\",\n",
      "    \"providerPid\": \"urn:uuid:a6fe3287-9880-412c-9000-21f352e52cdb\",\n",
      "    \"consumerPid\": \"urn:uuid:771f8ecd-419c-4168-a567-ed73146eafe3\",\n",
      "    \"state\": \"REQUESTED\"\n",
      "  }\n",
      "}\n"
     ]
    }
   ],
   "execution_count": 127
  },
  {
   "metadata": {
    "ExecuteTime": {
     "end_time": "2025-05-07T13:26:52.601943Z",
     "start_time": "2025-05-07T13:26:52.525661Z"
    }
   },
   "cell_type": "code",
   "source": [
    "url = data_space_provider + \"/api/v1/negotiations/rpc/setup-offer\"\n",
    "payload = {\n",
    "    \"consumerParticipantId\": data_space_consumer_participant_id,\n",
    "    \"consumerPid\": cn_consumer_id,\n",
    "    \"providerPid\": cn_provider_id,\n",
    "    \"offer\": {\n",
    "        \"@id\": policy_id,\n",
    "        \"target\": target_id,\n",
    "        \"@type\": \"Offer\",\n",
    "        \"permission\": [\n",
    "            {\n",
    "                \"action\": \"supermegause\"\n",
    "            }\n",
    "        ]\n",
    "    }\n",
    "}\n",
    "response = requests.request(\"POST\", url, headers=json_header, data=json.dumps(payload))\n",
    "response_as_json = response.json()\n",
    "print(json.dumps(response_as_json, indent=2))"
   ],
   "id": "b6ca342e690f05de",
   "outputs": [
    {
     "name": "stdout",
     "output_type": "stream",
     "text": [
      "{\n",
      "  \"consumerParticipantId\": \"urn:uuid:82994955-f46c-4371-b661-dbf82cca9d56\",\n",
      "  \"consumerPid\": \"urn:uuid:771f8ecd-419c-4168-a567-ed73146eafe3\",\n",
      "  \"providerPid\": \"urn:uuid:e46116cf-811d-4a3e-b93a-075d1f3f9390\",\n",
      "  \"offer\": {\n",
      "    \"@id\": \"urn:uuid:7a763025-16b3-4b5f-82ab-4759787f99f3\",\n",
      "    \"permission\": [\n",
      "      {\n",
      "        \"action\": \"supermegause\"\n",
      "      }\n",
      "    ],\n",
      "    \"@type\": \"Offer\",\n",
      "    \"target\": \"urn:uuid:56324666-f63e-40b4-a632-088692a1b8b5\"\n",
      "  },\n",
      "  \"message\": {\n",
      "    \"@context\": [\n",
      "      \"https://w3id.org/dspace/2025/1/context.jsonld\"\n",
      "    ],\n",
      "    \"@type\": \"ContractNegotiation\",\n",
      "    \"providerPid\": \"urn:uuid:a6fe3287-9880-412c-9000-21f352e52cdb\",\n",
      "    \"consumerPid\": \"urn:uuid:771f8ecd-419c-4168-a567-ed73146eafe3\",\n",
      "    \"state\": \"OFFERED\"\n",
      "  }\n",
      "}\n"
     ]
    }
   ],
   "execution_count": 128
  },
  {
   "metadata": {
    "ExecuteTime": {
     "end_time": "2025-05-07T13:26:53.347466Z",
     "start_time": "2025-05-07T13:26:53.271781Z"
    }
   },
   "cell_type": "code",
   "source": [
    "url = data_space_consumer + \"/api/v1/negotiations/rpc/setup-acceptance\"\n",
    "payload = {\n",
    "    \"providerAddress\": data_space_provider,\n",
    "    \"consumerPid\": cn_consumer_id,\n",
    "    \"providerPid\": cn_provider_id\n",
    "}\n",
    "response = requests.request(\"POST\", url, headers=json_header, data=json.dumps(payload))\n",
    "response_as_json = response.json()\n",
    "print(json.dumps(response_as_json, indent=2))"
   ],
   "id": "4feaa2d5afa582d6",
   "outputs": [
    {
     "name": "stdout",
     "output_type": "stream",
     "text": [
      "{\n",
      "  \"consumerPid\": \"urn:uuid:771f8ecd-419c-4168-a567-ed73146eafe3\",\n",
      "  \"providerPid\": \"urn:uuid:a6fe3287-9880-412c-9000-21f352e52cdb\",\n",
      "  \"message\": {\n",
      "    \"@context\": [\n",
      "      \"https://w3id.org/dspace/2025/1/context.jsonld\"\n",
      "    ],\n",
      "    \"@type\": \"ContractNegotiation\",\n",
      "    \"providerPid\": \"urn:uuid:a6fe3287-9880-412c-9000-21f352e52cdb\",\n",
      "    \"consumerPid\": \"urn:uuid:771f8ecd-419c-4168-a567-ed73146eafe3\",\n",
      "    \"state\": \"ACCEPTED\"\n",
      "  }\n",
      "}\n"
     ]
    }
   ],
   "execution_count": 129
  },
  {
   "metadata": {
    "ExecuteTime": {
     "end_time": "2025-05-07T13:26:54.306973Z",
     "start_time": "2025-05-07T13:26:54.234823Z"
    }
   },
   "cell_type": "code",
   "source": [
    "url = data_space_provider + \"/api/v1/negotiations/rpc/setup-agreement\"\n",
    "payload = {\n",
    "    \"consumerParticipantId\": data_space_consumer_participant_id,\n",
    "    \"consumerPid\": cn_consumer_id,\n",
    "    \"providerPid\": cn_provider_id,\n",
    "    \"agreement\": {\n",
    "        \"@id\": \"urn:uuid:{}\".format(uuid4()),\n",
    "        \"@type\": \"Agreement\",\n",
    "        \"target\": target_id,\n",
    "        \"assigner\": data_space_provider_participant_id,\n",
    "        \"assignee\": data_space_consumer_participant_id,\n",
    "        \"permission\": [\n",
    "            {\n",
    "                \"action\": \"supermegause\"\n",
    "            }\n",
    "        ],\n",
    "        \"timestamp\": \"2023-02-12T12:00:00\"\n",
    "    }\n",
    "}\n",
    "response = requests.request(\"POST\", url, headers=json_header, data=json.dumps(payload))\n",
    "response_as_json = response.json()\n",
    "print(json.dumps(response_as_json, indent=2))\n",
    "agreement_id = response_as_json[\"agreement\"][\"@id\"]"
   ],
   "id": "84609238c0d3e043",
   "outputs": [
    {
     "name": "stdout",
     "output_type": "stream",
     "text": [
      "{\n",
      "  \"consumerPid\": \"urn:uuid:771f8ecd-419c-4168-a567-ed73146eafe3\",\n",
      "  \"providerPid\": \"urn:uuid:a6fe3287-9880-412c-9000-21f352e52cdb\",\n",
      "  \"agreement\": {\n",
      "    \"@id\": \"urn:uuid:53f69453-e621-46e7-bdec-5b1bb33bf344\",\n",
      "    \"profile\": null,\n",
      "    \"permission\": [\n",
      "      {\n",
      "        \"action\": \"supermegause\"\n",
      "      }\n",
      "    ],\n",
      "    \"obligation\": null,\n",
      "    \"@type\": \"Agreement\",\n",
      "    \"target\": \"urn:uuid:56324666-f63e-40b4-a632-088692a1b8b5\",\n",
      "    \"assigner\": \"urn:uuid:0c409422-63b1-4f1a-9adb-8efb20971698\",\n",
      "    \"assignee\": \"urn:uuid:82994955-f46c-4371-b661-dbf82cca9d56\",\n",
      "    \"timestamp\": \"2023-02-12T12:00:00\",\n",
      "    \"prohibition\": null\n",
      "  },\n",
      "  \"message\": {\n",
      "    \"@context\": [\n",
      "      \"https://w3id.org/dspace/2025/1/context.jsonld\"\n",
      "    ],\n",
      "    \"@type\": \"ContractNegotiation\",\n",
      "    \"providerPid\": \"urn:uuid:a6fe3287-9880-412c-9000-21f352e52cdb\",\n",
      "    \"consumerPid\": \"urn:uuid:771f8ecd-419c-4168-a567-ed73146eafe3\",\n",
      "    \"state\": \"AGREED\"\n",
      "  }\n",
      "}\n"
     ]
    }
   ],
   "execution_count": 130
  },
  {
   "metadata": {
    "ExecuteTime": {
     "end_time": "2025-05-07T13:26:55.063390Z",
     "start_time": "2025-05-07T13:26:54.992362Z"
    }
   },
   "cell_type": "code",
   "source": [
    "url = data_space_consumer + \"/api/v1/negotiations/rpc/setup-verification\"\n",
    "payload = {\n",
    "    \"providerAddress\": data_space_provider,\n",
    "    \"consumerPid\": cn_consumer_id,\n",
    "    \"providerPid\": cn_provider_id,\n",
    "}\n",
    "response = requests.request(\"POST\", url, headers=json_header, data=json.dumps(payload))\n",
    "response_as_json = response.json()\n",
    "print(json.dumps(response_as_json, indent=2))"
   ],
   "id": "8840cdbc4f7c5a99",
   "outputs": [
    {
     "name": "stdout",
     "output_type": "stream",
     "text": [
      "{\n",
      "  \"consumerPid\": \"urn:uuid:771f8ecd-419c-4168-a567-ed73146eafe3\",\n",
      "  \"providerPid\": \"urn:uuid:a6fe3287-9880-412c-9000-21f352e52cdb\",\n",
      "  \"message\": {\n",
      "    \"@context\": [\n",
      "      \"https://w3id.org/dspace/2025/1/context.jsonld\"\n",
      "    ],\n",
      "    \"@type\": \"ContractNegotiation\",\n",
      "    \"providerPid\": \"urn:uuid:a6fe3287-9880-412c-9000-21f352e52cdb\",\n",
      "    \"consumerPid\": \"urn:uuid:771f8ecd-419c-4168-a567-ed73146eafe3\",\n",
      "    \"state\": \"VERIFIED\"\n",
      "  }\n",
      "}\n"
     ]
    }
   ],
   "execution_count": 131
  },
  {
   "metadata": {
    "ExecuteTime": {
     "end_time": "2025-05-07T13:26:55.873058Z",
     "start_time": "2025-05-07T13:26:55.801543Z"
    }
   },
   "cell_type": "code",
   "source": [
    "url = data_space_provider + \"/api/v1/negotiations/rpc/setup-finalization\"\n",
    "payload = {\n",
    "    \"consumerParticipantId\": data_space_consumer_participant_id,\n",
    "    \"consumerPid\": cn_consumer_id,\n",
    "    \"providerPid\": cn_provider_id,\n",
    "}\n",
    "response = requests.request(\"POST\", url, headers=json_header, data=json.dumps(payload))\n",
    "response_as_json = response.json()\n",
    "print(json.dumps(response_as_json, indent=2))"
   ],
   "id": "fddd19bf8f2b05d9",
   "outputs": [
    {
     "name": "stdout",
     "output_type": "stream",
     "text": [
      "{\n",
      "  \"consumerPid\": \"urn:uuid:771f8ecd-419c-4168-a567-ed73146eafe3\",\n",
      "  \"providerPid\": \"urn:uuid:a6fe3287-9880-412c-9000-21f352e52cdb\",\n",
      "  \"message\": {\n",
      "    \"@context\": [\n",
      "      \"https://w3id.org/dspace/2025/1/context.jsonld\"\n",
      "    ],\n",
      "    \"@type\": \"ContractNegotiation\",\n",
      "    \"providerPid\": \"urn:uuid:a6fe3287-9880-412c-9000-21f352e52cdb\",\n",
      "    \"consumerPid\": \"urn:uuid:771f8ecd-419c-4168-a567-ed73146eafe3\",\n",
      "    \"state\": \"FINALIZED\"\n",
      "  }\n",
      "}\n"
     ]
    }
   ],
   "execution_count": 132
  },
  {
   "metadata": {},
   "cell_type": "markdown",
   "source": "## Transfer Negotiation\n",
   "id": "f8a6b52b3af734ba"
  },
  {
   "metadata": {
    "ExecuteTime": {
     "end_time": "2025-05-07T13:34:06.426103Z",
     "start_time": "2025-05-07T13:34:06.347552Z"
    }
   },
   "cell_type": "code",
   "source": [
    "url = data_space_consumer + \"/api/v1/transfers/rpc/setup-request\"\n",
    "payload = {\n",
    "    \"providerAddress\": data_space_provider,\n",
    "    \"agreementId\": agreement_id,\n",
    "    \"format\": \"http+pull\"\n",
    "}\n",
    "response = requests.request(\"POST\", url, headers=json_header, data=json.dumps(payload))\n",
    "response_as_json = response.json()\n",
    "transfer_consumer_id = response_as_json[\"consumerPid\"]\n",
    "transfer_provider_id = response_as_json[\"providerPid\"]\n",
    "callback_address = response_as_json[\"callbackAddress\"]\n",
    "print(json.dumps(response_as_json, indent=2))"
   ],
   "id": "c359ed2305c94f27",
   "outputs": [
    {
     "name": "stdout",
     "output_type": "stream",
     "text": [
      "{\n",
      "  \"providerPid\": \"urn:uuid:6930a7d9-c530-4c5a-8dea-ad212da22c15\",\n",
      "  \"consumerPid\": \"urn:uuid:708d25fd-8cd1-42f5-beb5-14053653687b\",\n",
      "  \"agreementId\": \"urn:uuid:53f69453-e621-46e7-bdec-5b1bb33bf344\",\n",
      "  \"callbackAddress\": \"http://127.0.0.1:1235/urn:uuid:ade8fb49-95a5-4ec6-9b88-16ccf65a0307\",\n",
      "  \"format\": \"http+pull\",\n",
      "  \"message\": {\n",
      "    \"@context\": [\n",
      "      \"https://w3id.org/dspace/2025/1/context.jsonld\"\n",
      "    ],\n",
      "    \"@type\": \"TransferProcess\",\n",
      "    \"providerPid\": \"urn:uuid:6930a7d9-c530-4c5a-8dea-ad212da22c15\",\n",
      "    \"consumerPid\": \"urn:uuid:708d25fd-8cd1-42f5-beb5-14053653687b\",\n",
      "    \"state\": \"REQUESTED\"\n",
      "  }\n",
      "}\n"
     ]
    }
   ],
   "execution_count": 137
  },
  {
   "metadata": {
    "ExecuteTime": {
     "end_time": "2025-05-07T13:34:07.804661Z",
     "start_time": "2025-05-07T13:34:07.719786Z"
    }
   },
   "cell_type": "code",
   "source": [
    "url = data_space_provider + \"/api/v1/transfers/rpc/setup-start\"\n",
    "payload = {\n",
    "    \"consumerCallbackAddress\": callback_address,\n",
    "    \"providerPid\": transfer_provider_id,\n",
    "    \"consumerPid\": transfer_consumer_id,\n",
    "    \"dataAddress\": {\n",
    "        \"@type\": \"DataAddress\",\n",
    "        \"endpointType\": \"https://w3id.org/idsa/v4.1/HTTP\",\n",
    "        \"endpoint\": \"http://example.com\",\n",
    "        \"endpointProperties\": [\n",
    "            {\n",
    "                \"@type\": \"EndpointProperty\",\n",
    "                \"name\": \"authorization\",\n",
    "                \"value\": \"TOKEN-ABCDEFG\"\n",
    "            },\n",
    "            {\n",
    "                \"@type\": \"EndpointProperty\",\n",
    "                \"name\": \"authType\",\n",
    "                \"value\": \"bearer\"\n",
    "            }\n",
    "        ]\n",
    "    }\n",
    "}\n",
    "response = requests.request(\"POST\", url, headers=json_header, data=json.dumps(payload))\n",
    "response_as_json = response.json()\n",
    "print(json.dumps(response_as_json, indent=2))"
   ],
   "id": "d905936906de088c",
   "outputs": [
    {
     "name": "stdout",
     "output_type": "stream",
     "text": [
      "{\n",
      "  \"providerPid\": \"urn:uuid:6930a7d9-c530-4c5a-8dea-ad212da22c15\",\n",
      "  \"consumerPid\": \"urn:uuid:708d25fd-8cd1-42f5-beb5-14053653687b\",\n",
      "  \"dataAddress\": {\n",
      "    \"@type\": \"DataAddress\",\n",
      "    \"endpointType\": \"https://w3id.org/idsa/v4.1/HTTP\",\n",
      "    \"endpoint\": \"http://example.com\",\n",
      "    \"endpointProperties\": [\n",
      "      {\n",
      "        \"@type\": \"EndpointProperty\",\n",
      "        \"name\": \"authorization\",\n",
      "        \"value\": \"TOKEN-ABCDEFG\"\n",
      "      },\n",
      "      {\n",
      "        \"@type\": \"EndpointProperty\",\n",
      "        \"name\": \"authType\",\n",
      "        \"value\": \"bearer\"\n",
      "      }\n",
      "    ]\n",
      "  },\n",
      "  \"message\": {\n",
      "    \"@context\": [\n",
      "      \"https://w3id.org/dspace/2025/1/context.jsonld\"\n",
      "    ],\n",
      "    \"@type\": \"TransferProcess\",\n",
      "    \"providerPid\": \"urn:uuid:6930a7d9-c530-4c5a-8dea-ad212da22c15\",\n",
      "    \"consumerPid\": \"urn:uuid:708d25fd-8cd1-42f5-beb5-14053653687b\",\n",
      "    \"state\": \"STARTED\"\n",
      "  }\n",
      "}\n"
     ]
    }
   ],
   "execution_count": 138
  },
  {
   "metadata": {
    "ExecuteTime": {
     "end_time": "2025-05-07T13:35:27.307134Z",
     "start_time": "2025-05-07T13:35:27.209639Z"
    }
   },
   "cell_type": "code",
   "source": [
    "url = data_space_consumer + \"/api/v1/transfers/rpc/setup-suspension\"\n",
    "payload = {\n",
    "    \"providerAddress\": data_space_provider,\n",
    "    \"providerPid\": transfer_provider_id,\n",
    "    \"consumerPid\": transfer_consumer_id,\n",
    "}\n",
    "response = requests.request(\"POST\", url, headers=json_header, data=json.dumps(payload))\n",
    "response_as_json = response.json()\n",
    "print(json.dumps(response_as_json, indent=2))"
   ],
   "id": "ed4a0bc53ceec45f",
   "outputs": [
    {
     "name": "stdout",
     "output_type": "stream",
     "text": [
      "{\n",
      "  \"providerPid\": \"urn:uuid:6930a7d9-c530-4c5a-8dea-ad212da22c15\",\n",
      "  \"consumerPid\": \"urn:uuid:708d25fd-8cd1-42f5-beb5-14053653687b\",\n",
      "  \"message\": {\n",
      "    \"@context\": [\n",
      "      \"https://w3id.org/dspace/2025/1/context.jsonld\"\n",
      "    ],\n",
      "    \"@type\": \"TransferProcess\",\n",
      "    \"providerPid\": \"urn:uuid:6930a7d9-c530-4c5a-8dea-ad212da22c15\",\n",
      "    \"consumerPid\": \"urn:uuid:708d25fd-8cd1-42f5-beb5-14053653687b\",\n",
      "    \"state\": \"SUSPENDED\"\n",
      "  }\n",
      "}\n"
     ]
    }
   ],
   "execution_count": 139
  },
  {
   "metadata": {
    "ExecuteTime": {
     "end_time": "2025-05-07T13:36:18.050556Z",
     "start_time": "2025-05-07T13:36:17.951477Z"
    }
   },
   "cell_type": "code",
   "source": [
    "url = data_space_consumer + \"/api/v1/transfers/rpc/setup-start\"\n",
    "payload = {\n",
    "    \"providerAddress\": data_space_provider,\n",
    "    \"providerPid\": transfer_provider_id,\n",
    "    \"consumerPid\": transfer_consumer_id,\n",
    "}\n",
    "response = requests.request(\"POST\", url, headers=json_header, data=json.dumps(payload))\n",
    "response_as_json = response.json()\n",
    "print(json.dumps(response_as_json, indent=2))"
   ],
   "id": "4b0a3076674ace5f",
   "outputs": [
    {
     "name": "stdout",
     "output_type": "stream",
     "text": [
      "{\n",
      "  \"providerPid\": \"urn:uuid:6930a7d9-c530-4c5a-8dea-ad212da22c15\",\n",
      "  \"consumerPid\": \"urn:uuid:708d25fd-8cd1-42f5-beb5-14053653687b\",\n",
      "  \"message\": {\n",
      "    \"@context\": [\n",
      "      \"https://w3id.org/dspace/2025/1/context.jsonld\"\n",
      "    ],\n",
      "    \"@type\": \"TransferProcess\",\n",
      "    \"providerPid\": \"urn:uuid:6930a7d9-c530-4c5a-8dea-ad212da22c15\",\n",
      "    \"consumerPid\": \"urn:uuid:708d25fd-8cd1-42f5-beb5-14053653687b\",\n",
      "    \"state\": \"STARTED\"\n",
      "  }\n",
      "}\n"
     ]
    }
   ],
   "execution_count": 140
  },
  {
   "metadata": {
    "ExecuteTime": {
     "end_time": "2025-05-07T13:36:48.540846Z",
     "start_time": "2025-05-07T13:36:48.262664Z"
    }
   },
   "cell_type": "code",
   "source": [
    "url = data_space_provider + \"/api/v1/transfers/rpc/setup-completion\"\n",
    "payload = {\n",
    "    \"consumerCallbackAddress\": callback_address,\n",
    "    \"providerPid\": transfer_provider_id,\n",
    "    \"consumerPid\": transfer_consumer_id,\n",
    "}\n",
    "response = requests.request(\"POST\", url, headers=json_header, data=json.dumps(payload))\n",
    "response_as_json = response.json()\n",
    "print(json.dumps(response_as_json, indent=2))"
   ],
   "id": "a3bf1f3c1beb4e3",
   "outputs": [
    {
     "name": "stdout",
     "output_type": "stream",
     "text": [
      "{\n",
      "  \"providerPid\": \"urn:uuid:6930a7d9-c530-4c5a-8dea-ad212da22c15\",\n",
      "  \"consumerPid\": \"urn:uuid:708d25fd-8cd1-42f5-beb5-14053653687b\",\n",
      "  \"message\": {\n",
      "    \"@context\": [\n",
      "      \"https://w3id.org/dspace/2025/1/context.jsonld\"\n",
      "    ],\n",
      "    \"@type\": \"TransferProcess\",\n",
      "    \"providerPid\": \"urn:uuid:6930a7d9-c530-4c5a-8dea-ad212da22c15\",\n",
      "    \"consumerPid\": \"urn:uuid:708d25fd-8cd1-42f5-beb5-14053653687b\",\n",
      "    \"state\": \"COMPLETED\"\n",
      "  }\n",
      "}\n"
     ]
    }
   ],
   "execution_count": 141
  },
  {
   "metadata": {},
   "cell_type": "code",
   "outputs": [],
   "execution_count": null,
   "source": "",
   "id": "b0228ad8522b7a49"
  }
 ],
 "metadata": {
  "kernelspec": {
   "name": "python3",
   "language": "python",
   "display_name": "Python 3 (ipykernel)"
  }
 },
 "nbformat": 5,
 "nbformat_minor": 9
}

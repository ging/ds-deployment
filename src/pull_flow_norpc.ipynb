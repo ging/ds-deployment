{
 "cells": [
  {
   "metadata": {},
   "cell_type": "code",
   "source": "!which python",
   "id": "affa926f259653e0",
   "outputs": [],
   "execution_count": null
  },
  {
   "metadata": {},
   "cell_type": "code",
   "source": [
    "import pandas as pd\n",
    "import requests\n",
    "import json\n",
    "import pprint\n",
    "from uuid import uuid4"
   ],
   "id": "68e1fe621d8a0ef0",
   "outputs": [],
   "execution_count": null
  },
  {
   "metadata": {},
   "cell_type": "markdown",
   "source": "# Complete dataspace flow",
   "id": "bc15da9211b43e67"
  },
  {
   "metadata": {},
   "cell_type": "markdown",
   "source": "## Consts\n",
   "id": "b0f6ecdf966b8b68"
  },
  {
   "metadata": {},
   "cell_type": "code",
   "source": [
    "data_space_provider = \"http://127.0.0.1:1234\"\n",
    "data_space_consumer = \"http://127.0.0.1:1235\"\n",
    "api_endpoint = \"https://jsonplaceholder.typicode.com/posts\"\n",
    "\n",
    "data_space_provider_participant_id = \"\"\n",
    "data_space_consumer_participant_id = \"\"\n",
    "catalog_id = \"\"\n",
    "dataset_id = \"\"\n",
    "distribution_id = \"\"\n",
    "data_service_id = \"\"\n",
    "policy_id = \"\"\n",
    "target_id = \"\"\n",
    "\n",
    "cn_consumer_id = \"\"\n",
    "cn_provider_id = \"\"\n",
    "agreement_id = \"\"\n",
    "transfer_consumer_id = \"\"\n",
    "transfer_provider_id = \"\"\n",
    "\n",
    "json_header = {\n",
    "    \"Content-Type\": \"application/json\",\n",
    "}"
   ],
   "id": "f55ce154aa95c49d",
   "outputs": [],
   "execution_count": null
  },
  {
   "metadata": {},
   "cell_type": "markdown",
   "source": "## Participants onboarding",
   "id": "69b1951a684bd85e"
  },
  {
   "metadata": {},
   "cell_type": "code",
   "source": [
    "url = data_space_provider + \"/api/v1/participants\"\n",
    "payload = {\n",
    "    \"dspace:participantType\": \"Provider\",\n",
    "    \"dspace:participantBaseUrl\": data_space_provider,\n",
    "    \"dspace:extraFields\": {}\n",
    "}\n",
    "response = requests.request(\"POST\", url, headers=json_header, data=json.dumps(payload))\n",
    "response_as_json = response.json()\n",
    "data_space_provider_participant_id = response_as_json[\"participant_id\"]\n",
    "data_space_provider_participant_id"
   ],
   "id": "c0cbd7496cfeee45",
   "outputs": [],
   "execution_count": null
  },
  {
   "metadata": {},
   "cell_type": "code",
   "source": [
    "url = data_space_provider + \"/api/v1/participants\"\n",
    "payload = {\n",
    "    \"dspace:participantType\": \"Consumer\",\n",
    "    \"dspace:participantBaseUrl\": data_space_consumer,\n",
    "    \"dspace:extraFields\": {}\n",
    "}\n",
    "response = requests.request(\"POST\", url, headers=json_header, data=json.dumps(payload))\n",
    "response_as_json = response.json()\n",
    "data_space_consumer_participant_id = response_as_json[\"participant_id\"]\n",
    "data_space_consumer_participant_id"
   ],
   "id": "6d1fecf52e262ce5",
   "outputs": [],
   "execution_count": null
  },
  {
   "metadata": {},
   "cell_type": "markdown",
   "source": "## Create Catalog instances and metadata",
   "id": "89cf12a469c65479"
  },
  {
   "metadata": {},
   "cell_type": "code",
   "source": [
    "url = data_space_provider + \"/api/v1/catalogs\"\n",
    "payload = {\n",
    "    \"foaf:homepage\": \"My dataspace catalog\",\n",
    "    \"dct:title\": \"My dataspace catalog\",\n",
    "}\n",
    "response = requests.request(\"POST\", url, headers=json_header, data=json.dumps(payload))\n",
    "response_as_json = response.json()\n",
    "catalog_id = response_as_json[\"@id\"]\n",
    "catalog_id"
   ],
   "id": "11ed0dd3e885a07e",
   "outputs": [],
   "execution_count": null
  },
  {
   "metadata": {},
   "cell_type": "code",
   "source": [
    "url = data_space_provider + \"/api/v1/catalogs/{}/datasets\".format(catalog_id)\n",
    "payload = {\n",
    "    \"dct:title\": \"My dataspace dataset\",\n",
    "}\n",
    "response = requests.request(\"POST\", url, headers=json_header, data=json.dumps(payload))\n",
    "response_as_json = response.json()\n",
    "dataset_id = response_as_json[\"@id\"]\n",
    "dataset_id"
   ],
   "id": "7baa8c98c1636e0e",
   "outputs": [],
   "execution_count": null
  },
  {
   "metadata": {},
   "cell_type": "code",
   "source": [
    "url = data_space_provider + \"/api/v1/catalogs/{}/data-services\".format(catalog_id)\n",
    "payload = {\n",
    "    \"dcat:endpointURL\": \"https://jsonplaceholder.typicode.com/posts\"\n",
    "}\n",
    "response = requests.request(\"POST\", url, headers=json_header, data=json.dumps(payload))\n",
    "response_as_json = response.json()\n",
    "data_service_id = response_as_json[\"@id\"]\n",
    "data_service_id"
   ],
   "id": "da71f544b74fee9e",
   "outputs": [],
   "execution_count": null
  },
  {
   "metadata": {},
   "cell_type": "code",
   "source": [
    "url = data_space_provider + \"/api/v1/catalogs/{}/datasets/{}/distributions\".format(catalog_id, dataset_id)\n",
    "payload = {\n",
    "    \"dcat:accessService\": data_service_id\n",
    "}\n",
    "response = requests.request(\"POST\", url, headers=json_header, data=json.dumps(payload))\n",
    "response_as_json = response.json()\n",
    "dataset_id = response_as_json[\"@id\"]\n",
    "dataset_id"
   ],
   "id": "e3d0ae29abb601f1",
   "outputs": [],
   "execution_count": null
  },
  {
   "metadata": {},
   "cell_type": "markdown",
   "source": "## Create policies",
   "id": "bcb61aba09d7f894"
  },
  {
   "metadata": {},
   "cell_type": "code",
   "source": [
    "url = data_space_provider + \"/api/v1/datasets/{}/policies\".format(dataset_id)\n",
    "payload = {\n",
    "    \"permission\": [\n",
    "        {\n",
    "            \"action\": \"use\",\n",
    "            \"constraint\": [\n",
    "                {\n",
    "                    \"rightOperand\": \"user\",\n",
    "                    \"leftOperand\": \"did:web:hola.es\",\n",
    "                    \"operator\": \"eq\"\n",
    "                }\n",
    "            ]\n",
    "        }\n",
    "    ],\n",
    "    \"obligation\": [],\n",
    "    \"prohibition\": []\n",
    "}\n",
    "response = requests.request(\"POST\", url, headers=json_header, data=json.dumps(payload))\n",
    "response_as_json = response.json()\n",
    "policy_id = response_as_json[\"id\"]\n",
    "target_id = response_as_json[\"entity\"]\n",
    "print(json.dumps(response_as_json, indent=4))"
   ],
   "id": "3e20aede0a523dd4",
   "outputs": [],
   "execution_count": null
  },
  {
   "metadata": {},
   "cell_type": "code",
   "source": "",
   "id": "ef5d5dcf111bfd6f",
   "outputs": [],
   "execution_count": null
  },
  {
   "metadata": {},
   "cell_type": "markdown",
   "source": "## Contract Negotiation",
   "id": "438aaeed57dce757"
  },
  {
   "metadata": {},
   "cell_type": "code",
   "source": [
    "url = data_space_consumer + \"/api/v1/negotiations/rpc/setup-request\"\n",
    "payload = {\n",
    "    \"providerAddress\": data_space_provider,\n",
    "    \"offer\": {\n",
    "        \"@id\": policy_id,\n",
    "        \"target\": target_id,\n",
    "        \"@type\": \"Offer\",\n",
    "        \"permission\": [\n",
    "            {\n",
    "                \"action\": \"use\"\n",
    "\n",
    "            }\n",
    "        ]\n",
    "    }\n",
    "}\n",
    "response = requests.request(\"POST\", url, headers=json_header, data=json.dumps(payload))\n",
    "response_as_json = response.json()\n",
    "cn_consumer_id = response_as_json[\"consumerPid\"]\n",
    "cn_provider_id = response_as_json[\"providerPid\"]\n",
    "print(json.dumps(response_as_json, indent=2))\n"
   ],
   "id": "8c2d2e2304b50ace",
   "outputs": [],
   "execution_count": null
  },
  {
   "metadata": {},
   "cell_type": "code",
   "source": [
    "url = data_space_provider + \"/api/v1/negotiations/rpc/setup-offer\"\n",
    "payload = {\n",
    "    \"consumerParticipantId\": data_space_consumer_participant_id,\n",
    "    \"consumerPid\": cn_consumer_id,\n",
    "    \"providerPid\": cn_provider_id,\n",
    "    \"offer\": {\n",
    "        \"@id\": policy_id,\n",
    "        \"target\": target_id,\n",
    "        \"@type\": \"Offer\",\n",
    "        \"permission\": [\n",
    "            {\n",
    "                \"action\": \"supermegause\"\n",
    "            }\n",
    "        ]\n",
    "    }\n",
    "}\n",
    "response = requests.request(\"POST\", url, headers=json_header, data=json.dumps(payload))\n",
    "response_as_json = response.json()\n",
    "print(json.dumps(response_as_json, indent=2))"
   ],
   "id": "b6ca342e690f05de",
   "outputs": [],
   "execution_count": null
  },
  {
   "metadata": {},
   "cell_type": "code",
   "source": [
    "url = data_space_consumer + \"/api/v1/negotiations/rpc/setup-acceptance\"\n",
    "payload = {\n",
    "    \"providerAddress\": data_space_provider,\n",
    "    \"consumerPid\": cn_consumer_id,\n",
    "    \"providerPid\": cn_provider_id\n",
    "}\n",
    "response = requests.request(\"POST\", url, headers=json_header, data=json.dumps(payload))\n",
    "response_as_json = response.json()\n",
    "print(json.dumps(response_as_json, indent=2))"
   ],
   "id": "4feaa2d5afa582d6",
   "outputs": [],
   "execution_count": null
  },
  {
   "metadata": {},
   "cell_type": "code",
   "source": [
    "url = data_space_provider + \"/api/v1/negotiations/rpc/setup-agreement\"\n",
    "payload = {\n",
    "    \"consumerParticipantId\": data_space_consumer_participant_id,\n",
    "    \"consumerPid\": cn_consumer_id,\n",
    "    \"providerPid\": cn_provider_id,\n",
    "    \"agreement\": {\n",
    "        \"@id\": \"urn:uuid:{}\".format(uuid4()),\n",
    "        \"@type\": \"Agreement\",\n",
    "        \"target\": target_id,\n",
    "        \"assigner\": data_space_provider_participant_id,\n",
    "        \"assignee\": data_space_consumer_participant_id,\n",
    "        \"permission\": [\n",
    "            {\n",
    "                \"action\": \"supermegause\"\n",
    "            }\n",
    "        ],\n",
    "        \"timestamp\": \"2023-02-12T12:00:00\"\n",
    "    }\n",
    "}\n",
    "response = requests.request(\"POST\", url, headers=json_header, data=json.dumps(payload))\n",
    "response_as_json = response.json()\n",
    "print(json.dumps(response_as_json, indent=2))\n",
    "agreement_id = response_as_json[\"agreement\"][\"@id\"]"
   ],
   "id": "84609238c0d3e043",
   "outputs": [],
   "execution_count": null
  },
  {
   "metadata": {},
   "cell_type": "code",
   "source": [
    "url = data_space_consumer + \"/api/v1/negotiations/rpc/setup-verification\"\n",
    "payload = {\n",
    "    \"providerAddress\": data_space_provider,\n",
    "    \"consumerPid\": cn_consumer_id,\n",
    "    \"providerPid\": cn_provider_id,\n",
    "}\n",
    "response = requests.request(\"POST\", url, headers=json_header, data=json.dumps(payload))\n",
    "response_as_json = response.json()\n",
    "print(json.dumps(response_as_json, indent=2))"
   ],
   "id": "8840cdbc4f7c5a99",
   "outputs": [],
   "execution_count": null
  },
  {
   "metadata": {},
   "cell_type": "code",
   "source": [
    "url = data_space_provider + \"/api/v1/negotiations/rpc/setup-finalization\"\n",
    "payload = {\n",
    "    \"consumerParticipantId\": data_space_consumer_participant_id,\n",
    "    \"consumerPid\": cn_consumer_id,\n",
    "    \"providerPid\": cn_provider_id,\n",
    "}\n",
    "response = requests.request(\"POST\", url, headers=json_header, data=json.dumps(payload))\n",
    "response_as_json = response.json()\n",
    "print(json.dumps(response_as_json, indent=2))"
   ],
   "id": "fddd19bf8f2b05d9",
   "outputs": [],
   "execution_count": null
  },
  {
   "metadata": {},
   "cell_type": "markdown",
   "source": "## Transfer Negotiation\n",
   "id": "f8a6b52b3af734ba"
  },
  {
   "metadata": {},
   "cell_type": "code",
   "source": [
    "url = data_space_consumer + \"/api/v1/transfers/rpc/setup-request\"\n",
    "payload = {\n",
    "    \"providerAddress\": data_space_provider,\n",
    "    \"agreementId\": agreement_id,\n",
    "    \"format\": \"http+pull\"\n",
    "}\n",
    "response = requests.request(\"POST\", url, headers=json_header, data=json.dumps(payload))\n",
    "response_as_json = response.json()\n",
    "transfer_consumer_id = response_as_json[\"consumerPid\"]\n",
    "transfer_provider_id = response_as_json[\"providerPid\"]\n",
    "callback_address = response_as_json[\"callbackAddress\"]\n",
    "print(json.dumps(response_as_json, indent=2))"
   ],
   "id": "c359ed2305c94f27",
   "outputs": [],
   "execution_count": null
  },
  {
   "metadata": {},
   "cell_type": "code",
   "source": [
    "url = data_space_provider + \"/api/v1/transfers/rpc/setup-start\"\n",
    "payload = {\n",
    "    \"consumerCallbackAddress\": callback_address,\n",
    "    \"providerPid\": transfer_provider_id,\n",
    "    \"consumerPid\": transfer_consumer_id,\n",
    "    \"dataAddress\": {\n",
    "        \"@type\": \"DataAddress\",\n",
    "        \"endpointType\": \"https://w3id.org/idsa/v4.1/HTTP\",\n",
    "        \"endpoint\": \"http://example.com\",\n",
    "        \"endpointProperties\": [\n",
    "            {\n",
    "                \"@type\": \"EndpointProperty\",\n",
    "                \"name\": \"authorization\",\n",
    "                \"value\": \"TOKEN-ABCDEFG\"\n",
    "            },\n",
    "            {\n",
    "                \"@type\": \"EndpointProperty\",\n",
    "                \"name\": \"authType\",\n",
    "                \"value\": \"bearer\"\n",
    "            }\n",
    "        ]\n",
    "    }\n",
    "}\n",
    "response = requests.request(\"POST\", url, headers=json_header, data=json.dumps(payload))\n",
    "response_as_json = response.json()\n",
    "print(json.dumps(response_as_json, indent=2))"
   ],
   "id": "d905936906de088c",
   "outputs": [],
   "execution_count": null
  },
  {
   "metadata": {},
   "cell_type": "code",
   "source": [
    "url = data_space_consumer + \"/api/v1/transfers/rpc/setup-suspension\"\n",
    "payload = {\n",
    "    \"providerAddress\": data_space_provider,\n",
    "    \"providerPid\": transfer_provider_id,\n",
    "    \"consumerPid\": transfer_consumer_id,\n",
    "}\n",
    "response = requests.request(\"POST\", url, headers=json_header, data=json.dumps(payload))\n",
    "response_as_json = response.json()\n",
    "print(json.dumps(response_as_json, indent=2))"
   ],
   "id": "ed4a0bc53ceec45f",
   "outputs": [],
   "execution_count": null
  },
  {
   "metadata": {},
   "cell_type": "code",
   "source": [
    "url = data_space_consumer + \"/api/v1/transfers/rpc/setup-start\"\n",
    "payload = {\n",
    "    \"providerAddress\": data_space_provider,\n",
    "    \"providerPid\": transfer_provider_id,\n",
    "    \"consumerPid\": transfer_consumer_id,\n",
    "}\n",
    "response = requests.request(\"POST\", url, headers=json_header, data=json.dumps(payload))\n",
    "response_as_json = response.json()\n",
    "print(json.dumps(response_as_json, indent=2))"
   ],
   "id": "4b0a3076674ace5f",
   "outputs": [],
   "execution_count": null
  },
  {
   "metadata": {},
   "cell_type": "code",
   "source": [
    "url = data_space_provider + \"/api/v1/transfers/rpc/setup-completion\"\n",
    "payload = {\n",
    "    \"consumerCallbackAddress\": callback_address,\n",
    "    \"providerPid\": transfer_provider_id,\n",
    "    \"consumerPid\": transfer_consumer_id,\n",
    "}\n",
    "response = requests.request(\"POST\", url, headers=json_header, data=json.dumps(payload))\n",
    "response_as_json = response.json()\n",
    "print(json.dumps(response_as_json, indent=2))"
   ],
   "id": "a3bf1f3c1beb4e3",
   "outputs": [],
   "execution_count": null
  },
  {
   "metadata": {},
   "cell_type": "code",
   "source": "",
   "id": "b0228ad8522b7a49",
   "outputs": [],
   "execution_count": null
  }
 ],
 "metadata": {
  "kernelspec": {
   "name": "python3",
   "language": "python",
   "display_name": "Python 3 (ipykernel)"
  }
 },
 "nbformat": 5,
 "nbformat_minor": 9
}

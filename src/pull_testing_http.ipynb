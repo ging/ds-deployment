{
 "cells": [
  {
   "metadata": {
    "ExecuteTime": {
     "end_time": "2024-12-02T14:24:37.101171Z",
     "start_time": "2024-12-02T14:24:36.968704Z"
    }
   },
   "cell_type": "code",
   "source": [
    "from operator import index\n",
    "!which python"
   ],
   "id": "f5eb35243a90b60f",
   "outputs": [
    {
     "name": "stdout",
     "output_type": "stream",
     "text": [
      "/Users/apabook/Desktop/ds-deployment/.venv/bin/python\r\n"
     ]
    }
   ],
   "execution_count": 1
  },
  {
   "metadata": {
    "collapsed": true,
    "ExecuteTime": {
     "end_time": "2024-12-02T14:24:37.527274Z",
     "start_time": "2024-12-02T14:24:37.105950Z"
    }
   },
   "cell_type": "code",
   "source": [
    "import pandas as pd\n",
    "import requests\n",
    "import json\n",
    "import pprint\n"
   ],
   "id": "initial_id",
   "outputs": [
    {
     "name": "stderr",
     "output_type": "stream",
     "text": [
      "/Users/apabook/Desktop/ds-deployment/.venv/lib/python3.9/site-packages/urllib3/__init__.py:35: NotOpenSSLWarning: urllib3 v2 only supports OpenSSL 1.1.1+, currently the 'ssl' module is compiled with 'LibreSSL 2.8.3'. See: https://github.com/urllib3/urllib3/issues/3020\n",
      "  warnings.warn(\n"
     ]
    }
   ],
   "execution_count": 2
  },
  {
   "metadata": {},
   "cell_type": "markdown",
   "source": [
    "# Testing HL Api for PULL transfer\n",
    "\n",
    "---"
   ],
   "id": "d606bf0c35b91005"
  },
  {
   "metadata": {},
   "cell_type": "markdown",
   "source": "## Consts",
   "id": "249fc7af32f10612"
  },
  {
   "metadata": {
    "ExecuteTime": {
     "end_time": "2024-12-02T14:24:53.216518Z",
     "start_time": "2024-12-02T14:24:53.211156Z"
    }
   },
   "cell_type": "code",
   "source": [
    "data_space_provider = \"http://127.0.0.1:1234\"\n",
    "data_space_consumer = \"http://127.0.0.1:1235\"\n",
    "api_test = \"http://api-test:3000\"\n",
    "\n",
    "\n",
    "catalog_id = \"\"\n",
    "dataservice_id = \"\"\n",
    "agreement_id = \"\"\n",
    "agreement_pid = \"\""
   ],
   "id": "4230628fecab09a1",
   "outputs": [],
   "execution_count": 4
  },
  {
   "metadata": {},
   "cell_type": "markdown",
   "source": "## Setup Catalog, Dataservice and agreements",
   "id": "a128721267853968"
  },
  {
   "metadata": {
    "ExecuteTime": {
     "end_time": "2024-12-02T14:24:53.938543Z",
     "start_time": "2024-12-02T14:24:53.900228Z"
    }
   },
   "cell_type": "code",
   "source": [
    "payload = {\n",
    "    \"foaf:homepage\": \"My catalog in Dataspace provider\",\n",
    "    \"dct:title\": \"My catalog in Dataspace provider\"\n",
    "}\n",
    "headers = {\n",
    "    \"Content-Type\": \"application/json\",\n",
    "}\n",
    "url = data_space_provider + \"/api/v1/catalogs\"\n",
    "response = requests.request(\"POST\", url, headers=headers, data=json.dumps(payload))\n",
    "response_as_json = response.json()\n",
    "catalog_id = response_as_json[\"@id\"]\n",
    "\n",
    "pprint.pprint(response.json())"
   ],
   "id": "2fabc6eafbe80045",
   "outputs": [
    {
     "name": "stdout",
     "output_type": "stream",
     "text": [
      "{'@context': 'https://w3id.org/dspace/2024/1/context.json',\n",
      " '@id': '11091a69-c681-4940-ae6d-6831dee4da2c',\n",
      " '@type': 'dcat:Catalog',\n",
      " 'dcat:dataset': [],\n",
      " 'dcat:keyword': '',\n",
      " 'dcat:service': [],\n",
      " 'dcat:theme': '',\n",
      " 'dct:conformsTo': None,\n",
      " 'dct:creator': None,\n",
      " 'dct:description': [],\n",
      " 'dct:identifier': '11091a69-c681-4940-ae6d-6831dee4da2c',\n",
      " 'dct:issued': '2024-12-02T14:24:53.922615',\n",
      " 'dct:modified': None,\n",
      " 'dct:title': 'My catalog in Dataspace provider',\n",
      " 'dspace:extraFields': None,\n",
      " 'dspace:participantId': None,\n",
      " 'foaf:homepage': 'My catalog in Dataspace provider',\n",
      " 'odrl:hasPolicy': None}\n"
     ]
    }
   ],
   "execution_count": 5
  },
  {
   "metadata": {
    "ExecuteTime": {
     "end_time": "2024-12-02T14:24:54.911464Z",
     "start_time": "2024-12-02T14:24:54.883090Z"
    }
   },
   "cell_type": "code",
   "source": [
    "payload = {\n",
    "    \"dcat:endpointURL\": api_test\n",
    "}\n",
    "headers = {\n",
    "    \"Content-Type\": \"application/json\",\n",
    "}\n",
    "url = data_space_provider + \"/api/v1/catalogs/\" + catalog_id + \"/data-services\"\n",
    "response = requests.request(\"POST\", url, headers=headers, data=json.dumps(payload))\n",
    "response_as_json = response.json()\n",
    "dataservice_id = response_as_json[\"@id\"]\n",
    "\n",
    "pprint.pprint(response.json())"
   ],
   "id": "5bb00d1a6e7ae7fe",
   "outputs": [
    {
     "name": "stdout",
     "output_type": "stream",
     "text": [
      "{'@context': 'https://w3id.org/dspace/2024/1/context.json',\n",
      " '@id': '4be51801-e948-475e-8573-132910f2b3c8',\n",
      " '@type': 'dcat:DataService',\n",
      " 'dcat:endpointDescription': '',\n",
      " 'dcat:endpointURL': 'http://api-test:3000',\n",
      " 'dcat:keyword': '',\n",
      " 'dcat:theme': '',\n",
      " 'dct:conformsTo': None,\n",
      " 'dct:creator': None,\n",
      " 'dct:description': [],\n",
      " 'dct:identifier': '4be51801-e948-475e-8573-132910f2b3c8',\n",
      " 'dct:issued': '2024-12-02T14:24:54.893423',\n",
      " 'dct:modified': None,\n",
      " 'dct:title': None,\n",
      " 'dspace:extraFields': None,\n",
      " 'odrl:hasPolicy': None}\n"
     ]
    }
   ],
   "execution_count": 6
  },
  {
   "metadata": {
    "ExecuteTime": {
     "end_time": "2024-12-02T14:24:55.718092Z",
     "start_time": "2024-12-02T14:24:55.687922Z"
    }
   },
   "cell_type": "code",
   "source": [
    "payload = {\n",
    "    \"dataServiceId\": dataservice_id\n",
    "}\n",
    "headers = {\n",
    "    \"Content-Type\": \"application/json\",\n",
    "}\n",
    "url = data_space_provider + \"/api/v1/agreements\"\n",
    "response = requests.request(\"POST\", url, headers=headers, data=json.dumps(payload))\n",
    "response_as_json = response.json()\n",
    "agreement_id = response_as_json[\"agreement_id\"]\n",
    "agreement_pid = \"urn:uuid:\" + agreement_id\n",
    "\n",
    "pprint.pprint(response.json())"
   ],
   "id": "8195a5dbe52064ed",
   "outputs": [
    {
     "name": "stdout",
     "output_type": "stream",
     "text": [
      "{'agreement_id': 'a2cfe271-35c2-4920-87cf-52ef35529149',\n",
      " 'data_service_id': '4be51801-e948-475e-8573-132910f2b3c8',\n",
      " 'identity': None,\n",
      " 'identity_token': None}\n"
     ]
    }
   ],
   "execution_count": 7
  },
  {
   "metadata": {},
   "cell_type": "markdown",
   "source": "## Setup transfer",
   "id": "f4525c74cc0623aa"
  },
  {
   "metadata": {
    "ExecuteTime": {
     "end_time": "2024-12-02T14:24:57.026254Z",
     "start_time": "2024-12-02T14:24:56.995543Z"
    }
   },
   "cell_type": "code",
   "source": [
    "url = data_space_consumer + \"/api/v1/setup-transfer\"\n",
    "\n",
    "payload = \"\"\n",
    "headers = {}\n",
    "response = requests.request(\"POST\", url, headers=headers, data=payload)\n",
    "callbackAddress = response.json()[\"callbackAddress\"]\n",
    "callbackId = response.json()[\"callbackId\"]\n",
    "consumerPid = response.json()[\"consumerPid\"]\n",
    "\n",
    "pprint.pprint(response.json())"
   ],
   "id": "9bbec26ab424add2",
   "outputs": [
    {
     "name": "stdout",
     "output_type": "stream",
     "text": [
      "{'callbackAddress': 'http://ds-consumer:1235/6751f580-61f9-4faf-8939-a516965a5d44',\n",
      " 'callbackId': '6751f580-61f9-4faf-8939-a516965a5d44',\n",
      " 'consumerPid': 'urn:uuid:c83d7539-89ad-4e4d-8cdc-2608f1e2d7b1'}\n"
     ]
    }
   ],
   "execution_count": 8
  },
  {
   "metadata": {},
   "cell_type": "markdown",
   "source": "## Request transfer",
   "id": "18541388a3b2edfd"
  },
  {
   "metadata": {
    "ExecuteTime": {
     "end_time": "2024-12-02T14:24:57.847041Z",
     "start_time": "2024-12-02T14:24:57.786743Z"
    }
   },
   "cell_type": "code",
   "source": [
    "url = data_space_consumer + \"/api/v1/request-transfer\"\n",
    "\n",
    "payload = json.dumps({\n",
    "  \"agreementId\": agreement_pid,\n",
    "  \"format\": \"http+pull\",\n",
    "  \"dataAddress\": None,\n",
    "  \"callbackAddress\": callbackAddress,\n",
    "  \"callbackId\": callbackId,\n",
    "  \"consumerPid\": consumerPid\n",
    "})\n",
    "headers = {\n",
    "  'Content-Type': 'application/json'\n",
    "}\n",
    "\n",
    "response = requests.request(\"POST\", url, headers=headers, data=payload)\n",
    "\n",
    "pprint.pprint(response.json())\n"
   ],
   "id": "b77d3288a12ce247",
   "outputs": [
    {
     "name": "stdout",
     "output_type": "stream",
     "text": [
      "{'consumerPid': 'urn:uuid:c83d7539-89ad-4e4d-8cdc-2608f1e2d7b1',\n",
      " 'transferProcess': {'@context': 'https://w3id.org/dspace/2024/1/context.json',\n",
      "                     '@type': 'dspace:TransferProcess',\n",
      "                     'dspace:consumerPid': 'urn:uuid:c83d7539-89ad-4e4d-8cdc-2608f1e2d7b1',\n",
      "                     'dspace:providerPid': 'urn:uuid:b7e571b6-40fa-42b5-96fd-905192d824fe',\n",
      "                     'dspace:state': 'dspace:REQUESTED'}}\n"
     ]
    }
   ],
   "execution_count": 9
  },
  {
   "metadata": {},
   "cell_type": "markdown",
   "source": "## Get data address",
   "id": "5ca135934c9a070a"
  },
  {
   "metadata": {
    "ExecuteTime": {
     "end_time": "2024-12-02T14:24:58.756550Z",
     "start_time": "2024-12-02T14:24:58.730595Z"
    }
   },
   "cell_type": "code",
   "source": [
    "import requests\n",
    "\n",
    "consumerPidUuid = consumerPid.replace(\"urn:uuid:\", \"\")\n",
    "url = data_space_consumer + \"/api/v1/data-address/\" + consumerPidUuid\n",
    "\n",
    "payload = \"\"\n",
    "headers = {\n",
    "  'Content-Type': 'application/json'\n",
    "}\n",
    "\n",
    "response = requests.request(\"GET\", url, headers=headers, data=payload)\n",
    "dataPlaneAddress = response.json()[\"dataPlaneAddress\"]\n",
    "\n",
    "pprint.pprint(response.json())"
   ],
   "id": "8f0f2510703d48e9",
   "outputs": [
    {
     "name": "stdout",
     "output_type": "stream",
     "text": [
      "{'dataPlaneAddress': 'http://ds-consumer:1235/6751f580-61f9-4faf-8939-a516965a5d44/data/pull/c83d7539-89ad-4e4d-8cdc-2608f1e2d7b1'}\n"
     ]
    }
   ],
   "execution_count": 10
  },
  {
   "metadata": {},
   "cell_type": "markdown",
   "source": "## Use data address to get data from data space",
   "id": "e4ba7f46bbe9d31e"
  },
  {
   "metadata": {
    "ExecuteTime": {
     "end_time": "2024-12-02T14:25:00.512838Z",
     "start_time": "2024-12-02T14:25:00.410757Z"
    }
   },
   "cell_type": "code",
   "source": [
    "url = dataPlaneAddress\n",
    "url = url.replace(\"ds-consumer\", \"127.0.0.1\")\n",
    "df = pd.read_json(url + \"/comments\")\n",
    "df"
   ],
   "id": "a40e846eb1e02cf8",
   "outputs": [
    {
     "data": {
      "text/plain": [
       "     postId   id                                               name  \\\n",
       "0         1    1                       id labore ex et quam laborum   \n",
       "1         1    2          quo vero reiciendis velit similique earum   \n",
       "2         1    3                      odio adipisci rerum aut animi   \n",
       "3         1    4                                     alias odio sit   \n",
       "4         1    5              vero eaque aliquid doloribus et culpa   \n",
       "..      ...  ...                                                ...   \n",
       "495     100  496  et occaecati asperiores quas voluptas ipsam no...   \n",
       "496     100  497             doloribus dolores ut dolores occaecati   \n",
       "497     100  498                           dolores minus aut libero   \n",
       "498     100  499  excepturi sunt cum a et rerum quo voluptatibus...   \n",
       "499     100  500                                 ex eaque eum natus   \n",
       "\n",
       "                            email  \\\n",
       "0              Eliseo@gardner.biz   \n",
       "1          Jayne_Kuhic@sydney.com   \n",
       "2             Nikita@garfield.biz   \n",
       "3                   Lew@alysha.tv   \n",
       "4               Hayden@althea.biz   \n",
       "..                            ...   \n",
       "495               Zola@lizzie.com   \n",
       "496             Dolly@mandy.co.uk   \n",
       "497             Davion@eldora.net   \n",
       "498  Wilburn_Labadie@araceli.name   \n",
       "499                Emma@joanny.ca   \n",
       "\n",
       "                                                  body  \n",
       "0    laudantium enim quasi est quidem magnam volupt...  \n",
       "1    est natus enim nihil est dolore omnis voluptat...  \n",
       "2    quia molestiae reprehenderit quasi aspernatur\\...  \n",
       "3    non et atque\\noccaecati deserunt quas accusant...  \n",
       "4    harum non quasi et ratione\\ntempore iure ex vo...  \n",
       "..                                                 ...  \n",
       "495  neque unde voluptatem iure\\nodio excepturi ips...  \n",
       "496  non dolor consequatur\\nlaboriosam ut deserunt ...  \n",
       "497  aliquam pariatur suscipit fugiat eos sunt\\nopt...  \n",
       "498  et necessitatibus tempora ipsum quaerat invent...  \n",
       "499  perspiciatis quis doloremque\\nveniam nisi eos ...  \n",
       "\n",
       "[500 rows x 5 columns]"
      ],
      "text/html": [
       "<div>\n",
       "<style scoped>\n",
       "    .dataframe tbody tr th:only-of-type {\n",
       "        vertical-align: middle;\n",
       "    }\n",
       "\n",
       "    .dataframe tbody tr th {\n",
       "        vertical-align: top;\n",
       "    }\n",
       "\n",
       "    .dataframe thead th {\n",
       "        text-align: right;\n",
       "    }\n",
       "</style>\n",
       "<table border=\"1\" class=\"dataframe\">\n",
       "  <thead>\n",
       "    <tr style=\"text-align: right;\">\n",
       "      <th></th>\n",
       "      <th>postId</th>\n",
       "      <th>id</th>\n",
       "      <th>name</th>\n",
       "      <th>email</th>\n",
       "      <th>body</th>\n",
       "    </tr>\n",
       "  </thead>\n",
       "  <tbody>\n",
       "    <tr>\n",
       "      <th>0</th>\n",
       "      <td>1</td>\n",
       "      <td>1</td>\n",
       "      <td>id labore ex et quam laborum</td>\n",
       "      <td>Eliseo@gardner.biz</td>\n",
       "      <td>laudantium enim quasi est quidem magnam volupt...</td>\n",
       "    </tr>\n",
       "    <tr>\n",
       "      <th>1</th>\n",
       "      <td>1</td>\n",
       "      <td>2</td>\n",
       "      <td>quo vero reiciendis velit similique earum</td>\n",
       "      <td>Jayne_Kuhic@sydney.com</td>\n",
       "      <td>est natus enim nihil est dolore omnis voluptat...</td>\n",
       "    </tr>\n",
       "    <tr>\n",
       "      <th>2</th>\n",
       "      <td>1</td>\n",
       "      <td>3</td>\n",
       "      <td>odio adipisci rerum aut animi</td>\n",
       "      <td>Nikita@garfield.biz</td>\n",
       "      <td>quia molestiae reprehenderit quasi aspernatur\\...</td>\n",
       "    </tr>\n",
       "    <tr>\n",
       "      <th>3</th>\n",
       "      <td>1</td>\n",
       "      <td>4</td>\n",
       "      <td>alias odio sit</td>\n",
       "      <td>Lew@alysha.tv</td>\n",
       "      <td>non et atque\\noccaecati deserunt quas accusant...</td>\n",
       "    </tr>\n",
       "    <tr>\n",
       "      <th>4</th>\n",
       "      <td>1</td>\n",
       "      <td>5</td>\n",
       "      <td>vero eaque aliquid doloribus et culpa</td>\n",
       "      <td>Hayden@althea.biz</td>\n",
       "      <td>harum non quasi et ratione\\ntempore iure ex vo...</td>\n",
       "    </tr>\n",
       "    <tr>\n",
       "      <th>...</th>\n",
       "      <td>...</td>\n",
       "      <td>...</td>\n",
       "      <td>...</td>\n",
       "      <td>...</td>\n",
       "      <td>...</td>\n",
       "    </tr>\n",
       "    <tr>\n",
       "      <th>495</th>\n",
       "      <td>100</td>\n",
       "      <td>496</td>\n",
       "      <td>et occaecati asperiores quas voluptas ipsam no...</td>\n",
       "      <td>Zola@lizzie.com</td>\n",
       "      <td>neque unde voluptatem iure\\nodio excepturi ips...</td>\n",
       "    </tr>\n",
       "    <tr>\n",
       "      <th>496</th>\n",
       "      <td>100</td>\n",
       "      <td>497</td>\n",
       "      <td>doloribus dolores ut dolores occaecati</td>\n",
       "      <td>Dolly@mandy.co.uk</td>\n",
       "      <td>non dolor consequatur\\nlaboriosam ut deserunt ...</td>\n",
       "    </tr>\n",
       "    <tr>\n",
       "      <th>497</th>\n",
       "      <td>100</td>\n",
       "      <td>498</td>\n",
       "      <td>dolores minus aut libero</td>\n",
       "      <td>Davion@eldora.net</td>\n",
       "      <td>aliquam pariatur suscipit fugiat eos sunt\\nopt...</td>\n",
       "    </tr>\n",
       "    <tr>\n",
       "      <th>498</th>\n",
       "      <td>100</td>\n",
       "      <td>499</td>\n",
       "      <td>excepturi sunt cum a et rerum quo voluptatibus...</td>\n",
       "      <td>Wilburn_Labadie@araceli.name</td>\n",
       "      <td>et necessitatibus tempora ipsum quaerat invent...</td>\n",
       "    </tr>\n",
       "    <tr>\n",
       "      <th>499</th>\n",
       "      <td>100</td>\n",
       "      <td>500</td>\n",
       "      <td>ex eaque eum natus</td>\n",
       "      <td>Emma@joanny.ca</td>\n",
       "      <td>perspiciatis quis doloremque\\nveniam nisi eos ...</td>\n",
       "    </tr>\n",
       "  </tbody>\n",
       "</table>\n",
       "<p>500 rows × 5 columns</p>\n",
       "</div>"
      ]
     },
     "execution_count": 11,
     "metadata": {},
     "output_type": "execute_result"
    }
   ],
   "execution_count": 11
  },
  {
   "metadata": {},
   "cell_type": "markdown",
   "source": "## Suspend transfer",
   "id": "8cd90897a001831e"
  },
  {
   "metadata": {
    "ExecuteTime": {
     "end_time": "2024-12-02T14:25:04.257033Z",
     "start_time": "2024-12-02T14:25:04.195319Z"
    }
   },
   "cell_type": "code",
   "source": [
    "url = data_space_consumer + \"/api/v1/suspend-transfer\"\n",
    "\n",
    "payload = json.dumps({\n",
    "  \"consumerPid\": consumerPid\n",
    "})\n",
    "headers = {\n",
    "  'Content-Type': 'application/json'\n",
    "}\n",
    "\n",
    "response = requests.request(\"POST\", url, headers=headers, data=payload)\n",
    "\n",
    "pprint.pprint(response.json())"
   ],
   "id": "81a20f6fad26c983",
   "outputs": [
    {
     "name": "stdout",
     "output_type": "stream",
     "text": [
      "{'consumerPid': 'urn:uuid:c83d7539-89ad-4e4d-8cdc-2608f1e2d7b1',\n",
      " 'transferProcess': {'@context': 'https://w3id.org/dspace/2024/1/context.json',\n",
      "                     '@type': 'dspace:TransferProcess',\n",
      "                     'dspace:consumerPid': 'urn:uuid:c83d7539-89ad-4e4d-8cdc-2608f1e2d7b1',\n",
      "                     'dspace:providerPid': 'urn:uuid:b7e571b6-40fa-42b5-96fd-905192d824fe',\n",
      "                     'dspace:state': 'dspace:SUSPENDED'}}\n"
     ]
    }
   ],
   "execution_count": 12
  },
  {
   "metadata": {},
   "cell_type": "markdown",
   "source": [
    "## Test data access has been suspended\n",
    "\n",
    "**Disclaimer**: Data shouldn't appear. But for this deployment does appear because an internal refactor we're facing.\n",
    "In a couple of days this functionality will work like is expected."
   ],
   "id": "5dbfb9a2eedf5a3d"
  },
  {
   "metadata": {
    "ExecuteTime": {
     "end_time": "2024-12-02T14:25:05.985816Z",
     "start_time": "2024-12-02T14:25:05.468304Z"
    }
   },
   "cell_type": "code",
   "source": [
    "url = dataPlaneAddress\n",
    "url = url.replace(\"ds-consumer\", \"127.0.0.1\")\n",
    "df = pd.read_json(url + \"/comments\")\n",
    "df"
   ],
   "id": "c54bfeffc520e761",
   "outputs": [
    {
     "ename": "HTTPError",
     "evalue": "HTTP Error 400: Bad Request",
     "output_type": "error",
     "traceback": [
      "\u001B[0;31m---------------------------------------------------------------------------\u001B[0m",
      "\u001B[0;31mHTTPError\u001B[0m                                 Traceback (most recent call last)",
      "Cell \u001B[0;32mIn[13], line 3\u001B[0m\n\u001B[1;32m      1\u001B[0m url \u001B[38;5;241m=\u001B[39m dataPlaneAddress\n\u001B[1;32m      2\u001B[0m url \u001B[38;5;241m=\u001B[39m url\u001B[38;5;241m.\u001B[39mreplace(\u001B[38;5;124m\"\u001B[39m\u001B[38;5;124mds-consumer\u001B[39m\u001B[38;5;124m\"\u001B[39m, \u001B[38;5;124m\"\u001B[39m\u001B[38;5;124m127.0.0.1\u001B[39m\u001B[38;5;124m\"\u001B[39m)\n\u001B[0;32m----> 3\u001B[0m df \u001B[38;5;241m=\u001B[39m \u001B[43mpd\u001B[49m\u001B[38;5;241;43m.\u001B[39;49m\u001B[43mread_json\u001B[49m\u001B[43m(\u001B[49m\u001B[43murl\u001B[49m\u001B[43m \u001B[49m\u001B[38;5;241;43m+\u001B[39;49m\u001B[43m \u001B[49m\u001B[38;5;124;43m\"\u001B[39;49m\u001B[38;5;124;43m/comments\u001B[39;49m\u001B[38;5;124;43m\"\u001B[39;49m\u001B[43m)\u001B[49m\n\u001B[1;32m      4\u001B[0m df\n",
      "File \u001B[0;32m~/Desktop/ds-deployment/.venv/lib/python3.9/site-packages/pandas/io/json/_json.py:791\u001B[0m, in \u001B[0;36mread_json\u001B[0;34m(path_or_buf, orient, typ, dtype, convert_axes, convert_dates, keep_default_dates, precise_float, date_unit, encoding, encoding_errors, lines, chunksize, compression, nrows, storage_options, dtype_backend, engine)\u001B[0m\n\u001B[1;32m    788\u001B[0m \u001B[38;5;28;01mif\u001B[39;00m convert_axes \u001B[38;5;129;01mis\u001B[39;00m \u001B[38;5;28;01mNone\u001B[39;00m \u001B[38;5;129;01mand\u001B[39;00m orient \u001B[38;5;241m!=\u001B[39m \u001B[38;5;124m\"\u001B[39m\u001B[38;5;124mtable\u001B[39m\u001B[38;5;124m\"\u001B[39m:\n\u001B[1;32m    789\u001B[0m     convert_axes \u001B[38;5;241m=\u001B[39m \u001B[38;5;28;01mTrue\u001B[39;00m\n\u001B[0;32m--> 791\u001B[0m json_reader \u001B[38;5;241m=\u001B[39m \u001B[43mJsonReader\u001B[49m\u001B[43m(\u001B[49m\n\u001B[1;32m    792\u001B[0m \u001B[43m    \u001B[49m\u001B[43mpath_or_buf\u001B[49m\u001B[43m,\u001B[49m\n\u001B[1;32m    793\u001B[0m \u001B[43m    \u001B[49m\u001B[43morient\u001B[49m\u001B[38;5;241;43m=\u001B[39;49m\u001B[43morient\u001B[49m\u001B[43m,\u001B[49m\n\u001B[1;32m    794\u001B[0m \u001B[43m    \u001B[49m\u001B[43mtyp\u001B[49m\u001B[38;5;241;43m=\u001B[39;49m\u001B[43mtyp\u001B[49m\u001B[43m,\u001B[49m\n\u001B[1;32m    795\u001B[0m \u001B[43m    \u001B[49m\u001B[43mdtype\u001B[49m\u001B[38;5;241;43m=\u001B[39;49m\u001B[43mdtype\u001B[49m\u001B[43m,\u001B[49m\n\u001B[1;32m    796\u001B[0m \u001B[43m    \u001B[49m\u001B[43mconvert_axes\u001B[49m\u001B[38;5;241;43m=\u001B[39;49m\u001B[43mconvert_axes\u001B[49m\u001B[43m,\u001B[49m\n\u001B[1;32m    797\u001B[0m \u001B[43m    \u001B[49m\u001B[43mconvert_dates\u001B[49m\u001B[38;5;241;43m=\u001B[39;49m\u001B[43mconvert_dates\u001B[49m\u001B[43m,\u001B[49m\n\u001B[1;32m    798\u001B[0m \u001B[43m    \u001B[49m\u001B[43mkeep_default_dates\u001B[49m\u001B[38;5;241;43m=\u001B[39;49m\u001B[43mkeep_default_dates\u001B[49m\u001B[43m,\u001B[49m\n\u001B[1;32m    799\u001B[0m \u001B[43m    \u001B[49m\u001B[43mprecise_float\u001B[49m\u001B[38;5;241;43m=\u001B[39;49m\u001B[43mprecise_float\u001B[49m\u001B[43m,\u001B[49m\n\u001B[1;32m    800\u001B[0m \u001B[43m    \u001B[49m\u001B[43mdate_unit\u001B[49m\u001B[38;5;241;43m=\u001B[39;49m\u001B[43mdate_unit\u001B[49m\u001B[43m,\u001B[49m\n\u001B[1;32m    801\u001B[0m \u001B[43m    \u001B[49m\u001B[43mencoding\u001B[49m\u001B[38;5;241;43m=\u001B[39;49m\u001B[43mencoding\u001B[49m\u001B[43m,\u001B[49m\n\u001B[1;32m    802\u001B[0m \u001B[43m    \u001B[49m\u001B[43mlines\u001B[49m\u001B[38;5;241;43m=\u001B[39;49m\u001B[43mlines\u001B[49m\u001B[43m,\u001B[49m\n\u001B[1;32m    803\u001B[0m \u001B[43m    \u001B[49m\u001B[43mchunksize\u001B[49m\u001B[38;5;241;43m=\u001B[39;49m\u001B[43mchunksize\u001B[49m\u001B[43m,\u001B[49m\n\u001B[1;32m    804\u001B[0m \u001B[43m    \u001B[49m\u001B[43mcompression\u001B[49m\u001B[38;5;241;43m=\u001B[39;49m\u001B[43mcompression\u001B[49m\u001B[43m,\u001B[49m\n\u001B[1;32m    805\u001B[0m \u001B[43m    \u001B[49m\u001B[43mnrows\u001B[49m\u001B[38;5;241;43m=\u001B[39;49m\u001B[43mnrows\u001B[49m\u001B[43m,\u001B[49m\n\u001B[1;32m    806\u001B[0m \u001B[43m    \u001B[49m\u001B[43mstorage_options\u001B[49m\u001B[38;5;241;43m=\u001B[39;49m\u001B[43mstorage_options\u001B[49m\u001B[43m,\u001B[49m\n\u001B[1;32m    807\u001B[0m \u001B[43m    \u001B[49m\u001B[43mencoding_errors\u001B[49m\u001B[38;5;241;43m=\u001B[39;49m\u001B[43mencoding_errors\u001B[49m\u001B[43m,\u001B[49m\n\u001B[1;32m    808\u001B[0m \u001B[43m    \u001B[49m\u001B[43mdtype_backend\u001B[49m\u001B[38;5;241;43m=\u001B[39;49m\u001B[43mdtype_backend\u001B[49m\u001B[43m,\u001B[49m\n\u001B[1;32m    809\u001B[0m \u001B[43m    \u001B[49m\u001B[43mengine\u001B[49m\u001B[38;5;241;43m=\u001B[39;49m\u001B[43mengine\u001B[49m\u001B[43m,\u001B[49m\n\u001B[1;32m    810\u001B[0m \u001B[43m\u001B[49m\u001B[43m)\u001B[49m\n\u001B[1;32m    812\u001B[0m \u001B[38;5;28;01mif\u001B[39;00m chunksize:\n\u001B[1;32m    813\u001B[0m     \u001B[38;5;28;01mreturn\u001B[39;00m json_reader\n",
      "File \u001B[0;32m~/Desktop/ds-deployment/.venv/lib/python3.9/site-packages/pandas/io/json/_json.py:904\u001B[0m, in \u001B[0;36mJsonReader.__init__\u001B[0;34m(self, filepath_or_buffer, orient, typ, dtype, convert_axes, convert_dates, keep_default_dates, precise_float, date_unit, encoding, lines, chunksize, compression, nrows, storage_options, encoding_errors, dtype_backend, engine)\u001B[0m\n\u001B[1;32m    902\u001B[0m     \u001B[38;5;28mself\u001B[39m\u001B[38;5;241m.\u001B[39mdata \u001B[38;5;241m=\u001B[39m filepath_or_buffer\n\u001B[1;32m    903\u001B[0m \u001B[38;5;28;01melif\u001B[39;00m \u001B[38;5;28mself\u001B[39m\u001B[38;5;241m.\u001B[39mengine \u001B[38;5;241m==\u001B[39m \u001B[38;5;124m\"\u001B[39m\u001B[38;5;124mujson\u001B[39m\u001B[38;5;124m\"\u001B[39m:\n\u001B[0;32m--> 904\u001B[0m     data \u001B[38;5;241m=\u001B[39m \u001B[38;5;28;43mself\u001B[39;49m\u001B[38;5;241;43m.\u001B[39;49m\u001B[43m_get_data_from_filepath\u001B[49m\u001B[43m(\u001B[49m\u001B[43mfilepath_or_buffer\u001B[49m\u001B[43m)\u001B[49m\n\u001B[1;32m    905\u001B[0m     \u001B[38;5;28mself\u001B[39m\u001B[38;5;241m.\u001B[39mdata \u001B[38;5;241m=\u001B[39m \u001B[38;5;28mself\u001B[39m\u001B[38;5;241m.\u001B[39m_preprocess_data(data)\n",
      "File \u001B[0;32m~/Desktop/ds-deployment/.venv/lib/python3.9/site-packages/pandas/io/json/_json.py:944\u001B[0m, in \u001B[0;36mJsonReader._get_data_from_filepath\u001B[0;34m(self, filepath_or_buffer)\u001B[0m\n\u001B[1;32m    937\u001B[0m filepath_or_buffer \u001B[38;5;241m=\u001B[39m stringify_path(filepath_or_buffer)\n\u001B[1;32m    938\u001B[0m \u001B[38;5;28;01mif\u001B[39;00m (\n\u001B[1;32m    939\u001B[0m     \u001B[38;5;129;01mnot\u001B[39;00m \u001B[38;5;28misinstance\u001B[39m(filepath_or_buffer, \u001B[38;5;28mstr\u001B[39m)\n\u001B[1;32m    940\u001B[0m     \u001B[38;5;129;01mor\u001B[39;00m is_url(filepath_or_buffer)\n\u001B[1;32m    941\u001B[0m     \u001B[38;5;129;01mor\u001B[39;00m is_fsspec_url(filepath_or_buffer)\n\u001B[1;32m    942\u001B[0m     \u001B[38;5;129;01mor\u001B[39;00m file_exists(filepath_or_buffer)\n\u001B[1;32m    943\u001B[0m ):\n\u001B[0;32m--> 944\u001B[0m     \u001B[38;5;28mself\u001B[39m\u001B[38;5;241m.\u001B[39mhandles \u001B[38;5;241m=\u001B[39m \u001B[43mget_handle\u001B[49m\u001B[43m(\u001B[49m\n\u001B[1;32m    945\u001B[0m \u001B[43m        \u001B[49m\u001B[43mfilepath_or_buffer\u001B[49m\u001B[43m,\u001B[49m\n\u001B[1;32m    946\u001B[0m \u001B[43m        \u001B[49m\u001B[38;5;124;43m\"\u001B[39;49m\u001B[38;5;124;43mr\u001B[39;49m\u001B[38;5;124;43m\"\u001B[39;49m\u001B[43m,\u001B[49m\n\u001B[1;32m    947\u001B[0m \u001B[43m        \u001B[49m\u001B[43mencoding\u001B[49m\u001B[38;5;241;43m=\u001B[39;49m\u001B[38;5;28;43mself\u001B[39;49m\u001B[38;5;241;43m.\u001B[39;49m\u001B[43mencoding\u001B[49m\u001B[43m,\u001B[49m\n\u001B[1;32m    948\u001B[0m \u001B[43m        \u001B[49m\u001B[43mcompression\u001B[49m\u001B[38;5;241;43m=\u001B[39;49m\u001B[38;5;28;43mself\u001B[39;49m\u001B[38;5;241;43m.\u001B[39;49m\u001B[43mcompression\u001B[49m\u001B[43m,\u001B[49m\n\u001B[1;32m    949\u001B[0m \u001B[43m        \u001B[49m\u001B[43mstorage_options\u001B[49m\u001B[38;5;241;43m=\u001B[39;49m\u001B[38;5;28;43mself\u001B[39;49m\u001B[38;5;241;43m.\u001B[39;49m\u001B[43mstorage_options\u001B[49m\u001B[43m,\u001B[49m\n\u001B[1;32m    950\u001B[0m \u001B[43m        \u001B[49m\u001B[43merrors\u001B[49m\u001B[38;5;241;43m=\u001B[39;49m\u001B[38;5;28;43mself\u001B[39;49m\u001B[38;5;241;43m.\u001B[39;49m\u001B[43mencoding_errors\u001B[49m\u001B[43m,\u001B[49m\n\u001B[1;32m    951\u001B[0m \u001B[43m    \u001B[49m\u001B[43m)\u001B[49m\n\u001B[1;32m    952\u001B[0m     filepath_or_buffer \u001B[38;5;241m=\u001B[39m \u001B[38;5;28mself\u001B[39m\u001B[38;5;241m.\u001B[39mhandles\u001B[38;5;241m.\u001B[39mhandle\n\u001B[1;32m    953\u001B[0m \u001B[38;5;28;01melif\u001B[39;00m (\n\u001B[1;32m    954\u001B[0m     \u001B[38;5;28misinstance\u001B[39m(filepath_or_buffer, \u001B[38;5;28mstr\u001B[39m)\n\u001B[1;32m    955\u001B[0m     \u001B[38;5;129;01mand\u001B[39;00m filepath_or_buffer\u001B[38;5;241m.\u001B[39mlower()\u001B[38;5;241m.\u001B[39mendswith(\n\u001B[0;32m   (...)\u001B[0m\n\u001B[1;32m    958\u001B[0m     \u001B[38;5;129;01mand\u001B[39;00m \u001B[38;5;129;01mnot\u001B[39;00m file_exists(filepath_or_buffer)\n\u001B[1;32m    959\u001B[0m ):\n",
      "File \u001B[0;32m~/Desktop/ds-deployment/.venv/lib/python3.9/site-packages/pandas/io/common.py:728\u001B[0m, in \u001B[0;36mget_handle\u001B[0;34m(path_or_buf, mode, encoding, compression, memory_map, is_text, errors, storage_options)\u001B[0m\n\u001B[1;32m    725\u001B[0m     codecs\u001B[38;5;241m.\u001B[39mlookup_error(errors)\n\u001B[1;32m    727\u001B[0m \u001B[38;5;66;03m# open URLs\u001B[39;00m\n\u001B[0;32m--> 728\u001B[0m ioargs \u001B[38;5;241m=\u001B[39m \u001B[43m_get_filepath_or_buffer\u001B[49m\u001B[43m(\u001B[49m\n\u001B[1;32m    729\u001B[0m \u001B[43m    \u001B[49m\u001B[43mpath_or_buf\u001B[49m\u001B[43m,\u001B[49m\n\u001B[1;32m    730\u001B[0m \u001B[43m    \u001B[49m\u001B[43mencoding\u001B[49m\u001B[38;5;241;43m=\u001B[39;49m\u001B[43mencoding\u001B[49m\u001B[43m,\u001B[49m\n\u001B[1;32m    731\u001B[0m \u001B[43m    \u001B[49m\u001B[43mcompression\u001B[49m\u001B[38;5;241;43m=\u001B[39;49m\u001B[43mcompression\u001B[49m\u001B[43m,\u001B[49m\n\u001B[1;32m    732\u001B[0m \u001B[43m    \u001B[49m\u001B[43mmode\u001B[49m\u001B[38;5;241;43m=\u001B[39;49m\u001B[43mmode\u001B[49m\u001B[43m,\u001B[49m\n\u001B[1;32m    733\u001B[0m \u001B[43m    \u001B[49m\u001B[43mstorage_options\u001B[49m\u001B[38;5;241;43m=\u001B[39;49m\u001B[43mstorage_options\u001B[49m\u001B[43m,\u001B[49m\n\u001B[1;32m    734\u001B[0m \u001B[43m\u001B[49m\u001B[43m)\u001B[49m\n\u001B[1;32m    736\u001B[0m handle \u001B[38;5;241m=\u001B[39m ioargs\u001B[38;5;241m.\u001B[39mfilepath_or_buffer\n\u001B[1;32m    737\u001B[0m handles: \u001B[38;5;28mlist\u001B[39m[BaseBuffer]\n",
      "File \u001B[0;32m~/Desktop/ds-deployment/.venv/lib/python3.9/site-packages/pandas/io/common.py:384\u001B[0m, in \u001B[0;36m_get_filepath_or_buffer\u001B[0;34m(filepath_or_buffer, encoding, compression, mode, storage_options)\u001B[0m\n\u001B[1;32m    382\u001B[0m \u001B[38;5;66;03m# assuming storage_options is to be interpreted as headers\u001B[39;00m\n\u001B[1;32m    383\u001B[0m req_info \u001B[38;5;241m=\u001B[39m urllib\u001B[38;5;241m.\u001B[39mrequest\u001B[38;5;241m.\u001B[39mRequest(filepath_or_buffer, headers\u001B[38;5;241m=\u001B[39mstorage_options)\n\u001B[0;32m--> 384\u001B[0m \u001B[38;5;28;01mwith\u001B[39;00m \u001B[43murlopen\u001B[49m\u001B[43m(\u001B[49m\u001B[43mreq_info\u001B[49m\u001B[43m)\u001B[49m \u001B[38;5;28;01mas\u001B[39;00m req:\n\u001B[1;32m    385\u001B[0m     content_encoding \u001B[38;5;241m=\u001B[39m req\u001B[38;5;241m.\u001B[39mheaders\u001B[38;5;241m.\u001B[39mget(\u001B[38;5;124m\"\u001B[39m\u001B[38;5;124mContent-Encoding\u001B[39m\u001B[38;5;124m\"\u001B[39m, \u001B[38;5;28;01mNone\u001B[39;00m)\n\u001B[1;32m    386\u001B[0m     \u001B[38;5;28;01mif\u001B[39;00m content_encoding \u001B[38;5;241m==\u001B[39m \u001B[38;5;124m\"\u001B[39m\u001B[38;5;124mgzip\u001B[39m\u001B[38;5;124m\"\u001B[39m:\n\u001B[1;32m    387\u001B[0m         \u001B[38;5;66;03m# Override compression based on Content-Encoding header\u001B[39;00m\n",
      "File \u001B[0;32m~/Desktop/ds-deployment/.venv/lib/python3.9/site-packages/pandas/io/common.py:289\u001B[0m, in \u001B[0;36murlopen\u001B[0;34m(*args, **kwargs)\u001B[0m\n\u001B[1;32m    283\u001B[0m \u001B[38;5;250m\u001B[39m\u001B[38;5;124;03m\"\"\"\u001B[39;00m\n\u001B[1;32m    284\u001B[0m \u001B[38;5;124;03mLazy-import wrapper for stdlib urlopen, as that imports a big chunk of\u001B[39;00m\n\u001B[1;32m    285\u001B[0m \u001B[38;5;124;03mthe stdlib.\u001B[39;00m\n\u001B[1;32m    286\u001B[0m \u001B[38;5;124;03m\"\"\"\u001B[39;00m\n\u001B[1;32m    287\u001B[0m \u001B[38;5;28;01mimport\u001B[39;00m \u001B[38;5;21;01murllib\u001B[39;00m\u001B[38;5;21;01m.\u001B[39;00m\u001B[38;5;21;01mrequest\u001B[39;00m\n\u001B[0;32m--> 289\u001B[0m \u001B[38;5;28;01mreturn\u001B[39;00m \u001B[43murllib\u001B[49m\u001B[38;5;241;43m.\u001B[39;49m\u001B[43mrequest\u001B[49m\u001B[38;5;241;43m.\u001B[39;49m\u001B[43murlopen\u001B[49m\u001B[43m(\u001B[49m\u001B[38;5;241;43m*\u001B[39;49m\u001B[43margs\u001B[49m\u001B[43m,\u001B[49m\u001B[43m \u001B[49m\u001B[38;5;241;43m*\u001B[39;49m\u001B[38;5;241;43m*\u001B[39;49m\u001B[43mkwargs\u001B[49m\u001B[43m)\u001B[49m\n",
      "File \u001B[0;32m/Applications/Xcode.app/Contents/Developer/Library/Frameworks/Python3.framework/Versions/3.9/lib/python3.9/urllib/request.py:214\u001B[0m, in \u001B[0;36murlopen\u001B[0;34m(url, data, timeout, cafile, capath, cadefault, context)\u001B[0m\n\u001B[1;32m    212\u001B[0m \u001B[38;5;28;01melse\u001B[39;00m:\n\u001B[1;32m    213\u001B[0m     opener \u001B[38;5;241m=\u001B[39m _opener\n\u001B[0;32m--> 214\u001B[0m \u001B[38;5;28;01mreturn\u001B[39;00m \u001B[43mopener\u001B[49m\u001B[38;5;241;43m.\u001B[39;49m\u001B[43mopen\u001B[49m\u001B[43m(\u001B[49m\u001B[43murl\u001B[49m\u001B[43m,\u001B[49m\u001B[43m \u001B[49m\u001B[43mdata\u001B[49m\u001B[43m,\u001B[49m\u001B[43m \u001B[49m\u001B[43mtimeout\u001B[49m\u001B[43m)\u001B[49m\n",
      "File \u001B[0;32m/Applications/Xcode.app/Contents/Developer/Library/Frameworks/Python3.framework/Versions/3.9/lib/python3.9/urllib/request.py:523\u001B[0m, in \u001B[0;36mOpenerDirector.open\u001B[0;34m(self, fullurl, data, timeout)\u001B[0m\n\u001B[1;32m    521\u001B[0m \u001B[38;5;28;01mfor\u001B[39;00m processor \u001B[38;5;129;01min\u001B[39;00m \u001B[38;5;28mself\u001B[39m\u001B[38;5;241m.\u001B[39mprocess_response\u001B[38;5;241m.\u001B[39mget(protocol, []):\n\u001B[1;32m    522\u001B[0m     meth \u001B[38;5;241m=\u001B[39m \u001B[38;5;28mgetattr\u001B[39m(processor, meth_name)\n\u001B[0;32m--> 523\u001B[0m     response \u001B[38;5;241m=\u001B[39m \u001B[43mmeth\u001B[49m\u001B[43m(\u001B[49m\u001B[43mreq\u001B[49m\u001B[43m,\u001B[49m\u001B[43m \u001B[49m\u001B[43mresponse\u001B[49m\u001B[43m)\u001B[49m\n\u001B[1;32m    525\u001B[0m \u001B[38;5;28;01mreturn\u001B[39;00m response\n",
      "File \u001B[0;32m/Applications/Xcode.app/Contents/Developer/Library/Frameworks/Python3.framework/Versions/3.9/lib/python3.9/urllib/request.py:632\u001B[0m, in \u001B[0;36mHTTPErrorProcessor.http_response\u001B[0;34m(self, request, response)\u001B[0m\n\u001B[1;32m    629\u001B[0m \u001B[38;5;66;03m# According to RFC 2616, \"2xx\" code indicates that the client's\u001B[39;00m\n\u001B[1;32m    630\u001B[0m \u001B[38;5;66;03m# request was successfully received, understood, and accepted.\u001B[39;00m\n\u001B[1;32m    631\u001B[0m \u001B[38;5;28;01mif\u001B[39;00m \u001B[38;5;129;01mnot\u001B[39;00m (\u001B[38;5;241m200\u001B[39m \u001B[38;5;241m<\u001B[39m\u001B[38;5;241m=\u001B[39m code \u001B[38;5;241m<\u001B[39m \u001B[38;5;241m300\u001B[39m):\n\u001B[0;32m--> 632\u001B[0m     response \u001B[38;5;241m=\u001B[39m \u001B[38;5;28;43mself\u001B[39;49m\u001B[38;5;241;43m.\u001B[39;49m\u001B[43mparent\u001B[49m\u001B[38;5;241;43m.\u001B[39;49m\u001B[43merror\u001B[49m\u001B[43m(\u001B[49m\n\u001B[1;32m    633\u001B[0m \u001B[43m        \u001B[49m\u001B[38;5;124;43m'\u001B[39;49m\u001B[38;5;124;43mhttp\u001B[39;49m\u001B[38;5;124;43m'\u001B[39;49m\u001B[43m,\u001B[49m\u001B[43m \u001B[49m\u001B[43mrequest\u001B[49m\u001B[43m,\u001B[49m\u001B[43m \u001B[49m\u001B[43mresponse\u001B[49m\u001B[43m,\u001B[49m\u001B[43m \u001B[49m\u001B[43mcode\u001B[49m\u001B[43m,\u001B[49m\u001B[43m \u001B[49m\u001B[43mmsg\u001B[49m\u001B[43m,\u001B[49m\u001B[43m \u001B[49m\u001B[43mhdrs\u001B[49m\u001B[43m)\u001B[49m\n\u001B[1;32m    635\u001B[0m \u001B[38;5;28;01mreturn\u001B[39;00m response\n",
      "File \u001B[0;32m/Applications/Xcode.app/Contents/Developer/Library/Frameworks/Python3.framework/Versions/3.9/lib/python3.9/urllib/request.py:561\u001B[0m, in \u001B[0;36mOpenerDirector.error\u001B[0;34m(self, proto, *args)\u001B[0m\n\u001B[1;32m    559\u001B[0m \u001B[38;5;28;01mif\u001B[39;00m http_err:\n\u001B[1;32m    560\u001B[0m     args \u001B[38;5;241m=\u001B[39m (\u001B[38;5;28mdict\u001B[39m, \u001B[38;5;124m'\u001B[39m\u001B[38;5;124mdefault\u001B[39m\u001B[38;5;124m'\u001B[39m, \u001B[38;5;124m'\u001B[39m\u001B[38;5;124mhttp_error_default\u001B[39m\u001B[38;5;124m'\u001B[39m) \u001B[38;5;241m+\u001B[39m orig_args\n\u001B[0;32m--> 561\u001B[0m     \u001B[38;5;28;01mreturn\u001B[39;00m \u001B[38;5;28;43mself\u001B[39;49m\u001B[38;5;241;43m.\u001B[39;49m\u001B[43m_call_chain\u001B[49m\u001B[43m(\u001B[49m\u001B[38;5;241;43m*\u001B[39;49m\u001B[43margs\u001B[49m\u001B[43m)\u001B[49m\n",
      "File \u001B[0;32m/Applications/Xcode.app/Contents/Developer/Library/Frameworks/Python3.framework/Versions/3.9/lib/python3.9/urllib/request.py:494\u001B[0m, in \u001B[0;36mOpenerDirector._call_chain\u001B[0;34m(self, chain, kind, meth_name, *args)\u001B[0m\n\u001B[1;32m    492\u001B[0m \u001B[38;5;28;01mfor\u001B[39;00m handler \u001B[38;5;129;01min\u001B[39;00m handlers:\n\u001B[1;32m    493\u001B[0m     func \u001B[38;5;241m=\u001B[39m \u001B[38;5;28mgetattr\u001B[39m(handler, meth_name)\n\u001B[0;32m--> 494\u001B[0m     result \u001B[38;5;241m=\u001B[39m \u001B[43mfunc\u001B[49m\u001B[43m(\u001B[49m\u001B[38;5;241;43m*\u001B[39;49m\u001B[43margs\u001B[49m\u001B[43m)\u001B[49m\n\u001B[1;32m    495\u001B[0m     \u001B[38;5;28;01mif\u001B[39;00m result \u001B[38;5;129;01mis\u001B[39;00m \u001B[38;5;129;01mnot\u001B[39;00m \u001B[38;5;28;01mNone\u001B[39;00m:\n\u001B[1;32m    496\u001B[0m         \u001B[38;5;28;01mreturn\u001B[39;00m result\n",
      "File \u001B[0;32m/Applications/Xcode.app/Contents/Developer/Library/Frameworks/Python3.framework/Versions/3.9/lib/python3.9/urllib/request.py:641\u001B[0m, in \u001B[0;36mHTTPDefaultErrorHandler.http_error_default\u001B[0;34m(self, req, fp, code, msg, hdrs)\u001B[0m\n\u001B[1;32m    640\u001B[0m \u001B[38;5;28;01mdef\u001B[39;00m \u001B[38;5;21mhttp_error_default\u001B[39m(\u001B[38;5;28mself\u001B[39m, req, fp, code, msg, hdrs):\n\u001B[0;32m--> 641\u001B[0m     \u001B[38;5;28;01mraise\u001B[39;00m HTTPError(req\u001B[38;5;241m.\u001B[39mfull_url, code, msg, hdrs, fp)\n",
      "\u001B[0;31mHTTPError\u001B[0m: HTTP Error 400: Bad Request"
     ]
    }
   ],
   "execution_count": 13
  },
  {
   "metadata": {},
   "cell_type": "markdown",
   "source": "## Restart transfer",
   "id": "1bae8e1bf5c49bcb"
  },
  {
   "metadata": {
    "ExecuteTime": {
     "end_time": "2024-12-02T14:25:06.218734Z",
     "start_time": "2024-12-02T14:25:06.200580Z"
    }
   },
   "cell_type": "code",
   "source": [
    "url = data_space_consumer + \"/api/v1/restart-transfer\"\n",
    "\n",
    "payload = json.dumps({\n",
    "  \"consumerPid\": consumerPid\n",
    "})\n",
    "headers = {\n",
    "  'Content-Type': 'application/json'\n",
    "}\n",
    "\n",
    "response = requests.request(\"POST\", url, headers=headers, data=payload)\n",
    "\n",
    "pprint.pprint(response.json())"
   ],
   "id": "89bc201efc2bd622",
   "outputs": [
    {
     "name": "stdout",
     "output_type": "stream",
     "text": [
      "{'consumerPid': 'urn:uuid:c83d7539-89ad-4e4d-8cdc-2608f1e2d7b1',\n",
      " 'transferProcess': {'@context': 'https://w3id.org/dspace/2024/1/context.json',\n",
      "                     '@type': 'dspace:TransferProcess',\n",
      "                     'dspace:consumerPid': 'urn:uuid:c83d7539-89ad-4e4d-8cdc-2608f1e2d7b1',\n",
      "                     'dspace:providerPid': 'urn:uuid:b7e571b6-40fa-42b5-96fd-905192d824fe',\n",
      "                     'dspace:state': 'dspace:STARTED'}}\n"
     ]
    }
   ],
   "execution_count": 14
  },
  {
   "metadata": {},
   "cell_type": "markdown",
   "source": "## Test data is accessible again",
   "id": "c912368502ca728c"
  },
  {
   "metadata": {
    "ExecuteTime": {
     "end_time": "2024-12-02T14:25:07.106310Z",
     "start_time": "2024-12-02T14:25:07.065914Z"
    }
   },
   "cell_type": "code",
   "source": [
    "url = dataPlaneAddress\n",
    "url = url.replace(\"ds-consumer\", \"127.0.0.1\")\n",
    "df = pd.read_json(url + \"/comments\")\n",
    "df"
   ],
   "id": "9013316581bc97b3",
   "outputs": [
    {
     "data": {
      "text/plain": [
       "     postId   id                                               name  \\\n",
       "0         1    1                       id labore ex et quam laborum   \n",
       "1         1    2          quo vero reiciendis velit similique earum   \n",
       "2         1    3                      odio adipisci rerum aut animi   \n",
       "3         1    4                                     alias odio sit   \n",
       "4         1    5              vero eaque aliquid doloribus et culpa   \n",
       "..      ...  ...                                                ...   \n",
       "495     100  496  et occaecati asperiores quas voluptas ipsam no...   \n",
       "496     100  497             doloribus dolores ut dolores occaecati   \n",
       "497     100  498                           dolores minus aut libero   \n",
       "498     100  499  excepturi sunt cum a et rerum quo voluptatibus...   \n",
       "499     100  500                                 ex eaque eum natus   \n",
       "\n",
       "                            email  \\\n",
       "0              Eliseo@gardner.biz   \n",
       "1          Jayne_Kuhic@sydney.com   \n",
       "2             Nikita@garfield.biz   \n",
       "3                   Lew@alysha.tv   \n",
       "4               Hayden@althea.biz   \n",
       "..                            ...   \n",
       "495               Zola@lizzie.com   \n",
       "496             Dolly@mandy.co.uk   \n",
       "497             Davion@eldora.net   \n",
       "498  Wilburn_Labadie@araceli.name   \n",
       "499                Emma@joanny.ca   \n",
       "\n",
       "                                                  body  \n",
       "0    laudantium enim quasi est quidem magnam volupt...  \n",
       "1    est natus enim nihil est dolore omnis voluptat...  \n",
       "2    quia molestiae reprehenderit quasi aspernatur\\...  \n",
       "3    non et atque\\noccaecati deserunt quas accusant...  \n",
       "4    harum non quasi et ratione\\ntempore iure ex vo...  \n",
       "..                                                 ...  \n",
       "495  neque unde voluptatem iure\\nodio excepturi ips...  \n",
       "496  non dolor consequatur\\nlaboriosam ut deserunt ...  \n",
       "497  aliquam pariatur suscipit fugiat eos sunt\\nopt...  \n",
       "498  et necessitatibus tempora ipsum quaerat invent...  \n",
       "499  perspiciatis quis doloremque\\nveniam nisi eos ...  \n",
       "\n",
       "[500 rows x 5 columns]"
      ],
      "text/html": [
       "<div>\n",
       "<style scoped>\n",
       "    .dataframe tbody tr th:only-of-type {\n",
       "        vertical-align: middle;\n",
       "    }\n",
       "\n",
       "    .dataframe tbody tr th {\n",
       "        vertical-align: top;\n",
       "    }\n",
       "\n",
       "    .dataframe thead th {\n",
       "        text-align: right;\n",
       "    }\n",
       "</style>\n",
       "<table border=\"1\" class=\"dataframe\">\n",
       "  <thead>\n",
       "    <tr style=\"text-align: right;\">\n",
       "      <th></th>\n",
       "      <th>postId</th>\n",
       "      <th>id</th>\n",
       "      <th>name</th>\n",
       "      <th>email</th>\n",
       "      <th>body</th>\n",
       "    </tr>\n",
       "  </thead>\n",
       "  <tbody>\n",
       "    <tr>\n",
       "      <th>0</th>\n",
       "      <td>1</td>\n",
       "      <td>1</td>\n",
       "      <td>id labore ex et quam laborum</td>\n",
       "      <td>Eliseo@gardner.biz</td>\n",
       "      <td>laudantium enim quasi est quidem magnam volupt...</td>\n",
       "    </tr>\n",
       "    <tr>\n",
       "      <th>1</th>\n",
       "      <td>1</td>\n",
       "      <td>2</td>\n",
       "      <td>quo vero reiciendis velit similique earum</td>\n",
       "      <td>Jayne_Kuhic@sydney.com</td>\n",
       "      <td>est natus enim nihil est dolore omnis voluptat...</td>\n",
       "    </tr>\n",
       "    <tr>\n",
       "      <th>2</th>\n",
       "      <td>1</td>\n",
       "      <td>3</td>\n",
       "      <td>odio adipisci rerum aut animi</td>\n",
       "      <td>Nikita@garfield.biz</td>\n",
       "      <td>quia molestiae reprehenderit quasi aspernatur\\...</td>\n",
       "    </tr>\n",
       "    <tr>\n",
       "      <th>3</th>\n",
       "      <td>1</td>\n",
       "      <td>4</td>\n",
       "      <td>alias odio sit</td>\n",
       "      <td>Lew@alysha.tv</td>\n",
       "      <td>non et atque\\noccaecati deserunt quas accusant...</td>\n",
       "    </tr>\n",
       "    <tr>\n",
       "      <th>4</th>\n",
       "      <td>1</td>\n",
       "      <td>5</td>\n",
       "      <td>vero eaque aliquid doloribus et culpa</td>\n",
       "      <td>Hayden@althea.biz</td>\n",
       "      <td>harum non quasi et ratione\\ntempore iure ex vo...</td>\n",
       "    </tr>\n",
       "    <tr>\n",
       "      <th>...</th>\n",
       "      <td>...</td>\n",
       "      <td>...</td>\n",
       "      <td>...</td>\n",
       "      <td>...</td>\n",
       "      <td>...</td>\n",
       "    </tr>\n",
       "    <tr>\n",
       "      <th>495</th>\n",
       "      <td>100</td>\n",
       "      <td>496</td>\n",
       "      <td>et occaecati asperiores quas voluptas ipsam no...</td>\n",
       "      <td>Zola@lizzie.com</td>\n",
       "      <td>neque unde voluptatem iure\\nodio excepturi ips...</td>\n",
       "    </tr>\n",
       "    <tr>\n",
       "      <th>496</th>\n",
       "      <td>100</td>\n",
       "      <td>497</td>\n",
       "      <td>doloribus dolores ut dolores occaecati</td>\n",
       "      <td>Dolly@mandy.co.uk</td>\n",
       "      <td>non dolor consequatur\\nlaboriosam ut deserunt ...</td>\n",
       "    </tr>\n",
       "    <tr>\n",
       "      <th>497</th>\n",
       "      <td>100</td>\n",
       "      <td>498</td>\n",
       "      <td>dolores minus aut libero</td>\n",
       "      <td>Davion@eldora.net</td>\n",
       "      <td>aliquam pariatur suscipit fugiat eos sunt\\nopt...</td>\n",
       "    </tr>\n",
       "    <tr>\n",
       "      <th>498</th>\n",
       "      <td>100</td>\n",
       "      <td>499</td>\n",
       "      <td>excepturi sunt cum a et rerum quo voluptatibus...</td>\n",
       "      <td>Wilburn_Labadie@araceli.name</td>\n",
       "      <td>et necessitatibus tempora ipsum quaerat invent...</td>\n",
       "    </tr>\n",
       "    <tr>\n",
       "      <th>499</th>\n",
       "      <td>100</td>\n",
       "      <td>500</td>\n",
       "      <td>ex eaque eum natus</td>\n",
       "      <td>Emma@joanny.ca</td>\n",
       "      <td>perspiciatis quis doloremque\\nveniam nisi eos ...</td>\n",
       "    </tr>\n",
       "  </tbody>\n",
       "</table>\n",
       "<p>500 rows × 5 columns</p>\n",
       "</div>"
      ]
     },
     "execution_count": 15,
     "metadata": {},
     "output_type": "execute_result"
    }
   ],
   "execution_count": 15
  },
  {
   "metadata": {},
   "cell_type": "markdown",
   "source": "## Complete transfer",
   "id": "b6a0cec99e7c17b2"
  },
  {
   "metadata": {
    "ExecuteTime": {
     "end_time": "2024-12-02T14:25:07.977107Z",
     "start_time": "2024-12-02T14:25:07.940904Z"
    }
   },
   "cell_type": "code",
   "source": [
    "url = data_space_consumer + \"/api/v1/complete-transfer\"\n",
    "\n",
    "payload = json.dumps({\n",
    "  \"consumerPid\": consumerPid\n",
    "})\n",
    "headers = {\n",
    "  'Content-Type': 'application/json'\n",
    "}\n",
    "\n",
    "response = requests.request(\"POST\", url, headers=headers, data=payload)\n",
    "\n",
    "pprint.pprint(response.json())"
   ],
   "id": "c21cace19c0e0b30",
   "outputs": [
    {
     "name": "stdout",
     "output_type": "stream",
     "text": [
      "{'consumerPid': 'urn:uuid:c83d7539-89ad-4e4d-8cdc-2608f1e2d7b1',\n",
      " 'transferProcess': {'@context': 'https://w3id.org/dspace/2024/1/context.json',\n",
      "                     '@type': 'dspace:TransferProcess',\n",
      "                     'dspace:consumerPid': 'urn:uuid:c83d7539-89ad-4e4d-8cdc-2608f1e2d7b1',\n",
      "                     'dspace:providerPid': 'urn:uuid:b7e571b6-40fa-42b5-96fd-905192d824fe',\n",
      "                     'dspace:state': 'dspace:COMPLETED'}}\n"
     ]
    }
   ],
   "execution_count": 16
  },
  {
   "metadata": {},
   "cell_type": "markdown",
   "source": "## Data is not accessible",
   "id": "562e38f8030d1a70"
  },
  {
   "metadata": {
    "ExecuteTime": {
     "end_time": "2024-12-02T14:25:08.593621Z",
     "start_time": "2024-12-02T14:25:08.501837Z"
    }
   },
   "cell_type": "code",
   "source": [
    "url = dataPlaneAddress\n",
    "url = url.replace(\"ds-consumer\", \"127.0.0.1\")\n",
    "df = pd.read_json(url + \"/comments\")\n",
    "df"
   ],
   "id": "73e4bac8f5c94e52",
   "outputs": [
    {
     "ename": "HTTPError",
     "evalue": "HTTP Error 400: Bad Request",
     "output_type": "error",
     "traceback": [
      "\u001B[0;31m---------------------------------------------------------------------------\u001B[0m",
      "\u001B[0;31mHTTPError\u001B[0m                                 Traceback (most recent call last)",
      "Cell \u001B[0;32mIn[17], line 3\u001B[0m\n\u001B[1;32m      1\u001B[0m url \u001B[38;5;241m=\u001B[39m dataPlaneAddress\n\u001B[1;32m      2\u001B[0m url \u001B[38;5;241m=\u001B[39m url\u001B[38;5;241m.\u001B[39mreplace(\u001B[38;5;124m\"\u001B[39m\u001B[38;5;124mds-consumer\u001B[39m\u001B[38;5;124m\"\u001B[39m, \u001B[38;5;124m\"\u001B[39m\u001B[38;5;124m127.0.0.1\u001B[39m\u001B[38;5;124m\"\u001B[39m)\n\u001B[0;32m----> 3\u001B[0m df \u001B[38;5;241m=\u001B[39m \u001B[43mpd\u001B[49m\u001B[38;5;241;43m.\u001B[39;49m\u001B[43mread_json\u001B[49m\u001B[43m(\u001B[49m\u001B[43murl\u001B[49m\u001B[43m \u001B[49m\u001B[38;5;241;43m+\u001B[39;49m\u001B[43m \u001B[49m\u001B[38;5;124;43m\"\u001B[39;49m\u001B[38;5;124;43m/comments\u001B[39;49m\u001B[38;5;124;43m\"\u001B[39;49m\u001B[43m)\u001B[49m\n\u001B[1;32m      4\u001B[0m df\n",
      "File \u001B[0;32m~/Desktop/ds-deployment/.venv/lib/python3.9/site-packages/pandas/io/json/_json.py:791\u001B[0m, in \u001B[0;36mread_json\u001B[0;34m(path_or_buf, orient, typ, dtype, convert_axes, convert_dates, keep_default_dates, precise_float, date_unit, encoding, encoding_errors, lines, chunksize, compression, nrows, storage_options, dtype_backend, engine)\u001B[0m\n\u001B[1;32m    788\u001B[0m \u001B[38;5;28;01mif\u001B[39;00m convert_axes \u001B[38;5;129;01mis\u001B[39;00m \u001B[38;5;28;01mNone\u001B[39;00m \u001B[38;5;129;01mand\u001B[39;00m orient \u001B[38;5;241m!=\u001B[39m \u001B[38;5;124m\"\u001B[39m\u001B[38;5;124mtable\u001B[39m\u001B[38;5;124m\"\u001B[39m:\n\u001B[1;32m    789\u001B[0m     convert_axes \u001B[38;5;241m=\u001B[39m \u001B[38;5;28;01mTrue\u001B[39;00m\n\u001B[0;32m--> 791\u001B[0m json_reader \u001B[38;5;241m=\u001B[39m \u001B[43mJsonReader\u001B[49m\u001B[43m(\u001B[49m\n\u001B[1;32m    792\u001B[0m \u001B[43m    \u001B[49m\u001B[43mpath_or_buf\u001B[49m\u001B[43m,\u001B[49m\n\u001B[1;32m    793\u001B[0m \u001B[43m    \u001B[49m\u001B[43morient\u001B[49m\u001B[38;5;241;43m=\u001B[39;49m\u001B[43morient\u001B[49m\u001B[43m,\u001B[49m\n\u001B[1;32m    794\u001B[0m \u001B[43m    \u001B[49m\u001B[43mtyp\u001B[49m\u001B[38;5;241;43m=\u001B[39;49m\u001B[43mtyp\u001B[49m\u001B[43m,\u001B[49m\n\u001B[1;32m    795\u001B[0m \u001B[43m    \u001B[49m\u001B[43mdtype\u001B[49m\u001B[38;5;241;43m=\u001B[39;49m\u001B[43mdtype\u001B[49m\u001B[43m,\u001B[49m\n\u001B[1;32m    796\u001B[0m \u001B[43m    \u001B[49m\u001B[43mconvert_axes\u001B[49m\u001B[38;5;241;43m=\u001B[39;49m\u001B[43mconvert_axes\u001B[49m\u001B[43m,\u001B[49m\n\u001B[1;32m    797\u001B[0m \u001B[43m    \u001B[49m\u001B[43mconvert_dates\u001B[49m\u001B[38;5;241;43m=\u001B[39;49m\u001B[43mconvert_dates\u001B[49m\u001B[43m,\u001B[49m\n\u001B[1;32m    798\u001B[0m \u001B[43m    \u001B[49m\u001B[43mkeep_default_dates\u001B[49m\u001B[38;5;241;43m=\u001B[39;49m\u001B[43mkeep_default_dates\u001B[49m\u001B[43m,\u001B[49m\n\u001B[1;32m    799\u001B[0m \u001B[43m    \u001B[49m\u001B[43mprecise_float\u001B[49m\u001B[38;5;241;43m=\u001B[39;49m\u001B[43mprecise_float\u001B[49m\u001B[43m,\u001B[49m\n\u001B[1;32m    800\u001B[0m \u001B[43m    \u001B[49m\u001B[43mdate_unit\u001B[49m\u001B[38;5;241;43m=\u001B[39;49m\u001B[43mdate_unit\u001B[49m\u001B[43m,\u001B[49m\n\u001B[1;32m    801\u001B[0m \u001B[43m    \u001B[49m\u001B[43mencoding\u001B[49m\u001B[38;5;241;43m=\u001B[39;49m\u001B[43mencoding\u001B[49m\u001B[43m,\u001B[49m\n\u001B[1;32m    802\u001B[0m \u001B[43m    \u001B[49m\u001B[43mlines\u001B[49m\u001B[38;5;241;43m=\u001B[39;49m\u001B[43mlines\u001B[49m\u001B[43m,\u001B[49m\n\u001B[1;32m    803\u001B[0m \u001B[43m    \u001B[49m\u001B[43mchunksize\u001B[49m\u001B[38;5;241;43m=\u001B[39;49m\u001B[43mchunksize\u001B[49m\u001B[43m,\u001B[49m\n\u001B[1;32m    804\u001B[0m \u001B[43m    \u001B[49m\u001B[43mcompression\u001B[49m\u001B[38;5;241;43m=\u001B[39;49m\u001B[43mcompression\u001B[49m\u001B[43m,\u001B[49m\n\u001B[1;32m    805\u001B[0m \u001B[43m    \u001B[49m\u001B[43mnrows\u001B[49m\u001B[38;5;241;43m=\u001B[39;49m\u001B[43mnrows\u001B[49m\u001B[43m,\u001B[49m\n\u001B[1;32m    806\u001B[0m \u001B[43m    \u001B[49m\u001B[43mstorage_options\u001B[49m\u001B[38;5;241;43m=\u001B[39;49m\u001B[43mstorage_options\u001B[49m\u001B[43m,\u001B[49m\n\u001B[1;32m    807\u001B[0m \u001B[43m    \u001B[49m\u001B[43mencoding_errors\u001B[49m\u001B[38;5;241;43m=\u001B[39;49m\u001B[43mencoding_errors\u001B[49m\u001B[43m,\u001B[49m\n\u001B[1;32m    808\u001B[0m \u001B[43m    \u001B[49m\u001B[43mdtype_backend\u001B[49m\u001B[38;5;241;43m=\u001B[39;49m\u001B[43mdtype_backend\u001B[49m\u001B[43m,\u001B[49m\n\u001B[1;32m    809\u001B[0m \u001B[43m    \u001B[49m\u001B[43mengine\u001B[49m\u001B[38;5;241;43m=\u001B[39;49m\u001B[43mengine\u001B[49m\u001B[43m,\u001B[49m\n\u001B[1;32m    810\u001B[0m \u001B[43m\u001B[49m\u001B[43m)\u001B[49m\n\u001B[1;32m    812\u001B[0m \u001B[38;5;28;01mif\u001B[39;00m chunksize:\n\u001B[1;32m    813\u001B[0m     \u001B[38;5;28;01mreturn\u001B[39;00m json_reader\n",
      "File \u001B[0;32m~/Desktop/ds-deployment/.venv/lib/python3.9/site-packages/pandas/io/json/_json.py:904\u001B[0m, in \u001B[0;36mJsonReader.__init__\u001B[0;34m(self, filepath_or_buffer, orient, typ, dtype, convert_axes, convert_dates, keep_default_dates, precise_float, date_unit, encoding, lines, chunksize, compression, nrows, storage_options, encoding_errors, dtype_backend, engine)\u001B[0m\n\u001B[1;32m    902\u001B[0m     \u001B[38;5;28mself\u001B[39m\u001B[38;5;241m.\u001B[39mdata \u001B[38;5;241m=\u001B[39m filepath_or_buffer\n\u001B[1;32m    903\u001B[0m \u001B[38;5;28;01melif\u001B[39;00m \u001B[38;5;28mself\u001B[39m\u001B[38;5;241m.\u001B[39mengine \u001B[38;5;241m==\u001B[39m \u001B[38;5;124m\"\u001B[39m\u001B[38;5;124mujson\u001B[39m\u001B[38;5;124m\"\u001B[39m:\n\u001B[0;32m--> 904\u001B[0m     data \u001B[38;5;241m=\u001B[39m \u001B[38;5;28;43mself\u001B[39;49m\u001B[38;5;241;43m.\u001B[39;49m\u001B[43m_get_data_from_filepath\u001B[49m\u001B[43m(\u001B[49m\u001B[43mfilepath_or_buffer\u001B[49m\u001B[43m)\u001B[49m\n\u001B[1;32m    905\u001B[0m     \u001B[38;5;28mself\u001B[39m\u001B[38;5;241m.\u001B[39mdata \u001B[38;5;241m=\u001B[39m \u001B[38;5;28mself\u001B[39m\u001B[38;5;241m.\u001B[39m_preprocess_data(data)\n",
      "File \u001B[0;32m~/Desktop/ds-deployment/.venv/lib/python3.9/site-packages/pandas/io/json/_json.py:944\u001B[0m, in \u001B[0;36mJsonReader._get_data_from_filepath\u001B[0;34m(self, filepath_or_buffer)\u001B[0m\n\u001B[1;32m    937\u001B[0m filepath_or_buffer \u001B[38;5;241m=\u001B[39m stringify_path(filepath_or_buffer)\n\u001B[1;32m    938\u001B[0m \u001B[38;5;28;01mif\u001B[39;00m (\n\u001B[1;32m    939\u001B[0m     \u001B[38;5;129;01mnot\u001B[39;00m \u001B[38;5;28misinstance\u001B[39m(filepath_or_buffer, \u001B[38;5;28mstr\u001B[39m)\n\u001B[1;32m    940\u001B[0m     \u001B[38;5;129;01mor\u001B[39;00m is_url(filepath_or_buffer)\n\u001B[1;32m    941\u001B[0m     \u001B[38;5;129;01mor\u001B[39;00m is_fsspec_url(filepath_or_buffer)\n\u001B[1;32m    942\u001B[0m     \u001B[38;5;129;01mor\u001B[39;00m file_exists(filepath_or_buffer)\n\u001B[1;32m    943\u001B[0m ):\n\u001B[0;32m--> 944\u001B[0m     \u001B[38;5;28mself\u001B[39m\u001B[38;5;241m.\u001B[39mhandles \u001B[38;5;241m=\u001B[39m \u001B[43mget_handle\u001B[49m\u001B[43m(\u001B[49m\n\u001B[1;32m    945\u001B[0m \u001B[43m        \u001B[49m\u001B[43mfilepath_or_buffer\u001B[49m\u001B[43m,\u001B[49m\n\u001B[1;32m    946\u001B[0m \u001B[43m        \u001B[49m\u001B[38;5;124;43m\"\u001B[39;49m\u001B[38;5;124;43mr\u001B[39;49m\u001B[38;5;124;43m\"\u001B[39;49m\u001B[43m,\u001B[49m\n\u001B[1;32m    947\u001B[0m \u001B[43m        \u001B[49m\u001B[43mencoding\u001B[49m\u001B[38;5;241;43m=\u001B[39;49m\u001B[38;5;28;43mself\u001B[39;49m\u001B[38;5;241;43m.\u001B[39;49m\u001B[43mencoding\u001B[49m\u001B[43m,\u001B[49m\n\u001B[1;32m    948\u001B[0m \u001B[43m        \u001B[49m\u001B[43mcompression\u001B[49m\u001B[38;5;241;43m=\u001B[39;49m\u001B[38;5;28;43mself\u001B[39;49m\u001B[38;5;241;43m.\u001B[39;49m\u001B[43mcompression\u001B[49m\u001B[43m,\u001B[49m\n\u001B[1;32m    949\u001B[0m \u001B[43m        \u001B[49m\u001B[43mstorage_options\u001B[49m\u001B[38;5;241;43m=\u001B[39;49m\u001B[38;5;28;43mself\u001B[39;49m\u001B[38;5;241;43m.\u001B[39;49m\u001B[43mstorage_options\u001B[49m\u001B[43m,\u001B[49m\n\u001B[1;32m    950\u001B[0m \u001B[43m        \u001B[49m\u001B[43merrors\u001B[49m\u001B[38;5;241;43m=\u001B[39;49m\u001B[38;5;28;43mself\u001B[39;49m\u001B[38;5;241;43m.\u001B[39;49m\u001B[43mencoding_errors\u001B[49m\u001B[43m,\u001B[49m\n\u001B[1;32m    951\u001B[0m \u001B[43m    \u001B[49m\u001B[43m)\u001B[49m\n\u001B[1;32m    952\u001B[0m     filepath_or_buffer \u001B[38;5;241m=\u001B[39m \u001B[38;5;28mself\u001B[39m\u001B[38;5;241m.\u001B[39mhandles\u001B[38;5;241m.\u001B[39mhandle\n\u001B[1;32m    953\u001B[0m \u001B[38;5;28;01melif\u001B[39;00m (\n\u001B[1;32m    954\u001B[0m     \u001B[38;5;28misinstance\u001B[39m(filepath_or_buffer, \u001B[38;5;28mstr\u001B[39m)\n\u001B[1;32m    955\u001B[0m     \u001B[38;5;129;01mand\u001B[39;00m filepath_or_buffer\u001B[38;5;241m.\u001B[39mlower()\u001B[38;5;241m.\u001B[39mendswith(\n\u001B[0;32m   (...)\u001B[0m\n\u001B[1;32m    958\u001B[0m     \u001B[38;5;129;01mand\u001B[39;00m \u001B[38;5;129;01mnot\u001B[39;00m file_exists(filepath_or_buffer)\n\u001B[1;32m    959\u001B[0m ):\n",
      "File \u001B[0;32m~/Desktop/ds-deployment/.venv/lib/python3.9/site-packages/pandas/io/common.py:728\u001B[0m, in \u001B[0;36mget_handle\u001B[0;34m(path_or_buf, mode, encoding, compression, memory_map, is_text, errors, storage_options)\u001B[0m\n\u001B[1;32m    725\u001B[0m     codecs\u001B[38;5;241m.\u001B[39mlookup_error(errors)\n\u001B[1;32m    727\u001B[0m \u001B[38;5;66;03m# open URLs\u001B[39;00m\n\u001B[0;32m--> 728\u001B[0m ioargs \u001B[38;5;241m=\u001B[39m \u001B[43m_get_filepath_or_buffer\u001B[49m\u001B[43m(\u001B[49m\n\u001B[1;32m    729\u001B[0m \u001B[43m    \u001B[49m\u001B[43mpath_or_buf\u001B[49m\u001B[43m,\u001B[49m\n\u001B[1;32m    730\u001B[0m \u001B[43m    \u001B[49m\u001B[43mencoding\u001B[49m\u001B[38;5;241;43m=\u001B[39;49m\u001B[43mencoding\u001B[49m\u001B[43m,\u001B[49m\n\u001B[1;32m    731\u001B[0m \u001B[43m    \u001B[49m\u001B[43mcompression\u001B[49m\u001B[38;5;241;43m=\u001B[39;49m\u001B[43mcompression\u001B[49m\u001B[43m,\u001B[49m\n\u001B[1;32m    732\u001B[0m \u001B[43m    \u001B[49m\u001B[43mmode\u001B[49m\u001B[38;5;241;43m=\u001B[39;49m\u001B[43mmode\u001B[49m\u001B[43m,\u001B[49m\n\u001B[1;32m    733\u001B[0m \u001B[43m    \u001B[49m\u001B[43mstorage_options\u001B[49m\u001B[38;5;241;43m=\u001B[39;49m\u001B[43mstorage_options\u001B[49m\u001B[43m,\u001B[49m\n\u001B[1;32m    734\u001B[0m \u001B[43m\u001B[49m\u001B[43m)\u001B[49m\n\u001B[1;32m    736\u001B[0m handle \u001B[38;5;241m=\u001B[39m ioargs\u001B[38;5;241m.\u001B[39mfilepath_or_buffer\n\u001B[1;32m    737\u001B[0m handles: \u001B[38;5;28mlist\u001B[39m[BaseBuffer]\n",
      "File \u001B[0;32m~/Desktop/ds-deployment/.venv/lib/python3.9/site-packages/pandas/io/common.py:384\u001B[0m, in \u001B[0;36m_get_filepath_or_buffer\u001B[0;34m(filepath_or_buffer, encoding, compression, mode, storage_options)\u001B[0m\n\u001B[1;32m    382\u001B[0m \u001B[38;5;66;03m# assuming storage_options is to be interpreted as headers\u001B[39;00m\n\u001B[1;32m    383\u001B[0m req_info \u001B[38;5;241m=\u001B[39m urllib\u001B[38;5;241m.\u001B[39mrequest\u001B[38;5;241m.\u001B[39mRequest(filepath_or_buffer, headers\u001B[38;5;241m=\u001B[39mstorage_options)\n\u001B[0;32m--> 384\u001B[0m \u001B[38;5;28;01mwith\u001B[39;00m \u001B[43murlopen\u001B[49m\u001B[43m(\u001B[49m\u001B[43mreq_info\u001B[49m\u001B[43m)\u001B[49m \u001B[38;5;28;01mas\u001B[39;00m req:\n\u001B[1;32m    385\u001B[0m     content_encoding \u001B[38;5;241m=\u001B[39m req\u001B[38;5;241m.\u001B[39mheaders\u001B[38;5;241m.\u001B[39mget(\u001B[38;5;124m\"\u001B[39m\u001B[38;5;124mContent-Encoding\u001B[39m\u001B[38;5;124m\"\u001B[39m, \u001B[38;5;28;01mNone\u001B[39;00m)\n\u001B[1;32m    386\u001B[0m     \u001B[38;5;28;01mif\u001B[39;00m content_encoding \u001B[38;5;241m==\u001B[39m \u001B[38;5;124m\"\u001B[39m\u001B[38;5;124mgzip\u001B[39m\u001B[38;5;124m\"\u001B[39m:\n\u001B[1;32m    387\u001B[0m         \u001B[38;5;66;03m# Override compression based on Content-Encoding header\u001B[39;00m\n",
      "File \u001B[0;32m~/Desktop/ds-deployment/.venv/lib/python3.9/site-packages/pandas/io/common.py:289\u001B[0m, in \u001B[0;36murlopen\u001B[0;34m(*args, **kwargs)\u001B[0m\n\u001B[1;32m    283\u001B[0m \u001B[38;5;250m\u001B[39m\u001B[38;5;124;03m\"\"\"\u001B[39;00m\n\u001B[1;32m    284\u001B[0m \u001B[38;5;124;03mLazy-import wrapper for stdlib urlopen, as that imports a big chunk of\u001B[39;00m\n\u001B[1;32m    285\u001B[0m \u001B[38;5;124;03mthe stdlib.\u001B[39;00m\n\u001B[1;32m    286\u001B[0m \u001B[38;5;124;03m\"\"\"\u001B[39;00m\n\u001B[1;32m    287\u001B[0m \u001B[38;5;28;01mimport\u001B[39;00m \u001B[38;5;21;01murllib\u001B[39;00m\u001B[38;5;21;01m.\u001B[39;00m\u001B[38;5;21;01mrequest\u001B[39;00m\n\u001B[0;32m--> 289\u001B[0m \u001B[38;5;28;01mreturn\u001B[39;00m \u001B[43murllib\u001B[49m\u001B[38;5;241;43m.\u001B[39;49m\u001B[43mrequest\u001B[49m\u001B[38;5;241;43m.\u001B[39;49m\u001B[43murlopen\u001B[49m\u001B[43m(\u001B[49m\u001B[38;5;241;43m*\u001B[39;49m\u001B[43margs\u001B[49m\u001B[43m,\u001B[49m\u001B[43m \u001B[49m\u001B[38;5;241;43m*\u001B[39;49m\u001B[38;5;241;43m*\u001B[39;49m\u001B[43mkwargs\u001B[49m\u001B[43m)\u001B[49m\n",
      "File \u001B[0;32m/Applications/Xcode.app/Contents/Developer/Library/Frameworks/Python3.framework/Versions/3.9/lib/python3.9/urllib/request.py:214\u001B[0m, in \u001B[0;36murlopen\u001B[0;34m(url, data, timeout, cafile, capath, cadefault, context)\u001B[0m\n\u001B[1;32m    212\u001B[0m \u001B[38;5;28;01melse\u001B[39;00m:\n\u001B[1;32m    213\u001B[0m     opener \u001B[38;5;241m=\u001B[39m _opener\n\u001B[0;32m--> 214\u001B[0m \u001B[38;5;28;01mreturn\u001B[39;00m \u001B[43mopener\u001B[49m\u001B[38;5;241;43m.\u001B[39;49m\u001B[43mopen\u001B[49m\u001B[43m(\u001B[49m\u001B[43murl\u001B[49m\u001B[43m,\u001B[49m\u001B[43m \u001B[49m\u001B[43mdata\u001B[49m\u001B[43m,\u001B[49m\u001B[43m \u001B[49m\u001B[43mtimeout\u001B[49m\u001B[43m)\u001B[49m\n",
      "File \u001B[0;32m/Applications/Xcode.app/Contents/Developer/Library/Frameworks/Python3.framework/Versions/3.9/lib/python3.9/urllib/request.py:523\u001B[0m, in \u001B[0;36mOpenerDirector.open\u001B[0;34m(self, fullurl, data, timeout)\u001B[0m\n\u001B[1;32m    521\u001B[0m \u001B[38;5;28;01mfor\u001B[39;00m processor \u001B[38;5;129;01min\u001B[39;00m \u001B[38;5;28mself\u001B[39m\u001B[38;5;241m.\u001B[39mprocess_response\u001B[38;5;241m.\u001B[39mget(protocol, []):\n\u001B[1;32m    522\u001B[0m     meth \u001B[38;5;241m=\u001B[39m \u001B[38;5;28mgetattr\u001B[39m(processor, meth_name)\n\u001B[0;32m--> 523\u001B[0m     response \u001B[38;5;241m=\u001B[39m \u001B[43mmeth\u001B[49m\u001B[43m(\u001B[49m\u001B[43mreq\u001B[49m\u001B[43m,\u001B[49m\u001B[43m \u001B[49m\u001B[43mresponse\u001B[49m\u001B[43m)\u001B[49m\n\u001B[1;32m    525\u001B[0m \u001B[38;5;28;01mreturn\u001B[39;00m response\n",
      "File \u001B[0;32m/Applications/Xcode.app/Contents/Developer/Library/Frameworks/Python3.framework/Versions/3.9/lib/python3.9/urllib/request.py:632\u001B[0m, in \u001B[0;36mHTTPErrorProcessor.http_response\u001B[0;34m(self, request, response)\u001B[0m\n\u001B[1;32m    629\u001B[0m \u001B[38;5;66;03m# According to RFC 2616, \"2xx\" code indicates that the client's\u001B[39;00m\n\u001B[1;32m    630\u001B[0m \u001B[38;5;66;03m# request was successfully received, understood, and accepted.\u001B[39;00m\n\u001B[1;32m    631\u001B[0m \u001B[38;5;28;01mif\u001B[39;00m \u001B[38;5;129;01mnot\u001B[39;00m (\u001B[38;5;241m200\u001B[39m \u001B[38;5;241m<\u001B[39m\u001B[38;5;241m=\u001B[39m code \u001B[38;5;241m<\u001B[39m \u001B[38;5;241m300\u001B[39m):\n\u001B[0;32m--> 632\u001B[0m     response \u001B[38;5;241m=\u001B[39m \u001B[38;5;28;43mself\u001B[39;49m\u001B[38;5;241;43m.\u001B[39;49m\u001B[43mparent\u001B[49m\u001B[38;5;241;43m.\u001B[39;49m\u001B[43merror\u001B[49m\u001B[43m(\u001B[49m\n\u001B[1;32m    633\u001B[0m \u001B[43m        \u001B[49m\u001B[38;5;124;43m'\u001B[39;49m\u001B[38;5;124;43mhttp\u001B[39;49m\u001B[38;5;124;43m'\u001B[39;49m\u001B[43m,\u001B[49m\u001B[43m \u001B[49m\u001B[43mrequest\u001B[49m\u001B[43m,\u001B[49m\u001B[43m \u001B[49m\u001B[43mresponse\u001B[49m\u001B[43m,\u001B[49m\u001B[43m \u001B[49m\u001B[43mcode\u001B[49m\u001B[43m,\u001B[49m\u001B[43m \u001B[49m\u001B[43mmsg\u001B[49m\u001B[43m,\u001B[49m\u001B[43m \u001B[49m\u001B[43mhdrs\u001B[49m\u001B[43m)\u001B[49m\n\u001B[1;32m    635\u001B[0m \u001B[38;5;28;01mreturn\u001B[39;00m response\n",
      "File \u001B[0;32m/Applications/Xcode.app/Contents/Developer/Library/Frameworks/Python3.framework/Versions/3.9/lib/python3.9/urllib/request.py:561\u001B[0m, in \u001B[0;36mOpenerDirector.error\u001B[0;34m(self, proto, *args)\u001B[0m\n\u001B[1;32m    559\u001B[0m \u001B[38;5;28;01mif\u001B[39;00m http_err:\n\u001B[1;32m    560\u001B[0m     args \u001B[38;5;241m=\u001B[39m (\u001B[38;5;28mdict\u001B[39m, \u001B[38;5;124m'\u001B[39m\u001B[38;5;124mdefault\u001B[39m\u001B[38;5;124m'\u001B[39m, \u001B[38;5;124m'\u001B[39m\u001B[38;5;124mhttp_error_default\u001B[39m\u001B[38;5;124m'\u001B[39m) \u001B[38;5;241m+\u001B[39m orig_args\n\u001B[0;32m--> 561\u001B[0m     \u001B[38;5;28;01mreturn\u001B[39;00m \u001B[38;5;28;43mself\u001B[39;49m\u001B[38;5;241;43m.\u001B[39;49m\u001B[43m_call_chain\u001B[49m\u001B[43m(\u001B[49m\u001B[38;5;241;43m*\u001B[39;49m\u001B[43margs\u001B[49m\u001B[43m)\u001B[49m\n",
      "File \u001B[0;32m/Applications/Xcode.app/Contents/Developer/Library/Frameworks/Python3.framework/Versions/3.9/lib/python3.9/urllib/request.py:494\u001B[0m, in \u001B[0;36mOpenerDirector._call_chain\u001B[0;34m(self, chain, kind, meth_name, *args)\u001B[0m\n\u001B[1;32m    492\u001B[0m \u001B[38;5;28;01mfor\u001B[39;00m handler \u001B[38;5;129;01min\u001B[39;00m handlers:\n\u001B[1;32m    493\u001B[0m     func \u001B[38;5;241m=\u001B[39m \u001B[38;5;28mgetattr\u001B[39m(handler, meth_name)\n\u001B[0;32m--> 494\u001B[0m     result \u001B[38;5;241m=\u001B[39m \u001B[43mfunc\u001B[49m\u001B[43m(\u001B[49m\u001B[38;5;241;43m*\u001B[39;49m\u001B[43margs\u001B[49m\u001B[43m)\u001B[49m\n\u001B[1;32m    495\u001B[0m     \u001B[38;5;28;01mif\u001B[39;00m result \u001B[38;5;129;01mis\u001B[39;00m \u001B[38;5;129;01mnot\u001B[39;00m \u001B[38;5;28;01mNone\u001B[39;00m:\n\u001B[1;32m    496\u001B[0m         \u001B[38;5;28;01mreturn\u001B[39;00m result\n",
      "File \u001B[0;32m/Applications/Xcode.app/Contents/Developer/Library/Frameworks/Python3.framework/Versions/3.9/lib/python3.9/urllib/request.py:641\u001B[0m, in \u001B[0;36mHTTPDefaultErrorHandler.http_error_default\u001B[0;34m(self, req, fp, code, msg, hdrs)\u001B[0m\n\u001B[1;32m    640\u001B[0m \u001B[38;5;28;01mdef\u001B[39;00m \u001B[38;5;21mhttp_error_default\u001B[39m(\u001B[38;5;28mself\u001B[39m, req, fp, code, msg, hdrs):\n\u001B[0;32m--> 641\u001B[0m     \u001B[38;5;28;01mraise\u001B[39;00m HTTPError(req\u001B[38;5;241m.\u001B[39mfull_url, code, msg, hdrs, fp)\n",
      "\u001B[0;31mHTTPError\u001B[0m: HTTP Error 400: Bad Request"
     ]
    }
   ],
   "execution_count": 17
  },
  {
   "metadata": {},
   "cell_type": "markdown",
   "source": "## Protocol state cannot change",
   "id": "59f9a127a11c5870"
  },
  {
   "metadata": {
    "ExecuteTime": {
     "end_time": "2024-12-02T05:08:35.284612Z",
     "start_time": "2024-12-02T05:08:35.254963Z"
    }
   },
   "cell_type": "code",
   "source": [
    "url = data_space_consumer + \"/api/v1/restart-transfer\"\n",
    "\n",
    "payload = json.dumps({\n",
    "  \"consumerPid\": consumerPid\n",
    "})\n",
    "headers = {\n",
    "  'Content-Type': 'application/json'\n",
    "}\n",
    "\n",
    "response = requests.request(\"POST\", url, headers=headers, data=payload)\n",
    "\n",
    "pprint.pprint(response.json())"
   ],
   "id": "fe5042010fcfd9bf",
   "outputs": [
    {
     "name": "stdout",
     "output_type": "stream",
     "text": [
      "{'consumerPid': 'urn:uuid:088d0bd9-2252-49e9-8809-0790f90c1a95',\n",
      " 'error': {'@context': 'https://w3id.org/dspace/2024/1/context.json',\n",
      "           '@type': 'dspace:TransferError',\n",
      "           'dspace:code': 'TRANSFER_ERROR_CODE',\n",
      "           'dspace:consumerPid': '123',\n",
      "           'dspace:providerPid': '123',\n",
      "           'dspace:reason': ['Protocol Error. dspace:TransferRequestMessage is '\n",
      "                             'not allowed here. Current state is '\n",
      "                             'dspace:COMPLETED']}}\n"
     ]
    }
   ],
   "execution_count": 195
  },
  {
   "metadata": {
    "ExecuteTime": {
     "end_time": "2024-12-01T22:23:41.801255Z",
     "start_time": "2024-12-01T22:23:41.799628Z"
    }
   },
   "cell_type": "code",
   "source": "",
   "id": "4cf907ee29639c57",
   "outputs": [],
   "execution_count": null
  },
  {
   "metadata": {},
   "cell_type": "code",
   "outputs": [],
   "execution_count": null,
   "source": "",
   "id": "550babc04c242d6"
  }
 ],
 "metadata": {
  "kernelspec": {
   "display_name": "Python 3",
   "language": "python",
   "name": "python3"
  },
  "language_info": {
   "codemirror_mode": {
    "name": "ipython",
    "version": 2
   },
   "file_extension": ".py",
   "mimetype": "text/x-python",
   "name": "python",
   "nbconvert_exporter": "python",
   "pygments_lexer": "ipython2",
   "version": "2.7.6"
  }
 },
 "nbformat": 4,
 "nbformat_minor": 5
}

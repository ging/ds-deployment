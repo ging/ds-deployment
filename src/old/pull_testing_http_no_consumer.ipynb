{
 "cells": [
  {
   "metadata": {
    "ExecuteTime": {
     "end_time": "2024-12-19T13:31:32.446586Z",
     "start_time": "2024-12-19T13:31:32.324117Z"
    }
   },
   "cell_type": "code",
   "source": "!which python",
   "id": "f5eb35243a90b60f",
   "outputs": [
    {
     "name": "stdout",
     "output_type": "stream",
     "text": [
      "/Users/apabook/Desktop/ds-deployment/.venv/bin/python\r\n"
     ]
    }
   ],
   "execution_count": 1
  },
  {
   "metadata": {
    "collapsed": true,
    "ExecuteTime": {
     "end_time": "2024-12-19T13:38:06.247018Z",
     "start_time": "2024-12-19T13:38:06.244229Z"
    }
   },
   "cell_type": "code",
   "source": [
    "\n",
    "import json\n",
    "import pprint\n",
    "import uuid\n",
    "\n",
    "import requests\n",
    "\n"
   ],
   "id": "initial_id",
   "outputs": [],
   "execution_count": 9
  },
  {
   "metadata": {},
   "cell_type": "markdown",
   "source": [
    "# Testing LL Api for PULL transfer\n",
    "\n",
    "---"
   ],
   "id": "d606bf0c35b91005"
  },
  {
   "metadata": {},
   "cell_type": "markdown",
   "source": "### Consts",
   "id": "249fc7af32f10612"
  },
  {
   "metadata": {
    "ExecuteTime": {
     "end_time": "2024-12-19T13:31:46.123109Z",
     "start_time": "2024-12-19T13:31:46.119922Z"
    }
   },
   "cell_type": "code",
   "source": [
    "data_space_provider = \"http://127.0.0.1:1234\"\n",
    "data_space_consumer = \"http://127.0.0.1:1235\"\n",
    "context_broker = \"http://fiware-orion:1026\"\n",
    "streaming_processor = \"http://streaming-testing-service:1237\"\n",
    "\n",
    "catalog_id = \"\"\n",
    "dataservice_id = \"\"\n",
    "agreement_id = \"\"\n",
    "agreement_pid = \"\""
   ],
   "id": "4230628fecab09a1",
   "outputs": [],
   "execution_count": 3
  },
  {
   "metadata": {},
   "cell_type": "markdown",
   "source": "### Setup Catalog, Dataservice and agreements",
   "id": "a128721267853968"
  },
  {
   "metadata": {
    "ExecuteTime": {
     "end_time": "2024-12-19T13:31:47.284580Z",
     "start_time": "2024-12-19T13:31:47.186705Z"
    }
   },
   "cell_type": "code",
   "source": [
    "payload = {\n",
    "    \"foaf:homepage\": \"My catalog in Dataspace provider\",\n",
    "    \"dct:title\": \"My catalog in Dataspace provider\"\n",
    "}\n",
    "headers = {\n",
    "    \"Content-Type\": \"application/json\",\n",
    "}\n",
    "url = data_space_provider + \"/api/v1/catalogs\"\n",
    "response = requests.request(\"POST\", url, headers=headers, data=json.dumps(payload))\n",
    "response_as_json = response.json()\n",
    "catalog_id = response_as_json[\"@id\"]\n",
    "\n",
    "pprint.pprint(response.json())"
   ],
   "id": "2fabc6eafbe80045",
   "outputs": [
    {
     "name": "stdout",
     "output_type": "stream",
     "text": [
      "{'@context': 'https://w3id.org/dspace/2024/1/context.json',\n",
      " '@id': 'fdcc279d-0286-4abb-bf5f-2b2509172578',\n",
      " '@type': 'dcat:Catalog',\n",
      " 'dcat:dataset': [],\n",
      " 'dcat:keyword': '',\n",
      " 'dcat:service': [],\n",
      " 'dcat:theme': '',\n",
      " 'dct:conformsTo': None,\n",
      " 'dct:creator': None,\n",
      " 'dct:description': [],\n",
      " 'dct:identifier': 'fdcc279d-0286-4abb-bf5f-2b2509172578',\n",
      " 'dct:issued': '2024-12-19T13:31:47.236411',\n",
      " 'dct:modified': None,\n",
      " 'dct:title': 'My catalog in Dataspace provider',\n",
      " 'dspace:extraFields': None,\n",
      " 'dspace:participantId': None,\n",
      " 'foaf:homepage': 'My catalog in Dataspace provider',\n",
      " 'odrl:hasPolicy': None}\n"
     ]
    }
   ],
   "execution_count": 4
  },
  {
   "metadata": {
    "ExecuteTime": {
     "end_time": "2024-12-19T13:31:47.617757Z",
     "start_time": "2024-12-19T13:31:47.572825Z"
    }
   },
   "cell_type": "code",
   "source": [
    "payload = {\n",
    "    \"dcat:endpointURL\": context_broker + \"/v2/entities\"\n",
    "}\n",
    "headers = {\n",
    "    \"Content-Type\": \"application/json\",\n",
    "}\n",
    "url = data_space_provider + \"/api/v1/catalogs/\" + catalog_id + \"/data-services\"\n",
    "response = requests.request(\"POST\", url, headers=headers, data=json.dumps(payload))\n",
    "response_as_json = response.json()\n",
    "dataservice_id = response_as_json[\"@id\"]\n",
    "\n",
    "pprint.pprint(response.json())"
   ],
   "id": "5bb00d1a6e7ae7fe",
   "outputs": [
    {
     "name": "stdout",
     "output_type": "stream",
     "text": [
      "{'@context': 'https://w3id.org/dspace/2024/1/context.json',\n",
      " '@id': 'a8a5a215-2d04-4158-b5ce-a080cabef9ee',\n",
      " '@type': 'dcat:DataService',\n",
      " 'dcat:endpointDescription': '',\n",
      " 'dcat:endpointURL': 'http://fiware-orion:1026/v2/entities',\n",
      " 'dcat:keyword': '',\n",
      " 'dcat:theme': '',\n",
      " 'dct:conformsTo': None,\n",
      " 'dct:creator': None,\n",
      " 'dct:description': [],\n",
      " 'dct:identifier': 'a8a5a215-2d04-4158-b5ce-a080cabef9ee',\n",
      " 'dct:issued': '2024-12-19T13:31:47.578344',\n",
      " 'dct:modified': None,\n",
      " 'dct:title': None,\n",
      " 'dspace:extraFields': None,\n",
      " 'odrl:hasPolicy': None}\n"
     ]
    }
   ],
   "execution_count": 5
  },
  {
   "metadata": {
    "ExecuteTime": {
     "end_time": "2024-12-19T13:31:48.063592Z",
     "start_time": "2024-12-19T13:31:48.035140Z"
    }
   },
   "cell_type": "code",
   "source": [
    "payload = {\n",
    "    \"dataServiceId\": dataservice_id\n",
    "}\n",
    "headers = {\n",
    "    \"Content-Type\": \"application/json\",\n",
    "}\n",
    "url = data_space_provider + \"/api/v1/agreements\"\n",
    "response = requests.request(\"POST\", url, headers=headers, data=json.dumps(payload))\n",
    "response_as_json = response.json()\n",
    "agreement_id = response_as_json[\"agreement_id\"]\n",
    "agreement_pid = \"urn:uuid:\" + agreement_id\n",
    "\n",
    "pprint.pprint(response.json())"
   ],
   "id": "8195a5dbe52064ed",
   "outputs": [
    {
     "name": "stdout",
     "output_type": "stream",
     "text": [
      "{'agreement_id': 'b0d5fdc4-bd13-4dcc-9dbb-88079ce7fce5',\n",
      " 'data_service_id': 'a8a5a215-2d04-4158-b5ce-a080cabef9ee',\n",
      " 'identity': None,\n",
      " 'identity_token': None}\n"
     ]
    }
   ],
   "execution_count": 6
  },
  {
   "metadata": {},
   "cell_type": "markdown",
   "source": [
    "### Fake Callback server\n",
    "In the contiguous file called `pull_testing_no_consumer_callback_server` there is a script \\\n",
    "to deploy a fake server to capture de callback messages for the Transfer Process Protocol."
   ],
   "id": "b55e68391c6536d9"
  },
  {
   "metadata": {},
   "cell_type": "markdown",
   "source": "## Transfer Process Protocol",
   "id": "f26ea96e07cf31bb"
  },
  {
   "metadata": {},
   "cell_type": "markdown",
   "source": "### Transfer Request and Transfer Start",
   "id": "757b1c8650cc53b1"
  },
  {
   "metadata": {
    "ExecuteTime": {
     "end_time": "2024-12-19T14:39:45.031271Z",
     "start_time": "2024-12-19T14:39:44.859944Z"
    }
   },
   "cell_type": "code",
   "source": [
    "transfer_message = {\n",
    "    \"@type\": \"dspace:TransferRequestMessage\",\n",
    "    \"@context\": \"https://w3id.org/dspace/2024/1/context.json\",\n",
    "    \"dct:format\": \"http+pull\",\n",
    "    \"dspace:agreementId\": agreement_pid,\n",
    "    \"dspace:consumerPid\": \"urn:uuid:\" + str(uuid.uuid4()),\n",
    "    \"dspace:callbackAddress\": \"http://localhost:5000\"\n",
    "}\n",
    "\n",
    "url = data_space_provider + \"/transfers/request\"\n",
    "headers = {\n",
    "    \"Content-Type\": \"application/json\",\n",
    "}\n",
    "response = requests.request(\"POST\", url, headers=headers, data=json.dumps(transfer_message))\n",
    "provider_pid = response.json().get(\"dspace:providerPid\").replace(\"urn:uuid:\", \"\")\n",
    "consumer_pid = response.json().get(\"dspace:consumerPid\").replace(\"urn:uuid:\", \"\")\n",
    "response.json()"
   ],
   "id": "2d50455d3c651cc4",
   "outputs": [
    {
     "data": {
      "text/plain": [
       "{'@context': 'https://w3id.org/dspace/2024/1/context.json',\n",
       " '@type': 'dspace:TransferProcess',\n",
       " 'dspace:providerPid': 'urn:uuid:5b41985b-00d4-42b5-bf91-7471171ff9dd',\n",
       " 'dspace:consumerPid': 'urn:uuid:ab2fedaf-ea5f-4782-8e42-2af5f327f7d8',\n",
       " 'dspace:state': 'dspace:REQUESTED'}"
      ]
     },
     "execution_count": 51,
     "metadata": {},
     "output_type": "execute_result"
    }
   ],
   "execution_count": 51
  },
  {
   "metadata": {},
   "cell_type": "markdown",
   "source": "### Transfer Current Status",
   "id": "9691a349fb7e5ea4"
  },
  {
   "metadata": {
    "ExecuteTime": {
     "end_time": "2024-12-19T14:39:50.297796Z",
     "start_time": "2024-12-19T14:39:50.253525Z"
    }
   },
   "cell_type": "code",
   "source": [
    "url = data_space_provider + \"/transfers/\" + provider_pid\n",
    "response = requests.request(\"GET\", url)\n",
    "response.json()"
   ],
   "id": "298e636ebaafa0e2",
   "outputs": [
    {
     "data": {
      "text/plain": [
       "{'@context': 'https://w3id.org/dspace/2024/1/context.json',\n",
       " '@type': 'dspace:TransferProcess',\n",
       " 'dspace:providerPid': 'urn:uuid:5b41985b-00d4-42b5-bf91-7471171ff9dd',\n",
       " 'dspace:consumerPid': 'urn:uuid:ab2fedaf-ea5f-4782-8e42-2af5f327f7d8',\n",
       " 'dspace:state': 'dspace:STARTED'}"
      ]
     },
     "execution_count": 52,
     "metadata": {},
     "output_type": "execute_result"
    }
   ],
   "execution_count": 52
  },
  {
   "metadata": {},
   "cell_type": "markdown",
   "source": "### Transfer Suspend\n",
   "id": "f46005657c6a0c12"
  },
  {
   "metadata": {
    "ExecuteTime": {
     "end_time": "2024-12-19T14:39:53.495579Z",
     "start_time": "2024-12-19T14:39:53.414565Z"
    }
   },
   "cell_type": "code",
   "source": [
    "transfer_message = {\n",
    "    \"@type\": \"dspace:TransferSuspensionMessage\",\n",
    "    \"@context\": \"https://w3id.org/dspace/2024/1/context.json\",\n",
    "    \"dspace:providerPid\": \"urn:uuid:\" + provider_pid,\n",
    "    \"dspace:consumerPid\": \"urn:uuid:\" + consumer_pid,\n",
    "    \"dspace:code\": \"200\",\n",
    "    \"dspace:reason\": [\n",
    "        \"blabla\"\n",
    "    ]\n",
    "}\n",
    "\n",
    "url = data_space_provider + \"/transfers/suspension\"\n",
    "headers = {\n",
    "    \"Content-Type\": \"application/json\",\n",
    "}\n",
    "response = requests.request(\"POST\", url, headers=headers, data=json.dumps(transfer_message))\n",
    "response.json()"
   ],
   "id": "9f17afebfaf279e2",
   "outputs": [
    {
     "data": {
      "text/plain": [
       "{'@context': 'https://w3id.org/dspace/2024/1/context.json',\n",
       " '@type': 'dspace:TransferProcess',\n",
       " 'dspace:providerPid': 'urn:uuid:5b41985b-00d4-42b5-bf91-7471171ff9dd',\n",
       " 'dspace:consumerPid': 'urn:uuid:ab2fedaf-ea5f-4782-8e42-2af5f327f7d8',\n",
       " 'dspace:state': 'dspace:SUSPENDED'}"
      ]
     },
     "execution_count": 53,
     "metadata": {},
     "output_type": "execute_result"
    }
   ],
   "execution_count": 53
  },
  {
   "metadata": {},
   "cell_type": "markdown",
   "source": "### Transfer Complete\n",
   "id": "412bc9827535f774"
  },
  {
   "metadata": {
    "ExecuteTime": {
     "end_time": "2024-12-19T14:04:43.606970Z",
     "start_time": "2024-12-19T14:04:43.472257Z"
    }
   },
   "cell_type": "code",
   "source": [
    "transfer_message = {\n",
    "    \"@type\": \"dspace:TransferCompletionMessage\",\n",
    "    \"@context\": \"https://w3id.org/dspace/2024/1/context.json\",\n",
    "    \"dspace:providerPid\": \"urn:uuid:\" + provider_pid,\n",
    "    \"dspace:consumerPid\": \"urn:uuid:\" + consumer_pid,\n",
    "}\n",
    "\n",
    "url = data_space_provider + \"/transfers/completion\"\n",
    "headers = {\n",
    "    \"Content-Type\": \"application/json\",\n",
    "}\n",
    "response = requests.request(\"POST\", url, headers=headers, data=json.dumps(transfer_message))\n",
    "response.json()"
   ],
   "id": "ce97605beca37d19",
   "outputs": [
    {
     "data": {
      "text/plain": [
       "{'@context': 'https://w3id.org/dspace/2024/1/context.json',\n",
       " '@type': 'dspace:TransferProcess',\n",
       " 'dspace:providerPid': 'urn:uuid:4a24add9-55d6-4f58-8168-68235b72bdf7',\n",
       " 'dspace:consumerPid': 'urn:uuid:c7521b31-d797-46c4-831d-82464a61d521',\n",
       " 'dspace:state': 'dspace:COMPLETED'}"
      ]
     },
     "execution_count": 43,
     "metadata": {},
     "output_type": "execute_result"
    }
   ],
   "execution_count": 43
  },
  {
   "metadata": {},
   "cell_type": "markdown",
   "source": "### Transfer Termination\n",
   "id": "9f42348ef4e31373"
  },
  {
   "metadata": {
    "ExecuteTime": {
     "end_time": "2024-12-19T14:04:44.977330Z",
     "start_time": "2024-12-19T14:04:44.928506Z"
    }
   },
   "cell_type": "code",
   "source": [
    "transfer_message = {\n",
    "    \"@type\": \"dspace:TransferTerminationMessage\",\n",
    "    \"@context\": \"https://w3id.org/dspace/2024/1/context.json\",\n",
    "    \"dspace:providerPid\": \"urn:uuid:\" + provider_pid,\n",
    "    \"dspace:consumerPid\": \"urn:uuid:\" + consumer_pid,\n",
    "    \"dspace:code\": \"200\",\n",
    "    \"dspace:reason\": [\n",
    "        \"blabla\"\n",
    "    ]\n",
    "}\n",
    "\n",
    "url = data_space_provider + \"/transfers/termination\"\n",
    "headers = {\n",
    "    \"Content-Type\": \"application/json\",\n",
    "}\n",
    "response = requests.request(\"POST\", url, headers=headers, data=json.dumps(transfer_message))\n",
    "response.json()"
   ],
   "id": "545de5df9bbcb83c",
   "outputs": [
    {
     "data": {
      "text/plain": [
       "{'@context': 'https://w3id.org/dspace/2024/1/context.json',\n",
       " '@type': 'dspace:TransferError',\n",
       " 'dspace:providerPid': '123',\n",
       " 'dspace:consumerPid': '123',\n",
       " 'dspace:code': 'TRANSFER_ERROR_CODE',\n",
       " 'dspace:reason': ['Protocol Error. dspace:TransferRequestMessage is not allowed here. Current state is dspace:COMPLETED']}"
      ]
     },
     "execution_count": 44,
     "metadata": {},
     "output_type": "execute_result"
    }
   ],
   "execution_count": 44
  },
  {
   "metadata": {},
   "cell_type": "code",
   "outputs": [],
   "execution_count": null,
   "source": "",
   "id": "6e5d9a40af0dcb26"
  }
 ],
 "metadata": {
  "kernelspec": {
   "display_name": "Python 3",
   "language": "python",
   "name": "python3"
  },
  "language_info": {
   "codemirror_mode": {
    "name": "ipython",
    "version": 2
   },
   "file_extension": ".py",
   "mimetype": "text/x-python",
   "name": "python",
   "nbconvert_exporter": "python",
   "pygments_lexer": "ipython2",
   "version": "2.7.6"
  }
 },
 "nbformat": 4,
 "nbformat_minor": 5
}

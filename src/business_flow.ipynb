{
 "cells": [
  {
   "cell_type": "code",
   "id": "affa926f259653e0",
   "metadata": {
    "ExecuteTime": {
     "end_time": "2025-06-30T07:40:46.593099Z",
     "start_time": "2025-06-30T07:40:46.476404Z"
    }
   },
   "source": "!which python",
   "outputs": [
    {
     "name": "stdout",
     "output_type": "stream",
     "text": [
      "/Users/apabook/Desktop/ds-deployment/venv/bin/python\r\n"
     ]
    }
   ],
   "execution_count": 1
  },
  {
   "cell_type": "code",
   "id": "68e1fe621d8a0ef0",
   "metadata": {
    "ExecuteTime": {
     "end_time": "2025-06-30T07:40:48.163530Z",
     "start_time": "2025-06-30T07:40:46.600760Z"
    }
   },
   "source": [
    "import requests\n",
    "import json\n",
    "import pandas as pd\n",
    "from urllib.error import HTTPError, URLError"
   ],
   "outputs": [],
   "execution_count": 2
  },
  {
   "cell_type": "markdown",
   "id": "bc15da9211b43e67",
   "metadata": {},
   "source": "# Complete business flow"
  },
  {
   "cell_type": "markdown",
   "id": "b0f6ecdf966b8b68",
   "metadata": {},
   "source": [
    "## Consts\n"
   ]
  },
  {
   "cell_type": "code",
   "id": "f55ce154aa95c49d",
   "metadata": {
    "ExecuteTime": {
     "end_time": "2025-06-30T07:40:48.244050Z",
     "start_time": "2025-06-30T07:40:48.241447Z"
    }
   },
   "source": [
    "data_space_business = \"http://127.0.0.1:1206\"\n",
    "data_space_provider = \"http://127.0.0.1:1200\"\n",
    "data_space_consumer = \"http://127.0.0.1:1100\"\n",
    "api_endpoint = \"https://jsonplaceholder.typicode.com/comments\"\n",
    "\n",
    "data_space_provider_participant_id = \"\"\n",
    "data_space_provider_participant_token = \"\"\n",
    "data_space_consumer_participant_id = \"\"\n",
    "data_space_consumer_participant_token = \"\"\n",
    "catalog_id = \"\"\n",
    "dataset_id = \"\"\n",
    "policy_id = \"\"\n",
    "target_id = \"\"\n",
    "template_id = \"\"\n",
    "template = \"\"\n",
    "\n",
    "cn_consumer_id = \"\"\n",
    "cn_provider_id = \"\"\n",
    "agreement_id = \"\"\n",
    "transfer_consumer_id = \"\"\n",
    "transfer_provider_id = \"\"\n",
    "consumer_data_address = \"\"\n",
    "\n",
    "json_header = {\n",
    "    \"Content-Type\": \"application/json\",\n",
    "}"
   ],
   "outputs": [],
   "execution_count": 3
  },
  {
   "cell_type": "markdown",
   "id": "69b1951a684bd85e",
   "metadata": {},
   "source": "## Participants onboarding (in IT system)"
  },
  {
   "metadata": {
    "ExecuteTime": {
     "end_time": "2025-06-30T07:40:48.283054Z",
     "start_time": "2025-06-30T07:40:48.250695Z"
    }
   },
   "cell_type": "code",
   "source": [
    "url = data_space_provider + \"/api/v1/mates/me\"\n",
    "response = requests.request(\"GET\", url, headers=json_header)\n",
    "response_as_json = response.json()\n",
    "print(json.dumps(response_as_json, indent=4))"
   ],
   "id": "fd6e15490c9c243",
   "outputs": [
    {
     "name": "stdout",
     "output_type": "stream",
     "text": [
      "{\n",
      "    \"participant_id\": \"did:jwk:eyJrdHkiOiJPS1AiLCJjcnYiOiJFZDI1NTE5Iiwia2lkIjoiWXU4b3dhN3pHZ191Vi1XN3ZpM0JVMnA1aExPTGNCZDNMQkRNXzY4ZUR4QSIsIngiOiIxSzFWc1lrZ3RmREh3WHJfUEF5X25FeFh1ZmIxT3NLQjloYXB4aEkwcl80In0\",\n",
      "    \"participant_slug\": \"Myself\",\n",
      "    \"participant_type\": \"Provider\",\n",
      "    \"base_url\": \"http://127.0.0.1:1200\",\n",
      "    \"token\": null,\n",
      "    \"token_actions\": null,\n",
      "    \"saved_at\": \"2025-06-27T11:50:40.051487\",\n",
      "    \"last_interaction\": \"2025-06-27T11:50:40.051492\",\n",
      "    \"is_me\": true\n",
      "}\n"
     ]
    }
   ],
   "execution_count": 4
  },
  {
   "metadata": {
    "ExecuteTime": {
     "end_time": "2025-06-30T07:40:48.528347Z",
     "start_time": "2025-06-30T07:40:48.426265Z"
    }
   },
   "cell_type": "code",
   "source": [
    "url = data_space_consumer + \"/api/v1/mates/me\"\n",
    "response = requests.request(\"GET\", url, headers=json_header)\n",
    "response_as_json = response.json()\n",
    "print(json.dumps(response_as_json, indent=4))"
   ],
   "id": "f3005ac19e0f5ae0",
   "outputs": [
    {
     "name": "stdout",
     "output_type": "stream",
     "text": [
      "{\n",
      "    \"participant_id\": \"did:jwk:eyJrdHkiOiJPS1AiLCJjcnYiOiJFZDI1NTE5Iiwia2lkIjoibWlwSXF5TXpYLUpaQ3B6dnFmOFZTWDB5RlhjWjlqWDdMcHI5bDZVUGx0VSIsIngiOiJFX19lMXZIMm9rMDBUSEVTTkFIUXpNNl85b2pmWXJscGo2MzROZVBTdU9VIn0\",\n",
      "    \"participant_slug\": \"Myself\",\n",
      "    \"participant_type\": \"Consumer\",\n",
      "    \"base_url\": \"http://127.0.0.1:1100\",\n",
      "    \"token\": null,\n",
      "    \"token_actions\": null,\n",
      "    \"saved_at\": \"2025-06-27T11:50:32.564619\",\n",
      "    \"last_interaction\": \"2025-06-27T11:50:32.564643\",\n",
      "    \"is_me\": true\n",
      "}\n"
     ]
    }
   ],
   "execution_count": 5
  },
  {
   "metadata": {
    "ExecuteTime": {
     "end_time": "2025-06-30T07:40:48.749516Z",
     "start_time": "2025-06-30T07:40:48.563242Z"
    }
   },
   "cell_type": "code",
   "source": [
    "url = data_space_consumer + \"/api/v1/auth/manual/ssi\"\n",
    "payload = {\n",
    "    \"url\": data_space_provider + \"/api/v1/access\",\n",
    "    \"id\": \"friendly_slugname_for_provider\",\n",
    "    \"slug\": \"friendly_slugname_for_provider\",\n",
    "    \"actions\": \"talk\"\n",
    "}\n",
    "response = requests.request(\"POST\", url, headers=json_header, data=json.dumps(payload))\n",
    "response_as_text = response.text\n",
    "response_as_text"
   ],
   "id": "b2ddcb3defa2aa33",
   "outputs": [
    {
     "data": {
      "text/plain": [
       "'openid4vp://authorize?response_type=vp_token&client_id=http%3A%2F%2Fhost.docker.internal%3A1200%2Fapi%2Fv1%2Fverify%2FZVRg0EqNHGVK&response_mode=direct_post&presentation_definition_uri=http%3A%2F%2Fhost.docker.internal%3A1200%2Fapi%2Fv1%2Fpd%2FZVRg0EqNHGVK&client_id_scheme=redirect_uri&nonce=oZGSfZ4r6Ji2&response_uri=http%3A%2F%2Fhost.docker.internal%3A1200%2Fapi%2Fv1%2Fverify%2FZVRg0EqNHGVK'"
      ]
     },
     "execution_count": 6,
     "metadata": {},
     "output_type": "execute_result"
    }
   ],
   "execution_count": 6
  },
  {
   "cell_type": "markdown",
   "id": "4726580125d210c0",
   "metadata": {},
   "source": "### Client logs in business via vp-presentation"
  },
  {
   "cell_type": "code",
   "id": "5c0d1e5f5524774a",
   "metadata": {
    "ExecuteTime": {
     "end_time": "2025-06-30T07:40:48.851418Z",
     "start_time": "2025-06-30T07:40:48.838176Z"
    }
   },
   "source": [
    "url = data_space_business + \"/gateway/api/login\"\n",
    "payload = {\n",
    "    \"authRequestId\": \"asdasdasdasdasd\",\n",
    "}\n",
    "response = requests.request(\"POST\", url, headers=json_header, data=json.dumps(payload))\n",
    "response_as_text = response.text\n",
    "response_as_text"
   ],
   "outputs": [
    {
     "data": {
      "text/plain": [
       "'openid4vp://authorize?response_type=vp_token&client_id=http%3A%2F%2Fhost.docker.internal%3A1200%2Fapi%2Fv1%2Fverify%2Fasdasdasdasdasd&response_mode=direct_post&presentation_definition_uri=http%3A%2F%2Fhost.docker.internal%3A1200%2Fapi%2Fv1%2Fpd%2Fasdasdasdasdasd&client_id_scheme=redirect_uri&nonce=JXh8Nu57rlxM&response_uri=http%3A%2F%2Fhost.docker.internal%3A1200%2Fapi%2Fv1%2Fverify%2Fasdasdasdasdasd'"
      ]
     },
     "execution_count": 7,
     "metadata": {},
     "output_type": "execute_result"
    }
   ],
   "execution_count": 7
  },
  {
   "cell_type": "markdown",
   "id": "496a76b6de3279c7",
   "metadata": {},
   "source": [
    "### Provider and Consumer ids"
   ]
  },
  {
   "cell_type": "code",
   "id": "63286f13d2c118cd",
   "metadata": {
    "ExecuteTime": {
     "end_time": "2025-06-30T07:40:49.785610Z",
     "start_time": "2025-06-30T07:40:49.758902Z"
    }
   },
   "source": [
    "url = data_space_provider + \"/api/v1/busmates\"\n",
    "response = requests.request(\"GET\", url, headers=json_header, data=json.dumps(payload))\n",
    "response_as_json = response.json()\n",
    "data_space_consumer_participant_id = response_as_json[1][\"participant_id\"]\n",
    "data_space_consumer_participant_token = response_as_json[1][\"token\"]\n",
    "print(json.dumps(response_as_json, indent=4))"
   ],
   "outputs": [
    {
     "name": "stdout",
     "output_type": "stream",
     "text": [
      "[\n",
      "    {\n",
      "        \"id\": \"YyV0mTYon1PC\",\n",
      "        \"participant_id\": \"did:jwk:eyJrdHkiOiJPS1AiLCJjcnYiOiJFZDI1NTE5Iiwia2lkIjoibWlwSXF5TXpYLUpaQ3B6dnFmOFZTWDB5RlhjWjlqWDdMcHI5bDZVUGx0VSIsIngiOiJFX19lMXZIMm9rMDBUSEVTTkFIUXpNNl85b2pmWXJscGo2MzROZVBTdU9VIn0\",\n",
      "        \"token\": \"Sls10kwU9grqsVgdFIO7nTsDg8-hocGabpFfW9HoSBM\",\n",
      "        \"token_actions\": \"talk\",\n",
      "        \"saved_at\": \"2025-06-27T11:29:38.654827\",\n",
      "        \"last_interaction\": \"2025-06-27T11:29:38.654830\"\n",
      "    },\n",
      "    {\n",
      "        \"id\": \"NRx4oNK7IKQ1\",\n",
      "        \"participant_id\": \"did:jwk:eyJrdHkiOiJPS1AiLCJjcnYiOiJFZDI1NTE5Iiwia2lkIjoiWXU4b3dhN3pHZ191Vi1XN3ZpM0JVMnA1aExPTGNCZDNMQkRNXzY4ZUR4QSIsIngiOiIxSzFWc1lrZ3RmREh3WHJfUEF5X25FeFh1ZmIxT3NLQjloYXB4aEkwcl80In0\",\n",
      "        \"token\": \"dTh_I_YMnaxhCTGBOm5II6Bgn_YAgQJHIYB6EfOezjg\",\n",
      "        \"token_actions\": \"talk\",\n",
      "        \"saved_at\": \"2025-06-27T11:29:55.189287\",\n",
      "        \"last_interaction\": \"2025-06-27T11:29:55.189290\"\n",
      "    },\n",
      "    {\n",
      "        \"id\": \"L8M61dw7HEHN\",\n",
      "        \"participant_id\": \"did:jwk:eyJrdHkiOiJPS1AiLCJjcnYiOiJFZDI1NTE5Iiwia2lkIjoiWXU4b3dhN3pHZ191Vi1XN3ZpM0JVMnA1aExPTGNCZDNMQkRNXzY4ZUR4QSIsIngiOiIxSzFWc1lrZ3RmREh3WHJfUEF5X25FeFh1ZmIxT3NLQjloYXB4aEkwcl80In0\",\n",
      "        \"token\": \"C1eZlh8ZBuRC9EEBDtUnVZWhJRLDX6G3BBJxZYrU4ZE\",\n",
      "        \"token_actions\": \"talk\",\n",
      "        \"saved_at\": \"2025-06-27T11:30:24.016799\",\n",
      "        \"last_interaction\": \"2025-06-27T11:30:24.016802\"\n",
      "    },\n",
      "    {\n",
      "        \"id\": \"5mT7AB07LT62\",\n",
      "        \"participant_id\": \"did:jwk:eyJrdHkiOiJPS1AiLCJjcnYiOiJFZDI1NTE5Iiwia2lkIjoiWXU4b3dhN3pHZ191Vi1XN3ZpM0JVMnA1aExPTGNCZDNMQkRNXzY4ZUR4QSIsIngiOiIxSzFWc1lrZ3RmREh3WHJfUEF5X25FeFh1ZmIxT3NLQjloYXB4aEkwcl80In0\",\n",
      "        \"token\": \"BB9jbWhdhSdyGePABkdhPzg9yMzPKfpIq90-1IE6m4E\",\n",
      "        \"token_actions\": \"talk\",\n",
      "        \"saved_at\": \"2025-06-27T11:43:03.641819\",\n",
      "        \"last_interaction\": \"2025-06-27T11:43:03.641821\"\n",
      "    },\n",
      "    {\n",
      "        \"id\": \"Tj9Ce7l0Z2yr\",\n",
      "        \"participant_id\": \"did:jwk:eyJrdHkiOiJPS1AiLCJjcnYiOiJFZDI1NTE5Iiwia2lkIjoibWlwSXF5TXpYLUpaQ3B6dnFmOFZTWDB5RlhjWjlqWDdMcHI5bDZVUGx0VSIsIngiOiJFX19lMXZIMm9rMDBUSEVTTkFIUXpNNl85b2pmWXJscGo2MzROZVBTdU9VIn0\",\n",
      "        \"token\": \"BnY-yhfqz4z4Rlb2_i8xHuO3WA869SHlZ50ZWcOCxLo\",\n",
      "        \"token_actions\": \"talk\",\n",
      "        \"saved_at\": \"2025-06-27T11:55:07.215089\",\n",
      "        \"last_interaction\": \"2025-06-27T11:55:07.215091\"\n",
      "    },\n",
      "    {\n",
      "        \"id\": \"l0UZfTarqaDR\",\n",
      "        \"participant_id\": \"did:jwk:eyJrdHkiOiJPS1AiLCJjcnYiOiJFZDI1NTE5Iiwia2lkIjoibWlwSXF5TXpYLUpaQ3B6dnFmOFZTWDB5RlhjWjlqWDdMcHI5bDZVUGx0VSIsIngiOiJFX19lMXZIMm9rMDBUSEVTTkFIUXpNNl85b2pmWXJscGo2MzROZVBTdU9VIn0\",\n",
      "        \"token\": \"_So5csTpBlAutDUf5eYRUgEeV1VNw-854Sy_SPXFmAw\",\n",
      "        \"token_actions\": \"talk\",\n",
      "        \"saved_at\": \"2025-06-27T12:28:01.940113\",\n",
      "        \"last_interaction\": \"2025-06-27T12:28:01.940114\"\n",
      "    },\n",
      "    {\n",
      "        \"id\": \"yhhF3dmPuitQ\",\n",
      "        \"participant_id\": \"did:jwk:eyJrdHkiOiJPS1AiLCJjcnYiOiJFZDI1NTE5Iiwia2lkIjoibWlwSXF5TXpYLUpaQ3B6dnFmOFZTWDB5RlhjWjlqWDdMcHI5bDZVUGx0VSIsIngiOiJFX19lMXZIMm9rMDBUSEVTTkFIUXpNNl85b2pmWXJscGo2MzROZVBTdU9VIn0\",\n",
      "        \"token\": \"PvenASbuS_XRAONPE4s_MTV13CHoZj_Q6iHagP7UCxo\",\n",
      "        \"token_actions\": \"talk\",\n",
      "        \"saved_at\": \"2025-06-27T12:29:10.377152\",\n",
      "        \"last_interaction\": \"2025-06-27T12:29:10.377153\"\n",
      "    },\n",
      "    {\n",
      "        \"id\": \"6AkTFGoF6IE2\",\n",
      "        \"participant_id\": \"did:jwk:eyJrdHkiOiJPS1AiLCJjcnYiOiJFZDI1NTE5Iiwia2lkIjoiWXU4b3dhN3pHZ191Vi1XN3ZpM0JVMnA1aExPTGNCZDNMQkRNXzY4ZUR4QSIsIngiOiIxSzFWc1lrZ3RmREh3WHJfUEF5X25FeFh1ZmIxT3NLQjloYXB4aEkwcl80In0\",\n",
      "        \"token\": \"uJKiKwQUynPR5p3wW9FPFoyPOiWNBos9CvH6XEZHums\",\n",
      "        \"token_actions\": \"talk\",\n",
      "        \"saved_at\": \"2025-06-27T12:29:55.381342\",\n",
      "        \"last_interaction\": \"2025-06-27T12:29:55.381344\"\n",
      "    },\n",
      "    {\n",
      "        \"id\": \"vFIniHBE6l9P\",\n",
      "        \"participant_id\": \"did:jwk:eyJrdHkiOiJPS1AiLCJjcnYiOiJFZDI1NTE5Iiwia2lkIjoiWXU4b3dhN3pHZ191Vi1XN3ZpM0JVMnA1aExPTGNCZDNMQkRNXzY4ZUR4QSIsIngiOiIxSzFWc1lrZ3RmREh3WHJfUEF5X25FeFh1ZmIxT3NLQjloYXB4aEkwcl80In0\",\n",
      "        \"token\": \"LZrFoojunFs5cYkwwP-fDKuVnlRjW1fKgczcLARA6xk\",\n",
      "        \"token_actions\": \"talk\",\n",
      "        \"saved_at\": \"2025-06-27T19:57:56.373213\",\n",
      "        \"last_interaction\": \"2025-06-27T19:57:56.373214\"\n",
      "    },\n",
      "    {\n",
      "        \"id\": \"oIzz5ZfDwdwx\",\n",
      "        \"participant_id\": \"did:jwk:eyJrdHkiOiJPS1AiLCJjcnYiOiJFZDI1NTE5Iiwia2lkIjoiWXU4b3dhN3pHZ191Vi1XN3ZpM0JVMnA1aExPTGNCZDNMQkRNXzY4ZUR4QSIsIngiOiIxSzFWc1lrZ3RmREh3WHJfUEF5X25FeFh1ZmIxT3NLQjloYXB4aEkwcl80In0\",\n",
      "        \"token\": \"QbtfRYtenXty-S2tt5ddSL4vbBCrx7BwqTXqMNpJWUE\",\n",
      "        \"token_actions\": \"talk\",\n",
      "        \"saved_at\": \"2025-06-30T07:29:18.270534\",\n",
      "        \"last_interaction\": \"2025-06-30T07:29:18.270535\"\n",
      "    },\n",
      "    {\n",
      "        \"id\": \"4DEWZopdRu48\",\n",
      "        \"participant_id\": \"did:jwk:eyJrdHkiOiJPS1AiLCJjcnYiOiJFZDI1NTE5Iiwia2lkIjoibWlwSXF5TXpYLUpaQ3B6dnFmOFZTWDB5RlhjWjlqWDdMcHI5bDZVUGx0VSIsIngiOiJFX19lMXZIMm9rMDBUSEVTTkFIUXpNNl85b2pmWXJscGo2MzROZVBTdU9VIn0\",\n",
      "        \"token\": \"zJn2qSbxPIwlqq0x7o42H2rrtDx2mepclC2dWdhkmes\",\n",
      "        \"token_actions\": \"talk\",\n",
      "        \"saved_at\": \"2025-06-30T07:31:03.889005\",\n",
      "        \"last_interaction\": \"2025-06-30T07:31:03.889006\"\n",
      "    }\n",
      "]\n"
     ]
    }
   ],
   "execution_count": 8
  },
  {
   "metadata": {
    "ExecuteTime": {
     "end_time": "2025-06-30T07:40:50.978646Z",
     "start_time": "2025-06-30T07:40:50.955969Z"
    }
   },
   "cell_type": "code",
   "source": [
    "url = data_space_provider + \"/api/v1/mates\"\n",
    "response = requests.request(\"GET\", url, headers=json_header, data=json.dumps(payload))\n",
    "response_as_json = response.json()\n",
    "data_space_consumer_participant_id = response_as_json[1][\"participant_id\"]\n",
    "data_space_consumer_participant_token = response_as_json[1][\"token\"]\n",
    "print(json.dumps(response_as_json, indent=4))"
   ],
   "id": "53e6131199f1900e",
   "outputs": [
    {
     "name": "stdout",
     "output_type": "stream",
     "text": [
      "[\n",
      "    {\n",
      "        \"participant_id\": \"did:jwk:eyJrdHkiOiJPS1AiLCJjcnYiOiJFZDI1NTE5Iiwia2lkIjoibWlwSXF5TXpYLUpaQ3B6dnFmOFZTWDB5RlhjWjlqWDdMcHI5bDZVUGx0VSIsIngiOiJFX19lMXZIMm9rMDBUSEVTTkFIUXpNNl85b2pmWXJscGo2MzROZVBTdU9VIn0\",\n",
      "        \"participant_slug\": \"\\\"rainbow_consumer\\\"\",\n",
      "        \"participant_type\": \"Consumer\",\n",
      "        \"base_url\": \"http://127.0.0.1:1100\",\n",
      "        \"token\": \"qHrQZ65nLs2fIPb9-pDZisQj0VWfuJ6UEq3folG-QLw\",\n",
      "        \"token_actions\": \"talk\",\n",
      "        \"saved_at\": \"2025-06-27T11:29:01.267481\",\n",
      "        \"last_interaction\": \"2025-06-27T11:29:01.267482\",\n",
      "        \"is_me\": false\n",
      "    },\n",
      "    {\n",
      "        \"participant_id\": \"did:jwk:eyJrdHkiOiJPS1AiLCJjcnYiOiJFZDI1NTE5Iiwia2lkIjoiWXU4b3dhN3pHZ191Vi1XN3ZpM0JVMnA1aExPTGNCZDNMQkRNXzY4ZUR4QSIsIngiOiIxSzFWc1lrZ3RmREh3WHJfUEF5X25FeFh1ZmIxT3NLQjloYXB4aEkwcl80In0\",\n",
      "        \"participant_slug\": \"Myself\",\n",
      "        \"participant_type\": \"Provider\",\n",
      "        \"base_url\": \"http://127.0.0.1:1200\",\n",
      "        \"token\": null,\n",
      "        \"token_actions\": null,\n",
      "        \"saved_at\": \"2025-06-27T11:50:40.051487\",\n",
      "        \"last_interaction\": \"2025-06-27T11:50:40.051492\",\n",
      "        \"is_me\": true\n",
      "    }\n",
      "]\n"
     ]
    }
   ],
   "execution_count": 9
  },
  {
   "cell_type": "code",
   "id": "163378c48a331362",
   "metadata": {
    "ExecuteTime": {
     "end_time": "2025-06-30T07:40:55.629720Z",
     "start_time": "2025-06-30T07:40:55.604920Z"
    }
   },
   "source": [
    "url = data_space_consumer + \"/api/v1/mates\"\n",
    "response = requests.request(\"GET\", url, headers=json_header, data=json.dumps(payload))\n",
    "response_as_json = response.json()\n",
    "print(json.dumps(response_as_json, indent=4))"
   ],
   "outputs": [
    {
     "name": "stdout",
     "output_type": "stream",
     "text": [
      "[\n",
      "    {\n",
      "        \"participant_id\": \"did:jwk:eyJrdHkiOiJPS1AiLCJjcnYiOiJFZDI1NTE5Iiwia2lkIjoiWXU4b3dhN3pHZ191Vi1XN3ZpM0JVMnA1aExPTGNCZDNMQkRNXzY4ZUR4QSIsIngiOiIxSzFWc1lrZ3RmREh3WHJfUEF5X25FeFh1ZmIxT3NLQjloYXB4aEkwcl80In0\",\n",
      "        \"participant_slug\": \"provider\",\n",
      "        \"participant_type\": \"Provider\",\n",
      "        \"base_url\": \"http://127.0.0.1:1200\",\n",
      "        \"token\": \"qHrQZ65nLs2fIPb9-pDZisQj0VWfuJ6UEq3folG-QLw\",\n",
      "        \"token_actions\": \"talk\",\n",
      "        \"saved_at\": \"2025-06-27T11:29:01.294330\",\n",
      "        \"last_interaction\": \"2025-06-27T11:29:01.294331\",\n",
      "        \"is_me\": false\n",
      "    },\n",
      "    {\n",
      "        \"participant_id\": \"did:jwk:eyJrdHkiOiJPS1AiLCJjcnYiOiJFZDI1NTE5Iiwia2lkIjoibWlwSXF5TXpYLUpaQ3B6dnFmOFZTWDB5RlhjWjlqWDdMcHI5bDZVUGx0VSIsIngiOiJFX19lMXZIMm9rMDBUSEVTTkFIUXpNNl85b2pmWXJscGo2MzROZVBTdU9VIn0\",\n",
      "        \"participant_slug\": \"Myself\",\n",
      "        \"participant_type\": \"Consumer\",\n",
      "        \"base_url\": \"http://127.0.0.1:1100\",\n",
      "        \"token\": null,\n",
      "        \"token_actions\": null,\n",
      "        \"saved_at\": \"2025-06-27T11:50:32.564619\",\n",
      "        \"last_interaction\": \"2025-06-27T11:50:32.564643\",\n",
      "        \"is_me\": true\n",
      "    }\n",
      "]\n"
     ]
    }
   ],
   "execution_count": 10
  },
  {
   "cell_type": "markdown",
   "id": "89cf12a469c65479",
   "metadata": {},
   "source": "## Business User Pathway"
  },
  {
   "metadata": {},
   "cell_type": "markdown",
   "source": "### Fetching catalogs and datasets in Datahub",
   "id": "560af7233a217d2a"
  },
  {
   "cell_type": "code",
   "id": "11ed0dd3e885a07e",
   "metadata": {
    "ExecuteTime": {
     "end_time": "2025-06-30T07:41:35.818417Z",
     "start_time": "2025-06-30T07:41:35.736382Z"
    }
   },
   "source": [
    "url = data_space_business + \"/gateway/api/catalogs\"\n",
    "response = requests.request(\"GET\", url, headers=json_header)\n",
    "response_as_json = response.json()\n",
    "catalog_id = response_as_json[0][\"urn\"]\n",
    "catalog_id"
   ],
   "outputs": [
    {
     "data": {
      "text/plain": [
       "'urn:li:domain:medicamentos'"
      ]
     },
     "execution_count": 11,
     "metadata": {},
     "output_type": "execute_result"
    }
   ],
   "execution_count": 11
  },
  {
   "cell_type": "code",
   "id": "7baa8c98c1636e0e",
   "metadata": {
    "ExecuteTime": {
     "end_time": "2025-06-30T07:41:36.493422Z",
     "start_time": "2025-06-30T07:41:36.286387Z"
    }
   },
   "source": [
    "url = data_space_business + \"/gateway/api/catalogs/{}/datasets\".format(catalog_id)\n",
    "response = requests.request(\"GET\", url, headers=json_header)\n",
    "response_as_json = response.json()\n",
    "dataset_id = response_as_json[0][\"urn\"]\n",
    "dataset_id"
   ],
   "outputs": [
    {
     "data": {
      "text/plain": [
       "'urn:li:dataset:(urn:li:dataPlatform:airflow,ACETAMINOPHEN_events,PROD)'"
      ]
     },
     "execution_count": 12,
     "metadata": {},
     "output_type": "execute_result"
    }
   ],
   "execution_count": 12
  },
  {
   "metadata": {
    "ExecuteTime": {
     "end_time": "2025-06-30T07:41:36.665406Z",
     "start_time": "2025-06-30T07:41:36.628757Z"
    }
   },
   "cell_type": "code",
   "source": [
    "url = data_space_business + \"/gateway/api/catalogs/datasets/{}\".format(dataset_id)\n",
    "response = requests.request(\"GET\", url, headers=json_header)\n",
    "response_as_json = response.json()\n",
    "print(json.dumps(response_as_json, indent=4))"
   ],
   "id": "9c7331a695339f7d",
   "outputs": [
    {
     "name": "stdout",
     "output_type": "stream",
     "text": [
      "{\n",
      "    \"urn\": \"urn:li:dataset:(urn:li:dataPlatform:airflow,ACETAMINOPHEN_events,PROD)\",\n",
      "    \"name\": \"ACETAMINOPHEN_events\",\n",
      "    \"platform\": {\n",
      "        \"name\": \"airflow\"\n",
      "    },\n",
      "    \"description\": \"Informaci\\u00f3n de los eventos producidos por el medicamento ACETAMINOPHEN\",\n",
      "    \"tag_names\": [\n",
      "        \"f\\u00e1rmacos\"\n",
      "    ],\n",
      "    \"custom_properties\": [\n",
      "        [\n",
      "            \"identifier\",\n",
      "            \"urn:li:dataset:(urn:li:dataPlatform:airflow,ACETAMINOPHEN_events,PROD)\"\n",
      "        ],\n",
      "        [\n",
      "            \"creator\",\n",
      "            \"US-FDA\"\n",
      "        ],\n",
      "        [\n",
      "            \"keywords\",\n",
      "            \"f\\u00e1rmacos\"\n",
      "        ],\n",
      "        [\n",
      "            \"access_url\",\n",
      "            \"https://api.fda.gov/drug/event.json?search=patient.drug.medicinalproduct:ACETAMINOPHEN\"\n",
      "        ],\n",
      "        [\n",
      "            \"landing_page\",\n",
      "            \"https://138.4.7.113:9005\"\n",
      "        ],\n",
      "        [\n",
      "            \"description\",\n",
      "            \"Informaci\\u00f3n de los eventos producidos por el medicamento ACETAMINOPHEN\"\n",
      "        ],\n",
      "        [\n",
      "            \"access_rights\",\n",
      "            \"public\"\n",
      "        ],\n",
      "        [\n",
      "            \"title\",\n",
      "            \"ACETAMINOPHEN_events\"\n",
      "        ],\n",
      "        [\n",
      "            \"frequency\",\n",
      "            \"3 months\"\n",
      "        ],\n",
      "        [\n",
      "            \"license\",\n",
      "            \"https://open.fda.gov/license/\"\n",
      "        ],\n",
      "        [\n",
      "            \"provenance\",\n",
      "            \"OpenFDA API + airflow\"\n",
      "        ],\n",
      "        [\n",
      "            \"modification_date\",\n",
      "            \"2025-04-28\"\n",
      "        ],\n",
      "        [\n",
      "            \"publisher\",\n",
      "            \"US-FDA\"\n",
      "        ],\n",
      "        [\n",
      "            \"geographical_coverage\",\n",
      "            \"United States of America\"\n",
      "        ]\n",
      "    ],\n",
      "    \"domain\": {\n",
      "        \"urn\": \"urn:li:domain:medicamentos\",\n",
      "        \"properties\": {\n",
      "            \"name\": \"Medicamentos\",\n",
      "            \"description\": null\n",
      "        }\n",
      "    },\n",
      "    \"glossary_terms\": [\n",
      "        {\n",
      "            \"urn\": \"urn:li:glossaryTerm:f\\u00e1rmacos\",\n",
      "            \"glossaryTermInfo\": {\n",
      "                \"name\": \"F\\u00e1rmacos\",\n",
      "                \"description\": \"Datasets de F\\u00e1rmacos.\"\n",
      "            }\n",
      "        }\n",
      "    ]\n",
      "}\n"
     ]
    }
   ],
   "execution_count": 13
  },
  {
   "metadata": {},
   "cell_type": "markdown",
   "source": "### Fetch policy templates",
   "id": "bcb61aba09d7f894"
  },
  {
   "cell_type": "code",
   "id": "99b0cb0b417c143a",
   "metadata": {
    "ExecuteTime": {
     "end_time": "2025-06-30T07:41:40.012489Z",
     "start_time": "2025-06-30T07:41:39.854972Z"
    }
   },
   "source": [
    "url = data_space_business + \"/gateway/api/policy-templates\"\n",
    "response = requests.request(\"GET\", url, headers=json_header)\n",
    "response_as_json = response.json()\n",
    "template_id = response_as_json[0][\"id\"]\n",
    "template_id"
   ],
   "outputs": [
    {
     "ename": "IndexError",
     "evalue": "list index out of range",
     "output_type": "error",
     "traceback": [
      "\u001B[0;31m---------------------------------------------------------------------------\u001B[0m",
      "\u001B[0;31mIndexError\u001B[0m                                Traceback (most recent call last)",
      "Cell \u001B[0;32mIn[14], line 4\u001B[0m\n\u001B[1;32m      2\u001B[0m response \u001B[38;5;241m=\u001B[39m requests\u001B[38;5;241m.\u001B[39mrequest(\u001B[38;5;124m\"\u001B[39m\u001B[38;5;124mGET\u001B[39m\u001B[38;5;124m\"\u001B[39m, url, headers\u001B[38;5;241m=\u001B[39mjson_header)\n\u001B[1;32m      3\u001B[0m response_as_json \u001B[38;5;241m=\u001B[39m response\u001B[38;5;241m.\u001B[39mjson()\n\u001B[0;32m----> 4\u001B[0m template_id \u001B[38;5;241m=\u001B[39m \u001B[43mresponse_as_json\u001B[49m\u001B[43m[\u001B[49m\u001B[38;5;241;43m0\u001B[39;49m\u001B[43m]\u001B[49m[\u001B[38;5;124m\"\u001B[39m\u001B[38;5;124mid\u001B[39m\u001B[38;5;124m\"\u001B[39m]\n\u001B[1;32m      5\u001B[0m template_id\n",
      "\u001B[0;31mIndexError\u001B[0m: list index out of range"
     ]
    }
   ],
   "execution_count": 14
  },
  {
   "cell_type": "code",
   "id": "a60358323bff1fad",
   "metadata": {
    "ExecuteTime": {
     "end_time": "2025-06-26T09:33:04.677396Z",
     "start_time": "2025-06-26T09:33:04.632243Z"
    }
   },
   "source": [
    "url = data_space_business + \"/gateway/api/policy-templates/{}\".format(template_id)\n",
    "response = requests.request(\"GET\", url, headers=json_header)\n",
    "response_as_json = response.json()\n",
    "template = response_as_json\n",
    "print(json.dumps(template, indent=4))\n"
   ],
   "outputs": [
    {
     "name": "stdout",
     "output_type": "stream",
     "text": [
      "{\n",
      "    \"id\": \"template_1750925461\",\n",
      "    \"title\": \"Advanced Content License Template\",\n",
      "    \"description\": \"Template for defining usage permissions with multiple user-configurable conditions.\",\n",
      "    \"content\": {\n",
      "        \"obligation\": null,\n",
      "        \"permission\": [\n",
      "            {\n",
      "                \"action\": \"use\",\n",
      "                \"constraint\": [\n",
      "                    {\n",
      "                        \"leftOperand\": \"spatial\",\n",
      "                        \"operator\": \"eq\",\n",
      "                        \"rightOperand\": \"$location\"\n",
      "                    }\n",
      "                ]\n",
      "            }\n",
      "        ],\n",
      "        \"prohibition\": null\n",
      "    },\n",
      "    \"operand_options\": {\n",
      "        \"$expiry_date\": {\n",
      "            \"dataType\": \"xsd:dateTime\",\n",
      "            \"defaultValue\": \"2026-12-31T23:59:59Z\",\n",
      "            \"formType\": \"datetime\",\n",
      "            \"label\": [\n",
      "                {\n",
      "                    \"@language\": \"es\",\n",
      "                    \"@value\": \"Fecha de Expiraci\\u00f3n\"\n",
      "                },\n",
      "                {\n",
      "                    \"@language\": \"en\",\n",
      "                    \"@value\": \"Expiration Date\"\n",
      "                }\n",
      "            ],\n",
      "            \"options\": null\n",
      "        },\n",
      "        \"$location\": {\n",
      "            \"dataType\": \"xsd:string\",\n",
      "            \"defaultValue\": \"EU\",\n",
      "            \"formType\": \"select\",\n",
      "            \"label\": [\n",
      "                {\n",
      "                    \"@language\": \"es\",\n",
      "                    \"@value\": \"Ubicaci\\u00f3n Geogr\\u00e1fica Permitida\"\n",
      "                },\n",
      "                {\n",
      "                    \"@language\": \"en\",\n",
      "                    \"@value\": \"Permitted Geographic Location\"\n",
      "                }\n",
      "            ],\n",
      "            \"options\": [\n",
      "                {\n",
      "                    \"label\": [\n",
      "                        {\n",
      "                            \"@language\": \"es\",\n",
      "                            \"@value\": \"Uni\\u00f3n Europea\"\n",
      "                        },\n",
      "                        {\n",
      "                            \"@language\": \"en\",\n",
      "                            \"@value\": \"European Union\"\n",
      "                        }\n",
      "                    ],\n",
      "                    \"value\": \"EU\"\n",
      "                },\n",
      "                {\n",
      "                    \"label\": [\n",
      "                        {\n",
      "                            \"@language\": \"es\",\n",
      "                            \"@value\": \"Estados Unidos\"\n",
      "                        },\n",
      "                        {\n",
      "                            \"@language\": \"en\",\n",
      "                            \"@value\": \"United States\"\n",
      "                        }\n",
      "                    ],\n",
      "                    \"value\": \"USA\"\n",
      "                },\n",
      "                {\n",
      "                    \"label\": [\n",
      "                        {\n",
      "                            \"@language\": \"es\",\n",
      "                            \"@value\": \"Todo el mundo\"\n",
      "                        },\n",
      "                        {\n",
      "                            \"@language\": \"en\",\n",
      "                            \"@value\": \"Worldwide\"\n",
      "                        }\n",
      "                    ],\n",
      "                    \"value\": \"Global\"\n",
      "                }\n",
      "            ]\n",
      "        }\n",
      "    },\n",
      "    \"created_at\": \"2025-06-26T08:11:01.232583\"\n",
      "}\n"
     ]
    }
   ],
   "execution_count": 16
  },
  {
   "metadata": {},
   "cell_type": "markdown",
   "source": "### Create Policy from template",
   "id": "d5a7e539499e7cf0"
  },
  {
   "cell_type": "code",
   "id": "b0cde08f81af69f3",
   "metadata": {
    "ExecuteTime": {
     "end_time": "2025-06-26T09:33:50.062069Z",
     "start_time": "2025-06-26T09:33:50.042477Z"
    }
   },
   "source": [
    "import ast\n",
    "\n",
    "# select option\n",
    "location_options = template[\"operand_options\"][\"$location\"][\"options\"]\n",
    "_location_options_inner = list(map(lambda option: option[\"value\"], location_options))\n",
    "location_choice = _location_options_inner[0]\n",
    "\n",
    "# interpolate choice in content template\n",
    "py = str(template[\"content\"]).replace(\"$location\", location_choice)\n",
    "a = python_dict = ast.literal_eval(py)\n",
    "json_string = json.dumps(a)\n",
    "offer = json.loads(json_string)\n",
    "print(json.dumps(offer, indent=4))\n",
    "\n"
   ],
   "outputs": [
    {
     "name": "stdout",
     "output_type": "stream",
     "text": [
      "{\n",
      "    \"obligation\": null,\n",
      "    \"permission\": [\n",
      "        {\n",
      "            \"action\": \"use\",\n",
      "            \"constraint\": [\n",
      "                {\n",
      "                    \"leftOperand\": \"spatial\",\n",
      "                    \"operator\": \"eq\",\n",
      "                    \"rightOperand\": \"EU\"\n",
      "                }\n",
      "            ]\n",
      "        }\n",
      "    ],\n",
      "    \"prohibition\": null\n",
      "}\n"
     ]
    }
   ],
   "execution_count": 17
  },
  {
   "metadata": {
    "ExecuteTime": {
     "end_time": "2025-06-26T09:33:59.985469Z",
     "start_time": "2025-06-26T09:33:59.790009Z"
    }
   },
   "cell_type": "code",
   "source": [
    "url = data_space_business + \"/gateway/api/catalogs/{}/datasets/{}/policies\".format(catalog_id, dataset_id)\n",
    "payload = offer\n",
    "response = requests.request(\"POST\", url, data=json.dumps(payload), headers=json_header)\n",
    "response_as_json = response.json()\n",
    "print(json.dumps(response_as_json, indent=4))"
   ],
   "id": "d268a8557cb7919c",
   "outputs": [
    {
     "name": "stdout",
     "output_type": "stream",
     "text": [
      "{\n",
      "    \"@id\": \"urn:uuid:e6df048f-b238-4fb7-a010-ec3c29ca9e91\",\n",
      "    \"permission\": [\n",
      "        {\n",
      "            \"action\": \"use\",\n",
      "            \"constraint\": [\n",
      "                {\n",
      "                    \"rightOperand\": \"EU\",\n",
      "                    \"leftOperand\": \"spatial\",\n",
      "                    \"operator\": \"eq\"\n",
      "                }\n",
      "            ]\n",
      "        }\n",
      "    ],\n",
      "    \"obligation\": null,\n",
      "    \"@type\": \"Offer\",\n",
      "    \"prohibition\": null,\n",
      "    \"target\": \"urn:li:dataset:(urn:li:dataPlatform:airflow,ACETAMINOPHEN_events,PROD)\"\n",
      "}\n"
     ]
    }
   ],
   "execution_count": 18
  },
  {
   "metadata": {},
   "cell_type": "markdown",
   "source": "## Customer Pathway",
   "id": "438aaeed57dce757"
  },
  {
   "metadata": {},
   "cell_type": "markdown",
   "source": "### Customer fetches catalogs, datasets and offers",
   "id": "b01da68b16d234a5"
  },
  {
   "metadata": {
    "ExecuteTime": {
     "end_time": "2025-06-26T09:34:19.149196Z",
     "start_time": "2025-06-26T09:34:19.050206Z"
    }
   },
   "cell_type": "code",
   "source": [
    "url = data_space_business + \"/gateway/api/catalogs\"\n",
    "response = requests.request(\"GET\", url, headers=json_header)\n",
    "response_as_json = response.json()\n",
    "catalog_id = response_as_json[0][\"urn\"]\n",
    "catalog_id"
   ],
   "id": "edf5ca244fc7aac1",
   "outputs": [
    {
     "data": {
      "text/plain": [
       "'urn:li:domain:medicamentos'"
      ]
     },
     "execution_count": 19,
     "metadata": {},
     "output_type": "execute_result"
    }
   ],
   "execution_count": 19
  },
  {
   "metadata": {
    "ExecuteTime": {
     "end_time": "2025-06-26T09:34:21.297739Z",
     "start_time": "2025-06-26T09:34:21.097737Z"
    }
   },
   "cell_type": "code",
   "source": [
    "url = data_space_business + \"/gateway/api/catalogs/{}/datasets\".format(catalog_id)\n",
    "response = requests.request(\"GET\", url, headers=json_header)\n",
    "response_as_json = response.json()\n",
    "dataset_id = response_as_json[0][\"urn\"]\n",
    "dataset_id"
   ],
   "id": "e3cd3a13d9f1db1f",
   "outputs": [
    {
     "data": {
      "text/plain": [
       "'urn:li:dataset:(urn:li:dataPlatform:airflow,ACETAMINOPHEN_events,PROD)'"
      ]
     },
     "execution_count": 20,
     "metadata": {},
     "output_type": "execute_result"
    }
   ],
   "execution_count": 20
  },
  {
   "metadata": {
    "ExecuteTime": {
     "end_time": "2025-06-26T09:34:22.066310Z",
     "start_time": "2025-06-26T09:34:22.021559Z"
    }
   },
   "cell_type": "code",
   "source": [
    "url = data_space_business + \"/gateway/api/catalogs/datasets/{}\".format(dataset_id)\n",
    "response = requests.request(\"GET\", url, headers=json_header)\n",
    "response_as_json = response.json()\n",
    "print(json.dumps(response_as_json, indent=4))"
   ],
   "id": "9aa9f00206618b27",
   "outputs": [
    {
     "name": "stdout",
     "output_type": "stream",
     "text": [
      "{\n",
      "    \"urn\": \"urn:li:dataset:(urn:li:dataPlatform:airflow,ACETAMINOPHEN_events,PROD)\",\n",
      "    \"name\": \"ACETAMINOPHEN_events\",\n",
      "    \"platform\": {\n",
      "        \"name\": \"airflow\"\n",
      "    },\n",
      "    \"description\": \"Informaci\\u00f3n de los eventos producidos por el medicamento ACETAMINOPHEN\",\n",
      "    \"tag_names\": [\n",
      "        \"f\\u00e1rmacos\"\n",
      "    ],\n",
      "    \"custom_properties\": [\n",
      "        [\n",
      "            \"identifier\",\n",
      "            \"urn:li:dataset:(urn:li:dataPlatform:airflow,ACETAMINOPHEN_events,PROD)\"\n",
      "        ],\n",
      "        [\n",
      "            \"creator\",\n",
      "            \"US-FDA\"\n",
      "        ],\n",
      "        [\n",
      "            \"keywords\",\n",
      "            \"f\\u00e1rmacos\"\n",
      "        ],\n",
      "        [\n",
      "            \"access_url\",\n",
      "            \"https://api.fda.gov/drug/event.json?search=patient.drug.medicinalproduct:ACETAMINOPHEN\"\n",
      "        ],\n",
      "        [\n",
      "            \"description\",\n",
      "            \"Informaci\\u00f3n de los eventos producidos por el medicamento ACETAMINOPHEN\"\n",
      "        ],\n",
      "        [\n",
      "            \"landing_page\",\n",
      "            \"https://138.4.7.113:9005\"\n",
      "        ],\n",
      "        [\n",
      "            \"access_rights\",\n",
      "            \"public\"\n",
      "        ],\n",
      "        [\n",
      "            \"title\",\n",
      "            \"ACETAMINOPHEN_events\"\n",
      "        ],\n",
      "        [\n",
      "            \"frequency\",\n",
      "            \"3 months\"\n",
      "        ],\n",
      "        [\n",
      "            \"license\",\n",
      "            \"https://open.fda.gov/license/\"\n",
      "        ],\n",
      "        [\n",
      "            \"provenance\",\n",
      "            \"OpenFDA API + airflow\"\n",
      "        ],\n",
      "        [\n",
      "            \"modification_date\",\n",
      "            \"2025-04-28\"\n",
      "        ],\n",
      "        [\n",
      "            \"publisher\",\n",
      "            \"US-FDA\"\n",
      "        ],\n",
      "        [\n",
      "            \"geographical_coverage\",\n",
      "            \"United States of America\"\n",
      "        ]\n",
      "    ],\n",
      "    \"domain\": {\n",
      "        \"urn\": \"urn:li:domain:medicamentos\",\n",
      "        \"properties\": {\n",
      "            \"name\": \"Medicamentos\",\n",
      "            \"description\": null\n",
      "        }\n",
      "    },\n",
      "    \"glossary_terms\": [\n",
      "        {\n",
      "            \"urn\": \"urn:li:glossaryTerm:f\\u00e1rmacos\",\n",
      "            \"glossaryTermInfo\": {\n",
      "                \"name\": \"F\\u00e1rmacos\",\n",
      "                \"description\": \"Datasets de F\\u00e1rmacos.\"\n",
      "            }\n",
      "        }\n",
      "    ]\n",
      "}\n"
     ]
    }
   ],
   "execution_count": 21
  },
  {
   "metadata": {
    "ExecuteTime": {
     "end_time": "2025-06-26T09:34:23.771057Z",
     "start_time": "2025-06-26T09:34:23.734730Z"
    }
   },
   "cell_type": "code",
   "source": [
    "url = data_space_business + \"/gateway/api/catalogs/{}/datasets/{}/policies\".format(catalog_id, dataset_id)\n",
    "payload = offer\n",
    "response = requests.request(\"GET\", url, headers=json_header)\n",
    "response_as_json = response.json()\n",
    "print(json.dumps(response_as_json, indent=4))\n",
    "offer = response_as_json[0]\n",
    "print(json.dumps(offer, indent=4))"
   ],
   "id": "a842a870b4d9e591",
   "outputs": [
    {
     "name": "stdout",
     "output_type": "stream",
     "text": [
      "[\n",
      "    {\n",
      "        \"@id\": \"urn:uuid:72832b8a-81ce-4c90-b553-2e884d53dc42\",\n",
      "        \"permission\": [\n",
      "            {\n",
      "                \"action\": \"use\",\n",
      "                \"constraint\": [\n",
      "                    {\n",
      "                        \"rightOperand\": \"EU\",\n",
      "                        \"leftOperand\": \"spatial\",\n",
      "                        \"operator\": \"eq\"\n",
      "                    }\n",
      "                ]\n",
      "            }\n",
      "        ],\n",
      "        \"obligation\": null,\n",
      "        \"@type\": \"Offer\",\n",
      "        \"prohibition\": null,\n",
      "        \"target\": \"urn:li:dataset:(urn:li:dataPlatform:airflow,ACETAMINOPHEN_events,PROD)\"\n",
      "    },\n",
      "    {\n",
      "        \"@id\": \"urn:uuid:703fa341-a8ae-4524-80b9-0ed921d42a1d\",\n",
      "        \"permission\": [\n",
      "            {\n",
      "                \"action\": \"use\",\n",
      "                \"constraint\": [\n",
      "                    {\n",
      "                        \"rightOperand\": \"user\",\n",
      "                        \"leftOperand\": \"did:web:hola.es\",\n",
      "                        \"operator\": \"eq\"\n",
      "                    }\n",
      "                ]\n",
      "            }\n",
      "        ],\n",
      "        \"obligation\": [],\n",
      "        \"@type\": \"Offer\",\n",
      "        \"prohibition\": [],\n",
      "        \"target\": \"urn:li:dataset:(urn:li:dataPlatform:airflow,ACETAMINOPHEN_events,PROD)\"\n",
      "    },\n",
      "    {\n",
      "        \"@id\": \"urn:uuid:e6df048f-b238-4fb7-a010-ec3c29ca9e91\",\n",
      "        \"permission\": [\n",
      "            {\n",
      "                \"action\": \"use\",\n",
      "                \"constraint\": [\n",
      "                    {\n",
      "                        \"rightOperand\": \"EU\",\n",
      "                        \"leftOperand\": \"spatial\",\n",
      "                        \"operator\": \"eq\"\n",
      "                    }\n",
      "                ]\n",
      "            }\n",
      "        ],\n",
      "        \"obligation\": null,\n",
      "        \"@type\": \"Offer\",\n",
      "        \"prohibition\": null,\n",
      "        \"target\": \"urn:li:dataset:(urn:li:dataPlatform:airflow,ACETAMINOPHEN_events,PROD)\"\n",
      "    }\n",
      "]\n",
      "{\n",
      "    \"@id\": \"urn:uuid:72832b8a-81ce-4c90-b553-2e884d53dc42\",\n",
      "    \"permission\": [\n",
      "        {\n",
      "            \"action\": \"use\",\n",
      "            \"constraint\": [\n",
      "                {\n",
      "                    \"rightOperand\": \"EU\",\n",
      "                    \"leftOperand\": \"spatial\",\n",
      "                    \"operator\": \"eq\"\n",
      "                }\n",
      "            ]\n",
      "        }\n",
      "    ],\n",
      "    \"obligation\": null,\n",
      "    \"@type\": \"Offer\",\n",
      "    \"prohibition\": null,\n",
      "    \"target\": \"urn:li:dataset:(urn:li:dataPlatform:airflow,ACETAMINOPHEN_events,PROD)\"\n",
      "}\n"
     ]
    }
   ],
   "execution_count": 22
  },
  {
   "metadata": {},
   "cell_type": "markdown",
   "source": "### Customer requests access to dataset under policy",
   "id": "c463e76463cfcc9e"
  },
  {
   "metadata": {
    "ExecuteTime": {
     "end_time": "2025-06-26T09:34:36.174186Z",
     "start_time": "2025-06-26T09:34:36.161569Z"
    }
   },
   "cell_type": "code",
   "source": [
    "url = data_space_business + \"/gateway/api/negotiation/rpc/request\"\n",
    "payload = {\n",
    "    \"consumerParticipantId\": data_space_consumer_participant_id,\n",
    "    \"offer\": {\n",
    "        \"@id\": offer[\"@id\"],\n",
    "    }\n",
    "}\n",
    "response = requests.request(\"POST\", url, data=json.dumps(payload), headers=json_header)\n",
    "response_as_json = response.json()\n",
    "print(json.dumps(response_as_json, indent=4))"
   ],
   "id": "975dea37b446bc12",
   "outputs": [
    {
     "name": "stdout",
     "output_type": "stream",
     "text": [
      "{\n",
      "    \"error\": \"Failed to deserialize the JSON body into the target type: consumerParticipantId: invalid urn scheme at line 1 column 211\"\n",
      "}\n"
     ]
    }
   ],
   "execution_count": 23
  },
  {
   "metadata": {},
   "cell_type": "markdown",
   "source": "### Business approves request and negotiation is done",
   "id": "77bd09f1b30209f0"
  },
  {
   "metadata": {
    "ExecuteTime": {
     "end_time": "2025-06-25T13:15:52.176176Z",
     "start_time": "2025-06-25T13:15:52.173884Z"
    }
   },
   "cell_type": "code",
   "outputs": [],
   "execution_count": null,
   "source": [
    "url = data_space_business + \"/gateway/api/negotiation/rpc/accept\"\n",
    "payload = {\n",
    "    \"consumerPid\": \"urn:uuid:c1bf366a-f468-4848-a201-1a8124c970fb\",\n",
    "    \"providerPid\": \"urn:uuid:a0967477-97e3-4046-9cca-a81c8112430e\"\n",
    "}"
   ],
   "id": "51fdda5c40787bba"
  },
  {
   "metadata": {
    "ExecuteTime": {
     "end_time": "2025-06-25T13:15:54.137923Z",
     "start_time": "2025-06-25T13:15:54.136108Z"
    }
   },
   "cell_type": "code",
   "source": "",
   "id": "26e7a64a6eb01f1b",
   "outputs": [],
   "execution_count": null
  },
  {
   "metadata": {},
   "cell_type": "code",
   "outputs": [],
   "execution_count": null,
   "source": "",
   "id": "649a7a44382438c9"
  }
 ],
 "metadata": {
  "kernelspec": {
   "display_name": "Python 3",
   "language": "python",
   "name": "python3"
  },
  "language_info": {
   "name": "python",
   "version": "3.12.0"
  }
 },
 "nbformat": 5,
 "nbformat_minor": 9
}

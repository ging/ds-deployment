{
 "cells": [
  {
   "metadata": {
    "ExecuteTime": {
     "end_time": "2025-05-09T09:26:25.939561Z",
     "start_time": "2025-05-09T09:26:25.801040Z"
    }
   },
   "cell_type": "code",
   "source": "!which python",
   "id": "affa926f259653e0",
   "outputs": [
    {
     "name": "stdout",
     "output_type": "stream",
     "text": [
      "/Users/apabook/Desktop/ds-deployment/.venv/bin/python\r\n"
     ]
    }
   ],
   "execution_count": 201
  },
  {
   "metadata": {
    "ExecuteTime": {
     "end_time": "2025-05-09T09:26:26.295512Z",
     "start_time": "2025-05-09T09:26:26.291826Z"
    }
   },
   "cell_type": "code",
   "source": [
    "import requests\n",
    "import json\n",
    "from uuid import uuid4"
   ],
   "id": "68e1fe621d8a0ef0",
   "outputs": [],
   "execution_count": 202
  },
  {
   "metadata": {},
   "cell_type": "markdown",
   "source": "# Complete dataspace flow",
   "id": "bc15da9211b43e67"
  },
  {
   "metadata": {},
   "cell_type": "markdown",
   "source": "## Consts\n",
   "id": "b0f6ecdf966b8b68"
  },
  {
   "metadata": {
    "ExecuteTime": {
     "end_time": "2025-05-09T09:26:27.608890Z",
     "start_time": "2025-05-09T09:26:27.604159Z"
    }
   },
   "cell_type": "code",
   "source": [
    "data_space_provider = \"http://127.0.0.1:1234\"\n",
    "data_space_consumer = \"http://127.0.0.1:1235\"\n",
    "api_endpoint = \"https://jsonplaceholder.typicode.com/posts\"\n",
    "\n",
    "data_space_provider_participant_id = \"\"\n",
    "data_space_consumer_participant_id = \"\"\n",
    "catalog_id = \"\"\n",
    "dataset_id = \"\"\n",
    "distribution_id = \"\"\n",
    "data_service_id = \"\"\n",
    "policy_id = \"\"\n",
    "target_id = \"\"\n",
    "\n",
    "cn_consumer_id = \"\"\n",
    "cn_provider_id = \"\"\n",
    "agreement_id = \"\"\n",
    "transfer_consumer_id = \"\"\n",
    "transfer_provider_id = \"\"\n",
    "\n",
    "json_header = {\n",
    "    \"Content-Type\": \"application/json\",\n",
    "}"
   ],
   "id": "f55ce154aa95c49d",
   "outputs": [],
   "execution_count": 203
  },
  {
   "metadata": {},
   "cell_type": "markdown",
   "source": "## Participants onboarding",
   "id": "69b1951a684bd85e"
  },
  {
   "metadata": {
    "ExecuteTime": {
     "end_time": "2025-05-09T09:26:28.690018Z",
     "start_time": "2025-05-09T09:26:28.668637Z"
    }
   },
   "cell_type": "code",
   "source": [
    "url = data_space_provider + \"/api/v1/participants\"\n",
    "payload = {\n",
    "    \"participantType\": \"Provider\",\n",
    "    \"participantBaseUrl\": data_space_provider,\n",
    "    \"extraFields\": {}\n",
    "}\n",
    "response = requests.request(\"POST\", url, headers=json_header, data=json.dumps(payload))\n",
    "response_as_json = response.json()\n",
    "data_space_provider_participant_id = response_as_json[\"participant_id\"]\n",
    "data_space_provider_participant_id\n"
   ],
   "id": "c0cbd7496cfeee45",
   "outputs": [
    {
     "data": {
      "text/plain": [
       "'urn:uuid:c28dd861-2d35-4438-896d-7b9583796098'"
      ]
     },
     "execution_count": 204,
     "metadata": {},
     "output_type": "execute_result"
    }
   ],
   "execution_count": 204
  },
  {
   "metadata": {
    "ExecuteTime": {
     "end_time": "2025-05-09T09:26:29.292797Z",
     "start_time": "2025-05-09T09:26:29.246957Z"
    }
   },
   "cell_type": "code",
   "source": [
    "url = data_space_provider + \"/api/v1/participants\"\n",
    "payload = {\n",
    "    \"participantType\": \"Consumer\",\n",
    "    \"participantBaseUrl\": data_space_consumer,\n",
    "    \"extraFields\": {\n",
    "        \"did\": \"did:web:asdnoiasdnoaisdnoisa:com\"\n",
    "    }\n",
    "}\n",
    "response = requests.request(\"POST\", url, headers=json_header, data=json.dumps(payload))\n",
    "response_as_json = response.json()\n",
    "data_space_consumer_participant_id = response_as_json[\"participant_id\"]\n",
    "data_space_consumer_participant_id"
   ],
   "id": "6d1fecf52e262ce5",
   "outputs": [
    {
     "data": {
      "text/plain": [
       "'urn:uuid:5000b412-59ff-4d6b-b489-9c0b9933a0e3'"
      ]
     },
     "execution_count": 205,
     "metadata": {},
     "output_type": "execute_result"
    }
   ],
   "execution_count": 205
  },
  {
   "metadata": {},
   "cell_type": "markdown",
   "source": "## Create Catalog instances and metadata",
   "id": "89cf12a469c65479"
  },
  {
   "metadata": {
    "ExecuteTime": {
     "end_time": "2025-05-09T09:26:30.369236Z",
     "start_time": "2025-05-09T09:26:30.326822Z"
    }
   },
   "cell_type": "code",
   "source": [
    "url = data_space_provider + \"/api/v1/catalogs\"\n",
    "payload = {\n",
    "    \"foaf:homepage\": \"My dataspace catalog\",\n",
    "    \"dct:title\": \"My dataspace catalog\",\n",
    "}\n",
    "response = requests.request(\"POST\", url, headers=json_header, data=json.dumps(payload))\n",
    "response_as_json = response.json()\n",
    "catalog_id = response_as_json[\"@id\"]\n",
    "catalog_id"
   ],
   "id": "11ed0dd3e885a07e",
   "outputs": [
    {
     "data": {
      "text/plain": [
       "'urn:uuid:8f94535d-d646-43c3-a328-8470be5814c0'"
      ]
     },
     "execution_count": 206,
     "metadata": {},
     "output_type": "execute_result"
    }
   ],
   "execution_count": 206
  },
  {
   "metadata": {
    "ExecuteTime": {
     "end_time": "2025-05-09T09:26:30.973461Z",
     "start_time": "2025-05-09T09:26:30.931723Z"
    }
   },
   "cell_type": "code",
   "source": [
    "url = data_space_provider + \"/api/v1/catalogs/{}/datasets\".format(catalog_id)\n",
    "payload = {\n",
    "    \"dct:title\": \"My dataspace dataset\",\n",
    "}\n",
    "response = requests.request(\"POST\", url, headers=json_header, data=json.dumps(payload))\n",
    "response_as_json = response.json()\n",
    "dataset_id = response_as_json[\"@id\"]\n",
    "dataset_id"
   ],
   "id": "7baa8c98c1636e0e",
   "outputs": [
    {
     "data": {
      "text/plain": [
       "'urn:uuid:6ea33bb7-8ddf-4198-8165-ae8f551a3d1a'"
      ]
     },
     "execution_count": 207,
     "metadata": {},
     "output_type": "execute_result"
    }
   ],
   "execution_count": 207
  },
  {
   "metadata": {
    "ExecuteTime": {
     "end_time": "2025-05-09T09:26:31.355426Z",
     "start_time": "2025-05-09T09:26:31.319719Z"
    }
   },
   "cell_type": "code",
   "source": [
    "url = data_space_provider + \"/api/v1/catalogs/{}/data-services\".format(catalog_id)\n",
    "payload = {\n",
    "    \"dcat:endpointURL\": \"https://jsonplaceholder.typicode.com/posts\"\n",
    "}\n",
    "response = requests.request(\"POST\", url, headers=json_header, data=json.dumps(payload))\n",
    "response_as_json = response.json()\n",
    "data_service_id = response_as_json[\"@id\"]\n",
    "data_service_id"
   ],
   "id": "da71f544b74fee9e",
   "outputs": [
    {
     "data": {
      "text/plain": [
       "'urn:uuid:9ecedc83-a25c-4d65-b340-1eee8d2a774a'"
      ]
     },
     "execution_count": 208,
     "metadata": {},
     "output_type": "execute_result"
    }
   ],
   "execution_count": 208
  },
  {
   "metadata": {
    "ExecuteTime": {
     "end_time": "2025-05-09T09:26:31.812592Z",
     "start_time": "2025-05-09T09:26:31.762274Z"
    }
   },
   "cell_type": "code",
   "source": [
    "url = data_space_provider + \"/api/v1/catalogs/{}/datasets/{}/distributions\".format(catalog_id, dataset_id)\n",
    "payload = {\n",
    "    \"dcat:accessService\": data_service_id\n",
    "}\n",
    "response = requests.request(\"POST\", url, headers=json_header, data=json.dumps(payload))\n",
    "response_as_json = response.json()\n",
    "dataset_id = response_as_json[\"@id\"]\n",
    "dataset_id"
   ],
   "id": "e3d0ae29abb601f1",
   "outputs": [
    {
     "data": {
      "text/plain": [
       "'urn:uuid:377f2710-7d52-4fb8-af39-0dbd0cb8f880'"
      ]
     },
     "execution_count": 209,
     "metadata": {},
     "output_type": "execute_result"
    }
   ],
   "execution_count": 209
  },
  {
   "metadata": {},
   "cell_type": "markdown",
   "source": "## Create policies",
   "id": "bcb61aba09d7f894"
  },
  {
   "metadata": {
    "ExecuteTime": {
     "end_time": "2025-05-09T09:26:32.603715Z",
     "start_time": "2025-05-09T09:26:32.566375Z"
    }
   },
   "cell_type": "code",
   "source": [
    "url = data_space_provider + \"/api/v1/datasets/{}/policies\".format(dataset_id)\n",
    "payload = {\n",
    "    \"permission\": [\n",
    "        {\n",
    "            \"action\": \"use\",\n",
    "            \"constraint\": [\n",
    "                {\n",
    "                    \"rightOperand\": \"user\",\n",
    "                    \"leftOperand\": \"did:web:hola.es\",\n",
    "                    \"operator\": \"eq\"\n",
    "                }\n",
    "            ]\n",
    "        }\n",
    "    ],\n",
    "    \"obligation\": [],\n",
    "    \"prohibition\": []\n",
    "}\n",
    "response = requests.request(\"POST\", url, headers=json_header, data=json.dumps(payload))\n",
    "response_as_json = response.json()\n",
    "policy_id = response_as_json[\"id\"]\n",
    "target_id = response_as_json[\"entity\"]\n",
    "print(json.dumps(response_as_json, indent=4))"
   ],
   "id": "3e20aede0a523dd4",
   "outputs": [
    {
     "name": "stdout",
     "output_type": "stream",
     "text": [
      "{\n",
      "    \"id\": \"urn:uuid:f843942e-22af-41df-be60-e9bf8234df9e\",\n",
      "    \"odrl_offer\": {\n",
      "        \"obligation\": [],\n",
      "        \"permission\": [\n",
      "            {\n",
      "                \"action\": \"use\",\n",
      "                \"constraint\": [\n",
      "                    {\n",
      "                        \"leftOperand\": \"did:web:hola.es\",\n",
      "                        \"operator\": \"eq\",\n",
      "                        \"rightOperand\": \"user\"\n",
      "                    }\n",
      "                ]\n",
      "            }\n",
      "        ],\n",
      "        \"prohibition\": []\n",
      "    },\n",
      "    \"entity\": \"urn:uuid:377f2710-7d52-4fb8-af39-0dbd0cb8f880\",\n",
      "    \"entity_type\": \"Dataset\"\n",
      "}\n"
     ]
    }
   ],
   "execution_count": 210
  },
  {
   "metadata": {
    "ExecuteTime": {
     "end_time": "2025-05-09T09:26:33.293751Z",
     "start_time": "2025-05-09T09:26:33.291374Z"
    }
   },
   "cell_type": "code",
   "source": "",
   "id": "ef5d5dcf111bfd6f",
   "outputs": [],
   "execution_count": null
  },
  {
   "metadata": {},
   "cell_type": "markdown",
   "source": "## Contract Negotiation",
   "id": "438aaeed57dce757"
  },
  {
   "metadata": {
    "ExecuteTime": {
     "end_time": "2025-05-09T09:26:34.236586Z",
     "start_time": "2025-05-09T09:26:34.107573Z"
    }
   },
   "cell_type": "code",
   "source": [
    "url = data_space_consumer + \"/api/v1/negotiations/rpc/setup-request\"\n",
    "payload = {\n",
    "    \"providerAddress\": data_space_provider,\n",
    "    \"offer\": {\n",
    "        \"@id\": policy_id,\n",
    "        \"target\": target_id,\n",
    "        \"@type\": \"Offer\",\n",
    "        \"permission\": [\n",
    "            {\n",
    "                \"action\": \"use\"\n",
    "\n",
    "            }\n",
    "        ]\n",
    "    }\n",
    "}\n",
    "response = requests.request(\"POST\", url, headers=json_header, data=json.dumps(payload))\n",
    "response_as_json = response.json()\n",
    "cn_consumer_id = response_as_json[\"consumerPid\"]\n",
    "cn_provider_id = response_as_json[\"providerPid\"]\n",
    "print(json.dumps(response_as_json, indent=2))\n"
   ],
   "id": "8c2d2e2304b50ace",
   "outputs": [
    {
     "name": "stdout",
     "output_type": "stream",
     "text": [
      "{\n",
      "  \"consumerPid\": \"urn:uuid:1e01a2e9-3073-4d26-a420-e38230f824af\",\n",
      "  \"providerPid\": \"urn:uuid:19742847-b389-4d7b-baa8-938eef848b9f\",\n",
      "  \"offer\": {\n",
      "    \"@id\": \"urn:uuid:f843942e-22af-41df-be60-e9bf8234df9e\",\n",
      "    \"permission\": [\n",
      "      {\n",
      "        \"action\": \"use\"\n",
      "      }\n",
      "    ],\n",
      "    \"@type\": \"Offer\",\n",
      "    \"target\": \"urn:uuid:377f2710-7d52-4fb8-af39-0dbd0cb8f880\"\n",
      "  },\n",
      "  \"message\": {\n",
      "    \"@context\": [\n",
      "      \"https://w3id.org/dspace/2025/1/context.jsonld\"\n",
      "    ],\n",
      "    \"@type\": \"ContractNegotiation\",\n",
      "    \"providerPid\": \"urn:uuid:19742847-b389-4d7b-baa8-938eef848b9f\",\n",
      "    \"consumerPid\": \"urn:uuid:1e01a2e9-3073-4d26-a420-e38230f824af\",\n",
      "    \"state\": \"REQUESTED\"\n",
      "  }\n",
      "}\n"
     ]
    }
   ],
   "execution_count": 211
  },
  {
   "metadata": {
    "ExecuteTime": {
     "end_time": "2025-05-09T09:26:35.050468Z",
     "start_time": "2025-05-09T09:26:34.941550Z"
    }
   },
   "cell_type": "code",
   "source": [
    "url = data_space_provider + \"/api/v1/negotiations/rpc/setup-offer\"\n",
    "payload = {\n",
    "    \"consumerParticipantId\": data_space_consumer_participant_id,\n",
    "    \"consumerPid\": cn_consumer_id,\n",
    "    \"providerPid\": cn_provider_id,\n",
    "    \"offer\": {\n",
    "        \"@id\": policy_id,\n",
    "        \"target\": target_id,\n",
    "        \"@type\": \"Offer\",\n",
    "        \"permission\": [\n",
    "            {\n",
    "                \"action\": \"supermegause\"\n",
    "            }\n",
    "        ]\n",
    "    }\n",
    "}\n",
    "response = requests.request(\"POST\", url, headers=json_header, data=json.dumps(payload))\n",
    "response_as_json = response.json()\n",
    "print(json.dumps(response_as_json, indent=2))"
   ],
   "id": "b6ca342e690f05de",
   "outputs": [
    {
     "name": "stdout",
     "output_type": "stream",
     "text": [
      "{\n",
      "  \"consumerParticipantId\": \"urn:uuid:5000b412-59ff-4d6b-b489-9c0b9933a0e3\",\n",
      "  \"consumerPid\": \"urn:uuid:1e01a2e9-3073-4d26-a420-e38230f824af\",\n",
      "  \"providerPid\": \"urn:uuid:19742847-b389-4d7b-baa8-938eef848b9f\",\n",
      "  \"offer\": {\n",
      "    \"@id\": \"urn:uuid:f843942e-22af-41df-be60-e9bf8234df9e\",\n",
      "    \"permission\": [\n",
      "      {\n",
      "        \"action\": \"supermegause\"\n",
      "      }\n",
      "    ],\n",
      "    \"@type\": \"Offer\",\n",
      "    \"target\": \"urn:uuid:377f2710-7d52-4fb8-af39-0dbd0cb8f880\"\n",
      "  },\n",
      "  \"message\": {\n",
      "    \"@context\": [\n",
      "      \"https://w3id.org/dspace/2025/1/context.jsonld\"\n",
      "    ],\n",
      "    \"@type\": \"ContractNegotiation\",\n",
      "    \"providerPid\": \"urn:uuid:19742847-b389-4d7b-baa8-938eef848b9f\",\n",
      "    \"consumerPid\": \"urn:uuid:1e01a2e9-3073-4d26-a420-e38230f824af\",\n",
      "    \"state\": \"OFFERED\"\n",
      "  }\n",
      "}\n"
     ]
    }
   ],
   "execution_count": 212
  },
  {
   "metadata": {
    "ExecuteTime": {
     "end_time": "2025-05-09T09:26:35.914126Z",
     "start_time": "2025-05-09T09:26:35.741206Z"
    }
   },
   "cell_type": "code",
   "source": [
    "url = data_space_consumer + \"/api/v1/negotiations/rpc/setup-acceptance\"\n",
    "payload = {\n",
    "    \"providerAddress\": data_space_provider,\n",
    "    \"consumerPid\": cn_consumer_id,\n",
    "    \"providerPid\": cn_provider_id\n",
    "}\n",
    "response = requests.request(\"POST\", url, headers=json_header, data=json.dumps(payload))\n",
    "response_as_json = response.json()\n",
    "print(json.dumps(response_as_json, indent=2))"
   ],
   "id": "4feaa2d5afa582d6",
   "outputs": [
    {
     "name": "stdout",
     "output_type": "stream",
     "text": [
      "{\n",
      "  \"consumerPid\": \"urn:uuid:1e01a2e9-3073-4d26-a420-e38230f824af\",\n",
      "  \"providerPid\": \"urn:uuid:19742847-b389-4d7b-baa8-938eef848b9f\",\n",
      "  \"message\": {\n",
      "    \"@context\": [\n",
      "      \"https://w3id.org/dspace/2025/1/context.jsonld\"\n",
      "    ],\n",
      "    \"@type\": \"ContractNegotiation\",\n",
      "    \"providerPid\": \"urn:uuid:19742847-b389-4d7b-baa8-938eef848b9f\",\n",
      "    \"consumerPid\": \"urn:uuid:1e01a2e9-3073-4d26-a420-e38230f824af\",\n",
      "    \"state\": \"ACCEPTED\"\n",
      "  }\n",
      "}\n"
     ]
    }
   ],
   "execution_count": 213
  },
  {
   "metadata": {
    "ExecuteTime": {
     "end_time": "2025-05-09T09:26:36.617488Z",
     "start_time": "2025-05-09T09:26:36.552003Z"
    }
   },
   "cell_type": "code",
   "source": [
    "url = data_space_provider + \"/api/v1/negotiations/rpc/setup-agreement\"\n",
    "payload = {\n",
    "    \"consumerParticipantId\": data_space_consumer_participant_id,\n",
    "    \"consumerPid\": cn_consumer_id,\n",
    "    \"providerPid\": cn_provider_id\n",
    "}\n",
    "response = requests.request(\"POST\", url, headers=json_header, data=json.dumps(payload))\n",
    "response_as_json = response.json()\n",
    "print(json.dumps(response_as_json, indent=2))\n",
    "agreement_id = response_as_json[\"agreement\"][\"@id\"]"
   ],
   "id": "84609238c0d3e043",
   "outputs": [
    {
     "name": "stdout",
     "output_type": "stream",
     "text": [
      "{\n",
      "  \"consumerPid\": \"urn:uuid:1e01a2e9-3073-4d26-a420-e38230f824af\",\n",
      "  \"providerPid\": \"urn:uuid:19742847-b389-4d7b-baa8-938eef848b9f\",\n",
      "  \"agreement\": {\n",
      "    \"@id\": \"urn:uuid:92e32b5c-1ef9-4f27-924e-947b76b19470\",\n",
      "    \"profile\": null,\n",
      "    \"permission\": [\n",
      "      {\n",
      "        \"action\": \"supermegause\"\n",
      "      }\n",
      "    ],\n",
      "    \"obligation\": null,\n",
      "    \"@type\": \"Agreement\",\n",
      "    \"target\": \"urn:uuid:377f2710-7d52-4fb8-af39-0dbd0cb8f880\",\n",
      "    \"assigner\": \"urn:uuid:c28dd861-2d35-4438-896d-7b9583796098\",\n",
      "    \"assignee\": \"urn:uuid:5000b412-59ff-4d6b-b489-9c0b9933a0e3\",\n",
      "    \"timestamp\": \"2025-05-09 09:26:36.588814\",\n",
      "    \"prohibition\": null\n",
      "  },\n",
      "  \"message\": {\n",
      "    \"@context\": [\n",
      "      \"https://w3id.org/dspace/2025/1/context.jsonld\"\n",
      "    ],\n",
      "    \"@type\": \"ContractNegotiation\",\n",
      "    \"providerPid\": \"urn:uuid:19742847-b389-4d7b-baa8-938eef848b9f\",\n",
      "    \"consumerPid\": \"urn:uuid:1e01a2e9-3073-4d26-a420-e38230f824af\",\n",
      "    \"state\": \"AGREED\"\n",
      "  }\n",
      "}\n"
     ]
    }
   ],
   "execution_count": 214
  },
  {
   "metadata": {
    "ExecuteTime": {
     "end_time": "2025-05-09T09:26:37.645784Z",
     "start_time": "2025-05-09T09:26:37.602299Z"
    }
   },
   "cell_type": "code",
   "source": [
    "url = data_space_consumer + \"/api/v1/negotiations/rpc/setup-verification\"\n",
    "payload = {\n",
    "    \"providerAddress\": data_space_provider,\n",
    "    \"consumerPid\": cn_consumer_id,\n",
    "    \"providerPid\": cn_provider_id,\n",
    "}\n",
    "response = requests.request(\"POST\", url, headers=json_header, data=json.dumps(payload))\n",
    "response_as_json = response.json()\n",
    "print(json.dumps(response_as_json, indent=2))"
   ],
   "id": "8840cdbc4f7c5a99",
   "outputs": [
    {
     "name": "stdout",
     "output_type": "stream",
     "text": [
      "{\n",
      "  \"consumerPid\": \"urn:uuid:1e01a2e9-3073-4d26-a420-e38230f824af\",\n",
      "  \"providerPid\": \"urn:uuid:19742847-b389-4d7b-baa8-938eef848b9f\",\n",
      "  \"message\": {\n",
      "    \"@context\": [\n",
      "      \"https://w3id.org/dspace/2025/1/context.jsonld\"\n",
      "    ],\n",
      "    \"@type\": \"ContractNegotiation\",\n",
      "    \"providerPid\": \"urn:uuid:19742847-b389-4d7b-baa8-938eef848b9f\",\n",
      "    \"consumerPid\": \"urn:uuid:1e01a2e9-3073-4d26-a420-e38230f824af\",\n",
      "    \"state\": \"VERIFIED\"\n",
      "  }\n",
      "}\n"
     ]
    }
   ],
   "execution_count": 215
  },
  {
   "metadata": {
    "ExecuteTime": {
     "end_time": "2025-05-09T09:26:38.353601Z",
     "start_time": "2025-05-09T09:26:38.308674Z"
    }
   },
   "cell_type": "code",
   "source": [
    "url = data_space_provider + \"/api/v1/negotiations/rpc/setup-finalization\"\n",
    "payload = {\n",
    "    \"consumerParticipantId\": data_space_consumer_participant_id,\n",
    "    \"consumerPid\": cn_consumer_id,\n",
    "    \"providerPid\": cn_provider_id,\n",
    "}\n",
    "response = requests.request(\"POST\", url, headers=json_header, data=json.dumps(payload))\n",
    "response_as_json = response.json()\n",
    "print(json.dumps(response_as_json, indent=2))"
   ],
   "id": "fddd19bf8f2b05d9",
   "outputs": [
    {
     "name": "stdout",
     "output_type": "stream",
     "text": [
      "{\n",
      "  \"consumerPid\": \"urn:uuid:1e01a2e9-3073-4d26-a420-e38230f824af\",\n",
      "  \"providerPid\": \"urn:uuid:19742847-b389-4d7b-baa8-938eef848b9f\",\n",
      "  \"message\": {\n",
      "    \"@context\": [\n",
      "      \"https://w3id.org/dspace/2025/1/context.jsonld\"\n",
      "    ],\n",
      "    \"@type\": \"ContractNegotiation\",\n",
      "    \"providerPid\": \"urn:uuid:19742847-b389-4d7b-baa8-938eef848b9f\",\n",
      "    \"consumerPid\": \"urn:uuid:1e01a2e9-3073-4d26-a420-e38230f824af\",\n",
      "    \"state\": \"FINALIZED\"\n",
      "  }\n",
      "}\n"
     ]
    }
   ],
   "execution_count": 216
  },
  {
   "metadata": {},
   "cell_type": "markdown",
   "source": "## Transfer Negotiation\n",
   "id": "f8a6b52b3af734ba"
  },
  {
   "metadata": {
    "ExecuteTime": {
     "end_time": "2025-05-09T09:26:39.411992Z",
     "start_time": "2025-05-09T09:26:39.337960Z"
    }
   },
   "cell_type": "code",
   "source": [
    "url = data_space_consumer + \"/api/v1/transfers/rpc/setup-request\"\n",
    "payload = {\n",
    "    \"providerAddress\": data_space_provider,\n",
    "    \"agreementId\": agreement_id,\n",
    "    \"format\": \"http+pull\"\n",
    "}\n",
    "response = requests.request(\"POST\", url, headers=json_header, data=json.dumps(payload))\n",
    "response_as_json = response.json()\n",
    "transfer_consumer_id = response_as_json[\"consumerPid\"]\n",
    "transfer_provider_id = response_as_json[\"providerPid\"]\n",
    "callback_address = response_as_json[\"callbackAddress\"]\n",
    "print(json.dumps(response_as_json, indent=2))"
   ],
   "id": "c359ed2305c94f27",
   "outputs": [
    {
     "name": "stdout",
     "output_type": "stream",
     "text": [
      "{\n",
      "  \"providerPid\": \"urn:uuid:ecdebfc6-a5af-4e57-9bd3-7e5ded9f4812\",\n",
      "  \"consumerPid\": \"urn:uuid:74441508-9f4c-401c-a155-64fa4e6c7fdc\",\n",
      "  \"agreementId\": \"urn:uuid:92e32b5c-1ef9-4f27-924e-947b76b19470\",\n",
      "  \"callbackAddress\": \"http://127.0.0.1:1235/urn:uuid:59cef9c7-92c9-4a17-9489-ccd39f5cb881\",\n",
      "  \"format\": \"http+pull\",\n",
      "  \"message\": {\n",
      "    \"@context\": [\n",
      "      \"https://w3id.org/dspace/2025/1/context.jsonld\"\n",
      "    ],\n",
      "    \"@type\": \"TransferProcess\",\n",
      "    \"providerPid\": \"urn:uuid:ecdebfc6-a5af-4e57-9bd3-7e5ded9f4812\",\n",
      "    \"consumerPid\": \"urn:uuid:74441508-9f4c-401c-a155-64fa4e6c7fdc\",\n",
      "    \"state\": \"REQUESTED\"\n",
      "  }\n",
      "}\n"
     ]
    }
   ],
   "execution_count": 217
  },
  {
   "metadata": {
    "ExecuteTime": {
     "end_time": "2025-05-09T09:26:39.856196Z",
     "start_time": "2025-05-09T09:26:39.768467Z"
    }
   },
   "cell_type": "code",
   "source": [
    "url = data_space_provider + \"/api/v1/transfers/rpc/setup-start\"\n",
    "payload = {\n",
    "    \"consumerCallbackAddress\": callback_address,\n",
    "    \"providerPid\": transfer_provider_id,\n",
    "    \"consumerPid\": transfer_consumer_id,\n",
    "    \"dataAddress\": {\n",
    "        \"@type\": \"DataAddress\",\n",
    "        \"endpointType\": \"https://w3id.org/idsa/v4.1/HTTP\",\n",
    "        \"endpoint\": \"http://example.com\",\n",
    "        \"endpointProperties\": [\n",
    "            {\n",
    "                \"@type\": \"EndpointProperty\",\n",
    "                \"name\": \"authorization\",\n",
    "                \"value\": \"TOKEN-ABCDEFG\"\n",
    "            },\n",
    "            {\n",
    "                \"@type\": \"EndpointProperty\",\n",
    "                \"name\": \"authType\",\n",
    "                \"value\": \"bearer\"\n",
    "            }\n",
    "        ]\n",
    "    }\n",
    "}\n",
    "response = requests.request(\"POST\", url, headers=json_header, data=json.dumps(payload))\n",
    "response_as_json = response.json()\n",
    "print(json.dumps(response_as_json, indent=2))"
   ],
   "id": "d905936906de088c",
   "outputs": [
    {
     "name": "stdout",
     "output_type": "stream",
     "text": [
      "{\n",
      "  \"providerPid\": \"urn:uuid:ecdebfc6-a5af-4e57-9bd3-7e5ded9f4812\",\n",
      "  \"consumerPid\": \"urn:uuid:74441508-9f4c-401c-a155-64fa4e6c7fdc\",\n",
      "  \"dataAddress\": {\n",
      "    \"@type\": \"DataAddress\",\n",
      "    \"endpointType\": \"https://w3id.org/idsa/v4.1/HTTP\",\n",
      "    \"endpoint\": \"http://example.com\",\n",
      "    \"endpointProperties\": [\n",
      "      {\n",
      "        \"@type\": \"EndpointProperty\",\n",
      "        \"name\": \"authorization\",\n",
      "        \"value\": \"TOKEN-ABCDEFG\"\n",
      "      },\n",
      "      {\n",
      "        \"@type\": \"EndpointProperty\",\n",
      "        \"name\": \"authType\",\n",
      "        \"value\": \"bearer\"\n",
      "      }\n",
      "    ]\n",
      "  },\n",
      "  \"message\": {\n",
      "    \"@context\": [\n",
      "      \"https://w3id.org/dspace/2025/1/context.jsonld\"\n",
      "    ],\n",
      "    \"@type\": \"TransferProcess\",\n",
      "    \"providerPid\": \"urn:uuid:ecdebfc6-a5af-4e57-9bd3-7e5ded9f4812\",\n",
      "    \"consumerPid\": \"urn:uuid:74441508-9f4c-401c-a155-64fa4e6c7fdc\",\n",
      "    \"state\": \"STARTED\"\n",
      "  }\n",
      "}\n"
     ]
    }
   ],
   "execution_count": 218
  },
  {
   "metadata": {
    "ExecuteTime": {
     "end_time": "2025-05-09T09:26:40.062723Z",
     "start_time": "2025-05-09T09:26:40.012324Z"
    }
   },
   "cell_type": "code",
   "source": [
    "url = data_space_consumer + \"/api/v1/transfers/rpc/setup-suspension\"\n",
    "payload = {\n",
    "    \"providerAddress\": data_space_provider,\n",
    "    \"providerPid\": transfer_provider_id,\n",
    "    \"consumerPid\": transfer_consumer_id,\n",
    "}\n",
    "response = requests.request(\"POST\", url, headers=json_header, data=json.dumps(payload))\n",
    "response_as_json = response.json()\n",
    "print(json.dumps(response_as_json, indent=2))"
   ],
   "id": "ed4a0bc53ceec45f",
   "outputs": [
    {
     "name": "stdout",
     "output_type": "stream",
     "text": [
      "{\n",
      "  \"providerPid\": \"urn:uuid:ecdebfc6-a5af-4e57-9bd3-7e5ded9f4812\",\n",
      "  \"consumerPid\": \"urn:uuid:74441508-9f4c-401c-a155-64fa4e6c7fdc\",\n",
      "  \"message\": {\n",
      "    \"@context\": [\n",
      "      \"https://w3id.org/dspace/2025/1/context.jsonld\"\n",
      "    ],\n",
      "    \"@type\": \"TransferProcess\",\n",
      "    \"providerPid\": \"urn:uuid:ecdebfc6-a5af-4e57-9bd3-7e5ded9f4812\",\n",
      "    \"consumerPid\": \"urn:uuid:74441508-9f4c-401c-a155-64fa4e6c7fdc\",\n",
      "    \"state\": \"SUSPENDED\"\n",
      "  }\n",
      "}\n"
     ]
    }
   ],
   "execution_count": 219
  },
  {
   "metadata": {
    "ExecuteTime": {
     "end_time": "2025-05-09T09:26:40.255486Z",
     "start_time": "2025-05-09T09:26:40.187145Z"
    }
   },
   "cell_type": "code",
   "source": [
    "url = data_space_consumer + \"/api/v1/transfers/rpc/setup-start\"\n",
    "payload = {\n",
    "    \"providerAddress\": data_space_provider,\n",
    "    \"providerPid\": transfer_provider_id,\n",
    "    \"consumerPid\": transfer_consumer_id,\n",
    "}\n",
    "response = requests.request(\"POST\", url, headers=json_header, data=json.dumps(payload))\n",
    "response_as_json = response.json()\n",
    "print(json.dumps(response_as_json, indent=2))"
   ],
   "id": "4b0a3076674ace5f",
   "outputs": [
    {
     "name": "stdout",
     "output_type": "stream",
     "text": [
      "{\n",
      "  \"providerPid\": \"urn:uuid:ecdebfc6-a5af-4e57-9bd3-7e5ded9f4812\",\n",
      "  \"consumerPid\": \"urn:uuid:74441508-9f4c-401c-a155-64fa4e6c7fdc\",\n",
      "  \"message\": {\n",
      "    \"@context\": [\n",
      "      \"https://w3id.org/dspace/2025/1/context.jsonld\"\n",
      "    ],\n",
      "    \"@type\": \"TransferProcess\",\n",
      "    \"providerPid\": \"urn:uuid:ecdebfc6-a5af-4e57-9bd3-7e5ded9f4812\",\n",
      "    \"consumerPid\": \"urn:uuid:74441508-9f4c-401c-a155-64fa4e6c7fdc\",\n",
      "    \"state\": \"STARTED\"\n",
      "  }\n",
      "}\n"
     ]
    }
   ],
   "execution_count": 220
  },
  {
   "metadata": {
    "ExecuteTime": {
     "end_time": "2025-05-09T09:26:40.578966Z",
     "start_time": "2025-05-09T09:26:40.536978Z"
    }
   },
   "cell_type": "code",
   "source": [
    "url = data_space_provider + \"/api/v1/transfers/rpc/setup-completion\"\n",
    "payload = {\n",
    "    \"consumerCallbackAddress\": callback_address,\n",
    "    \"providerPid\": transfer_provider_id,\n",
    "    \"consumerPid\": transfer_consumer_id,\n",
    "}\n",
    "response = requests.request(\"POST\", url, headers=json_header, data=json.dumps(payload))\n",
    "response_as_json = response.json()\n",
    "print(json.dumps(response_as_json, indent=2))"
   ],
   "id": "a3bf1f3c1beb4e3",
   "outputs": [
    {
     "name": "stdout",
     "output_type": "stream",
     "text": [
      "{\n",
      "  \"providerPid\": \"urn:uuid:ecdebfc6-a5af-4e57-9bd3-7e5ded9f4812\",\n",
      "  \"consumerPid\": \"urn:uuid:74441508-9f4c-401c-a155-64fa4e6c7fdc\",\n",
      "  \"message\": {\n",
      "    \"@context\": [\n",
      "      \"https://w3id.org/dspace/2025/1/context.jsonld\"\n",
      "    ],\n",
      "    \"@type\": \"TransferProcess\",\n",
      "    \"providerPid\": \"urn:uuid:ecdebfc6-a5af-4e57-9bd3-7e5ded9f4812\",\n",
      "    \"consumerPid\": \"urn:uuid:74441508-9f4c-401c-a155-64fa4e6c7fdc\",\n",
      "    \"state\": \"COMPLETED\"\n",
      "  }\n",
      "}\n"
     ]
    }
   ],
   "execution_count": 221
  },
  {
   "metadata": {
    "ExecuteTime": {
     "end_time": "2025-05-09T09:26:41.374303Z",
     "start_time": "2025-05-09T09:26:41.372103Z"
    }
   },
   "cell_type": "code",
   "source": "",
   "id": "b0228ad8522b7a49",
   "outputs": [],
   "execution_count": null
  },
  {
   "metadata": {},
   "cell_type": "code",
   "source": "",
   "id": "99b0cb0b417c143a",
   "outputs": [],
   "execution_count": null
  },
  {
   "metadata": {},
   "cell_type": "code",
   "source": "",
   "id": "a60358323bff1fad",
   "outputs": [],
   "execution_count": null
  }
 ],
 "metadata": {
  "kernelspec": {
   "name": "python3",
   "language": "python",
   "display_name": "Python 3 (ipykernel)"
  }
 },
 "nbformat": 5,
 "nbformat_minor": 9
}

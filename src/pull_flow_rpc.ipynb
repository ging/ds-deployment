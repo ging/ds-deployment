{
 "cells": [
  {
   "cell_type": "code",
   "id": "affa926f259653e0",
   "metadata": {
    "ExecuteTime": {
     "end_time": "2025-10-07T10:33:14.101517Z",
     "start_time": "2025-10-07T10:33:13.978975Z"
    }
   },
   "source": [
    "!which python"
   ],
   "outputs": [
    {
     "name": "stdout",
     "output_type": "stream",
     "text": [
      "/Users/apabook/Desktop/ds-deployment/venv/bin/python\r\n"
     ]
    }
   ],
   "execution_count": 1
  },
  {
   "cell_type": "code",
   "id": "68e1fe621d8a0ef0",
   "metadata": {
    "ExecuteTime": {
     "end_time": "2025-10-07T10:33:28.083116Z",
     "start_time": "2025-10-07T10:33:27.743030Z"
    }
   },
   "source": [
    "import requests\n",
    "import json\n",
    "import pandas as pd\n",
    "from urllib.error import HTTPError, URLError"
   ],
   "outputs": [],
   "execution_count": 2
  },
  {
   "cell_type": "markdown",
   "id": "bc15da9211b43e67",
   "metadata": {},
   "source": [
    "# Complete dataspace flow"
   ]
  },
  {
   "cell_type": "markdown",
   "id": "b0f6ecdf966b8b68",
   "metadata": {},
   "source": [
    "## Consts\n"
   ]
  },
  {
   "cell_type": "code",
   "id": "f55ce154aa95c49d",
   "metadata": {
    "ExecuteTime": {
     "end_time": "2025-10-07T10:33:30.738128Z",
     "start_time": "2025-10-07T10:33:30.734672Z"
    }
   },
   "source": [
    "data_space_provider = \"http://127.0.0.1:1200\"\n",
    "data_space_consumer = \"http://127.0.0.1:1100\"\n",
    "api_endpoint = \"https://jsonplaceholder.typicode.com/comments\"\n",
    "\n",
    "data_space_provider_participant_id = \"\"\n",
    "data_space_provider_participant_token = \"\"\n",
    "data_space_consumer_participant_id = \"\"\n",
    "data_space_consumer_participant_token = \"\"\n",
    "catalog_id = \"\"\n",
    "dataset_id = \"\"\n",
    "distribution_id = \"\"\n",
    "data_service_id = \"\"\n",
    "policy_id = \"\"\n",
    "target_id = \"\"\n",
    "\n",
    "cn_consumer_id = \"\"\n",
    "cn_provider_id = \"\"\n",
    "agreement_id = \"\"\n",
    "transfer_consumer_id = \"\"\n",
    "transfer_provider_id = \"\"\n",
    "consumer_data_address = \"\"\n",
    "\n",
    "json_header = {\n",
    "    \"Content-Type\": \"application/json\",\n",
    "}"
   ],
   "outputs": [],
   "execution_count": 3
  },
  {
   "metadata": {},
   "cell_type": "markdown",
   "source": "## Wallets setup",
   "id": "78e5cdb6089b141a"
  },
  {
   "metadata": {
    "ExecuteTime": {
     "end_time": "2025-10-07T13:51:06.300842Z",
     "start_time": "2025-10-07T13:51:01.629671Z"
    }
   },
   "cell_type": "code",
   "source": [
    "url = data_space_provider + \"/api/v1/wallet/onboard\"\n",
    "response = requests.request(\"POST\", url)\n",
    "response"
   ],
   "id": "9e5c4d46ca6131a9",
   "outputs": [
    {
     "data": {
      "text/plain": [
       "<Response [201]>"
      ]
     },
     "execution_count": 6,
     "metadata": {},
     "output_type": "execute_result"
    }
   ],
   "execution_count": 6
  },
  {
   "metadata": {
    "ExecuteTime": {
     "end_time": "2025-10-07T13:51:12.404580Z",
     "start_time": "2025-10-07T13:51:08.808851Z"
    }
   },
   "cell_type": "code",
   "source": [
    "url = data_space_consumer + \"/api/v1/wallet/onboard\"\n",
    "response = requests.request(\"POST\", url)\n",
    "response"
   ],
   "id": "e942fb771cba3c6b",
   "outputs": [
    {
     "data": {
      "text/plain": [
       "<Response [201]>"
      ]
     },
     "execution_count": 7,
     "metadata": {},
     "output_type": "execute_result"
    }
   ],
   "execution_count": 7
  },
  {
   "cell_type": "markdown",
   "id": "69b1951a684bd85e",
   "metadata": {},
   "source": [
    "## Participants onboarding"
   ]
  },
  {
   "cell_type": "markdown",
   "id": "282464527a1cdffe",
   "metadata": {},
   "source": [
    "### Current Participants information"
   ]
  },
  {
   "cell_type": "code",
   "id": "c0cbd7496cfeee45",
   "metadata": {
    "ExecuteTime": {
     "end_time": "2025-10-07T13:51:19.279519Z",
     "start_time": "2025-10-07T13:51:19.245372Z"
    }
   },
   "source": [
    "url = data_space_provider + \"/api/v1/mates/me\"\n",
    "response = requests.request(\"GET\", url, headers=json_header)\n",
    "response_as_json = response.json()\n",
    "print(json.dumps(response_as_json, indent=4))"
   ],
   "outputs": [
    {
     "name": "stdout",
     "output_type": "stream",
     "text": [
      "{\n",
      "    \"participant_id\": \"did:jwk:eyJrdHkiOiJSU0EiLCJlIjoiQVFBQiIsIm4iOiIwLW5uempxdDNQVXZtMUVPaEVxNUNxQ05WcEVUM3I4S0Y3VWRKSDJlRFV1dDNhSFlFWGFxbG51SXZ4TUVmN0J1dkhMVnlUaW95U1BoMV9TaDF0ZnBwdF9aNXpXU1ZZUGp0ekZ0QlJsQ0pQYzNfc2YtelRIQURMMmNyYW84WmxXa1FFR2ZtX1g3Y2QtMkd5bmVuR0k0a01rLU9vRERUWEJNRmVoOVdtR1dyMGZBeHJ4Qkp3Unh4QTExODNIOWo1QkY3dlpVZ0Y3akYzV28xcVlva0Z4emJ0Q2FhWWkzTmE3aFYtWWRIYkg3QUhkYnlJa1JvTHhhVG9tb3ktRHRmb0dSSGRzTmpzNDFqZUwxTG5XczJENnVJMm43QTBFQ1hIaHJjZTlMbkt6eXNMWktRM3Ffa2hxR0UzRTZJT1djajRMT1NvNGJ4SXktZzNVT0NpeElSelJ2bFEifQ\",\n",
      "    \"participant_slug\": \"Myself\",\n",
      "    \"participant_type\": \"Provider\",\n",
      "    \"base_url\": \"http://127.0.0.1:1203\",\n",
      "    \"token\": null,\n",
      "    \"saved_at\": \"2025-10-07T10:38:17.860264\",\n",
      "    \"last_interaction\": \"2025-10-07T13:51:06.286954\",\n",
      "    \"is_me\": true\n",
      "}\n"
     ]
    }
   ],
   "execution_count": 8
  },
  {
   "cell_type": "code",
   "id": "abf39cd154ed72c2",
   "metadata": {
    "ExecuteTime": {
     "end_time": "2025-10-07T13:51:22.257722Z",
     "start_time": "2025-10-07T13:51:22.221438Z"
    }
   },
   "source": [
    "url = data_space_consumer + \"/api/v1/mates/me\"\n",
    "response = requests.request(\"GET\", url, headers=json_header)\n",
    "response_as_json = response.json()\n",
    "print(json.dumps(response_as_json, indent=4))"
   ],
   "outputs": [
    {
     "name": "stdout",
     "output_type": "stream",
     "text": [
      "{\n",
      "    \"participant_id\": \"did:jwk:eyJrdHkiOiJSU0EiLCJlIjoiQVFBQiIsIm4iOiJ4T0F3WlpkQ3AwQ0dCQV9tMVVHR1VXcEM5THJlcmJjbDMxblJoZThzNzd6R204aXA3YUgtUW5NNUNLbEo1YXlvUDhKTV9rLWhVQ0V2Q09qNWw5VmNhN0RfNTdRMjRJUEtHN0dQSGdnYzZ5bGxwZFlnSkVlY2xUcXJGcjdGUFBxcThDQzY1WVpfS1hGY3ByOHJGRVFEUGtkc3gzbU1qTkYzQUpNNzBpaEItdGtOOWxxcHZLb0h6MzJRaHRybVhFY2t1X1NtVFlFTU9GVU0xd0I1TE4xNmN4ZzIxZXYwMnZGdlVCYmdWZENTNHZocjNHNlNMM2dPZXVzd3BZaTZtTTZ6clloY3lkaDJaRjZCUEZVMS1NNk9tcENGRnd6SFVWNTdqMHJMLUR0OU1Ja1FUWmxXam5kcVVOZG1Ecnlyd0E1OU8zS1lWYWY5cmUwdW9QS3ZGUmRmY3cifQ\",\n",
      "    \"participant_slug\": \"Myself\",\n",
      "    \"participant_type\": \"Consumer\",\n",
      "    \"base_url\": \"http://127.0.0.1:1100\",\n",
      "    \"token\": null,\n",
      "    \"saved_at\": \"2025-10-07T13:51:12.325737\",\n",
      "    \"last_interaction\": \"2025-10-07T13:51:12.326074\",\n",
      "    \"is_me\": true\n",
      "}\n"
     ]
    }
   ],
   "execution_count": 9
  },
  {
   "cell_type": "markdown",
   "id": "4726580125d210c0",
   "metadata": {},
   "source": [
    "### Consumer registering in Provider via Verifiable presentation"
   ]
  },
  {
   "metadata": {
    "ExecuteTime": {
     "end_time": "2025-10-07T13:51:58.026168Z",
     "start_time": "2025-10-07T13:51:58.016168Z"
    }
   },
   "cell_type": "code",
   "source": [
    "url = data_space_provider + \"/api/v1/did.json\"\n",
    "response = requests.request(\"GET\", url)\n",
    "response_as_json = response.json()\n",
    "data_space_provider_participant_id = response_as_json[\"id\"]\n",
    "data_space_provider_participant_id"
   ],
   "id": "9ea801b08ef9e175",
   "outputs": [
    {
     "data": {
      "text/plain": [
       "'did:jwk:eyJrdHkiOiJSU0EiLCJlIjoiQVFBQiIsIm4iOiIwLW5uempxdDNQVXZtMUVPaEVxNUNxQ05WcEVUM3I4S0Y3VWRKSDJlRFV1dDNhSFlFWGFxbG51SXZ4TUVmN0J1dkhMVnlUaW95U1BoMV9TaDF0ZnBwdF9aNXpXU1ZZUGp0ekZ0QlJsQ0pQYzNfc2YtelRIQURMMmNyYW84WmxXa1FFR2ZtX1g3Y2QtMkd5bmVuR0k0a01rLU9vRERUWEJNRmVoOVdtR1dyMGZBeHJ4Qkp3Unh4QTExODNIOWo1QkY3dlpVZ0Y3akYzV28xcVlva0Z4emJ0Q2FhWWkzTmE3aFYtWWRIYkg3QUhkYnlJa1JvTHhhVG9tb3ktRHRmb0dSSGRzTmpzNDFqZUwxTG5XczJENnVJMm43QTBFQ1hIaHJjZTlMbkt6eXNMWktRM3Ffa2hxR0UzRTZJT1djajRMT1NvNGJ4SXktZzNVT0NpeElSelJ2bFEifQ'"
      ]
     },
     "execution_count": 11,
     "metadata": {},
     "output_type": "execute_result"
    }
   ],
   "execution_count": 11
  },
  {
   "cell_type": "code",
   "id": "5c0d1e5f5524774a",
   "metadata": {
    "ExecuteTime": {
     "end_time": "2025-10-07T13:52:40.428138Z",
     "start_time": "2025-10-07T13:52:40.176548Z"
    }
   },
   "source": [
    "url = data_space_consumer + \"/api/v1/request/onboard/provider\"\n",
    "payload = {\n",
    "    \"url\": data_space_provider + \"/api/v1/access\",\n",
    "    \"id\": data_space_provider_participant_id,\n",
    "    \"slug\": \"provider\",\n",
    "    \"actions\": \"talk\"\n",
    "}\n",
    "response = requests.request(\"POST\", url, headers=json_header, data=json.dumps(payload))\n",
    "response_as_text = response.text\n",
    "response_as_text"
   ],
   "outputs": [
    {
     "data": {
      "text/plain": [
       "'openid4vp://authorize?response_type=vp_token&client_id=http%3A%2F%2Fhost.docker.internal%3A1200%2Fapi%2Fv1%2Fverify%2FvkuDcbIaaWho&response_mode=direct_post&presentation_definition_uri=http%3A%2F%2Fhost.docker.internal%3A1200%2Fapi%2Fv1%2Fpd%2FvkuDcbIaaWho&client_id_scheme=redirect_uri&nonce=blUBhIF1pTN6&response_uri=http%3A%2F%2Fhost.docker.internal%3A1200%2Fapi%2Fv1%2Fverify%2FvkuDcbIaaWho'"
      ]
     },
     "execution_count": 13,
     "metadata": {},
     "output_type": "execute_result"
    }
   ],
   "execution_count": 13
  },
  {
   "cell_type": "markdown",
   "id": "496a76b6de3279c7",
   "metadata": {},
   "source": [
    "### Provider and Consumer ids"
   ]
  },
  {
   "cell_type": "code",
   "id": "63286f13d2c118cd",
   "metadata": {
    "ExecuteTime": {
     "end_time": "2025-10-07T14:17:26.197609Z",
     "start_time": "2025-10-07T14:17:26.160316Z"
    }
   },
   "source": [
    "url = data_space_provider + \"/api/v1/mates\"\n",
    "response = requests.request(\"GET\", url, headers=json_header, data=json.dumps(payload))\n",
    "response_as_json = response.json()\n",
    "\n",
    "for participant in response_as_json:\n",
    "    if participant.get(\"participant_type\") == \"Consumer\":\n",
    "        data_space_consumer_participant_id = participant[\"participant_id\"]\n",
    "        data_space_consumer_participant_token = participant[\"token\"]\n",
    "        break\n",
    "\n",
    "print(json.dumps(response_as_json, indent=4))"
   ],
   "outputs": [
    {
     "name": "stdout",
     "output_type": "stream",
     "text": [
      "[\n",
      "    {\n",
      "        \"participant_id\": \"did:jwk:eyJrdHkiOiJSU0EiLCJlIjoiQVFBQiIsIm4iOiJ4T0F3WlpkQ3AwQ0dCQV9tMVVHR1VXcEM5THJlcmJjbDMxblJoZThzNzd6R204aXA3YUgtUW5NNUNLbEo1YXlvUDhKTV9rLWhVQ0V2Q09qNWw5VmNhN0RfNTdRMjRJUEtHN0dQSGdnYzZ5bGxwZFlnSkVlY2xUcXJGcjdGUFBxcThDQzY1WVpfS1hGY3ByOHJGRVFEUGtkc3gzbU1qTkYzQUpNNzBpaEItdGtOOWxxcHZLb0h6MzJRaHRybVhFY2t1X1NtVFlFTU9GVU0xd0I1TE4xNmN4ZzIxZXYwMnZGdlVCYmdWZENTNHZocjNHNlNMM2dPZXVzd3BZaTZtTTZ6clloY3lkaDJaRjZCUEZVMS1NNk9tcENGRnd6SFVWNTdqMHJMLUR0OU1Ja1FUWmxXam5kcVVOZG1Ecnlyd0E1OU8zS1lWYWY5cmUwdW9QS3ZGUmRmY3cifQ\",\n",
      "        \"participant_slug\": \"rainbow_consumer\",\n",
      "        \"participant_type\": \"Consumer\",\n",
      "        \"base_url\": \"http://127.0.0.1:1100\",\n",
      "        \"token\": \"RVL1BeqGmSPZCo0Tpa_LyGXnbcRv1AR-n0k2Vx7BGwA\",\n",
      "        \"saved_at\": \"2025-10-07T10:39:39.206112\",\n",
      "        \"last_interaction\": \"2025-10-07T10:39:39.206113\",\n",
      "        \"is_me\": false\n",
      "    },\n",
      "    {\n",
      "        \"participant_id\": \"did:jwk:eyJrdHkiOiJSU0EiLCJlIjoiQVFBQiIsIm4iOiIwLW5uempxdDNQVXZtMUVPaEVxNUNxQ05WcEVUM3I4S0Y3VWRKSDJlRFV1dDNhSFlFWGFxbG51SXZ4TUVmN0J1dkhMVnlUaW95U1BoMV9TaDF0ZnBwdF9aNXpXU1ZZUGp0ekZ0QlJsQ0pQYzNfc2YtelRIQURMMmNyYW84WmxXa1FFR2ZtX1g3Y2QtMkd5bmVuR0k0a01rLU9vRERUWEJNRmVoOVdtR1dyMGZBeHJ4Qkp3Unh4QTExODNIOWo1QkY3dlpVZ0Y3akYzV28xcVlva0Z4emJ0Q2FhWWkzTmE3aFYtWWRIYkg3QUhkYnlJa1JvTHhhVG9tb3ktRHRmb0dSSGRzTmpzNDFqZUwxTG5XczJENnVJMm43QTBFQ1hIaHJjZTlMbkt6eXNMWktRM3Ffa2hxR0UzRTZJT1djajRMT1NvNGJ4SXktZzNVT0NpeElSelJ2bFEifQ\",\n",
      "        \"participant_slug\": \"Myself\",\n",
      "        \"participant_type\": \"Provider\",\n",
      "        \"base_url\": \"http://127.0.0.1:1203\",\n",
      "        \"token\": null,\n",
      "        \"saved_at\": \"2025-10-07T10:38:17.860264\",\n",
      "        \"last_interaction\": \"2025-10-07T13:51:06.286954\",\n",
      "        \"is_me\": true\n",
      "    }\n",
      "]\n"
     ]
    }
   ],
   "execution_count": 27
  },
  {
   "cell_type": "code",
   "id": "163378c48a331362",
   "metadata": {
    "ExecuteTime": {
     "end_time": "2025-10-07T14:17:27.015505Z",
     "start_time": "2025-10-07T14:17:26.998322Z"
    }
   },
   "source": [
    "url = data_space_consumer + \"/api/v1/mates\"\n",
    "response = requests.request(\"GET\", url, headers=json_header, data=json.dumps(payload))\n",
    "response_as_json = response.json()\n",
    "\n",
    "for participant in response_as_json:\n",
    "    if participant.get(\"participant_type\") == \"Provider\":\n",
    "        data_space_provider_participant_id = participant[\"participant_id\"]\n",
    "        data_space_provider_participant_token = participant[\"token\"]\n",
    "        break\n",
    "\n",
    "print(json.dumps(response_as_json, indent=4))"
   ],
   "outputs": [
    {
     "name": "stdout",
     "output_type": "stream",
     "text": [
      "[\n",
      "    {\n",
      "        \"participant_id\": \"did:jwk:eyJrdHkiOiJSU0EiLCJlIjoiQVFBQiIsIm4iOiIwLW5uempxdDNQVXZtMUVPaEVxNUNxQ05WcEVUM3I4S0Y3VWRKSDJlRFV1dDNhSFlFWGFxbG51SXZ4TUVmN0J1dkhMVnlUaW95U1BoMV9TaDF0ZnBwdF9aNXpXU1ZZUGp0ekZ0QlJsQ0pQYzNfc2YtelRIQURMMmNyYW84WmxXa1FFR2ZtX1g3Y2QtMkd5bmVuR0k0a01rLU9vRERUWEJNRmVoOVdtR1dyMGZBeHJ4Qkp3Unh4QTExODNIOWo1QkY3dlpVZ0Y3akYzV28xcVlva0Z4emJ0Q2FhWWkzTmE3aFYtWWRIYkg3QUhkYnlJa1JvTHhhVG9tb3ktRHRmb0dSSGRzTmpzNDFqZUwxTG5XczJENnVJMm43QTBFQ1hIaHJjZTlMbkt6eXNMWktRM3Ffa2hxR0UzRTZJT1djajRMT1NvNGJ4SXktZzNVT0NpeElSelJ2bFEifQ\",\n",
      "        \"participant_slug\": \"provider\",\n",
      "        \"participant_type\": \"Provider\",\n",
      "        \"base_url\": \"http://127.0.0.1:1200\",\n",
      "        \"token\": \"RVL1BeqGmSPZCo0Tpa_LyGXnbcRv1AR-n0k2Vx7BGwA\",\n",
      "        \"saved_at\": \"2025-10-07T10:39:39.213457\",\n",
      "        \"last_interaction\": \"2025-10-07T10:39:39.213458\",\n",
      "        \"is_me\": false\n",
      "    },\n",
      "    {\n",
      "        \"participant_id\": \"did:jwk:eyJrdHkiOiJSU0EiLCJlIjoiQVFBQiIsIm4iOiJ4T0F3WlpkQ3AwQ0dCQV9tMVVHR1VXcEM5THJlcmJjbDMxblJoZThzNzd6R204aXA3YUgtUW5NNUNLbEo1YXlvUDhKTV9rLWhVQ0V2Q09qNWw5VmNhN0RfNTdRMjRJUEtHN0dQSGdnYzZ5bGxwZFlnSkVlY2xUcXJGcjdGUFBxcThDQzY1WVpfS1hGY3ByOHJGRVFEUGtkc3gzbU1qTkYzQUpNNzBpaEItdGtOOWxxcHZLb0h6MzJRaHRybVhFY2t1X1NtVFlFTU9GVU0xd0I1TE4xNmN4ZzIxZXYwMnZGdlVCYmdWZENTNHZocjNHNlNMM2dPZXVzd3BZaTZtTTZ6clloY3lkaDJaRjZCUEZVMS1NNk9tcENGRnd6SFVWNTdqMHJMLUR0OU1Ja1FUWmxXam5kcVVOZG1Ecnlyd0E1OU8zS1lWYWY5cmUwdW9QS3ZGUmRmY3cifQ\",\n",
      "        \"participant_slug\": \"Myself\",\n",
      "        \"participant_type\": \"Consumer\",\n",
      "        \"base_url\": \"http://127.0.0.1:1100\",\n",
      "        \"token\": null,\n",
      "        \"saved_at\": \"2025-10-07T13:51:12.325737\",\n",
      "        \"last_interaction\": \"2025-10-07T13:51:12.326074\",\n",
      "        \"is_me\": true\n",
      "    }\n",
      "]\n"
     ]
    }
   ],
   "execution_count": 28
  },
  {
   "cell_type": "markdown",
   "id": "89cf12a469c65479",
   "metadata": {},
   "source": [
    "## Create Catalog instances and metadata"
   ]
  },
  {
   "cell_type": "code",
   "id": "11ed0dd3e885a07e",
   "metadata": {
    "ExecuteTime": {
     "end_time": "2025-10-07T14:17:29.794005Z",
     "start_time": "2025-10-07T14:17:29.690363Z"
    }
   },
   "source": [
    "url = data_space_provider + \"/api/v1/catalogs\"\n",
    "payload = {\n",
    "    \"foaf:homepage\": \"My dataspace catalog\",\n",
    "    \"dct:title\": \"My dataspace catalog\",\n",
    "\n",
    "}\n",
    "response = requests.request(\"POST\", url, headers=json_header, data=json.dumps(payload))\n",
    "response_as_json = response.json()\n",
    "catalog_id = response_as_json[\"@id\"]\n",
    "catalog_id"
   ],
   "outputs": [
    {
     "data": {
      "text/plain": [
       "'urn:uuid:549667ee-9eae-4038-bf5f-80ee76bdce3a'"
      ]
     },
     "execution_count": 29,
     "metadata": {},
     "output_type": "execute_result"
    }
   ],
   "execution_count": 29
  },
  {
   "cell_type": "code",
   "id": "7baa8c98c1636e0e",
   "metadata": {
    "ExecuteTime": {
     "end_time": "2025-10-07T14:17:29.927558Z",
     "start_time": "2025-10-07T14:17:29.885562Z"
    }
   },
   "source": [
    "url = data_space_provider + \"/api/v1/catalogs/{}/datasets\".format(catalog_id)\n",
    "payload = {\n",
    "    \"dct:title\": \"My dataspace dataset\",\n",
    "}\n",
    "response = requests.request(\"POST\", url, headers=json_header, data=json.dumps(payload))\n",
    "response_as_json = response.json()\n",
    "dataset_id = response_as_json[\"@id\"]\n",
    "dataset_id"
   ],
   "outputs": [
    {
     "data": {
      "text/plain": [
       "'urn:uuid:4880bfa7-37f9-48e8-a225-397c6bbc3ed2'"
      ]
     },
     "execution_count": 30,
     "metadata": {},
     "output_type": "execute_result"
    }
   ],
   "execution_count": 30
  },
  {
   "cell_type": "code",
   "id": "da71f544b74fee9e",
   "metadata": {
    "ExecuteTime": {
     "end_time": "2025-10-07T14:17:30.099841Z",
     "start_time": "2025-10-07T14:17:30.068925Z"
    }
   },
   "source": [
    "url = data_space_provider + \"/api/v1/catalogs/{}/data-services\".format(catalog_id)\n",
    "payload = {\n",
    "    \"dcat:endpointURL\": api_endpoint\n",
    "}\n",
    "response = requests.request(\"POST\", url, headers=json_header, data=json.dumps(payload))\n",
    "response_as_json = response.json()\n",
    "data_service_id = response_as_json[\"@id\"]\n",
    "data_service_id"
   ],
   "outputs": [
    {
     "data": {
      "text/plain": [
       "'urn:uuid:c2a5990c-17ba-4ccc-811c-3b7fbdac616b'"
      ]
     },
     "execution_count": 31,
     "metadata": {},
     "output_type": "execute_result"
    }
   ],
   "execution_count": 31
  },
  {
   "cell_type": "code",
   "id": "e3d0ae29abb601f1",
   "metadata": {
    "ExecuteTime": {
     "end_time": "2025-10-07T14:17:30.309142Z",
     "start_time": "2025-10-07T14:17:30.259983Z"
    }
   },
   "source": [
    "url = data_space_provider + \"/api/v1/catalogs/{}/datasets/{}/distributions\".format(catalog_id, dataset_id)\n",
    "payload = {\n",
    "    \"dcat:accessService\": data_service_id,\n",
    "    \"dct:formats\": \"http+pull\"\n",
    "}\n",
    "response = requests.request(\"POST\", url, headers=json_header, data=json.dumps(payload))\n",
    "response_as_json = response.json()\n",
    "distribution_id = response_as_json[\"@id\"]\n",
    "distribution_id"
   ],
   "outputs": [
    {
     "data": {
      "text/plain": [
       "'urn:uuid:87faebe5-ca37-4649-8d8b-ed5a41621ddd'"
      ]
     },
     "execution_count": 32,
     "metadata": {},
     "output_type": "execute_result"
    }
   ],
   "execution_count": 32
  },
  {
   "cell_type": "markdown",
   "id": "bcb61aba09d7f894",
   "metadata": {},
   "source": [
    "## Create policies"
   ]
  },
  {
   "cell_type": "code",
   "id": "3e20aede0a523dd4",
   "metadata": {
    "ExecuteTime": {
     "end_time": "2025-10-07T14:17:30.873205Z",
     "start_time": "2025-10-07T14:17:30.846671Z"
    }
   },
   "source": [
    "url = data_space_provider + \"/api/v1/datasets/{}/policies\".format(dataset_id)\n",
    "payload = {\n",
    "    \"permission\": [\n",
    "        {\n",
    "            \"action\": \"use\",\n",
    "            \"constraint\": [\n",
    "                {\n",
    "                    \"rightOperand\": \"user\",\n",
    "                    \"leftOperand\": \"did:web:hola.es\",\n",
    "                    \"operator\": \"eq\"\n",
    "                }\n",
    "            ]\n",
    "        }\n",
    "\n",
    "    ],\n",
    "    \"obligation\": [],\n",
    "    \"prohibition\": []\n",
    "}\n",
    "response = requests.request(\"POST\", url, headers=json_header, data=json.dumps(payload))\n",
    "response_as_json = response.json()\n",
    "policy_id = response_as_json[\"@id\"]\n",
    "target_id = response_as_json[\"target\"]\n",
    "print(json.dumps(response_as_json, indent=4))"
   ],
   "outputs": [
    {
     "name": "stdout",
     "output_type": "stream",
     "text": [
      "{\n",
      "    \"@id\": \"urn:uuid:b2277139-3c08-4a4f-a6b9-7e1155f3136b\",\n",
      "    \"permission\": [\n",
      "        {\n",
      "            \"action\": \"use\",\n",
      "            \"constraint\": [\n",
      "                {\n",
      "                    \"rightOperand\": \"user\",\n",
      "                    \"leftOperand\": \"did:web:hola.es\",\n",
      "                    \"operator\": \"eq\"\n",
      "                }\n",
      "            ]\n",
      "        }\n",
      "    ],\n",
      "    \"obligation\": [],\n",
      "    \"@type\": \"Offer\",\n",
      "    \"prohibition\": [],\n",
      "    \"target\": \"urn:uuid:4880bfa7-37f9-48e8-a225-397c6bbc3ed2\"\n",
      "}\n"
     ]
    }
   ],
   "execution_count": 33
  },
  {
   "cell_type": "markdown",
   "id": "438aaeed57dce757",
   "metadata": {},
   "source": [
    "## Contract Negotiation"
   ]
  },
  {
   "cell_type": "code",
   "id": "8c2d2e2304b50ace",
   "metadata": {
    "ExecuteTime": {
     "end_time": "2025-10-07T14:18:24.831837Z",
     "start_time": "2025-10-07T14:18:24.699253Z"
    }
   },
   "source": [
    "url = data_space_consumer + \"/api/v1/negotiations/rpc/setup-request\"\n",
    "payload = {\n",
    "    \"providerParticipantId\": data_space_provider_participant_id,\n",
    "    \"offer\": {\n",
    "        \"@id\": policy_id,    # policy id\n",
    "        \"target\": target_id, # data id\n",
    "        \"@type\": \"Offer\",\n",
    "        \"permission\": [\n",
    "            {\n",
    "                \"action\": \"use\"\n",
    "\n",
    "            }\n",
    "        ]\n",
    "    }\n",
    "}\n",
    "response = requests.request(\"POST\", url, headers=json_header, data=json.dumps(payload))\n",
    "response_as_json = response.json()\n",
    "cn_consumer_id = response_as_json[\"consumerPid\"]\n",
    "cn_provider_id = response_as_json[\"providerPid\"]\n",
    "print(json.dumps(response_as_json, indent=2))"
   ],
   "outputs": [
    {
     "name": "stdout",
     "output_type": "stream",
     "text": [
      "{\n",
      "  \"consumerPid\": \"urn:uuid:9efd5a0a-b99e-4e35-8a80-0235cce2a4dd\",\n",
      "  \"providerPid\": \"urn:uuid:4ee52c75-d42a-4b3f-a213-f08858a12040\",\n",
      "  \"offer\": {\n",
      "    \"@id\": \"urn:uuid:b2277139-3c08-4a4f-a6b9-7e1155f3136b\",\n",
      "    \"permission\": [\n",
      "      {\n",
      "        \"action\": \"use\"\n",
      "      }\n",
      "    ],\n",
      "    \"@type\": \"Offer\",\n",
      "    \"target\": \"urn:uuid:4880bfa7-37f9-48e8-a225-397c6bbc3ed2\"\n",
      "  },\n",
      "  \"message\": {\n",
      "    \"@context\": [\n",
      "      \"https://w3id.org/dspace/2025/1/context.jsonld\"\n",
      "    ],\n",
      "    \"@type\": \"ContractNegotiation\",\n",
      "    \"providerPid\": \"urn:uuid:4ee52c75-d42a-4b3f-a213-f08858a12040\",\n",
      "    \"consumerPid\": \"urn:uuid:9efd5a0a-b99e-4e35-8a80-0235cce2a4dd\",\n",
      "    \"state\": \"REQUESTED\"\n",
      "  }\n",
      "}\n"
     ]
    }
   ],
   "execution_count": 36
  },
  {
   "cell_type": "code",
   "id": "b6ca342e690f05de",
   "metadata": {
    "ExecuteTime": {
     "end_time": "2025-10-07T14:18:27.607257Z",
     "start_time": "2025-10-07T14:18:27.466307Z"
    }
   },
   "source": [
    "url = data_space_provider + \"/api/v1/negotiations/rpc/setup-offer\"\n",
    "payload = {\n",
    "    \"consumerParticipantId\": data_space_consumer_participant_id,\n",
    "    \"consumerPid\": cn_consumer_id, # remove to test offer from provider\n",
    "    \"providerPid\": cn_provider_id, # remove to test offer from provider\n",
    "    \"offer\": {\n",
    "        \"@id\": policy_id,\n",
    "        \"target\": target_id,\n",
    "        \"@type\": \"Offer\",\n",
    "        \"permission\": [\n",
    "            {\n",
    "                \"action\": \"supermegause\"\n",
    "            }\n",
    "        ]\n",
    "    }\n",
    "}\n",
    "response = requests.request(\"POST\", url, headers=json_header, data=json.dumps(payload))\n",
    "response_as_json = response.json()\n",
    "print(json.dumps(response_as_json, indent=2))"
   ],
   "outputs": [
    {
     "name": "stdout",
     "output_type": "stream",
     "text": [
      "{\n",
      "  \"consumerParticipantId\": \"did:jwk:eyJrdHkiOiJSU0EiLCJlIjoiQVFBQiIsIm4iOiJ4T0F3WlpkQ3AwQ0dCQV9tMVVHR1VXcEM5THJlcmJjbDMxblJoZThzNzd6R204aXA3YUgtUW5NNUNLbEo1YXlvUDhKTV9rLWhVQ0V2Q09qNWw5VmNhN0RfNTdRMjRJUEtHN0dQSGdnYzZ5bGxwZFlnSkVlY2xUcXJGcjdGUFBxcThDQzY1WVpfS1hGY3ByOHJGRVFEUGtkc3gzbU1qTkYzQUpNNzBpaEItdGtOOWxxcHZLb0h6MzJRaHRybVhFY2t1X1NtVFlFTU9GVU0xd0I1TE4xNmN4ZzIxZXYwMnZGdlVCYmdWZENTNHZocjNHNlNMM2dPZXVzd3BZaTZtTTZ6clloY3lkaDJaRjZCUEZVMS1NNk9tcENGRnd6SFVWNTdqMHJMLUR0OU1Ja1FUWmxXam5kcVVOZG1Ecnlyd0E1OU8zS1lWYWY5cmUwdW9QS3ZGUmRmY3cifQ\",\n",
      "  \"consumerPid\": \"urn:uuid:9efd5a0a-b99e-4e35-8a80-0235cce2a4dd\",\n",
      "  \"providerPid\": \"urn:uuid:4ee52c75-d42a-4b3f-a213-f08858a12040\",\n",
      "  \"offer\": {\n",
      "    \"@id\": \"urn:uuid:b2277139-3c08-4a4f-a6b9-7e1155f3136b\",\n",
      "    \"permission\": [\n",
      "      {\n",
      "        \"action\": \"supermegause\"\n",
      "      }\n",
      "    ],\n",
      "    \"@type\": \"Offer\",\n",
      "    \"target\": \"urn:uuid:4880bfa7-37f9-48e8-a225-397c6bbc3ed2\"\n",
      "  },\n",
      "  \"message\": {\n",
      "    \"@context\": [\n",
      "      \"https://w3id.org/dspace/2025/1/context.jsonld\"\n",
      "    ],\n",
      "    \"@type\": \"ContractNegotiation\",\n",
      "    \"providerPid\": \"urn:uuid:4ee52c75-d42a-4b3f-a213-f08858a12040\",\n",
      "    \"consumerPid\": \"urn:uuid:9efd5a0a-b99e-4e35-8a80-0235cce2a4dd\",\n",
      "    \"state\": \"OFFERED\"\n",
      "  }\n",
      "}\n"
     ]
    }
   ],
   "execution_count": 37
  },
  {
   "cell_type": "code",
   "id": "7ac89fa87c4165cf",
   "metadata": {
    "ExecuteTime": {
     "end_time": "2025-10-07T14:18:33.984246Z",
     "start_time": "2025-10-07T14:18:33.868850Z"
    }
   },
   "source": [
    "url = data_space_consumer + \"/api/v1/negotiations/rpc/setup-request\"\n",
    "payload = {\n",
    "    \"providerParticipantId\": data_space_provider_participant_id,\n",
    "    \"consumerPid\": cn_consumer_id,\n",
    "    \"providerPid\": cn_provider_id,\n",
    "    \"offer\": {\n",
    "        \"@id\": policy_id,    # policy id\n",
    "        \"target\": target_id, # data id\n",
    "        \"@type\": \"Offer\",\n",
    "        \"permission\": [\n",
    "            {\n",
    "                \"action\": \"use\"\n",
    "\n",
    "            }\n",
    "        ]\n",
    "    }\n",
    "}\n",
    "response = requests.request(\"POST\", url, headers=json_header, data=json.dumps(payload))\n",
    "response_as_json = response.json()\n",
    "cn_consumer_id = response_as_json[\"consumerPid\"]\n",
    "cn_provider_id = response_as_json[\"providerPid\"]\n",
    "print(json.dumps(response_as_json, indent=2))"
   ],
   "outputs": [
    {
     "name": "stdout",
     "output_type": "stream",
     "text": [
      "{\n",
      "  \"consumerPid\": \"urn:uuid:9efd5a0a-b99e-4e35-8a80-0235cce2a4dd\",\n",
      "  \"providerPid\": \"urn:uuid:4ee52c75-d42a-4b3f-a213-f08858a12040\",\n",
      "  \"offer\": {\n",
      "    \"@id\": \"urn:uuid:b2277139-3c08-4a4f-a6b9-7e1155f3136b\",\n",
      "    \"permission\": [\n",
      "      {\n",
      "        \"action\": \"use\"\n",
      "      }\n",
      "    ],\n",
      "    \"@type\": \"Offer\",\n",
      "    \"target\": \"urn:uuid:4880bfa7-37f9-48e8-a225-397c6bbc3ed2\"\n",
      "  },\n",
      "  \"message\": {\n",
      "    \"@context\": [\n",
      "      \"https://w3id.org/dspace/2025/1/context.jsonld\"\n",
      "    ],\n",
      "    \"@type\": \"ContractNegotiation\",\n",
      "    \"providerPid\": \"urn:uuid:4ee52c75-d42a-4b3f-a213-f08858a12040\",\n",
      "    \"consumerPid\": \"urn:uuid:9efd5a0a-b99e-4e35-8a80-0235cce2a4dd\",\n",
      "    \"state\": \"REQUESTED\"\n",
      "  }\n",
      "}\n"
     ]
    }
   ],
   "execution_count": 38
  },
  {
   "cell_type": "code",
   "id": "2cd0744d51abe4b5",
   "metadata": {
    "ExecuteTime": {
     "end_time": "2025-10-07T14:18:35.063698Z",
     "start_time": "2025-10-07T14:18:34.959530Z"
    }
   },
   "source": [
    "url = data_space_provider + \"/api/v1/negotiations/rpc/setup-offer\"\n",
    "payload = {\n",
    "    \"consumerParticipantId\": data_space_consumer_participant_id,\n",
    "    \"consumerPid\": cn_consumer_id,\n",
    "    \"providerPid\": cn_provider_id,\n",
    "    \"offer\": {\n",
    "        \"@id\": policy_id,\n",
    "        \"target\": target_id,\n",
    "        \"@type\": \"Offer\",\n",
    "        \"permission\": [\n",
    "            {\n",
    "                \"action\": \"supermegause\"\n",
    "            }\n",
    "        ]\n",
    "    }\n",
    "}\n",
    "response = requests.request(\"POST\", url, headers=json_header, data=json.dumps(payload))\n",
    "response_as_json = response.json()\n",
    "print(json.dumps(response_as_json, indent=2))"
   ],
   "outputs": [
    {
     "name": "stdout",
     "output_type": "stream",
     "text": [
      "{\n",
      "  \"consumerParticipantId\": \"did:jwk:eyJrdHkiOiJSU0EiLCJlIjoiQVFBQiIsIm4iOiJ4T0F3WlpkQ3AwQ0dCQV9tMVVHR1VXcEM5THJlcmJjbDMxblJoZThzNzd6R204aXA3YUgtUW5NNUNLbEo1YXlvUDhKTV9rLWhVQ0V2Q09qNWw5VmNhN0RfNTdRMjRJUEtHN0dQSGdnYzZ5bGxwZFlnSkVlY2xUcXJGcjdGUFBxcThDQzY1WVpfS1hGY3ByOHJGRVFEUGtkc3gzbU1qTkYzQUpNNzBpaEItdGtOOWxxcHZLb0h6MzJRaHRybVhFY2t1X1NtVFlFTU9GVU0xd0I1TE4xNmN4ZzIxZXYwMnZGdlVCYmdWZENTNHZocjNHNlNMM2dPZXVzd3BZaTZtTTZ6clloY3lkaDJaRjZCUEZVMS1NNk9tcENGRnd6SFVWNTdqMHJMLUR0OU1Ja1FUWmxXam5kcVVOZG1Ecnlyd0E1OU8zS1lWYWY5cmUwdW9QS3ZGUmRmY3cifQ\",\n",
      "  \"consumerPid\": \"urn:uuid:9efd5a0a-b99e-4e35-8a80-0235cce2a4dd\",\n",
      "  \"providerPid\": \"urn:uuid:4ee52c75-d42a-4b3f-a213-f08858a12040\",\n",
      "  \"offer\": {\n",
      "    \"@id\": \"urn:uuid:b2277139-3c08-4a4f-a6b9-7e1155f3136b\",\n",
      "    \"permission\": [\n",
      "      {\n",
      "        \"action\": \"supermegause\"\n",
      "      }\n",
      "    ],\n",
      "    \"@type\": \"Offer\",\n",
      "    \"target\": \"urn:uuid:4880bfa7-37f9-48e8-a225-397c6bbc3ed2\"\n",
      "  },\n",
      "  \"message\": {\n",
      "    \"@context\": [\n",
      "      \"https://w3id.org/dspace/2025/1/context.jsonld\"\n",
      "    ],\n",
      "    \"@type\": \"ContractNegotiation\",\n",
      "    \"providerPid\": \"urn:uuid:4ee52c75-d42a-4b3f-a213-f08858a12040\",\n",
      "    \"consumerPid\": \"urn:uuid:9efd5a0a-b99e-4e35-8a80-0235cce2a4dd\",\n",
      "    \"state\": \"OFFERED\"\n",
      "  }\n",
      "}\n"
     ]
    }
   ],
   "execution_count": 39
  },
  {
   "cell_type": "code",
   "id": "4feaa2d5afa582d6",
   "metadata": {
    "ExecuteTime": {
     "end_time": "2025-10-07T14:18:35.843027Z",
     "start_time": "2025-10-07T14:18:35.734419Z"
    }
   },
   "source": [
    "url = data_space_consumer + \"/api/v1/negotiations/rpc/setup-acceptance\"\n",
    "payload = {\n",
    "    \"providerParticipantId\": data_space_provider_participant_id,\n",
    "    \"consumerPid\": cn_consumer_id,\n",
    "    \"providerPid\": cn_provider_id\n",
    "}\n",
    "response = requests.request(\"POST\", url, headers=json_header, data=json.dumps(payload))\n",
    "response_as_json = response.json()\n",
    "print(json.dumps(response_as_json, indent=2))"
   ],
   "outputs": [
    {
     "name": "stdout",
     "output_type": "stream",
     "text": [
      "{\n",
      "  \"consumerPid\": \"urn:uuid:9efd5a0a-b99e-4e35-8a80-0235cce2a4dd\",\n",
      "  \"providerPid\": \"urn:uuid:4ee52c75-d42a-4b3f-a213-f08858a12040\",\n",
      "  \"message\": {\n",
      "    \"@context\": [\n",
      "      \"https://w3id.org/dspace/2025/1/context.jsonld\"\n",
      "    ],\n",
      "    \"@type\": \"ContractNegotiation\",\n",
      "    \"providerPid\": \"urn:uuid:4ee52c75-d42a-4b3f-a213-f08858a12040\",\n",
      "    \"consumerPid\": \"urn:uuid:9efd5a0a-b99e-4e35-8a80-0235cce2a4dd\",\n",
      "    \"state\": \"ACCEPTED\"\n",
      "  }\n",
      "}\n"
     ]
    }
   ],
   "execution_count": 40
  },
  {
   "cell_type": "code",
   "id": "84609238c0d3e043",
   "metadata": {
    "ExecuteTime": {
     "end_time": "2025-10-07T14:18:36.695990Z",
     "start_time": "2025-10-07T14:18:36.500190Z"
    }
   },
   "source": [
    "url = data_space_provider + \"/api/v1/negotiations/rpc/setup-agreement\"\n",
    "payload = {\n",
    "    \"consumerParticipantId\": data_space_consumer_participant_id,\n",
    "    \"consumerPid\": cn_consumer_id,\n",
    "    \"providerPid\": cn_provider_id\n",
    "}\n",
    "response = requests.request(\"POST\", url, headers=json_header, data=json.dumps(payload))\n",
    "response_as_json = response.json()\n",
    "agreement_id=response_as_json[\"agreement\"][\"@id\"]\n",
    "print(json.dumps(response_as_json, indent=2))"
   ],
   "outputs": [
    {
     "name": "stdout",
     "output_type": "stream",
     "text": [
      "{\n",
      "  \"consumerPid\": \"urn:uuid:9efd5a0a-b99e-4e35-8a80-0235cce2a4dd\",\n",
      "  \"providerPid\": \"urn:uuid:4ee52c75-d42a-4b3f-a213-f08858a12040\",\n",
      "  \"agreement\": {\n",
      "    \"@id\": \"urn:uuid:861dea6f-bb78-4cb5-99df-24d1b541cf75\",\n",
      "    \"permission\": [\n",
      "      {\n",
      "        \"action\": \"supermegause\"\n",
      "      }\n",
      "    ],\n",
      "    \"@type\": \"Agreement\",\n",
      "    \"target\": \"urn:uuid:4880bfa7-37f9-48e8-a225-397c6bbc3ed2\",\n",
      "    \"assigner\": \"did:jwk:eyJrdHkiOiJSU0EiLCJlIjoiQVFBQiIsIm4iOiIwLW5uempxdDNQVXZtMUVPaEVxNUNxQ05WcEVUM3I4S0Y3VWRKSDJlRFV1dDNhSFlFWGFxbG51SXZ4TUVmN0J1dkhMVnlUaW95U1BoMV9TaDF0ZnBwdF9aNXpXU1ZZUGp0ekZ0QlJsQ0pQYzNfc2YtelRIQURMMmNyYW84WmxXa1FFR2ZtX1g3Y2QtMkd5bmVuR0k0a01rLU9vRERUWEJNRmVoOVdtR1dyMGZBeHJ4Qkp3Unh4QTExODNIOWo1QkY3dlpVZ0Y3akYzV28xcVlva0Z4emJ0Q2FhWWkzTmE3aFYtWWRIYkg3QUhkYnlJa1JvTHhhVG9tb3ktRHRmb0dSSGRzTmpzNDFqZUwxTG5XczJENnVJMm43QTBFQ1hIaHJjZTlMbkt6eXNMWktRM3Ffa2hxR0UzRTZJT1djajRMT1NvNGJ4SXktZzNVT0NpeElSelJ2bFEifQ\",\n",
      "    \"assignee\": \"did:jwk:eyJrdHkiOiJSU0EiLCJlIjoiQVFBQiIsIm4iOiJ4T0F3WlpkQ3AwQ0dCQV9tMVVHR1VXcEM5THJlcmJjbDMxblJoZThzNzd6R204aXA3YUgtUW5NNUNLbEo1YXlvUDhKTV9rLWhVQ0V2Q09qNWw5VmNhN0RfNTdRMjRJUEtHN0dQSGdnYzZ5bGxwZFlnSkVlY2xUcXJGcjdGUFBxcThDQzY1WVpfS1hGY3ByOHJGRVFEUGtkc3gzbU1qTkYzQUpNNzBpaEItdGtOOWxxcHZLb0h6MzJRaHRybVhFY2t1X1NtVFlFTU9GVU0xd0I1TE4xNmN4ZzIxZXYwMnZGdlVCYmdWZENTNHZocjNHNlNMM2dPZXVzd3BZaTZtTTZ6clloY3lkaDJaRjZCUEZVMS1NNk9tcENGRnd6SFVWNTdqMHJMLUR0OU1Ja1FUWmxXam5kcVVOZG1Ecnlyd0E1OU8zS1lWYWY5cmUwdW9QS3ZGUmRmY3cifQ\",\n",
      "    \"timestamp\": \"2025-10-07T14:18:36.570679+00:00\"\n",
      "  },\n",
      "  \"message\": {\n",
      "    \"@context\": [\n",
      "      \"https://w3id.org/dspace/2025/1/context.jsonld\"\n",
      "    ],\n",
      "    \"@type\": \"ContractNegotiation\",\n",
      "    \"providerPid\": \"urn:uuid:4ee52c75-d42a-4b3f-a213-f08858a12040\",\n",
      "    \"consumerPid\": \"urn:uuid:9efd5a0a-b99e-4e35-8a80-0235cce2a4dd\",\n",
      "    \"state\": \"AGREED\"\n",
      "  }\n",
      "}\n"
     ]
    }
   ],
   "execution_count": 41
  },
  {
   "cell_type": "code",
   "id": "8840cdbc4f7c5a99",
   "metadata": {
    "ExecuteTime": {
     "end_time": "2025-10-07T14:18:37.277052Z",
     "start_time": "2025-10-07T14:18:37.168073Z"
    }
   },
   "source": [
    "url = data_space_consumer + \"/api/v1/negotiations/rpc/setup-verification\"\n",
    "payload = {\n",
    "    \"providerParticipantId\": data_space_provider_participant_id,\n",
    "    \"consumerPid\": cn_consumer_id,\n",
    "    \"providerPid\": cn_provider_id,\n",
    "}\n",
    "response = requests.request(\"POST\", url, headers=json_header, data=json.dumps(payload))\n",
    "response_as_json = response.json()\n",
    "print(json.dumps(response_as_json, indent=2))"
   ],
   "outputs": [
    {
     "name": "stdout",
     "output_type": "stream",
     "text": [
      "{\n",
      "  \"consumerPid\": \"urn:uuid:9efd5a0a-b99e-4e35-8a80-0235cce2a4dd\",\n",
      "  \"providerPid\": \"urn:uuid:4ee52c75-d42a-4b3f-a213-f08858a12040\",\n",
      "  \"message\": {\n",
      "    \"@context\": [\n",
      "      \"https://w3id.org/dspace/2025/1/context.jsonld\"\n",
      "    ],\n",
      "    \"@type\": \"ContractNegotiation\",\n",
      "    \"providerPid\": \"urn:uuid:4ee52c75-d42a-4b3f-a213-f08858a12040\",\n",
      "    \"consumerPid\": \"urn:uuid:9efd5a0a-b99e-4e35-8a80-0235cce2a4dd\",\n",
      "    \"state\": \"VERIFIED\"\n",
      "  }\n",
      "}\n"
     ]
    }
   ],
   "execution_count": 42
  },
  {
   "cell_type": "code",
   "id": "fddd19bf8f2b05d9",
   "metadata": {
    "ExecuteTime": {
     "end_time": "2025-10-07T14:18:37.916461Z",
     "start_time": "2025-10-07T14:18:37.834889Z"
    }
   },
   "source": [
    "url = data_space_provider + \"/api/v1/negotiations/rpc/setup-finalization\"\n",
    "payload = {\n",
    "    \"consumerParticipantId\": data_space_consumer_participant_id,\n",
    "    \"consumerPid\": cn_consumer_id,\n",
    "    \"providerPid\": cn_provider_id,\n",
    "}\n",
    "response = requests.request(\"POST\", url, headers=json_header, data=json.dumps(payload))\n",
    "response_as_json = response.json()\n",
    "print(json.dumps(response_as_json, indent=2))"
   ],
   "outputs": [
    {
     "name": "stdout",
     "output_type": "stream",
     "text": [
      "{\n",
      "  \"consumerPid\": \"urn:uuid:9efd5a0a-b99e-4e35-8a80-0235cce2a4dd\",\n",
      "  \"providerPid\": \"urn:uuid:4ee52c75-d42a-4b3f-a213-f08858a12040\",\n",
      "  \"message\": {\n",
      "    \"@context\": [\n",
      "      \"https://w3id.org/dspace/2025/1/context.jsonld\"\n",
      "    ],\n",
      "    \"@type\": \"ContractNegotiation\",\n",
      "    \"providerPid\": \"urn:uuid:4ee52c75-d42a-4b3f-a213-f08858a12040\",\n",
      "    \"consumerPid\": \"urn:uuid:9efd5a0a-b99e-4e35-8a80-0235cce2a4dd\",\n",
      "    \"state\": \"FINALIZED\"\n",
      "  }\n",
      "}\n"
     ]
    }
   ],
   "execution_count": 43
  },
  {
   "cell_type": "markdown",
   "id": "f8a6b52b3af734ba",
   "metadata": {},
   "source": "## Transfer Negotiation\n"
  },
  {
   "cell_type": "code",
   "id": "c359ed2305c94f27",
   "metadata": {
    "ExecuteTime": {
     "end_time": "2025-10-07T14:18:39.389800Z",
     "start_time": "2025-10-07T14:18:39.125423Z"
    }
   },
   "source": [
    "url = data_space_consumer + \"/api/v1/transfers/rpc/setup-request\"\n",
    "payload = {\n",
    "    \"providerParticipantId\": data_space_provider_participant_id,\n",
    "    \"agreementId\": agreement_id,\n",
    "    \"format\": \"http+pull\"\n",
    "}\n",
    "response = requests.request(\"POST\", url, headers=json_header, data=json.dumps(payload))\n",
    "response_as_json = response.json()\n",
    "transfer_consumer_id = response_as_json[\"consumerPid\"]\n",
    "transfer_provider_id = response_as_json[\"providerPid\"]\n",
    "callback_address = response_as_json[\"callbackAddress\"]\n",
    "print(json.dumps(response_as_json, indent=2))"
   ],
   "outputs": [
    {
     "name": "stdout",
     "output_type": "stream",
     "text": [
      "{\n",
      "  \"providerPid\": \"urn:uuid:dfae753b-b3bf-4ce6-a732-fcee442328bf\",\n",
      "  \"consumerPid\": \"urn:uuid:5606a90f-0519-4bb0-b425-50d7f2aa5c10\",\n",
      "  \"agreementId\": \"urn:uuid:861dea6f-bb78-4cb5-99df-24d1b541cf75\",\n",
      "  \"callbackAddress\": \"http://127.0.0.1:1100/urn:uuid:b0fbc4c3-9754-4e44-b9e7-2e0819bcc57c\",\n",
      "  \"format\": \"http+pull\",\n",
      "  \"message\": {\n",
      "    \"@context\": [\n",
      "      \"https://w3id.org/dspace/2025/1/context.jsonld\"\n",
      "    ],\n",
      "    \"@type\": \"TransferProcess\",\n",
      "    \"providerPid\": \"urn:uuid:dfae753b-b3bf-4ce6-a732-fcee442328bf\",\n",
      "    \"consumerPid\": \"urn:uuid:5606a90f-0519-4bb0-b425-50d7f2aa5c10\",\n",
      "    \"state\": \"REQUESTED\"\n",
      "  }\n",
      "}\n"
     ]
    }
   ],
   "execution_count": 44
  },
  {
   "cell_type": "code",
   "id": "d905936906de088c",
   "metadata": {
    "ExecuteTime": {
     "end_time": "2025-10-07T14:18:40.216170Z",
     "start_time": "2025-10-07T14:18:40.037078Z"
    }
   },
   "source": [
    "url = data_space_provider + \"/api/v1/transfers/rpc/setup-start\"\n",
    "payload = {\n",
    "    \"consumerParticipantId\": data_space_consumer_participant_id,\n",
    "    \"consumerCallbackAddress\": callback_address,\n",
    "    \"providerPid\": transfer_provider_id,\n",
    "    \"consumerPid\": transfer_consumer_id\n",
    "}\n",
    "response = requests.request(\"POST\", url, headers=json_header, data=json.dumps(payload))\n",
    "response_as_json = response.json()\n",
    "\n",
    "print(json.dumps(response_as_json, indent=2))"
   ],
   "outputs": [
    {
     "name": "stdout",
     "output_type": "stream",
     "text": [
      "{\n",
      "  \"providerPid\": \"urn:uuid:dfae753b-b3bf-4ce6-a732-fcee442328bf\",\n",
      "  \"consumerPid\": \"urn:uuid:5606a90f-0519-4bb0-b425-50d7f2aa5c10\",\n",
      "  \"dataAddress\": {\n",
      "    \"@type\": \"DataAddress\",\n",
      "    \"endpointType\": \"http\",\n",
      "    \"endpoint\": \"http://127.0.0.1:1200/data/urn:uuid:dfae753b-b3bf-4ce6-a732-fcee442328bf\",\n",
      "    \"endpointProperties\": [\n",
      "      {\n",
      "        \"@type\": \"EndpointProperty\",\n",
      "        \"name\": \"authType\",\n",
      "        \"value\": \"\"\n",
      "      },\n",
      "      {\n",
      "        \"@type\": \"EndpointProperty\",\n",
      "        \"name\": \"authorization\",\n",
      "        \"value\": \"\"\n",
      "      }\n",
      "    ]\n",
      "  },\n",
      "  \"message\": {\n",
      "    \"@context\": [\n",
      "      \"https://w3id.org/dspace/2025/1/context.jsonld\"\n",
      "    ],\n",
      "    \"@type\": \"TransferProcess\",\n",
      "    \"providerPid\": \"urn:uuid:dfae753b-b3bf-4ce6-a732-fcee442328bf\",\n",
      "    \"consumerPid\": \"urn:uuid:5606a90f-0519-4bb0-b425-50d7f2aa5c10\",\n",
      "    \"state\": \"STARTED\"\n",
      "  }\n",
      "}\n"
     ]
    }
   ],
   "execution_count": 45
  },
  {
   "cell_type": "code",
   "id": "45bb48df83adbb24",
   "metadata": {
    "ExecuteTime": {
     "end_time": "2025-10-07T14:18:41.331865Z",
     "start_time": "2025-10-07T14:18:41.292875Z"
    }
   },
   "source": [
    "url = data_space_consumer + \"/api/v1/dataplane/\" + transfer_consumer_id\n",
    "response = requests.request(\"GET\", url, headers=json_header)\n",
    "response_as_json = response.json()\n",
    "consumer_data_address = response_as_json[\"process_address\"][\"url\"]\n",
    "print(json.dumps(response_as_json, indent=2))"
   ],
   "outputs": [
    {
     "name": "stdout",
     "output_type": "stream",
     "text": [
      "{\n",
      "  \"id\": \"urn:uuid:5606a90f-0519-4bb0-b425-50d7f2aa5c10\",\n",
      "  \"process_direction\": \"PULL\",\n",
      "  \"upstream_hop\": {\n",
      "    \"protocol\": \"\",\n",
      "    \"url\": \"\",\n",
      "    \"auth_type\": \"\",\n",
      "    \"auth_content\": \"\"\n",
      "  },\n",
      "  \"downstream_hop\": {\n",
      "    \"protocol\": \"\",\n",
      "    \"url\": \"\",\n",
      "    \"auth_type\": \"\",\n",
      "    \"auth_content\": \"\"\n",
      "  },\n",
      "  \"process_address\": {\n",
      "    \"protocol\": \"http\",\n",
      "    \"url\": \"http://127.0.0.1:1100/data/urn:uuid:5606a90f-0519-4bb0-b425-50d7f2aa5c10\",\n",
      "    \"auth_type\": \"\",\n",
      "    \"auth_content\": \"\"\n",
      "  },\n",
      "  \"created_at\": \"2025-10-07T14:18:40.109051\",\n",
      "  \"updated_at\": \"2025-10-07T14:18:40.177676\",\n",
      "  \"state\": \"STARTED\"\n",
      "}\n"
     ]
    }
   ],
   "execution_count": 46
  },
  {
   "cell_type": "code",
   "id": "6e9e83d8150b9676",
   "metadata": {
    "ExecuteTime": {
     "end_time": "2025-10-07T14:18:42.363557Z",
     "start_time": "2025-10-07T14:18:42.029890Z"
    }
   },
   "source": [
    "try :\n",
    "    df = pd.read_json(consumer_data_address)\n",
    "    print(df)\n",
    "except HTTPError as e:\n",
    "    print(e)\n"
   ],
   "outputs": [
    {
     "name": "stdout",
     "output_type": "stream",
     "text": [
      "     postId   id                                               name  \\\n",
      "0         1    1                       id labore ex et quam laborum   \n",
      "1         1    2          quo vero reiciendis velit similique earum   \n",
      "2         1    3                      odio adipisci rerum aut animi   \n",
      "3         1    4                                     alias odio sit   \n",
      "4         1    5              vero eaque aliquid doloribus et culpa   \n",
      "..      ...  ...                                                ...   \n",
      "495     100  496  et occaecati asperiores quas voluptas ipsam no...   \n",
      "496     100  497             doloribus dolores ut dolores occaecati   \n",
      "497     100  498                           dolores minus aut libero   \n",
      "498     100  499  excepturi sunt cum a et rerum quo voluptatibus...   \n",
      "499     100  500                                 ex eaque eum natus   \n",
      "\n",
      "                            email  \\\n",
      "0              Eliseo@gardner.biz   \n",
      "1          Jayne_Kuhic@sydney.com   \n",
      "2             Nikita@garfield.biz   \n",
      "3                   Lew@alysha.tv   \n",
      "4               Hayden@althea.biz   \n",
      "..                            ...   \n",
      "495               Zola@lizzie.com   \n",
      "496             Dolly@mandy.co.uk   \n",
      "497             Davion@eldora.net   \n",
      "498  Wilburn_Labadie@araceli.name   \n",
      "499                Emma@joanny.ca   \n",
      "\n",
      "                                                  body  \n",
      "0    laudantium enim quasi est quidem magnam volupt...  \n",
      "1    est natus enim nihil est dolore omnis voluptat...  \n",
      "2    quia molestiae reprehenderit quasi aspernatur\\...  \n",
      "3    non et atque\\noccaecati deserunt quas accusant...  \n",
      "4    harum non quasi et ratione\\ntempore iure ex vo...  \n",
      "..                                                 ...  \n",
      "495  neque unde voluptatem iure\\nodio excepturi ips...  \n",
      "496  non dolor consequatur\\nlaboriosam ut deserunt ...  \n",
      "497  aliquam pariatur suscipit fugiat eos sunt\\nopt...  \n",
      "498  et necessitatibus tempora ipsum quaerat invent...  \n",
      "499  perspiciatis quis doloremque\\nveniam nisi eos ...  \n",
      "\n",
      "[500 rows x 5 columns]\n"
     ]
    }
   ],
   "execution_count": 47
  },
  {
   "cell_type": "code",
   "id": "ed4a0bc53ceec45f",
   "metadata": {
    "ExecuteTime": {
     "end_time": "2025-10-07T14:18:45.220951Z",
     "start_time": "2025-10-07T14:18:45.097547Z"
    }
   },
   "source": [
    "url = data_space_consumer + \"/api/v1/transfers/rpc/setup-suspension\"\n",
    "payload = {\n",
    "    \"providerParticipantId\": data_space_provider_participant_id,\n",
    "    \"providerPid\": transfer_provider_id,\n",
    "    \"consumerPid\": transfer_consumer_id,\n",
    "}\n",
    "response = requests.request(\"POST\", url, headers=json_header, data=json.dumps(payload))\n",
    "response_as_json = response.json()\n",
    "print(json.dumps(response_as_json, indent=2))"
   ],
   "outputs": [
    {
     "name": "stdout",
     "output_type": "stream",
     "text": [
      "{\n",
      "  \"providerPid\": \"urn:uuid:dfae753b-b3bf-4ce6-a732-fcee442328bf\",\n",
      "  \"consumerPid\": \"urn:uuid:5606a90f-0519-4bb0-b425-50d7f2aa5c10\",\n",
      "  \"message\": {\n",
      "    \"@context\": [\n",
      "      \"https://w3id.org/dspace/2025/1/context.jsonld\"\n",
      "    ],\n",
      "    \"@type\": \"TransferProcess\",\n",
      "    \"providerPid\": \"urn:uuid:dfae753b-b3bf-4ce6-a732-fcee442328bf\",\n",
      "    \"consumerPid\": \"urn:uuid:5606a90f-0519-4bb0-b425-50d7f2aa5c10\",\n",
      "    \"state\": \"SUSPENDED\"\n",
      "  }\n",
      "}\n"
     ]
    }
   ],
   "execution_count": 48
  },
  {
   "cell_type": "code",
   "id": "fec52d4ca1de9ff7",
   "metadata": {
    "ExecuteTime": {
     "end_time": "2025-10-07T14:18:45.769210Z",
     "start_time": "2025-10-07T14:18:45.746466Z"
    }
   },
   "source": [
    "try :\n",
    "    df = pd.read_json(consumer_data_address)\n",
    "    print(df)\n",
    "except HTTPError as e:\n",
    "    print(e)"
   ],
   "outputs": [
    {
     "name": "stdout",
     "output_type": "stream",
     "text": [
      "HTTP Error 403: Forbidden\n"
     ]
    }
   ],
   "execution_count": 49
  },
  {
   "cell_type": "code",
   "id": "4b0a3076674ace5f",
   "metadata": {
    "ExecuteTime": {
     "end_time": "2025-10-07T14:18:46.551702Z",
     "start_time": "2025-10-07T14:18:46.439775Z"
    }
   },
   "source": [
    "url = data_space_consumer + \"/api/v1/transfers/rpc/setup-start\"\n",
    "payload = {\n",
    "    \"providerParticipantId\": data_space_provider_participant_id,\n",
    "    \"providerPid\": transfer_provider_id,\n",
    "    \"consumerPid\": transfer_consumer_id,\n",
    "}\n",
    "response = requests.request(\"POST\", url, headers=json_header, data=json.dumps(payload))\n",
    "response_as_json = response.json()\n",
    "print(json.dumps(response_as_json, indent=2))"
   ],
   "outputs": [
    {
     "name": "stdout",
     "output_type": "stream",
     "text": [
      "{\n",
      "  \"providerPid\": \"urn:uuid:dfae753b-b3bf-4ce6-a732-fcee442328bf\",\n",
      "  \"consumerPid\": \"urn:uuid:5606a90f-0519-4bb0-b425-50d7f2aa5c10\",\n",
      "  \"message\": {\n",
      "    \"@context\": [\n",
      "      \"https://w3id.org/dspace/2025/1/context.jsonld\"\n",
      "    ],\n",
      "    \"@type\": \"TransferProcess\",\n",
      "    \"providerPid\": \"urn:uuid:dfae753b-b3bf-4ce6-a732-fcee442328bf\",\n",
      "    \"consumerPid\": \"urn:uuid:5606a90f-0519-4bb0-b425-50d7f2aa5c10\",\n",
      "    \"state\": \"STARTED\"\n",
      "  }\n",
      "}\n"
     ]
    }
   ],
   "execution_count": 50
  },
  {
   "cell_type": "code",
   "id": "49197782572c3e99",
   "metadata": {
    "ExecuteTime": {
     "end_time": "2025-10-07T14:18:47.211251Z",
     "start_time": "2025-10-07T14:18:47.116956Z"
    }
   },
   "source": [
    "try :\n",
    "    df = pd.read_json(consumer_data_address)\n",
    "    print(df)\n",
    "except HTTPError as e:\n",
    "    print(e)"
   ],
   "outputs": [
    {
     "name": "stdout",
     "output_type": "stream",
     "text": [
      "     postId   id                                               name  \\\n",
      "0         1    1                       id labore ex et quam laborum   \n",
      "1         1    2          quo vero reiciendis velit similique earum   \n",
      "2         1    3                      odio adipisci rerum aut animi   \n",
      "3         1    4                                     alias odio sit   \n",
      "4         1    5              vero eaque aliquid doloribus et culpa   \n",
      "..      ...  ...                                                ...   \n",
      "495     100  496  et occaecati asperiores quas voluptas ipsam no...   \n",
      "496     100  497             doloribus dolores ut dolores occaecati   \n",
      "497     100  498                           dolores minus aut libero   \n",
      "498     100  499  excepturi sunt cum a et rerum quo voluptatibus...   \n",
      "499     100  500                                 ex eaque eum natus   \n",
      "\n",
      "                            email  \\\n",
      "0              Eliseo@gardner.biz   \n",
      "1          Jayne_Kuhic@sydney.com   \n",
      "2             Nikita@garfield.biz   \n",
      "3                   Lew@alysha.tv   \n",
      "4               Hayden@althea.biz   \n",
      "..                            ...   \n",
      "495               Zola@lizzie.com   \n",
      "496             Dolly@mandy.co.uk   \n",
      "497             Davion@eldora.net   \n",
      "498  Wilburn_Labadie@araceli.name   \n",
      "499                Emma@joanny.ca   \n",
      "\n",
      "                                                  body  \n",
      "0    laudantium enim quasi est quidem magnam volupt...  \n",
      "1    est natus enim nihil est dolore omnis voluptat...  \n",
      "2    quia molestiae reprehenderit quasi aspernatur\\...  \n",
      "3    non et atque\\noccaecati deserunt quas accusant...  \n",
      "4    harum non quasi et ratione\\ntempore iure ex vo...  \n",
      "..                                                 ...  \n",
      "495  neque unde voluptatem iure\\nodio excepturi ips...  \n",
      "496  non dolor consequatur\\nlaboriosam ut deserunt ...  \n",
      "497  aliquam pariatur suscipit fugiat eos sunt\\nopt...  \n",
      "498  et necessitatibus tempora ipsum quaerat invent...  \n",
      "499  perspiciatis quis doloremque\\nveniam nisi eos ...  \n",
      "\n",
      "[500 rows x 5 columns]\n"
     ]
    }
   ],
   "execution_count": 51
  },
  {
   "cell_type": "code",
   "id": "b1ec9698272484c3",
   "metadata": {
    "ExecuteTime": {
     "end_time": "2025-10-07T14:18:47.939741Z",
     "start_time": "2025-10-07T14:18:47.780607Z"
    }
   },
   "source": [
    "url = data_space_provider + \"/api/v1/transfers/rpc/setup-suspension\"\n",
    "payload = {\n",
    "    \"consumerParticipantId\": data_space_consumer_participant_id,\n",
    "    \"consumerCallbackAddress\": callback_address,\n",
    "    \"providerPid\": transfer_provider_id,\n",
    "    \"consumerPid\": transfer_consumer_id,\n",
    "}\n",
    "response = requests.request(\"POST\", url, headers=json_header, data=json.dumps(payload))\n",
    "response_as_json = response.json()\n",
    "print(json.dumps(response_as_json, indent=2))"
   ],
   "outputs": [
    {
     "name": "stdout",
     "output_type": "stream",
     "text": [
      "{\n",
      "  \"providerPid\": \"urn:uuid:dfae753b-b3bf-4ce6-a732-fcee442328bf\",\n",
      "  \"consumerPid\": \"urn:uuid:5606a90f-0519-4bb0-b425-50d7f2aa5c10\",\n",
      "  \"message\": {\n",
      "    \"@context\": [\n",
      "      \"https://w3id.org/dspace/2025/1/context.jsonld\"\n",
      "    ],\n",
      "    \"@type\": \"TransferProcess\",\n",
      "    \"providerPid\": \"urn:uuid:dfae753b-b3bf-4ce6-a732-fcee442328bf\",\n",
      "    \"consumerPid\": \"urn:uuid:5606a90f-0519-4bb0-b425-50d7f2aa5c10\",\n",
      "    \"state\": \"SUSPENDED\"\n",
      "  }\n",
      "}\n"
     ]
    }
   ],
   "execution_count": 52
  },
  {
   "cell_type": "code",
   "id": "a3bf1f3c1beb4e3",
   "metadata": {
    "ExecuteTime": {
     "end_time": "2025-10-07T14:18:48.733933Z",
     "start_time": "2025-10-07T14:18:48.624539Z"
    }
   },
   "source": [
    "url = data_space_provider + \"/api/v1/transfers/rpc/setup-completion\"\n",
    "payload = {\n",
    "    \"consumerParticipantId\": data_space_consumer_participant_id,\n",
    "    \"consumerCallbackAddress\": callback_address,\n",
    "    \"providerPid\": transfer_provider_id,\n",
    "    \"consumerPid\": transfer_consumer_id,\n",
    "}\n",
    "response = requests.request(\"POST\", url, headers=json_header, data=json.dumps(payload))\n",
    "response_as_json = response.json()\n",
    "print(json.dumps(response_as_json, indent=2))"
   ],
   "outputs": [
    {
     "name": "stdout",
     "output_type": "stream",
     "text": [
      "{\n",
      "  \"providerPid\": \"urn:uuid:dfae753b-b3bf-4ce6-a732-fcee442328bf\",\n",
      "  \"consumerPid\": \"urn:uuid:5606a90f-0519-4bb0-b425-50d7f2aa5c10\",\n",
      "  \"message\": {\n",
      "    \"@context\": [\n",
      "      \"https://w3id.org/dspace/2025/1/context.jsonld\"\n",
      "    ],\n",
      "    \"@type\": \"TransferProcess\",\n",
      "    \"providerPid\": \"urn:uuid:dfae753b-b3bf-4ce6-a732-fcee442328bf\",\n",
      "    \"consumerPid\": \"urn:uuid:5606a90f-0519-4bb0-b425-50d7f2aa5c10\",\n",
      "    \"state\": \"COMPLETED\"\n",
      "  }\n",
      "}\n"
     ]
    }
   ],
   "execution_count": 53
  },
  {
   "cell_type": "code",
   "id": "b0228ad8522b7a49",
   "metadata": {
    "ExecuteTime": {
     "end_time": "2025-10-07T14:18:49.377512Z",
     "start_time": "2025-10-07T14:18:49.375766Z"
    }
   },
   "source": [],
   "outputs": [],
   "execution_count": null
  },
  {
   "cell_type": "code",
   "id": "99b0cb0b417c143a",
   "metadata": {},
   "source": [],
   "outputs": [],
   "execution_count": null
  },
  {
   "cell_type": "code",
   "id": "a60358323bff1fad",
   "metadata": {},
   "source": [],
   "outputs": [],
   "execution_count": null
  },
  {
   "cell_type": "code",
   "id": "b0cde08f81af69f3",
   "metadata": {},
   "source": [],
   "outputs": [],
   "execution_count": null
  }
 ],
 "metadata": {
  "kernelspec": {
   "display_name": "Python 3",
   "language": "python",
   "name": "python3"
  },
  "language_info": {
   "name": "python",
   "version": "3.12.0"
  }
 },
 "nbformat": 5,
 "nbformat_minor": 9
}

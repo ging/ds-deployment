{
 "cells": [
  {
   "cell_type": "code",
   "execution_count": 39,
   "id": "affa926f259653e0",
   "metadata": {
    "ExecuteTime": {
     "end_time": "2025-06-19T00:02:38.080913Z",
     "start_time": "2025-06-19T00:02:37.932368Z"
    }
   },
   "outputs": [
    {
     "name": "stdout",
     "output_type": "stream",
     "text": [
      "/home/ubu/projects/ds-deployment/venv/bin/python\n"
     ]
    }
   ],
   "source": [
    "!which python"
   ]
  },
  {
   "cell_type": "code",
   "execution_count": 40,
   "id": "68e1fe621d8a0ef0",
   "metadata": {
    "ExecuteTime": {
     "end_time": "2025-06-19T00:02:38.145889Z",
     "start_time": "2025-06-19T00:02:38.140133Z"
    }
   },
   "outputs": [],
   "source": [
    "import requests\n",
    "import json\n",
    "import pandas as pd\n",
    "from urllib.error import HTTPError, URLError"
   ]
  },
  {
   "cell_type": "markdown",
   "id": "bc15da9211b43e67",
   "metadata": {},
   "source": [
    "# Complete dataspace flow\n"
   ]
  },
  {
   "cell_type": "markdown",
   "id": "b0f6ecdf966b8b68",
   "metadata": {},
   "source": [
    "## Consts\n"
   ]
  },
  {
   "cell_type": "code",
   "execution_count": 41,
   "id": "f55ce154aa95c49d",
   "metadata": {
    "ExecuteTime": {
     "end_time": "2025-06-19T00:02:39.079870Z",
     "start_time": "2025-06-19T00:02:39.075128Z"
    }
   },
   "outputs": [],
   "source": [
    "data_space_provider = \"http://127.0.0.1:1200\"\n",
    "data_space_consumer = \"http://127.0.0.1:1100\"\n",
    "api_endpoint = \"https://jsonplaceholder.typicode.com/comments\"\n",
    "\n",
    "data_space_provider_participant_id = \"\"\n",
    "data_space_provider_participant_token = \"\"\n",
    "data_space_consumer_participant_id = \"\"\n",
    "data_space_consumer_participant_token = \"\"\n",
    "catalog_id = \"\"\n",
    "dataset_id = \"\"\n",
    "distribution_id = \"\"\n",
    "data_service_id = \"\"\n",
    "policy_id = \"\"\n",
    "target_id = \"\"\n",
    "\n",
    "cn_consumer_id = \"\"\n",
    "cn_provider_id = \"\"\n",
    "agreement_id = \"\"\n",
    "transfer_consumer_id = \"\"\n",
    "transfer_provider_id = \"\"\n",
    "consumer_data_address = \"\"\n",
    "\n",
    "json_header = {\n",
    "    \"Content-Type\": \"application/json\",\n",
    "}"
   ]
  },
  {
   "cell_type": "markdown",
   "id": "69b1951a684bd85e",
   "metadata": {},
   "source": [
    "## Participants onboarding\n"
   ]
  },
  {
   "cell_type": "markdown",
   "id": "282464527a1cdffe",
   "metadata": {},
   "source": [
    "### Current Participants information\n"
   ]
  },
  {
   "cell_type": "code",
   "execution_count": 42,
   "id": "c0cbd7496cfeee45",
   "metadata": {
    "ExecuteTime": {
     "end_time": "2025-06-19T00:02:40.914473Z",
     "start_time": "2025-06-19T00:02:40.797114Z"
    }
   },
   "outputs": [
    {
     "name": "stdout",
     "output_type": "stream",
     "text": [
      "{\n",
      "    \"participant_id\": \"urn:uuid:49694213-4123-4e56-b990-3ff43db51562\",\n",
      "    \"participant_slug\": \"Provider\",\n",
      "    \"participant_type\": \"Provider\",\n",
      "    \"base_url\": \"http://127.0.0.1:1200\",\n",
      "    \"token\": null,\n",
      "    \"token_actions\": null,\n",
      "    \"saved_at\": \"2025-06-20T12:43:42.334708\",\n",
      "    \"last_interaction\": \"2025-06-20T12:43:42.334710\",\n",
      "    \"is_me\": true\n",
      "}\n"
     ]
    }
   ],
   "source": [
    "url = data_space_provider + \"/api/v1/mates/me\"\n",
    "response = requests.request(\"GET\", url, headers=json_header)\n",
    "response_as_json = response.json()\n",
    "print(json.dumps(response_as_json, indent=4))"
   ]
  },
  {
   "cell_type": "code",
   "execution_count": 43,
   "id": "abf39cd154ed72c2",
   "metadata": {
    "ExecuteTime": {
     "end_time": "2025-06-19T00:02:41.535248Z",
     "start_time": "2025-06-19T00:02:41.483488Z"
    }
   },
   "outputs": [
    {
     "name": "stdout",
     "output_type": "stream",
     "text": [
      "{\n",
      "    \"participant_id\": \"urn:uuid:56e7089c-f800-4c57-84bd-61f912b9aa98\",\n",
      "    \"participant_slug\": \"Consumer\",\n",
      "    \"participant_type\": \"Consumer\",\n",
      "    \"base_url\": \"http://127.0.0.1:1100\",\n",
      "    \"token\": null,\n",
      "    \"token_actions\": null,\n",
      "    \"saved_at\": \"2025-06-20T12:43:55.976609\",\n",
      "    \"last_interaction\": \"2025-06-20T12:43:55.976611\",\n",
      "    \"is_me\": true\n",
      "}\n"
     ]
    }
   ],
   "source": [
    "url = data_space_consumer + \"/api/v1/mates/me\"\n",
    "response = requests.request(\"GET\", url, headers=json_header)\n",
    "response_as_json = response.json()\n",
    "print(json.dumps(response_as_json, indent=4))"
   ]
  },
  {
   "cell_type": "markdown",
   "id": "4726580125d210c0",
   "metadata": {},
   "source": [
    "### Consumer registering in Provider via Verifiable presentation\n"
   ]
  },
  {
   "cell_type": "code",
   "execution_count": 44,
   "id": "5c0d1e5f5524774a",
   "metadata": {
    "ExecuteTime": {
     "end_time": "2025-06-19T00:04:42.458518Z",
     "start_time": "2025-06-19T00:04:42.184937Z"
    }
   },
   "outputs": [
    {
     "data": {
      "text/plain": [
       "'openid4vp://authorize?response_type=vp_token&client_id=http%3A%2F%2Fhost.docker.internal%3A1200%2Fverify%2FDsyoXEeNcKoj&response_mode=direct_post&presentation_definition_uri=http%3A%2F%2Fhost.docker.internal%3A1200%2Fpd%2FDsyoXEeNcKoj&client_id_scheme=redirect_uri&nonce=AJOyaYun1W7g&response_uri=http%3A%2F%2Fhost.docker.internal%3A1200%2Fverify%2FDsyoXEeNcKoj'"
      ]
     },
     "execution_count": 44,
     "metadata": {},
     "output_type": "execute_result"
    }
   ],
   "source": [
    "url = data_space_consumer + \"/auth/manual/ssi\"\n",
    "payload = {\n",
    "    \"url\": data_space_provider + \"/access\",\n",
    "    \"id\": \"friendly_slugname_for_provider\",\n",
    "    \"actions\": \"talk\"\n",
    "}\n",
    "response = requests.request(\"POST\", url, headers=json_header, data=json.dumps(payload))\n",
    "response_as_text = response.text\n",
    "response_as_text"
   ]
  },
  {
   "cell_type": "markdown",
   "id": "496a76b6de3279c7",
   "metadata": {},
   "source": [
    "### Provider and Consumer ids\n"
   ]
  },
  {
   "cell_type": "code",
   "execution_count": 45,
   "id": "63286f13d2c118cd",
   "metadata": {
    "ExecuteTime": {
     "end_time": "2025-06-19T00:06:29.125451Z",
     "start_time": "2025-06-19T00:06:28.929583Z"
    }
   },
   "outputs": [
    {
     "name": "stdout",
     "output_type": "stream",
     "text": [
      "[\n",
      "    {\n",
      "        \"participant_id\": \"urn:uuid:49694213-4123-4e56-b990-3ff43db51562\",\n",
      "        \"participant_slug\": \"Provider\",\n",
      "        \"participant_type\": \"Provider\",\n",
      "        \"base_url\": \"http://127.0.0.1:1200\",\n",
      "        \"token\": null,\n",
      "        \"token_actions\": null,\n",
      "        \"saved_at\": \"2025-06-20T12:43:42.334708\",\n",
      "        \"last_interaction\": \"2025-06-20T12:43:42.334710\",\n",
      "        \"is_me\": true\n",
      "    },\n",
      "    {\n",
      "        \"participant_id\": \"urn:uuid:0df100cf-d833-469f-8820-1beb783406b9\",\n",
      "        \"participant_slug\": \"rainbow_consumer\",\n",
      "        \"participant_type\": \"Consumer\",\n",
      "        \"base_url\": \"http://127.0.0.1:1100\",\n",
      "        \"token\": \"8nlneFEBlNyf9h3Nq2XksnezgnPrVXPRRiRbU_BU14c\",\n",
      "        \"token_actions\": \"talk\",\n",
      "        \"saved_at\": \"2025-06-20T13:31:24.034710\",\n",
      "        \"last_interaction\": \"2025-06-20T13:31:24.034714\",\n",
      "        \"is_me\": false\n",
      "    }\n",
      "]\n"
     ]
    }
   ],
   "source": [
    "url = data_space_provider + \"/api/v1/mates\"\n",
    "response = requests.request(\"GET\", url, headers=json_header, data=json.dumps(payload))\n",
    "response_as_json = response.json()\n",
    "data_space_consumer_participant_id = response_as_json[1][\"participant_id\"]\n",
    "data_space_consumer_participant_token = response_as_json[1][\"token\"]\n",
    "print(json.dumps(response_as_json, indent=4))"
   ]
  },
  {
   "cell_type": "code",
   "execution_count": 46,
   "id": "163378c48a331362",
   "metadata": {
    "ExecuteTime": {
     "end_time": "2025-06-18T22:35:18.965441Z",
     "start_time": "2025-06-18T22:35:18.957121Z"
    }
   },
   "outputs": [
    {
     "name": "stdout",
     "output_type": "stream",
     "text": [
      "[\n",
      "    {\n",
      "        \"participant_id\": \"urn:uuid:56e7089c-f800-4c57-84bd-61f912b9aa98\",\n",
      "        \"participant_slug\": \"Consumer\",\n",
      "        \"participant_type\": \"Consumer\",\n",
      "        \"base_url\": \"http://127.0.0.1:1100\",\n",
      "        \"token\": null,\n",
      "        \"token_actions\": null,\n",
      "        \"saved_at\": \"2025-06-20T12:43:55.976609\",\n",
      "        \"last_interaction\": \"2025-06-20T12:43:55.976611\",\n",
      "        \"is_me\": true\n",
      "    },\n",
      "    {\n",
      "        \"participant_id\": \"urn:uuid:9bebd509-cedc-4629-844a-7501ed346eeb\",\n",
      "        \"participant_slug\": \"friendly_slugname_for_provider\",\n",
      "        \"participant_type\": \"Provider\",\n",
      "        \"base_url\": \"http://127.0.0.1:1200\",\n",
      "        \"token\": \"8nlneFEBlNyf9h3Nq2XksnezgnPrVXPRRiRbU_BU14c\",\n",
      "        \"token_actions\": \"talk\",\n",
      "        \"saved_at\": \"2025-06-20T13:31:24.051014\",\n",
      "        \"last_interaction\": \"2025-06-20T13:31:24.051018\",\n",
      "        \"is_me\": false\n",
      "    }\n",
      "]\n"
     ]
    }
   ],
   "source": [
    "url = data_space_consumer + \"/api/v1/mates\"\n",
    "response = requests.request(\"GET\", url, headers=json_header, data=json.dumps(payload))\n",
    "response_as_json = response.json()\n",
    "data_space_provider_participant_id = response_as_json[1][\"participant_id\"]\n",
    "data_space_provider_participant_token = response_as_json[1][\"token\"]\n",
    "print(json.dumps(response_as_json, indent=4))"
   ]
  },
  {
   "cell_type": "markdown",
   "id": "89cf12a469c65479",
   "metadata": {},
   "source": [
    "## Create Catalog instances and metadata\n"
   ]
  },
  {
   "cell_type": "code",
   "execution_count": 70,
   "id": "11ed0dd3e885a07e",
   "metadata": {
    "ExecuteTime": {
     "end_time": "2025-06-18T22:35:19.085885Z",
     "start_time": "2025-06-18T22:35:18.973232Z"
    }
   },
   "outputs": [
    {
     "data": {
      "text/plain": [
       "'urn:uuid:78f174e5-d149-4899-9fba-2b9c19451ac4'"
      ]
     },
     "execution_count": 70,
     "metadata": {},
     "output_type": "execute_result"
    }
   ],
   "source": [
    "url = data_space_provider + \"/api/v1/catalogs\"\n",
    "payload = {\n",
    "    \"foaf:homepage\": \"My dataspace catalog\",\n",
    "    \"dct:title\": \"My dataspace catalog\",\n",
    "\n",
    "}\n",
    "response = requests.request(\"POST\", url, headers=json_header, data=json.dumps(payload))\n",
    "response_as_json = response.json()\n",
    "catalog_id = response_as_json[\"@id\"]\n",
    "catalog_id"
   ]
  },
  {
   "cell_type": "code",
   "execution_count": 71,
   "id": "7baa8c98c1636e0e",
   "metadata": {
    "ExecuteTime": {
     "end_time": "2025-06-18T22:35:19.141407Z",
     "start_time": "2025-06-18T22:35:19.093536Z"
    }
   },
   "outputs": [
    {
     "data": {
      "text/plain": [
       "'urn:uuid:1ddb222f-077c-436e-af21-d018dfff0036'"
      ]
     },
     "execution_count": 71,
     "metadata": {},
     "output_type": "execute_result"
    }
   ],
   "source": [
    "url = data_space_provider + \"/api/v1/catalogs/{}/datasets\".format(catalog_id)\n",
    "payload = {\n",
    "    \"dct:title\": \"My dataspace dataset\",\n",
    "}\n",
    "response = requests.request(\"POST\", url, headers=json_header, data=json.dumps(payload))\n",
    "response_as_json = response.json()\n",
    "dataset_id = response_as_json[\"@id\"]\n",
    "dataset_id"
   ]
  },
  {
   "cell_type": "code",
   "execution_count": 72,
   "id": "da71f544b74fee9e",
   "metadata": {
    "ExecuteTime": {
     "end_time": "2025-06-18T22:35:19.176944Z",
     "start_time": "2025-06-18T22:35:19.149166Z"
    }
   },
   "outputs": [
    {
     "data": {
      "text/plain": [
       "'urn:uuid:aff0b5fd-c72c-43b0-9be9-c3421e2e5cd3'"
      ]
     },
     "execution_count": 72,
     "metadata": {},
     "output_type": "execute_result"
    }
   ],
   "source": [
    "url = data_space_provider + \"/api/v1/catalogs/{}/data-services\".format(catalog_id)\n",
    "payload = {\n",
    "    \"dcat:endpointURL\": api_endpoint\n",
    "}\n",
    "response = requests.request(\"POST\", url, headers=json_header, data=json.dumps(payload))\n",
    "response_as_json = response.json()\n",
    "data_service_id = response_as_json[\"@id\"]\n",
    "data_service_id"
   ]
  },
  {
   "cell_type": "code",
   "execution_count": 73,
   "id": "e3d0ae29abb601f1",
   "metadata": {
    "ExecuteTime": {
     "end_time": "2025-06-18T22:35:19.221237Z",
     "start_time": "2025-06-18T22:35:19.189227Z"
    }
   },
   "outputs": [
    {
     "data": {
      "text/plain": [
       "'urn:uuid:0b6d56c7-d97c-4f64-ba59-1636eb58859f'"
      ]
     },
     "execution_count": 73,
     "metadata": {},
     "output_type": "execute_result"
    }
   ],
   "source": [
    "url = data_space_provider + \"/api/v1/catalogs/{}/datasets/{}/distributions\".format(catalog_id, dataset_id)\n",
    "payload = {\n",
    "    \"dcat:accessService\": data_service_id,\n",
    "    \"dct:formats\": \"http+pull\"\n",
    "}\n",
    "response = requests.request(\"POST\", url, headers=json_header, data=json.dumps(payload))\n",
    "response_as_json = response.json()\n",
    "distribution_id = response_as_json[\"@id\"]\n",
    "distribution_id"
   ]
  },
  {
   "cell_type": "markdown",
   "id": "bcb61aba09d7f894",
   "metadata": {},
   "source": [
    "## Create policies\n"
   ]
  },
  {
   "cell_type": "code",
   "execution_count": 93,
   "id": "3e20aede0a523dd4",
   "metadata": {
    "ExecuteTime": {
     "end_time": "2025-06-18T22:35:19.250846Z",
     "start_time": "2025-06-18T22:35:19.227326Z"
    }
   },
   "outputs": [
    {
     "ename": "KeyError",
     "evalue": "'@id'",
     "output_type": "error",
     "traceback": [
      "\u001b[0;31m---------------------------------------------------------------------------\u001b[0m",
      "\u001b[0;31mKeyError\u001b[0m                                  Traceback (most recent call last)",
      "Cell \u001b[0;32mIn[93], line 17\u001b[0m\n\u001b[1;32m     15\u001b[0m response \u001b[38;5;241m=\u001b[39m requests\u001b[38;5;241m.\u001b[39mrequest(\u001b[38;5;124m\"\u001b[39m\u001b[38;5;124mPOST\u001b[39m\u001b[38;5;124m\"\u001b[39m, url, headers\u001b[38;5;241m=\u001b[39mjson_header, data\u001b[38;5;241m=\u001b[39mjson\u001b[38;5;241m.\u001b[39mdumps(payload))\n\u001b[1;32m     16\u001b[0m response_as_json \u001b[38;5;241m=\u001b[39m response\u001b[38;5;241m.\u001b[39mjson()\n\u001b[0;32m---> 17\u001b[0m policy_id \u001b[38;5;241m=\u001b[39m \u001b[43mresponse_as_json\u001b[49m\u001b[43m[\u001b[49m\u001b[38;5;124;43m\"\u001b[39;49m\u001b[38;5;124;43m@id\u001b[39;49m\u001b[38;5;124;43m\"\u001b[39;49m\u001b[43m]\u001b[49m\n\u001b[1;32m     18\u001b[0m target_id \u001b[38;5;241m=\u001b[39m response_as_json[\u001b[38;5;124m\"\u001b[39m\u001b[38;5;124mtarget\u001b[39m\u001b[38;5;124m\"\u001b[39m]\n\u001b[1;32m     19\u001b[0m \u001b[38;5;28mprint\u001b[39m(json\u001b[38;5;241m.\u001b[39mdumps(response_as_json, indent\u001b[38;5;241m=\u001b[39m\u001b[38;5;241m4\u001b[39m))\n",
      "\u001b[0;31mKeyError\u001b[0m: '@id'"
     ]
    }
   ],
   "source": [
    "url = data_space_provider + \"/api/v1/datasets/{}/policies\".format(dataset_id)\n",
    "payload = {\n",
    "  \"permission\": [\n",
    "    {\n",
    "      \"action\": \"read\",\n",
    "      \"constraint\": \n",
    "      {\n",
    "        \"leftOperand\": \"did:web:healthcare-provider.example.org\",\n",
    "        \"operator\": \"eq\",\n",
    "        \"rightOperand\": \"user\"\n",
    "      }\n",
    "    }\n",
    "  ]\n",
    "}\n",
    "response = requests.request(\"POST\", url, headers=json_header, data=json.dumps(payload))\n",
    "response_as_json = response.json()\n",
    "policy_id = response_as_json[\"@id\"]\n",
    "target_id = response_as_json[\"target\"]\n",
    "print(json.dumps(response_as_json, indent=4))"
   ]
  },
  {
   "cell_type": "code",
   "execution_count": null,
   "id": "ef5d5dcf111bfd6f",
   "metadata": {
    "ExecuteTime": {
     "end_time": "2025-06-18T22:35:19.259434Z",
     "start_time": "2025-06-18T22:35:19.258062Z"
    }
   },
   "outputs": [],
   "source": []
  },
  {
   "cell_type": "markdown",
   "id": "438aaeed57dce757",
   "metadata": {},
   "source": [
    "## Contract Negotiation\n"
   ]
  },
  {
   "cell_type": "code",
   "execution_count": null,
   "id": "8c2d2e2304b50ace",
   "metadata": {
    "ExecuteTime": {
     "end_time": "2025-06-18T22:35:19.650286Z",
     "start_time": "2025-06-18T22:35:19.326045Z"
    }
   },
   "outputs": [
    {
     "ename": "KeyError",
     "evalue": "'consumerPid'",
     "output_type": "error",
     "traceback": [
      "\u001b[0;31m---------------------------------------------------------------------------\u001b[0m",
      "\u001b[0;31mKeyError\u001b[0m                                  Traceback (most recent call last)",
      "Cell \u001b[0;32mIn[103], line 59\u001b[0m\n\u001b[1;32m     57\u001b[0m response \u001b[38;5;241m=\u001b[39m requests\u001b[38;5;241m.\u001b[39mrequest(\u001b[38;5;124m\"\u001b[39m\u001b[38;5;124mPOST\u001b[39m\u001b[38;5;124m\"\u001b[39m, url, headers\u001b[38;5;241m=\u001b[39mjson_header, data\u001b[38;5;241m=\u001b[39mjson\u001b[38;5;241m.\u001b[39mdumps(payload))\n\u001b[1;32m     58\u001b[0m response_as_json \u001b[38;5;241m=\u001b[39m response\u001b[38;5;241m.\u001b[39mjson()\n\u001b[0;32m---> 59\u001b[0m cn_consumer_id \u001b[38;5;241m=\u001b[39m \u001b[43mresponse_as_json\u001b[49m\u001b[43m[\u001b[49m\u001b[38;5;124;43m\"\u001b[39;49m\u001b[38;5;124;43mconsumerPid\u001b[39;49m\u001b[38;5;124;43m\"\u001b[39;49m\u001b[43m]\u001b[49m\n\u001b[1;32m     60\u001b[0m cn_provider_id \u001b[38;5;241m=\u001b[39m response_as_json[\u001b[38;5;124m\"\u001b[39m\u001b[38;5;124mproviderPid\u001b[39m\u001b[38;5;124m\"\u001b[39m]\n\u001b[1;32m     61\u001b[0m \u001b[38;5;28mprint\u001b[39m(json\u001b[38;5;241m.\u001b[39mdumps(response_as_json, indent\u001b[38;5;241m=\u001b[39m\u001b[38;5;241m2\u001b[39m))\n",
      "\u001b[0;31mKeyError\u001b[0m: 'consumerPid'"
     ]
    }
   ],
   "source": [
    "url = data_space_consumer + \"/api/v1/negotiations/rpc/setup-request\"\n",
    "payload = {\n",
    "    \"providerParticipantId\": data_space_provider_participant_id,\n",
    "    \"offer\": {\n",
    "        \"@id\": policy_id,    # policy id\n",
    "        \"target\": target_id, # data id\n",
    "        \"@type\": \"Offer\",\n",
    "        \"permission\": [\n",
    "            {\n",
    "                \"action\": \"read\",\n",
    "                \"constraint\": [\n",
    "                    {\n",
    "                        \"leftOperand\": \"did:web:healthcare-provider.example.org\",\n",
    "                        \"operator\": \"eq\",\n",
    "                        \"rightOperand\": \"user\"\n",
    "                    }\n",
    "                ]\n",
    "            },\n",
    "            {\n",
    "                \"action\": \"analyze\",\n",
    "                \"constraint\": [\n",
    "                    {\n",
    "                    \"leftOperand\": \"purpose\",\n",
    "                    \"operator\": \"eq\",\n",
    "                    \"rightOperand\": \"medical-research\"\n",
    "                    }\n",
    "                ]\n",
    "            },\n",
    "        ],\n",
    "        \"obligation\": [\n",
    "           {\n",
    "            \"action\": \"notify\",\n",
    "            \"constraint\": [\n",
    "                {\n",
    "                    \"leftOperand\": \"event\",\n",
    "                    \"operator\": \"eq\",\n",
    "                    \"rightOperand\": \"read\"\n",
    "                }\n",
    "            ],\n",
    "            },\n",
    "           {\n",
    "            \"action\": \"delete\",\n",
    "            \"constraint\": [\n",
    "                {\n",
    "                \"leftOperand\": \"duration\",\n",
    "                \"operator\": \"eq\",\n",
    "                \"rightOperand\": \"P30D\"\n",
    "                }\n",
    "            ]\n",
    "            }\n",
    "        ],\n",
    "        \"prohibition\": [\n",
    "            {\n",
    "                \"action\": \"sell\",\n",
    "                \"constraint\": [\n",
    "                    {\n",
    "                        \"leftOperand\": \"purpose\",\n",
    "                        \"operator\": \"eq\",\n",
    "                        \"rightOperand\": \"commercial\"\n",
    "                    }\n",
    "                ]\n",
    "            },\n",
    "            {\n",
    "                \"action\": \"share\",\n",
    "                \"constraint\": [\n",
    "                    {\n",
    "                        \"leftOperand\": \"purpose\",\n",
    "                        \"operator\": \"neq\",\n",
    "                        \"rightOperand\": \"commercial\"\n",
    "                    }\n",
    "                ]\n",
    "            },\n",
    "      \n",
    "        ]\n",
    "    }\n",
    "}\n",
    "response = requests.request(\"POST\", url, headers=json_header, data=json.dumps(payload))\n",
    "response_as_json = response.json()\n",
    "cn_consumer_id = response_as_json[\"consumerPid\"]\n",
    "cn_provider_id = response_as_json[\"providerPid\"]\n",
    "print(json.dumps(response_as_json, indent=2))"
   ]
  },
  {
   "cell_type": "code",
   "execution_count": 85,
   "id": "b6ca342e690f05de",
   "metadata": {
    "ExecuteTime": {
     "end_time": "2025-06-18T22:35:19.756920Z",
     "start_time": "2025-06-18T22:35:19.653895Z"
    }
   },
   "outputs": [
    {
     "name": "stdout",
     "output_type": "stream",
     "text": [
      "{\n",
      "  \"consumerParticipantId\": \"urn:uuid:0df100cf-d833-469f-8820-1beb783406b9\",\n",
      "  \"consumerPid\": \"urn:uuid:1f6bff44-5165-4fe6-95ea-faea1a0dc84e\",\n",
      "  \"providerPid\": \"urn:uuid:40c3588b-6965-4927-bb78-64fb3953e774\",\n",
      "  \"offer\": {\n",
      "    \"@id\": \"urn:uuid:bddda623-3dc5-4df9-882e-ec8389ea5e74\",\n",
      "    \"permission\": [\n",
      "      {\n",
      "        \"action\": \"supermegause\"\n",
      "      }\n",
      "    ],\n",
      "    \"@type\": \"Offer\",\n",
      "    \"target\": \"urn:uuid:aa7e6b1a-bf1c-4944-8997-cb33c6a1326d\"\n",
      "  },\n",
      "  \"message\": {\n",
      "    \"@context\": [\n",
      "      \"https://w3id.org/dspace/2025/1/context.jsonld\"\n",
      "    ],\n",
      "    \"@type\": \"ContractNegotiation\",\n",
      "    \"providerPid\": \"urn:uuid:40c3588b-6965-4927-bb78-64fb3953e774\",\n",
      "    \"consumerPid\": \"urn:uuid:1f6bff44-5165-4fe6-95ea-faea1a0dc84e\",\n",
      "    \"state\": \"OFFERED\"\n",
      "  }\n",
      "}\n"
     ]
    }
   ],
   "source": [
    "url = data_space_provider + \"/api/v1/negotiations/rpc/setup-offer\"\n",
    "payload = {\n",
    "    \"consumerParticipantId\": data_space_consumer_participant_id,\n",
    "    \"consumerPid\": cn_consumer_id, # remove to test offer from provider\n",
    "    \"providerPid\": cn_provider_id, # remove to test offer from provider\n",
    "    \"offer\": {\n",
    "        \"@id\": policy_id,\n",
    "        \"target\": target_id,\n",
    "        \"@type\": \"Offer\",\n",
    "        \"permission\": [\n",
    "            {\n",
    "                \"action\": \"supermegause\"\n",
    "            }\n",
    "        ]\n",
    "    }\n",
    "}\n",
    "response = requests.request(\"POST\", url, headers=json_header, data=json.dumps(payload))\n",
    "response_as_json = response.json()\n",
    "print(json.dumps(response_as_json, indent=2))"
   ]
  },
  {
   "cell_type": "code",
   "execution_count": 54,
   "id": "7ac89fa87c4165cf",
   "metadata": {
    "ExecuteTime": {
     "end_time": "2025-06-18T22:35:19.843887Z",
     "start_time": "2025-06-18T22:35:19.770588Z"
    }
   },
   "outputs": [
    {
     "name": "stdout",
     "output_type": "stream",
     "text": [
      "{\n",
      "  \"consumerPid\": \"urn:uuid:f45e2d0d-0255-4347-9b4a-8ad766d1e3b0\",\n",
      "  \"providerPid\": \"urn:uuid:4c2841e0-df00-4af1-ae17-e013574a236d\",\n",
      "  \"offer\": {\n",
      "    \"@id\": \"urn:uuid:bddda623-3dc5-4df9-882e-ec8389ea5e74\",\n",
      "    \"permission\": [\n",
      "      {\n",
      "        \"action\": \"use\"\n",
      "      }\n",
      "    ],\n",
      "    \"@type\": \"Offer\",\n",
      "    \"target\": \"urn:uuid:aa7e6b1a-bf1c-4944-8997-cb33c6a1326d\"\n",
      "  },\n",
      "  \"message\": {\n",
      "    \"@context\": [\n",
      "      \"https://w3id.org/dspace/2025/1/context.jsonld\"\n",
      "    ],\n",
      "    \"@type\": \"ContractNegotiation\",\n",
      "    \"providerPid\": \"urn:uuid:4c2841e0-df00-4af1-ae17-e013574a236d\",\n",
      "    \"consumerPid\": \"urn:uuid:f45e2d0d-0255-4347-9b4a-8ad766d1e3b0\",\n",
      "    \"state\": \"REQUESTED\"\n",
      "  }\n",
      "}\n"
     ]
    }
   ],
   "source": [
    "url = data_space_consumer + \"/api/v1/negotiations/rpc/setup-request\"\n",
    "payload = {\n",
    "    \"providerParticipantId\": data_space_provider_participant_id,\n",
    "    \"consumerPid\": cn_consumer_id,\n",
    "    \"providerPid\": cn_provider_id,\n",
    "    \"offer\": {\n",
    "        \"@id\": policy_id,    # policy id\n",
    "        \"target\": target_id, # data id\n",
    "        \"@type\": \"Offer\",\n",
    "        \"permission\": [\n",
    "            {\n",
    "                \"action\": \"use\"\n",
    "\n",
    "            }\n",
    "        ]\n",
    "    }\n",
    "}\n",
    "response = requests.request(\"POST\", url, headers=json_header, data=json.dumps(payload))\n",
    "response_as_json = response.json()\n",
    "cn_consumer_id = response_as_json[\"consumerPid\"]\n",
    "cn_provider_id = response_as_json[\"providerPid\"]\n",
    "print(json.dumps(response_as_json, indent=2))"
   ]
  },
  {
   "cell_type": "code",
   "execution_count": 79,
   "id": "2cd0744d51abe4b5",
   "metadata": {
    "ExecuteTime": {
     "end_time": "2025-06-18T22:35:19.925796Z",
     "start_time": "2025-06-18T22:35:19.850454Z"
    }
   },
   "outputs": [
    {
     "name": "stdout",
     "output_type": "stream",
     "text": [
      "{\n",
      "  \"error\": {\n",
      "    \"code\": \"400\",\n",
      "    \"title\": \"BAD_REQUEST\",\n",
      "    \"message\": \"JsonDataError: Failed to deserialize the JSON body into the target type: offer.permission[2].constraint[0]: data did not match any variant of untagged enum OdrlConstraint at line 1 column 786\"\n",
      "  }\n",
      "}\n"
     ]
    }
   ],
   "source": [
    "url = data_space_provider + \"/api/v1/negotiations/rpc/setup-offer\"\n",
    "payload = {\n",
    "    \"consumerParticipantId\": data_space_consumer_participant_id,\n",
    "    \"consumerPid\": cn_consumer_id,\n",
    "    \"providerPid\": cn_provider_id,\n",
    "    \"offer\": {\n",
    "        \"@id\": policy_id,\n",
    "        \"target\": target_id,\n",
    "        \"@type\": \"Offer\",\n",
    "         \"permission\": [\n",
    "            {\n",
    "            \"action\": \"read\",\n",
    "            \"constraint\": [\n",
    "                {\n",
    "                \"leftOperand\": \"did:web:healthcare-provider.example.org\",\n",
    "                \"operator\": \"eq\",\n",
    "                \"rightOperand\": \"user\"\n",
    "                }\n",
    "            ]\n",
    "            },\n",
    "            {\n",
    "            \"action\": \"analyze\",\n",
    "            \"constraint\": [\n",
    "                {\n",
    "                \"leftOperand\": \"purpose\",\n",
    "                \"operator\": \"eq\",\n",
    "                \"rightOperand\": \"medical-research\"\n",
    "                }\n",
    "            ]\n",
    "            },\n",
    "            {\n",
    "            \"action\": \"share\",\n",
    "            \"constraint\": [\n",
    "                {\n",
    "                \"leftOperand\": \"recipient\",\n",
    "                \"operator\": \"in\",\n",
    "                \"rightOperand\": [\n",
    "                    \"did:web:research.lab1.org\",\n",
    "                    \"did:web:university.healthdept.org\"\n",
    "                ]\n",
    "                }\n",
    "            ]\n",
    "            }\n",
    "        ],\n",
    "        \"obligation\": [\n",
    "            {\n",
    "            \"action\": \"notify\",\n",
    "            \"constraint\": [\n",
    "                {\n",
    "                \"leftOperand\": \"event\",\n",
    "                \"operator\": \"eq\",\n",
    "                \"rightOperand\": \"read\"\n",
    "                }\n",
    "            ],\n",
    "            \"target\": \"https://audit.healthdata.example.org/logs\"\n",
    "            },\n",
    "            {\n",
    "            \"action\": \"delete\",\n",
    "            \"constraint\": [\n",
    "                {\n",
    "                \"leftOperand\": \"duration\",\n",
    "                \"operator\": \"eq\",\n",
    "                \"rightOperand\": \"P30D\"\n",
    "                }\n",
    "            ]\n",
    "            }\n",
    "        ],\n",
    "        \"prohibition\": [\n",
    "            {\n",
    "            \"action\": \"sell\",\n",
    "            \"constraint\": [\n",
    "                {\n",
    "                \"leftOperand\": \"purpose\",\n",
    "                \"operator\": \"eq\",\n",
    "                \"rightOperand\": \"commercial\"\n",
    "                }\n",
    "            ]\n",
    "            },\n",
    "            {\n",
    "            \"action\": \"share\",\n",
    "            \"constraint\": [\n",
    "                {\n",
    "                \"leftOperand\": \"recipient\",\n",
    "                \"operator\": \"not in\",\n",
    "                \"rightOperand\": [\n",
    "                    \"did:web:research.lab1.org\",\n",
    "                    \"did:web:university.healthdept.org\"\n",
    "                ]\n",
    "                }\n",
    "            ]\n",
    "            }\n",
    "        ]\n",
    "    }\n",
    "}\n",
    "response = requests.request(\"POST\", url, headers=json_header, data=json.dumps(payload))\n",
    "response_as_json = response.json()\n",
    "print(json.dumps(response_as_json, indent=2))"
   ]
  },
  {
   "cell_type": "code",
   "execution_count": 56,
   "id": "4feaa2d5afa582d6",
   "metadata": {
    "ExecuteTime": {
     "end_time": "2025-06-18T22:35:20.023268Z",
     "start_time": "2025-06-18T22:35:19.940358Z"
    }
   },
   "outputs": [
    {
     "name": "stdout",
     "output_type": "stream",
     "text": [
      "{\n",
      "  \"consumerPid\": \"urn:uuid:f45e2d0d-0255-4347-9b4a-8ad766d1e3b0\",\n",
      "  \"providerPid\": \"urn:uuid:4c2841e0-df00-4af1-ae17-e013574a236d\",\n",
      "  \"message\": {\n",
      "    \"@context\": [\n",
      "      \"https://w3id.org/dspace/2025/1/context.jsonld\"\n",
      "    ],\n",
      "    \"@type\": \"ContractNegotiation\",\n",
      "    \"providerPid\": \"urn:uuid:4c2841e0-df00-4af1-ae17-e013574a236d\",\n",
      "    \"consumerPid\": \"urn:uuid:f45e2d0d-0255-4347-9b4a-8ad766d1e3b0\",\n",
      "    \"state\": \"ACCEPTED\"\n",
      "  }\n",
      "}\n"
     ]
    }
   ],
   "source": [
    "url = data_space_consumer + \"/api/v1/negotiations/rpc/setup-acceptance\"\n",
    "payload = {\n",
    "    \"providerParticipantId\": data_space_provider_participant_id,\n",
    "    \"consumerPid\": cn_consumer_id,\n",
    "    \"providerPid\": cn_provider_id\n",
    "}\n",
    "response = requests.request(\"POST\", url, headers=json_header, data=json.dumps(payload))\n",
    "response_as_json = response.json()\n",
    "print(json.dumps(response_as_json, indent=2))"
   ]
  },
  {
   "cell_type": "code",
   "execution_count": 57,
   "id": "84609238c0d3e043",
   "metadata": {
    "ExecuteTime": {
     "end_time": "2025-06-18T22:35:20.183402Z",
     "start_time": "2025-06-18T22:35:20.027982Z"
    }
   },
   "outputs": [
    {
     "name": "stdout",
     "output_type": "stream",
     "text": [
      "{\n",
      "  \"consumerPid\": \"urn:uuid:f45e2d0d-0255-4347-9b4a-8ad766d1e3b0\",\n",
      "  \"providerPid\": \"urn:uuid:4c2841e0-df00-4af1-ae17-e013574a236d\",\n",
      "  \"agreement\": {\n",
      "    \"@id\": \"urn:uuid:0bc50ad8-972d-4123-84ff-5a2dfdad31dd\",\n",
      "    \"permission\": [\n",
      "      {\n",
      "        \"action\": \"supermegause\"\n",
      "      }\n",
      "    ],\n",
      "    \"@type\": \"Agreement\",\n",
      "    \"target\": \"urn:uuid:aa7e6b1a-bf1c-4944-8997-cb33c6a1326d\",\n",
      "    \"assigner\": \"urn:uuid:49694213-4123-4e56-b990-3ff43db51562\",\n",
      "    \"assignee\": \"urn:uuid:0df100cf-d833-469f-8820-1beb783406b9\",\n",
      "    \"timestamp\": \"2025-06-23T07:46:25.769777072+00:00\"\n",
      "  },\n",
      "  \"message\": {\n",
      "    \"@context\": [\n",
      "      \"https://w3id.org/dspace/2025/1/context.jsonld\"\n",
      "    ],\n",
      "    \"@type\": \"ContractNegotiation\",\n",
      "    \"providerPid\": \"urn:uuid:4c2841e0-df00-4af1-ae17-e013574a236d\",\n",
      "    \"consumerPid\": \"urn:uuid:f45e2d0d-0255-4347-9b4a-8ad766d1e3b0\",\n",
      "    \"state\": \"AGREED\"\n",
      "  }\n",
      "}\n"
     ]
    }
   ],
   "source": [
    "url = data_space_provider + \"/api/v1/negotiations/rpc/setup-agreement\"\n",
    "payload = {\n",
    "    \"consumerParticipantId\": data_space_consumer_participant_id,\n",
    "    \"consumerPid\": cn_consumer_id,\n",
    "    \"providerPid\": cn_provider_id\n",
    "}\n",
    "response = requests.request(\"POST\", url, headers=json_header, data=json.dumps(payload))\n",
    "response_as_json = response.json()\n",
    "agreement_id=response_as_json[\"agreement\"][\"@id\"]\n",
    "print(json.dumps(response_as_json, indent=2))"
   ]
  },
  {
   "cell_type": "code",
   "execution_count": 77,
   "id": "8840cdbc4f7c5a99",
   "metadata": {
    "ExecuteTime": {
     "end_time": "2025-06-18T22:35:20.312225Z",
     "start_time": "2025-06-18T22:35:20.190733Z"
    }
   },
   "outputs": [
    {
     "name": "stdout",
     "output_type": "stream",
     "text": [
      "{\n",
      "  \"@context\": [\n",
      "    \"https://w3id.org/dspace/2025/1/context.jsonld\"\n",
      "  ],\n",
      "  \"@type\": \"ContractNegotiationError\",\n",
      "  \"providerPid\": \"urn:uuid:40c3588b-6965-4927-bb78-64fb3953e774\",\n",
      "  \"consumerPid\": \"urn:uuid:1f6bff44-5165-4fe6-95ea-faea1a0dc84e\",\n",
      "  \"code\": \"PROVIDER_INTERNAL_ERROR\",\n",
      "  \"reason\": [\n",
      "    \"Provider internal error\",\n",
      "    \"{\\\"@context\\\":[\\\"https://w3id.org/dspace/2025/1/context.jsonld\\\"],\\\"@type\\\":\\\"ContractNegotiationError\\\",\\\"code\\\":\\\"JSON_DATA_ERROR\\\",\\\"consumerPid\\\":null,\\\"providerPid\\\":null,\\\"reason\\\":[\\\"Error from deserializing JSON: Message ContractAgreementVerificationMessage not allowed\\\"]}\"\n",
      "  ]\n",
      "}\n"
     ]
    }
   ],
   "source": [
    "url = data_space_consumer + \"/api/v1/negotiations/rpc/setup-verification\"\n",
    "payload = {\n",
    "    \"providerParticipantId\": data_space_provider_participant_id,\n",
    "    \"consumerPid\": cn_consumer_id,\n",
    "    \"providerPid\": cn_provider_id,\n",
    "}\n",
    "response = requests.request(\"POST\", url, headers=json_header, data=json.dumps(payload))\n",
    "response_as_json = response.json()\n",
    "print(json.dumps(response_as_json, indent=2))"
   ]
  },
  {
   "cell_type": "code",
   "execution_count": 59,
   "id": "fddd19bf8f2b05d9",
   "metadata": {
    "ExecuteTime": {
     "end_time": "2025-06-18T22:35:20.411426Z",
     "start_time": "2025-06-18T22:35:20.325256Z"
    }
   },
   "outputs": [
    {
     "name": "stdout",
     "output_type": "stream",
     "text": [
      "{\n",
      "  \"consumerPid\": \"urn:uuid:f45e2d0d-0255-4347-9b4a-8ad766d1e3b0\",\n",
      "  \"providerPid\": \"urn:uuid:4c2841e0-df00-4af1-ae17-e013574a236d\",\n",
      "  \"message\": {\n",
      "    \"@context\": [\n",
      "      \"https://w3id.org/dspace/2025/1/context.jsonld\"\n",
      "    ],\n",
      "    \"@type\": \"ContractNegotiation\",\n",
      "    \"providerPid\": \"urn:uuid:4c2841e0-df00-4af1-ae17-e013574a236d\",\n",
      "    \"consumerPid\": \"urn:uuid:f45e2d0d-0255-4347-9b4a-8ad766d1e3b0\",\n",
      "    \"state\": \"FINALIZED\"\n",
      "  }\n",
      "}\n"
     ]
    }
   ],
   "source": [
    "url = data_space_provider + \"/api/v1/negotiations/rpc/setup-finalization\"\n",
    "payload = {\n",
    "    \"consumerParticipantId\": data_space_consumer_participant_id,\n",
    "    \"consumerPid\": cn_consumer_id,\n",
    "    \"providerPid\": cn_provider_id,\n",
    "}\n",
    "response = requests.request(\"POST\", url, headers=json_header, data=json.dumps(payload))\n",
    "response_as_json = response.json()\n",
    "print(json.dumps(response_as_json, indent=2))"
   ]
  },
  {
   "cell_type": "markdown",
   "id": "f8a6b52b3af734ba",
   "metadata": {},
   "source": [
    "## Transfer Negotiation\n"
   ]
  },
  {
   "cell_type": "code",
   "execution_count": 60,
   "id": "c359ed2305c94f27",
   "metadata": {
    "ExecuteTime": {
     "end_time": "2025-06-18T22:35:20.743219Z",
     "start_time": "2025-06-18T22:35:20.424673Z"
    }
   },
   "outputs": [
    {
     "name": "stdout",
     "output_type": "stream",
     "text": [
      "{\n",
      "  \"providerPid\": \"urn:uuid:66443903-43a6-4c6c-a087-d4d4dc1e8030\",\n",
      "  \"consumerPid\": \"urn:uuid:b20e56a6-2a6c-4d91-8a97-8effeddb4044\",\n",
      "  \"agreementId\": \"urn:uuid:0bc50ad8-972d-4123-84ff-5a2dfdad31dd\",\n",
      "  \"callbackAddress\": \"http://127.0.0.1:1100/urn:uuid:4b19eade-45b0-4101-8561-6b3509574030\",\n",
      "  \"format\": \"http+pull\",\n",
      "  \"message\": {\n",
      "    \"@context\": [\n",
      "      \"https://w3id.org/dspace/2025/1/context.jsonld\"\n",
      "    ],\n",
      "    \"@type\": \"TransferProcess\",\n",
      "    \"providerPid\": \"urn:uuid:66443903-43a6-4c6c-a087-d4d4dc1e8030\",\n",
      "    \"consumerPid\": \"urn:uuid:b20e56a6-2a6c-4d91-8a97-8effeddb4044\",\n",
      "    \"state\": \"REQUESTED\"\n",
      "  }\n",
      "}\n"
     ]
    }
   ],
   "source": [
    "url = data_space_consumer + \"/api/v1/transfers/rpc/setup-request\"\n",
    "payload = {\n",
    "    \"providerParticipantId\": data_space_provider_participant_id,\n",
    "    \"agreementId\": agreement_id,\n",
    "    \"format\": \"http+pull\"\n",
    "}\n",
    "response = requests.request(\"POST\", url, headers=json_header, data=json.dumps(payload))\n",
    "response_as_json = response.json()\n",
    "transfer_consumer_id = response_as_json[\"consumerPid\"]\n",
    "transfer_provider_id = response_as_json[\"providerPid\"]\n",
    "callback_address = response_as_json[\"callbackAddress\"]\n",
    "print(json.dumps(response_as_json, indent=2))"
   ]
  },
  {
   "cell_type": "code",
   "execution_count": 61,
   "id": "d905936906de088c",
   "metadata": {
    "ExecuteTime": {
     "end_time": "2025-06-18T22:35:20.969103Z",
     "start_time": "2025-06-18T22:35:20.753271Z"
    }
   },
   "outputs": [
    {
     "name": "stdout",
     "output_type": "stream",
     "text": [
      "{\n",
      "  \"providerPid\": \"urn:uuid:66443903-43a6-4c6c-a087-d4d4dc1e8030\",\n",
      "  \"consumerPid\": \"urn:uuid:b20e56a6-2a6c-4d91-8a97-8effeddb4044\",\n",
      "  \"dataAddress\": {\n",
      "    \"@type\": \"DataAddress\",\n",
      "    \"endpointType\": \"http\",\n",
      "    \"endpoint\": \"http://127.0.0.1:1200/data/urn:uuid:66443903-43a6-4c6c-a087-d4d4dc1e8030\",\n",
      "    \"endpointProperties\": [\n",
      "      {\n",
      "        \"@type\": \"EndpointProperty\",\n",
      "        \"name\": \"authType\",\n",
      "        \"value\": \"\"\n",
      "      },\n",
      "      {\n",
      "        \"@type\": \"EndpointProperty\",\n",
      "        \"name\": \"authorization\",\n",
      "        \"value\": \"\"\n",
      "      }\n",
      "    ]\n",
      "  },\n",
      "  \"message\": {\n",
      "    \"@context\": [\n",
      "      \"https://w3id.org/dspace/2025/1/context.jsonld\"\n",
      "    ],\n",
      "    \"@type\": \"TransferProcess\",\n",
      "    \"providerPid\": \"urn:uuid:66443903-43a6-4c6c-a087-d4d4dc1e8030\",\n",
      "    \"consumerPid\": \"urn:uuid:b20e56a6-2a6c-4d91-8a97-8effeddb4044\",\n",
      "    \"state\": \"STARTED\"\n",
      "  }\n",
      "}\n"
     ]
    }
   ],
   "source": [
    "url = data_space_provider + \"/api/v1/transfers/rpc/setup-start\"\n",
    "payload = {\n",
    "    \"consumerParticipantId\": data_space_consumer_participant_id,\n",
    "    \"consumerCallbackAddress\": callback_address,\n",
    "    \"providerPid\": transfer_provider_id,\n",
    "    \"consumerPid\": transfer_consumer_id\n",
    "}\n",
    "response = requests.request(\"POST\", url, headers=json_header, data=json.dumps(payload))\n",
    "response_as_json = response.json()\n",
    "\n",
    "print(json.dumps(response_as_json, indent=2))"
   ]
  },
  {
   "cell_type": "code",
   "execution_count": 62,
   "id": "45bb48df83adbb24",
   "metadata": {
    "ExecuteTime": {
     "end_time": "2025-06-18T22:35:20.987909Z",
     "start_time": "2025-06-18T22:35:20.973696Z"
    }
   },
   "outputs": [
    {
     "name": "stdout",
     "output_type": "stream",
     "text": [
      "{\n",
      "  \"id\": \"urn:uuid:b20e56a6-2a6c-4d91-8a97-8effeddb4044\",\n",
      "  \"process_direction\": \"PULL\",\n",
      "  \"upstream_hop\": {\n",
      "    \"protocol\": \"\",\n",
      "    \"url\": \"\",\n",
      "    \"auth_type\": \"\",\n",
      "    \"auth_content\": \"\"\n",
      "  },\n",
      "  \"downstream_hop\": {\n",
      "    \"protocol\": \"\",\n",
      "    \"url\": \"\",\n",
      "    \"auth_type\": \"\",\n",
      "    \"auth_content\": \"\"\n",
      "  },\n",
      "  \"process_address\": {\n",
      "    \"protocol\": \"http\",\n",
      "    \"url\": \"http://127.0.0.1:1100/data/urn:uuid:b20e56a6-2a6c-4d91-8a97-8effeddb4044\",\n",
      "    \"auth_type\": \"\",\n",
      "    \"auth_content\": \"\"\n",
      "  },\n",
      "  \"created_at\": \"2025-06-23T07:46:26.393874\",\n",
      "  \"updated_at\": \"2025-06-23T07:46:26.473375\",\n",
      "  \"state\": \"STARTED\"\n",
      "}\n"
     ]
    }
   ],
   "source": [
    "url = data_space_consumer + \"/api/v1/dataplane/\" + transfer_consumer_id\n",
    "response = requests.request(\"GET\", url, headers=json_header)\n",
    "response_as_json = response.json()\n",
    "consumer_data_address = response_as_json[\"process_address\"][\"url\"]\n",
    "print(json.dumps(response_as_json, indent=2))"
   ]
  },
  {
   "cell_type": "code",
   "execution_count": 63,
   "id": "6e9e83d8150b9676",
   "metadata": {
    "ExecuteTime": {
     "end_time": "2025-06-18T22:35:21.161317Z",
     "start_time": "2025-06-18T22:35:20.999527Z"
    }
   },
   "outputs": [
    {
     "name": "stdout",
     "output_type": "stream",
     "text": [
      "     postId   id                                               name  \\\n",
      "0         1    1                       id labore ex et quam laborum   \n",
      "1         1    2          quo vero reiciendis velit similique earum   \n",
      "2         1    3                      odio adipisci rerum aut animi   \n",
      "3         1    4                                     alias odio sit   \n",
      "4         1    5              vero eaque aliquid doloribus et culpa   \n",
      "..      ...  ...                                                ...   \n",
      "495     100  496  et occaecati asperiores quas voluptas ipsam no...   \n",
      "496     100  497             doloribus dolores ut dolores occaecati   \n",
      "497     100  498                           dolores minus aut libero   \n",
      "498     100  499  excepturi sunt cum a et rerum quo voluptatibus...   \n",
      "499     100  500                                 ex eaque eum natus   \n",
      "\n",
      "                            email  \\\n",
      "0              Eliseo@gardner.biz   \n",
      "1          Jayne_Kuhic@sydney.com   \n",
      "2             Nikita@garfield.biz   \n",
      "3                   Lew@alysha.tv   \n",
      "4               Hayden@althea.biz   \n",
      "..                            ...   \n",
      "495               Zola@lizzie.com   \n",
      "496             Dolly@mandy.co.uk   \n",
      "497             Davion@eldora.net   \n",
      "498  Wilburn_Labadie@araceli.name   \n",
      "499                Emma@joanny.ca   \n",
      "\n",
      "                                                  body  \n",
      "0    laudantium enim quasi est quidem magnam volupt...  \n",
      "1    est natus enim nihil est dolore omnis voluptat...  \n",
      "2    quia molestiae reprehenderit quasi aspernatur\\...  \n",
      "3    non et atque\\noccaecati deserunt quas accusant...  \n",
      "4    harum non quasi et ratione\\ntempore iure ex vo...  \n",
      "..                                                 ...  \n",
      "495  neque unde voluptatem iure\\nodio excepturi ips...  \n",
      "496  non dolor consequatur\\nlaboriosam ut deserunt ...  \n",
      "497  aliquam pariatur suscipit fugiat eos sunt\\nopt...  \n",
      "498  et necessitatibus tempora ipsum quaerat invent...  \n",
      "499  perspiciatis quis doloremque\\nveniam nisi eos ...  \n",
      "\n",
      "[500 rows x 5 columns]\n"
     ]
    }
   ],
   "source": [
    "try :\n",
    "    df = pd.read_json(consumer_data_address)\n",
    "    print(df)\n",
    "except HTTPError as e:\n",
    "    print(e)\n"
   ]
  },
  {
   "cell_type": "code",
   "execution_count": 64,
   "id": "ed4a0bc53ceec45f",
   "metadata": {
    "ExecuteTime": {
     "end_time": "2025-06-18T22:35:21.323235Z",
     "start_time": "2025-06-18T22:35:21.176121Z"
    }
   },
   "outputs": [
    {
     "name": "stdout",
     "output_type": "stream",
     "text": [
      "{\n",
      "  \"providerPid\": \"urn:uuid:66443903-43a6-4c6c-a087-d4d4dc1e8030\",\n",
      "  \"consumerPid\": \"urn:uuid:b20e56a6-2a6c-4d91-8a97-8effeddb4044\",\n",
      "  \"message\": {\n",
      "    \"@context\": [\n",
      "      \"https://w3id.org/dspace/2025/1/context.jsonld\"\n",
      "    ],\n",
      "    \"@type\": \"TransferProcess\",\n",
      "    \"providerPid\": \"urn:uuid:66443903-43a6-4c6c-a087-d4d4dc1e8030\",\n",
      "    \"consumerPid\": \"urn:uuid:b20e56a6-2a6c-4d91-8a97-8effeddb4044\",\n",
      "    \"state\": \"SUSPENDED\"\n",
      "  }\n",
      "}\n"
     ]
    }
   ],
   "source": [
    "url = data_space_consumer + \"/api/v1/transfers/rpc/setup-suspension\"\n",
    "payload = {\n",
    "    \"providerParticipantId\": data_space_provider_participant_id,\n",
    "    \"providerPid\": transfer_provider_id,\n",
    "    \"consumerPid\": transfer_consumer_id,\n",
    "}\n",
    "response = requests.request(\"POST\", url, headers=json_header, data=json.dumps(payload))\n",
    "response_as_json = response.json()\n",
    "print(json.dumps(response_as_json, indent=2))"
   ]
  },
  {
   "cell_type": "code",
   "execution_count": 65,
   "id": "fec52d4ca1de9ff7",
   "metadata": {
    "ExecuteTime": {
     "end_time": "2025-06-18T22:35:21.351538Z",
     "start_time": "2025-06-18T22:35:21.334879Z"
    }
   },
   "outputs": [
    {
     "name": "stdout",
     "output_type": "stream",
     "text": [
      "HTTP Error 403: Forbidden\n"
     ]
    }
   ],
   "source": [
    "try :\n",
    "    df = pd.read_json(consumer_data_address)\n",
    "    print(df)\n",
    "except HTTPError as e:\n",
    "    print(e)"
   ]
  },
  {
   "cell_type": "code",
   "execution_count": 66,
   "id": "4b0a3076674ace5f",
   "metadata": {
    "ExecuteTime": {
     "end_time": "2025-06-18T22:35:21.525821Z",
     "start_time": "2025-06-18T22:35:21.365706Z"
    }
   },
   "outputs": [
    {
     "name": "stdout",
     "output_type": "stream",
     "text": [
      "{\n",
      "  \"providerPid\": \"urn:uuid:66443903-43a6-4c6c-a087-d4d4dc1e8030\",\n",
      "  \"consumerPid\": \"urn:uuid:b20e56a6-2a6c-4d91-8a97-8effeddb4044\",\n",
      "  \"message\": {\n",
      "    \"@context\": [\n",
      "      \"https://w3id.org/dspace/2025/1/context.jsonld\"\n",
      "    ],\n",
      "    \"@type\": \"TransferProcess\",\n",
      "    \"providerPid\": \"urn:uuid:66443903-43a6-4c6c-a087-d4d4dc1e8030\",\n",
      "    \"consumerPid\": \"urn:uuid:b20e56a6-2a6c-4d91-8a97-8effeddb4044\",\n",
      "    \"state\": \"STARTED\"\n",
      "  }\n",
      "}\n"
     ]
    }
   ],
   "source": [
    "url = data_space_consumer + \"/api/v1/transfers/rpc/setup-start\"\n",
    "payload = {\n",
    "    \"providerParticipantId\": data_space_provider_participant_id,\n",
    "    \"providerPid\": transfer_provider_id,\n",
    "    \"consumerPid\": transfer_consumer_id,\n",
    "}\n",
    "response = requests.request(\"POST\", url, headers=json_header, data=json.dumps(payload))\n",
    "response_as_json = response.json()\n",
    "print(json.dumps(response_as_json, indent=2))"
   ]
  },
  {
   "cell_type": "code",
   "execution_count": 67,
   "id": "49197782572c3e99",
   "metadata": {
    "ExecuteTime": {
     "end_time": "2025-06-18T22:35:21.610929Z",
     "start_time": "2025-06-18T22:35:21.559110Z"
    }
   },
   "outputs": [
    {
     "name": "stdout",
     "output_type": "stream",
     "text": [
      "     postId   id                                               name  \\\n",
      "0         1    1                       id labore ex et quam laborum   \n",
      "1         1    2          quo vero reiciendis velit similique earum   \n",
      "2         1    3                      odio adipisci rerum aut animi   \n",
      "3         1    4                                     alias odio sit   \n",
      "4         1    5              vero eaque aliquid doloribus et culpa   \n",
      "..      ...  ...                                                ...   \n",
      "495     100  496  et occaecati asperiores quas voluptas ipsam no...   \n",
      "496     100  497             doloribus dolores ut dolores occaecati   \n",
      "497     100  498                           dolores minus aut libero   \n",
      "498     100  499  excepturi sunt cum a et rerum quo voluptatibus...   \n",
      "499     100  500                                 ex eaque eum natus   \n",
      "\n",
      "                            email  \\\n",
      "0              Eliseo@gardner.biz   \n",
      "1          Jayne_Kuhic@sydney.com   \n",
      "2             Nikita@garfield.biz   \n",
      "3                   Lew@alysha.tv   \n",
      "4               Hayden@althea.biz   \n",
      "..                            ...   \n",
      "495               Zola@lizzie.com   \n",
      "496             Dolly@mandy.co.uk   \n",
      "497             Davion@eldora.net   \n",
      "498  Wilburn_Labadie@araceli.name   \n",
      "499                Emma@joanny.ca   \n",
      "\n",
      "                                                  body  \n",
      "0    laudantium enim quasi est quidem magnam volupt...  \n",
      "1    est natus enim nihil est dolore omnis voluptat...  \n",
      "2    quia molestiae reprehenderit quasi aspernatur\\...  \n",
      "3    non et atque\\noccaecati deserunt quas accusant...  \n",
      "4    harum non quasi et ratione\\ntempore iure ex vo...  \n",
      "..                                                 ...  \n",
      "495  neque unde voluptatem iure\\nodio excepturi ips...  \n",
      "496  non dolor consequatur\\nlaboriosam ut deserunt ...  \n",
      "497  aliquam pariatur suscipit fugiat eos sunt\\nopt...  \n",
      "498  et necessitatibus tempora ipsum quaerat invent...  \n",
      "499  perspiciatis quis doloremque\\nveniam nisi eos ...  \n",
      "\n",
      "[500 rows x 5 columns]\n"
     ]
    }
   ],
   "source": [
    "try :\n",
    "    df = pd.read_json(consumer_data_address)\n",
    "    print(df)\n",
    "except HTTPError as e:\n",
    "    print(e)"
   ]
  },
  {
   "cell_type": "code",
   "execution_count": 68,
   "id": "b1ec9698272484c3",
   "metadata": {
    "ExecuteTime": {
     "end_time": "2025-06-18T22:35:21.746518Z",
     "start_time": "2025-06-18T22:35:21.623838Z"
    }
   },
   "outputs": [
    {
     "name": "stdout",
     "output_type": "stream",
     "text": [
      "{\n",
      "  \"providerPid\": \"urn:uuid:66443903-43a6-4c6c-a087-d4d4dc1e8030\",\n",
      "  \"consumerPid\": \"urn:uuid:b20e56a6-2a6c-4d91-8a97-8effeddb4044\",\n",
      "  \"message\": {\n",
      "    \"@context\": [\n",
      "      \"https://w3id.org/dspace/2025/1/context.jsonld\"\n",
      "    ],\n",
      "    \"@type\": \"TransferProcess\",\n",
      "    \"providerPid\": \"urn:uuid:66443903-43a6-4c6c-a087-d4d4dc1e8030\",\n",
      "    \"consumerPid\": \"urn:uuid:b20e56a6-2a6c-4d91-8a97-8effeddb4044\",\n",
      "    \"state\": \"SUSPENDED\"\n",
      "  }\n",
      "}\n"
     ]
    }
   ],
   "source": [
    "url = data_space_provider + \"/api/v1/transfers/rpc/setup-suspension\"\n",
    "payload = {\n",
    "    \"consumerParticipantId\": data_space_consumer_participant_id,\n",
    "    \"consumerCallbackAddress\": callback_address,\n",
    "    \"providerPid\": transfer_provider_id,\n",
    "    \"consumerPid\": transfer_consumer_id,\n",
    "}\n",
    "response = requests.request(\"POST\", url, headers=json_header, data=json.dumps(payload))\n",
    "response_as_json = response.json()\n",
    "print(json.dumps(response_as_json, indent=2))"
   ]
  },
  {
   "cell_type": "code",
   "execution_count": 69,
   "id": "a3bf1f3c1beb4e3",
   "metadata": {
    "ExecuteTime": {
     "end_time": "2025-06-18T22:35:21.876681Z",
     "start_time": "2025-06-18T22:35:21.749843Z"
    }
   },
   "outputs": [
    {
     "name": "stdout",
     "output_type": "stream",
     "text": [
      "{\n",
      "  \"providerPid\": \"urn:uuid:66443903-43a6-4c6c-a087-d4d4dc1e8030\",\n",
      "  \"consumerPid\": \"urn:uuid:b20e56a6-2a6c-4d91-8a97-8effeddb4044\",\n",
      "  \"message\": {\n",
      "    \"@context\": [\n",
      "      \"https://w3id.org/dspace/2025/1/context.jsonld\"\n",
      "    ],\n",
      "    \"@type\": \"TransferProcess\",\n",
      "    \"providerPid\": \"urn:uuid:66443903-43a6-4c6c-a087-d4d4dc1e8030\",\n",
      "    \"consumerPid\": \"urn:uuid:b20e56a6-2a6c-4d91-8a97-8effeddb4044\",\n",
      "    \"state\": \"COMPLETED\"\n",
      "  }\n",
      "}\n"
     ]
    }
   ],
   "source": [
    "url = data_space_provider + \"/api/v1/transfers/rpc/setup-completion\"\n",
    "payload = {\n",
    "    \"consumerParticipantId\": data_space_consumer_participant_id,\n",
    "    \"consumerCallbackAddress\": callback_address,\n",
    "    \"providerPid\": transfer_provider_id,\n",
    "    \"consumerPid\": transfer_consumer_id,\n",
    "}\n",
    "response = requests.request(\"POST\", url, headers=json_header, data=json.dumps(payload))\n",
    "response_as_json = response.json()\n",
    "print(json.dumps(response_as_json, indent=2))"
   ]
  },
  {
   "cell_type": "code",
   "execution_count": null,
   "id": "b0228ad8522b7a49",
   "metadata": {
    "ExecuteTime": {
     "end_time": "2025-06-18T22:35:21.886090Z",
     "start_time": "2025-06-18T22:35:21.884291Z"
    }
   },
   "outputs": [],
   "source": []
  },
  {
   "cell_type": "code",
   "execution_count": null,
   "id": "99b0cb0b417c143a",
   "metadata": {
    "ExecuteTime": {
     "end_time": "2025-06-18T22:35:21.895232Z",
     "start_time": "2025-06-18T22:35:21.893502Z"
    }
   },
   "outputs": [],
   "source": []
  },
  {
   "cell_type": "code",
   "execution_count": null,
   "id": "a60358323bff1fad",
   "metadata": {
    "ExecuteTime": {
     "end_time": "2025-06-18T22:35:21.908674Z",
     "start_time": "2025-06-18T22:35:21.907184Z"
    }
   },
   "outputs": [],
   "source": []
  },
  {
   "cell_type": "code",
   "execution_count": null,
   "id": "b0cde08f81af69f3",
   "metadata": {
    "ExecuteTime": {
     "end_time": "2025-06-18T22:35:21.922922Z",
     "start_time": "2025-06-18T22:35:21.921241Z"
    }
   },
   "outputs": [],
   "source": []
  }
 ],
 "metadata": {
  "kernelspec": {
   "display_name": "venv",
   "language": "python",
   "name": "python3"
  },
  "language_info": {
   "codemirror_mode": {
    "name": "ipython",
    "version": 3
   },
   "file_extension": ".py",
   "mimetype": "text/x-python",
   "name": "python",
   "nbconvert_exporter": "python",
   "pygments_lexer": "ipython3",
   "version": "3.10.12"
  }
 },
 "nbformat": 5,
 "nbformat_minor": 9
}

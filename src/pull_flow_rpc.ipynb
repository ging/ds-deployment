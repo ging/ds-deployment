{
 "cells": [
  {
   "metadata": {
    "ExecuteTime": {
     "end_time": "2025-06-18T23:45:34.319282Z",
     "start_time": "2025-06-18T23:45:34.165084Z"
    }
   },
   "cell_type": "code",
   "source": "!which python",
   "id": "affa926f259653e0",
   "outputs": [
    {
     "name": "stdout",
     "output_type": "stream",
     "text": [
      "/Users/apabook/Desktop/ds-deployment/.venv/bin/python\r\n"
     ]
    }
   ],
   "execution_count": 372
  },
  {
   "metadata": {
    "ExecuteTime": {
     "end_time": "2025-06-18T23:45:34.385856Z",
     "start_time": "2025-06-18T23:45:34.383428Z"
    }
   },
   "cell_type": "code",
   "source": [
    "import requests\n",
    "import json\n",
    "import pandas as pd\n",
    "from urllib.error import HTTPError, URLError"
   ],
   "id": "68e1fe621d8a0ef0",
   "outputs": [],
   "execution_count": 373
  },
  {
   "metadata": {},
   "cell_type": "markdown",
   "source": "# Complete dataspace flow",
   "id": "bc15da9211b43e67"
  },
  {
   "metadata": {},
   "cell_type": "markdown",
   "source": "## Consts\n",
   "id": "b0f6ecdf966b8b68"
  },
  {
   "metadata": {
    "ExecuteTime": {
     "end_time": "2025-06-18T23:45:35.547299Z",
     "start_time": "2025-06-18T23:45:35.537317Z"
    }
   },
   "cell_type": "code",
   "source": [
    "data_space_provider = \"http://0.0.0.0:1200\"\n",
    "data_space_consumer = \"http://0.0.0.0:1100\"\n",
    "api_endpoint = \"https://jsonplaceholder.typicode.com/comments\"\n",
    "\n",
    "data_space_provider_participant_id = \"\"\n",
    "data_space_provider_participant_token = \"\"\n",
    "data_space_consumer_participant_id = \"\"\n",
    "data_space_consumer_participant_token = \"\"\n",
    "catalog_id = \"\"\n",
    "dataset_id = \"\"\n",
    "distribution_id = \"\"\n",
    "data_service_id = \"\"\n",
    "policy_id = \"\"\n",
    "target_id = \"\"\n",
    "\n",
    "cn_consumer_id = \"\"\n",
    "cn_provider_id = \"\"\n",
    "agreement_id = \"\"\n",
    "transfer_consumer_id = \"\"\n",
    "transfer_provider_id = \"\"\n",
    "consumer_data_address = \"\"\n",
    "\n",
    "json_header = {\n",
    "    \"Content-Type\": \"application/json\",\n",
    "}"
   ],
   "id": "f55ce154aa95c49d",
   "outputs": [],
   "execution_count": 374
  },
  {
   "metadata": {},
   "cell_type": "markdown",
   "source": "## Participants onboarding",
   "id": "69b1951a684bd85e"
  },
  {
   "metadata": {},
   "cell_type": "markdown",
   "source": "### Current Participants information",
   "id": "282464527a1cdffe"
  },
  {
   "metadata": {
    "ExecuteTime": {
     "end_time": "2025-06-18T23:45:36.995366Z",
     "start_time": "2025-06-18T23:45:36.902058Z"
    }
   },
   "cell_type": "code",
   "source": [
    "url = data_space_provider + \"/api/v1/mates/me\"\n",
    "response = requests.request(\"GET\", url, headers=json_header)\n",
    "response_as_json = response.json()\n",
    "print(json.dumps(response_as_json, indent=4))"
   ],
   "id": "c0cbd7496cfeee45",
   "outputs": [
    {
     "name": "stdout",
     "output_type": "stream",
     "text": [
      "{\n",
      "    \"participant_id\": \"urn:uuid:211598c9-b045-41fd-8f6e-7e71ade0718d\",\n",
      "    \"participant_slug\": \"Provider\",\n",
      "    \"participant_type\": \"Provider\",\n",
      "    \"base_url\": \"http://0.0.0.0:1200\",\n",
      "    \"token\": null,\n",
      "    \"token_actions\": null,\n",
      "    \"saved_at\": \"2025-06-18T23:45:20.603413\",\n",
      "    \"last_interaction\": \"2025-06-18T23:45:20.603807\",\n",
      "    \"is_me\": true\n",
      "}\n"
     ]
    }
   ],
   "execution_count": 375
  },
  {
   "metadata": {
    "ExecuteTime": {
     "end_time": "2025-06-18T23:45:38.008644Z",
     "start_time": "2025-06-18T23:45:37.931619Z"
    }
   },
   "cell_type": "code",
   "source": [
    "url = data_space_consumer + \"/api/v1/mates/me\"\n",
    "response = requests.request(\"GET\", url, headers=json_header)\n",
    "response_as_json = response.json()\n",
    "print(json.dumps(response_as_json, indent=4))"
   ],
   "id": "abf39cd154ed72c2",
   "outputs": [
    {
     "name": "stdout",
     "output_type": "stream",
     "text": [
      "{\n",
      "    \"participant_id\": \"urn:uuid:33b0987a-6f04-488a-b28b-ed092888e953\",\n",
      "    \"participant_slug\": \"Consumer\",\n",
      "    \"participant_type\": \"Consumer\",\n",
      "    \"base_url\": \"http://0.0.0.0:1100\",\n",
      "    \"token\": null,\n",
      "    \"token_actions\": null,\n",
      "    \"saved_at\": \"2025-06-18T23:45:18.887339\",\n",
      "    \"last_interaction\": \"2025-06-18T23:45:18.887441\",\n",
      "    \"is_me\": true\n",
      "}\n"
     ]
    }
   ],
   "execution_count": 376
  },
  {
   "metadata": {},
   "cell_type": "markdown",
   "source": "### Consumer registering in Provider via Verifiable presentation",
   "id": "4726580125d210c0"
  },
  {
   "metadata": {
    "ExecuteTime": {
     "end_time": "2025-06-18T23:48:47.388601Z",
     "start_time": "2025-06-18T23:48:47.319875Z"
    }
   },
   "cell_type": "code",
   "source": [
    "url = data_space_consumer + \"/auth/manual/ssi\"\n",
    "payload = {\n",
    "    #\"url\": data_space_provider + \"/access\",\n",
    "    \"url\":  \"http://host.docker.internal:1200/access\",\n",
    "    \"id\": \"friendly_slugname_for_provider\",\n",
    "    \"actions\": \"talk\"\n",
    "}\n",
    "response = requests.request(\"POST\", url, headers=json_header, data=json.dumps(payload))\n",
    "response_as_text = response.text\n",
    "response_as_text"
   ],
   "id": "5c0d1e5f5524774a",
   "outputs": [
    {
     "data": {
      "text/plain": [
       "'openid4vp://authorize?response_type=vp_token&client_id=http%3A%2F%2F0.0.0.0%3A1200%2Fverify%2FhQp6YpP1nCd8&response_mode=direct_post&presentation_definition_uri=http%3A%2F%2F0.0.0.0%3A1200%2Fpd%2FhQp6YpP1nCd8&client_id_scheme=redirect_uri&nonce=GLWzPXaf3RsW&response_uri=http%3A%2F%2F0.0.0.0%3A1200%2Fverify%2FhQp6YpP1nCd8'"
      ]
     },
     "execution_count": 381,
     "metadata": {},
     "output_type": "execute_result"
    }
   ],
   "execution_count": 381
  },
  {
   "metadata": {},
   "cell_type": "markdown",
   "source": "### Provider and Consumer ids",
   "id": "496a76b6de3279c7"
  },
  {
   "metadata": {
    "ExecuteTime": {
     "end_time": "2025-06-18T23:48:43.630492Z",
     "start_time": "2025-06-18T23:48:43.513827Z"
    }
   },
   "cell_type": "code",
   "source": [
    "url = data_space_provider + \"/api/v1/mates\"\n",
    "response = requests.request(\"GET\", url, headers=json_header, data=json.dumps(payload))\n",
    "response_as_json = response.json()\n",
    "data_space_consumer_participant_id = response_as_json[1][\"participant_id\"]\n",
    "data_space_consumer_participant_token = response_as_json[1][\"token\"]\n",
    "print(json.dumps(response_as_json, indent=4))"
   ],
   "id": "63286f13d2c118cd",
   "outputs": [
    {
     "ename": "IndexError",
     "evalue": "list index out of range",
     "output_type": "error",
     "traceback": [
      "\u001B[0;31m---------------------------------------------------------------------------\u001B[0m",
      "\u001B[0;31mIndexError\u001B[0m                                Traceback (most recent call last)",
      "Cell \u001B[0;32mIn[380], line 4\u001B[0m\n\u001B[1;32m      2\u001B[0m response \u001B[38;5;241m=\u001B[39m requests\u001B[38;5;241m.\u001B[39mrequest(\u001B[38;5;124m\"\u001B[39m\u001B[38;5;124mGET\u001B[39m\u001B[38;5;124m\"\u001B[39m, url, headers\u001B[38;5;241m=\u001B[39mjson_header, data\u001B[38;5;241m=\u001B[39mjson\u001B[38;5;241m.\u001B[39mdumps(payload))\n\u001B[1;32m      3\u001B[0m response_as_json \u001B[38;5;241m=\u001B[39m response\u001B[38;5;241m.\u001B[39mjson()\n\u001B[0;32m----> 4\u001B[0m data_space_consumer_participant_id \u001B[38;5;241m=\u001B[39m \u001B[43mresponse_as_json\u001B[49m\u001B[43m[\u001B[49m\u001B[38;5;241;43m1\u001B[39;49m\u001B[43m]\u001B[49m[\u001B[38;5;124m\"\u001B[39m\u001B[38;5;124mparticipant_id\u001B[39m\u001B[38;5;124m\"\u001B[39m]\n\u001B[1;32m      5\u001B[0m data_space_consumer_participant_token \u001B[38;5;241m=\u001B[39m response_as_json[\u001B[38;5;241m1\u001B[39m][\u001B[38;5;124m\"\u001B[39m\u001B[38;5;124mtoken\u001B[39m\u001B[38;5;124m\"\u001B[39m]\n\u001B[1;32m      6\u001B[0m \u001B[38;5;28mprint\u001B[39m(json\u001B[38;5;241m.\u001B[39mdumps(response_as_json, indent\u001B[38;5;241m=\u001B[39m\u001B[38;5;241m4\u001B[39m))\n",
      "\u001B[0;31mIndexError\u001B[0m: list index out of range"
     ]
    }
   ],
   "execution_count": 380
  },
  {
   "metadata": {
    "ExecuteTime": {
     "end_time": "2025-06-18T22:35:18.965441Z",
     "start_time": "2025-06-18T22:35:18.957121Z"
    }
   },
   "cell_type": "code",
   "source": [
    "url = data_space_consumer + \"/api/v1/mates\"\n",
    "response = requests.request(\"GET\", url, headers=json_header, data=json.dumps(payload))\n",
    "response_as_json = response.json()\n",
    "data_space_provider_participant_id = response_as_json[1][\"participant_id\"]\n",
    "data_space_provider_participant_token = response_as_json[1][\"token\"]\n",
    "print(json.dumps(response_as_json, indent=4))"
   ],
   "id": "163378c48a331362",
   "outputs": [
    {
     "name": "stdout",
     "output_type": "stream",
     "text": [
      "[\n",
      "    {\n",
      "        \"participant_id\": \"urn:uuid:4f35a3e1-9ad8-4238-94ca-96d97ca207a9\",\n",
      "        \"participant_slug\": \"Consumer\",\n",
      "        \"participant_type\": \"Consumer\",\n",
      "        \"base_url\": \"http://127.0.0.1:1100\",\n",
      "        \"token\": null,\n",
      "        \"token_actions\": null,\n",
      "        \"saved_at\": \"2025-06-17T11:34:25.652453\",\n",
      "        \"last_interaction\": \"2025-06-17T11:34:25.652456\",\n",
      "        \"is_me\": true\n",
      "    },\n",
      "    {\n",
      "        \"participant_id\": \"urn:uuid:ead1a1f7-340b-43b0-b909-ec420b3d666e\",\n",
      "        \"participant_slug\": \"friendly_slugname_for_provider\",\n",
      "        \"participant_type\": \"Provider\",\n",
      "        \"base_url\": \"http://127.0.0.1:1200\",\n",
      "        \"token\": \"cIGWuxexU6tC-1A8PdOtR75_UcDpzPOk9smbezPVKfk\",\n",
      "        \"token_actions\": \"talk\",\n",
      "        \"saved_at\": \"2025-06-17T11:35:00.445939\",\n",
      "        \"last_interaction\": \"2025-06-17T11:35:00.445940\",\n",
      "        \"is_me\": false\n",
      "    }\n",
      "]\n"
     ]
    }
   ],
   "execution_count": 317
  },
  {
   "metadata": {},
   "cell_type": "markdown",
   "source": "## Create Catalog instances and metadata",
   "id": "89cf12a469c65479"
  },
  {
   "metadata": {
    "ExecuteTime": {
     "end_time": "2025-06-18T22:35:19.085885Z",
     "start_time": "2025-06-18T22:35:18.973232Z"
    }
   },
   "cell_type": "code",
   "source": [
    "url = data_space_provider + \"/api/v1/catalogs\"\n",
    "payload = {\n",
    "    \"foaf:homepage\": \"My dataspace catalog\",\n",
    "    \"dct:title\": \"My dataspace catalog\",\n",
    "\n",
    "}\n",
    "response = requests.request(\"POST\", url, headers=json_header, data=json.dumps(payload))\n",
    "response_as_json = response.json()\n",
    "catalog_id = response_as_json[\"@id\"]\n",
    "catalog_id"
   ],
   "id": "11ed0dd3e885a07e",
   "outputs": [
    {
     "data": {
      "text/plain": [
       "'urn:uuid:4ec234d9-7c5b-4eb5-846b-f491dda5725d'"
      ]
     },
     "execution_count": 318,
     "metadata": {},
     "output_type": "execute_result"
    }
   ],
   "execution_count": 318
  },
  {
   "metadata": {
    "ExecuteTime": {
     "end_time": "2025-06-18T22:35:19.141407Z",
     "start_time": "2025-06-18T22:35:19.093536Z"
    }
   },
   "cell_type": "code",
   "source": [
    "url = data_space_provider + \"/api/v1/catalogs/{}/datasets\".format(catalog_id)\n",
    "payload = {\n",
    "    \"dct:title\": \"My dataspace dataset\",\n",
    "}\n",
    "response = requests.request(\"POST\", url, headers=json_header, data=json.dumps(payload))\n",
    "response_as_json = response.json()\n",
    "dataset_id = response_as_json[\"@id\"]\n",
    "dataset_id"
   ],
   "id": "7baa8c98c1636e0e",
   "outputs": [
    {
     "data": {
      "text/plain": [
       "'urn:uuid:6b76f826-7804-4dbf-82f4-25a8d926a3ce'"
      ]
     },
     "execution_count": 319,
     "metadata": {},
     "output_type": "execute_result"
    }
   ],
   "execution_count": 319
  },
  {
   "metadata": {
    "ExecuteTime": {
     "end_time": "2025-06-18T22:35:19.176944Z",
     "start_time": "2025-06-18T22:35:19.149166Z"
    }
   },
   "cell_type": "code",
   "source": [
    "url = data_space_provider + \"/api/v1/catalogs/{}/data-services\".format(catalog_id)\n",
    "payload = {\n",
    "    \"dcat:endpointURL\": api_endpoint\n",
    "}\n",
    "response = requests.request(\"POST\", url, headers=json_header, data=json.dumps(payload))\n",
    "response_as_json = response.json()\n",
    "data_service_id = response_as_json[\"@id\"]\n",
    "data_service_id"
   ],
   "id": "da71f544b74fee9e",
   "outputs": [
    {
     "data": {
      "text/plain": [
       "'urn:uuid:4ad62351-9cfc-4841-8d3f-8c7dcacf77ca'"
      ]
     },
     "execution_count": 320,
     "metadata": {},
     "output_type": "execute_result"
    }
   ],
   "execution_count": 320
  },
  {
   "metadata": {
    "ExecuteTime": {
     "end_time": "2025-06-18T22:35:19.221237Z",
     "start_time": "2025-06-18T22:35:19.189227Z"
    }
   },
   "cell_type": "code",
   "source": [
    "url = data_space_provider + \"/api/v1/catalogs/{}/datasets/{}/distributions\".format(catalog_id, dataset_id)\n",
    "payload = {\n",
    "    \"dcat:accessService\": data_service_id,\n",
    "    \"dct:formats\": \"http+pull\"\n",
    "}\n",
    "response = requests.request(\"POST\", url, headers=json_header, data=json.dumps(payload))\n",
    "response_as_json = response.json()\n",
    "distribution_id = response_as_json[\"@id\"]\n",
    "distribution_id"
   ],
   "id": "e3d0ae29abb601f1",
   "outputs": [
    {
     "data": {
      "text/plain": [
       "'urn:uuid:ea660dc9-17d3-464b-ad96-ad40c37565c9'"
      ]
     },
     "execution_count": 321,
     "metadata": {},
     "output_type": "execute_result"
    }
   ],
   "execution_count": 321
  },
  {
   "metadata": {},
   "cell_type": "markdown",
   "source": "## Create policies",
   "id": "bcb61aba09d7f894"
  },
  {
   "metadata": {
    "ExecuteTime": {
     "end_time": "2025-06-18T22:35:19.250846Z",
     "start_time": "2025-06-18T22:35:19.227326Z"
    }
   },
   "cell_type": "code",
   "source": [
    "url = data_space_provider + \"/api/v1/datasets/{}/policies\".format(dataset_id)\n",
    "payload = {\n",
    "    \"permission\": [\n",
    "        {\n",
    "            \"action\": \"use\",\n",
    "            \"constraint\": [\n",
    "                {\n",
    "                    \"rightOperand\": \"user\",\n",
    "                    \"leftOperand\": \"did:web:hola.es\",\n",
    "                    \"operator\": \"eq\"\n",
    "                }\n",
    "            ]\n",
    "        }\n",
    "\n",
    "    ],\n",
    "    \"obligation\": [],\n",
    "    \"prohibition\": []\n",
    "}\n",
    "response = requests.request(\"POST\", url, headers=json_header, data=json.dumps(payload))\n",
    "response_as_json = response.json()\n",
    "policy_id = response_as_json[\"@id\"]\n",
    "target_id = response_as_json[\"target\"]\n",
    "print(json.dumps(response_as_json, indent=4))"
   ],
   "id": "3e20aede0a523dd4",
   "outputs": [
    {
     "name": "stdout",
     "output_type": "stream",
     "text": [
      "{\n",
      "    \"@id\": \"urn:uuid:8c89eac6-e253-4719-87aa-8266c115d48d\",\n",
      "    \"permission\": [\n",
      "        {\n",
      "            \"action\": \"use\",\n",
      "            \"constraint\": [\n",
      "                {\n",
      "                    \"rightOperand\": \"user\",\n",
      "                    \"leftOperand\": \"did:web:hola.es\",\n",
      "                    \"operator\": \"eq\"\n",
      "                }\n",
      "            ]\n",
      "        }\n",
      "    ],\n",
      "    \"obligation\": [],\n",
      "    \"@type\": \"Offer\",\n",
      "    \"prohibition\": [],\n",
      "    \"target\": \"urn:uuid:6b76f826-7804-4dbf-82f4-25a8d926a3ce\"\n",
      "}\n"
     ]
    }
   ],
   "execution_count": 322
  },
  {
   "metadata": {
    "ExecuteTime": {
     "end_time": "2025-06-18T22:35:19.259434Z",
     "start_time": "2025-06-18T22:35:19.258062Z"
    }
   },
   "cell_type": "code",
   "source": "",
   "id": "ef5d5dcf111bfd6f",
   "outputs": [],
   "execution_count": null
  },
  {
   "metadata": {},
   "cell_type": "markdown",
   "source": "## Contract Negotiation",
   "id": "438aaeed57dce757"
  },
  {
   "metadata": {
    "ExecuteTime": {
     "end_time": "2025-06-18T22:35:19.650286Z",
     "start_time": "2025-06-18T22:35:19.326045Z"
    }
   },
   "cell_type": "code",
   "source": [
    "url = data_space_consumer + \"/api/v1/negotiations/rpc/setup-request\"\n",
    "payload = {\n",
    "    \"providerParticipantId\": data_space_provider_participant_id,\n",
    "    \"offer\": {\n",
    "        \"@id\": policy_id,    # policy id\n",
    "        \"target\": target_id, # data id\n",
    "        \"@type\": \"Offer\",\n",
    "        \"permission\": [\n",
    "            {\n",
    "                \"action\": \"use\"\n",
    "\n",
    "            }\n",
    "        ]\n",
    "    }\n",
    "}\n",
    "response = requests.request(\"POST\", url, headers=json_header, data=json.dumps(payload))\n",
    "response_as_json = response.json()\n",
    "cn_consumer_id = response_as_json[\"consumerPid\"]\n",
    "cn_provider_id = response_as_json[\"providerPid\"]\n",
    "print(json.dumps(response_as_json, indent=2))"
   ],
   "id": "8c2d2e2304b50ace",
   "outputs": [
    {
     "name": "stdout",
     "output_type": "stream",
     "text": [
      "{\n",
      "  \"consumerPid\": \"urn:uuid:84d131f1-271d-445d-ae25-9c93fa572a56\",\n",
      "  \"providerPid\": \"urn:uuid:2d7d1544-1bab-4cf2-a6af-ad93a1ddd0dc\",\n",
      "  \"offer\": {\n",
      "    \"@id\": \"urn:uuid:8c89eac6-e253-4719-87aa-8266c115d48d\",\n",
      "    \"permission\": [\n",
      "      {\n",
      "        \"action\": \"use\"\n",
      "      }\n",
      "    ],\n",
      "    \"@type\": \"Offer\",\n",
      "    \"target\": \"urn:uuid:6b76f826-7804-4dbf-82f4-25a8d926a3ce\"\n",
      "  },\n",
      "  \"message\": {\n",
      "    \"@context\": [\n",
      "      \"https://w3id.org/dspace/2025/1/context.jsonld\"\n",
      "    ],\n",
      "    \"@type\": \"ContractNegotiation\",\n",
      "    \"providerPid\": \"urn:uuid:2d7d1544-1bab-4cf2-a6af-ad93a1ddd0dc\",\n",
      "    \"consumerPid\": \"urn:uuid:84d131f1-271d-445d-ae25-9c93fa572a56\",\n",
      "    \"state\": \"REQUESTED\"\n",
      "  }\n",
      "}\n"
     ]
    }
   ],
   "execution_count": 323
  },
  {
   "metadata": {
    "ExecuteTime": {
     "end_time": "2025-06-18T22:35:19.756920Z",
     "start_time": "2025-06-18T22:35:19.653895Z"
    }
   },
   "cell_type": "code",
   "source": [
    "url = data_space_provider + \"/api/v1/negotiations/rpc/setup-offer\"\n",
    "payload = {\n",
    "    \"consumerParticipantId\": data_space_consumer_participant_id,\n",
    "    \"consumerPid\": cn_consumer_id, # remove to test offer from provider\n",
    "    \"providerPid\": cn_provider_id, # remove to test offer from provider\n",
    "    \"offer\": {\n",
    "        \"@id\": policy_id,\n",
    "        \"target\": target_id,\n",
    "        \"@type\": \"Offer\",\n",
    "        \"permission\": [\n",
    "            {\n",
    "                \"action\": \"supermegause\"\n",
    "            }\n",
    "        ]\n",
    "    }\n",
    "}\n",
    "response = requests.request(\"POST\", url, headers=json_header, data=json.dumps(payload))\n",
    "response_as_json = response.json()\n",
    "print(json.dumps(response_as_json, indent=2))"
   ],
   "id": "b6ca342e690f05de",
   "outputs": [
    {
     "name": "stdout",
     "output_type": "stream",
     "text": [
      "{\n",
      "  \"consumerParticipantId\": \"urn:uuid:6a1f9cab-f594-4f42-8891-ccf611c74513\",\n",
      "  \"consumerPid\": \"urn:uuid:84d131f1-271d-445d-ae25-9c93fa572a56\",\n",
      "  \"providerPid\": \"urn:uuid:2d7d1544-1bab-4cf2-a6af-ad93a1ddd0dc\",\n",
      "  \"offer\": {\n",
      "    \"@id\": \"urn:uuid:8c89eac6-e253-4719-87aa-8266c115d48d\",\n",
      "    \"permission\": [\n",
      "      {\n",
      "        \"action\": \"supermegause\"\n",
      "      }\n",
      "    ],\n",
      "    \"@type\": \"Offer\",\n",
      "    \"target\": \"urn:uuid:6b76f826-7804-4dbf-82f4-25a8d926a3ce\"\n",
      "  },\n",
      "  \"message\": {\n",
      "    \"@context\": [\n",
      "      \"https://w3id.org/dspace/2025/1/context.jsonld\"\n",
      "    ],\n",
      "    \"@type\": \"ContractNegotiation\",\n",
      "    \"providerPid\": \"urn:uuid:2d7d1544-1bab-4cf2-a6af-ad93a1ddd0dc\",\n",
      "    \"consumerPid\": \"urn:uuid:84d131f1-271d-445d-ae25-9c93fa572a56\",\n",
      "    \"state\": \"OFFERED\"\n",
      "  }\n",
      "}\n"
     ]
    }
   ],
   "execution_count": 324
  },
  {
   "metadata": {
    "ExecuteTime": {
     "end_time": "2025-06-18T22:35:19.843887Z",
     "start_time": "2025-06-18T22:35:19.770588Z"
    }
   },
   "cell_type": "code",
   "source": [
    "url = data_space_consumer + \"/api/v1/negotiations/rpc/setup-request\"\n",
    "payload = {\n",
    "    \"providerParticipantId\": data_space_provider_participant_id,\n",
    "    \"consumerPid\": cn_consumer_id,\n",
    "    \"providerPid\": cn_provider_id,\n",
    "    \"offer\": {\n",
    "        \"@id\": policy_id,    # policy id\n",
    "        \"target\": target_id, # data id\n",
    "        \"@type\": \"Offer\",\n",
    "        \"permission\": [\n",
    "            {\n",
    "                \"action\": \"use\"\n",
    "\n",
    "            }\n",
    "        ]\n",
    "    }\n",
    "}\n",
    "response = requests.request(\"POST\", url, headers=json_header, data=json.dumps(payload))\n",
    "response_as_json = response.json()\n",
    "cn_consumer_id = response_as_json[\"consumerPid\"]\n",
    "cn_provider_id = response_as_json[\"providerPid\"]\n",
    "print(json.dumps(response_as_json, indent=2))"
   ],
   "id": "7ac89fa87c4165cf",
   "outputs": [
    {
     "name": "stdout",
     "output_type": "stream",
     "text": [
      "{\n",
      "  \"consumerPid\": \"urn:uuid:84d131f1-271d-445d-ae25-9c93fa572a56\",\n",
      "  \"providerPid\": \"urn:uuid:2d7d1544-1bab-4cf2-a6af-ad93a1ddd0dc\",\n",
      "  \"offer\": {\n",
      "    \"@id\": \"urn:uuid:8c89eac6-e253-4719-87aa-8266c115d48d\",\n",
      "    \"permission\": [\n",
      "      {\n",
      "        \"action\": \"use\"\n",
      "      }\n",
      "    ],\n",
      "    \"@type\": \"Offer\",\n",
      "    \"target\": \"urn:uuid:6b76f826-7804-4dbf-82f4-25a8d926a3ce\"\n",
      "  },\n",
      "  \"message\": {\n",
      "    \"@context\": [\n",
      "      \"https://w3id.org/dspace/2025/1/context.jsonld\"\n",
      "    ],\n",
      "    \"@type\": \"ContractNegotiation\",\n",
      "    \"providerPid\": \"urn:uuid:2d7d1544-1bab-4cf2-a6af-ad93a1ddd0dc\",\n",
      "    \"consumerPid\": \"urn:uuid:84d131f1-271d-445d-ae25-9c93fa572a56\",\n",
      "    \"state\": \"REQUESTED\"\n",
      "  }\n",
      "}\n"
     ]
    }
   ],
   "execution_count": 325
  },
  {
   "metadata": {
    "ExecuteTime": {
     "end_time": "2025-06-18T22:35:19.925796Z",
     "start_time": "2025-06-18T22:35:19.850454Z"
    }
   },
   "cell_type": "code",
   "source": [
    "url = data_space_provider + \"/api/v1/negotiations/rpc/setup-offer\"\n",
    "payload = {\n",
    "    \"consumerParticipantId\": data_space_consumer_participant_id,\n",
    "    \"consumerPid\": cn_consumer_id,\n",
    "    \"providerPid\": cn_provider_id,\n",
    "    \"offer\": {\n",
    "        \"@id\": policy_id,\n",
    "        \"target\": target_id,\n",
    "        \"@type\": \"Offer\",\n",
    "        \"permission\": [\n",
    "            {\n",
    "                \"action\": \"supermegause\"\n",
    "            }\n",
    "        ]\n",
    "    }\n",
    "}\n",
    "response = requests.request(\"POST\", url, headers=json_header, data=json.dumps(payload))\n",
    "response_as_json = response.json()\n",
    "print(json.dumps(response_as_json, indent=2))"
   ],
   "id": "2cd0744d51abe4b5",
   "outputs": [
    {
     "name": "stdout",
     "output_type": "stream",
     "text": [
      "{\n",
      "  \"consumerParticipantId\": \"urn:uuid:6a1f9cab-f594-4f42-8891-ccf611c74513\",\n",
      "  \"consumerPid\": \"urn:uuid:84d131f1-271d-445d-ae25-9c93fa572a56\",\n",
      "  \"providerPid\": \"urn:uuid:2d7d1544-1bab-4cf2-a6af-ad93a1ddd0dc\",\n",
      "  \"offer\": {\n",
      "    \"@id\": \"urn:uuid:8c89eac6-e253-4719-87aa-8266c115d48d\",\n",
      "    \"permission\": [\n",
      "      {\n",
      "        \"action\": \"supermegause\"\n",
      "      }\n",
      "    ],\n",
      "    \"@type\": \"Offer\",\n",
      "    \"target\": \"urn:uuid:6b76f826-7804-4dbf-82f4-25a8d926a3ce\"\n",
      "  },\n",
      "  \"message\": {\n",
      "    \"@context\": [\n",
      "      \"https://w3id.org/dspace/2025/1/context.jsonld\"\n",
      "    ],\n",
      "    \"@type\": \"ContractNegotiation\",\n",
      "    \"providerPid\": \"urn:uuid:2d7d1544-1bab-4cf2-a6af-ad93a1ddd0dc\",\n",
      "    \"consumerPid\": \"urn:uuid:84d131f1-271d-445d-ae25-9c93fa572a56\",\n",
      "    \"state\": \"OFFERED\"\n",
      "  }\n",
      "}\n"
     ]
    }
   ],
   "execution_count": 326
  },
  {
   "metadata": {
    "ExecuteTime": {
     "end_time": "2025-06-18T22:35:20.023268Z",
     "start_time": "2025-06-18T22:35:19.940358Z"
    }
   },
   "cell_type": "code",
   "source": [
    "url = data_space_consumer + \"/api/v1/negotiations/rpc/setup-acceptance\"\n",
    "payload = {\n",
    "    \"providerParticipantId\": data_space_provider_participant_id,\n",
    "    \"consumerPid\": cn_consumer_id,\n",
    "    \"providerPid\": cn_provider_id\n",
    "}\n",
    "response = requests.request(\"POST\", url, headers=json_header, data=json.dumps(payload))\n",
    "response_as_json = response.json()\n",
    "print(json.dumps(response_as_json, indent=2))"
   ],
   "id": "4feaa2d5afa582d6",
   "outputs": [
    {
     "name": "stdout",
     "output_type": "stream",
     "text": [
      "{\n",
      "  \"consumerPid\": \"urn:uuid:84d131f1-271d-445d-ae25-9c93fa572a56\",\n",
      "  \"providerPid\": \"urn:uuid:2d7d1544-1bab-4cf2-a6af-ad93a1ddd0dc\",\n",
      "  \"message\": {\n",
      "    \"@context\": [\n",
      "      \"https://w3id.org/dspace/2025/1/context.jsonld\"\n",
      "    ],\n",
      "    \"@type\": \"ContractNegotiation\",\n",
      "    \"providerPid\": \"urn:uuid:2d7d1544-1bab-4cf2-a6af-ad93a1ddd0dc\",\n",
      "    \"consumerPid\": \"urn:uuid:84d131f1-271d-445d-ae25-9c93fa572a56\",\n",
      "    \"state\": \"ACCEPTED\"\n",
      "  }\n",
      "}\n"
     ]
    }
   ],
   "execution_count": 327
  },
  {
   "metadata": {
    "ExecuteTime": {
     "end_time": "2025-06-18T22:35:20.183402Z",
     "start_time": "2025-06-18T22:35:20.027982Z"
    }
   },
   "cell_type": "code",
   "source": [
    "url = data_space_provider + \"/api/v1/negotiations/rpc/setup-agreement\"\n",
    "payload = {\n",
    "    \"consumerParticipantId\": data_space_consumer_participant_id,\n",
    "    \"consumerPid\": cn_consumer_id,\n",
    "    \"providerPid\": cn_provider_id\n",
    "}\n",
    "response = requests.request(\"POST\", url, headers=json_header, data=json.dumps(payload))\n",
    "response_as_json = response.json()\n",
    "agreement_id=response_as_json[\"agreement\"][\"@id\"]\n",
    "print(json.dumps(response_as_json, indent=2))"
   ],
   "id": "84609238c0d3e043",
   "outputs": [
    {
     "name": "stdout",
     "output_type": "stream",
     "text": [
      "{\n",
      "  \"consumerPid\": \"urn:uuid:84d131f1-271d-445d-ae25-9c93fa572a56\",\n",
      "  \"providerPid\": \"urn:uuid:2d7d1544-1bab-4cf2-a6af-ad93a1ddd0dc\",\n",
      "  \"agreement\": {\n",
      "    \"@id\": \"urn:uuid:18ae965a-1931-41da-9732-dee1bcde450a\",\n",
      "    \"permission\": [\n",
      "      {\n",
      "        \"action\": \"supermegause\"\n",
      "      }\n",
      "    ],\n",
      "    \"@type\": \"Agreement\",\n",
      "    \"target\": \"urn:uuid:6b76f826-7804-4dbf-82f4-25a8d926a3ce\",\n",
      "    \"assigner\": \"urn:uuid:2436e82a-f658-49f0-a979-684e4c054f6d\",\n",
      "    \"assignee\": \"urn:uuid:6a1f9cab-f594-4f42-8891-ccf611c74513\",\n",
      "    \"timestamp\": \"2025-06-18T22:35:20.063015+00:00\"\n",
      "  },\n",
      "  \"message\": {\n",
      "    \"@context\": [\n",
      "      \"https://w3id.org/dspace/2025/1/context.jsonld\"\n",
      "    ],\n",
      "    \"@type\": \"ContractNegotiation\",\n",
      "    \"providerPid\": \"urn:uuid:2d7d1544-1bab-4cf2-a6af-ad93a1ddd0dc\",\n",
      "    \"consumerPid\": \"urn:uuid:84d131f1-271d-445d-ae25-9c93fa572a56\",\n",
      "    \"state\": \"AGREED\"\n",
      "  }\n",
      "}\n"
     ]
    }
   ],
   "execution_count": 328
  },
  {
   "metadata": {
    "ExecuteTime": {
     "end_time": "2025-06-18T22:35:20.312225Z",
     "start_time": "2025-06-18T22:35:20.190733Z"
    }
   },
   "cell_type": "code",
   "source": [
    "url = data_space_consumer + \"/api/v1/negotiations/rpc/setup-verification\"\n",
    "payload = {\n",
    "    \"providerParticipantId\": data_space_provider_participant_id,\n",
    "    \"consumerPid\": cn_consumer_id,\n",
    "    \"providerPid\": cn_provider_id,\n",
    "}\n",
    "response = requests.request(\"POST\", url, headers=json_header, data=json.dumps(payload))\n",
    "response_as_json = response.json()\n",
    "print(json.dumps(response_as_json, indent=2))"
   ],
   "id": "8840cdbc4f7c5a99",
   "outputs": [
    {
     "name": "stdout",
     "output_type": "stream",
     "text": [
      "{\n",
      "  \"consumerPid\": \"urn:uuid:84d131f1-271d-445d-ae25-9c93fa572a56\",\n",
      "  \"providerPid\": \"urn:uuid:2d7d1544-1bab-4cf2-a6af-ad93a1ddd0dc\",\n",
      "  \"message\": {\n",
      "    \"@context\": [\n",
      "      \"https://w3id.org/dspace/2025/1/context.jsonld\"\n",
      "    ],\n",
      "    \"@type\": \"ContractNegotiation\",\n",
      "    \"providerPid\": \"urn:uuid:2d7d1544-1bab-4cf2-a6af-ad93a1ddd0dc\",\n",
      "    \"consumerPid\": \"urn:uuid:84d131f1-271d-445d-ae25-9c93fa572a56\",\n",
      "    \"state\": \"VERIFIED\"\n",
      "  }\n",
      "}\n"
     ]
    }
   ],
   "execution_count": 329
  },
  {
   "metadata": {
    "ExecuteTime": {
     "end_time": "2025-06-18T22:35:20.411426Z",
     "start_time": "2025-06-18T22:35:20.325256Z"
    }
   },
   "cell_type": "code",
   "source": [
    "url = data_space_provider + \"/api/v1/negotiations/rpc/setup-finalization\"\n",
    "payload = {\n",
    "    \"consumerParticipantId\": data_space_consumer_participant_id,\n",
    "    \"consumerPid\": cn_consumer_id,\n",
    "    \"providerPid\": cn_provider_id,\n",
    "}\n",
    "response = requests.request(\"POST\", url, headers=json_header, data=json.dumps(payload))\n",
    "response_as_json = response.json()\n",
    "print(json.dumps(response_as_json, indent=2))"
   ],
   "id": "fddd19bf8f2b05d9",
   "outputs": [
    {
     "name": "stdout",
     "output_type": "stream",
     "text": [
      "{\n",
      "  \"consumerPid\": \"urn:uuid:84d131f1-271d-445d-ae25-9c93fa572a56\",\n",
      "  \"providerPid\": \"urn:uuid:2d7d1544-1bab-4cf2-a6af-ad93a1ddd0dc\",\n",
      "  \"message\": {\n",
      "    \"@context\": [\n",
      "      \"https://w3id.org/dspace/2025/1/context.jsonld\"\n",
      "    ],\n",
      "    \"@type\": \"ContractNegotiation\",\n",
      "    \"providerPid\": \"urn:uuid:2d7d1544-1bab-4cf2-a6af-ad93a1ddd0dc\",\n",
      "    \"consumerPid\": \"urn:uuid:84d131f1-271d-445d-ae25-9c93fa572a56\",\n",
      "    \"state\": \"FINALIZED\"\n",
      "  }\n",
      "}\n"
     ]
    }
   ],
   "execution_count": 330
  },
  {
   "metadata": {},
   "cell_type": "markdown",
   "source": "## Transfer Negotiation\n",
   "id": "f8a6b52b3af734ba"
  },
  {
   "metadata": {
    "ExecuteTime": {
     "end_time": "2025-06-18T22:35:20.743219Z",
     "start_time": "2025-06-18T22:35:20.424673Z"
    }
   },
   "cell_type": "code",
   "source": [
    "url = data_space_consumer + \"/api/v1/transfers/rpc/setup-request\"\n",
    "payload = {\n",
    "    \"providerParticipantId\": data_space_provider_participant_id,\n",
    "    \"agreementId\": agreement_id,\n",
    "    \"format\": \"http+pull\"\n",
    "}\n",
    "response = requests.request(\"POST\", url, headers=json_header, data=json.dumps(payload))\n",
    "response_as_json = response.json()\n",
    "transfer_consumer_id = response_as_json[\"consumerPid\"]\n",
    "transfer_provider_id = response_as_json[\"providerPid\"]\n",
    "callback_address = response_as_json[\"callbackAddress\"]\n",
    "print(json.dumps(response_as_json, indent=2))"
   ],
   "id": "c359ed2305c94f27",
   "outputs": [
    {
     "name": "stdout",
     "output_type": "stream",
     "text": [
      "{\n",
      "  \"providerPid\": \"urn:uuid:590cb615-954b-4e2a-967c-ed8f162d60f1\",\n",
      "  \"consumerPid\": \"urn:uuid:b3324461-ae16-42b8-a3e5-cdeeedb4528f\",\n",
      "  \"agreementId\": \"urn:uuid:18ae965a-1931-41da-9732-dee1bcde450a\",\n",
      "  \"callbackAddress\": \"http://127.0.0.1:1100/urn:uuid:8c80609f-d0e6-48c7-84ca-f9afd91e0057\",\n",
      "  \"format\": \"http+pull\",\n",
      "  \"message\": {\n",
      "    \"@context\": [\n",
      "      \"https://w3id.org/dspace/2025/1/context.jsonld\"\n",
      "    ],\n",
      "    \"@type\": \"TransferProcess\",\n",
      "    \"providerPid\": \"urn:uuid:590cb615-954b-4e2a-967c-ed8f162d60f1\",\n",
      "    \"consumerPid\": \"urn:uuid:b3324461-ae16-42b8-a3e5-cdeeedb4528f\",\n",
      "    \"state\": \"REQUESTED\"\n",
      "  }\n",
      "}\n"
     ]
    }
   ],
   "execution_count": 331
  },
  {
   "metadata": {
    "ExecuteTime": {
     "end_time": "2025-06-18T22:35:20.969103Z",
     "start_time": "2025-06-18T22:35:20.753271Z"
    }
   },
   "cell_type": "code",
   "source": [
    "url = data_space_provider + \"/api/v1/transfers/rpc/setup-start\"\n",
    "payload = {\n",
    "    \"consumerParticipantId\": data_space_consumer_participant_id,\n",
    "    \"consumerCallbackAddress\": callback_address,\n",
    "    \"providerPid\": transfer_provider_id,\n",
    "    \"consumerPid\": transfer_consumer_id\n",
    "}\n",
    "response = requests.request(\"POST\", url, headers=json_header, data=json.dumps(payload))\n",
    "response_as_json = response.json()\n",
    "\n",
    "print(json.dumps(response_as_json, indent=2))"
   ],
   "id": "d905936906de088c",
   "outputs": [
    {
     "name": "stdout",
     "output_type": "stream",
     "text": [
      "{\n",
      "  \"providerPid\": \"urn:uuid:590cb615-954b-4e2a-967c-ed8f162d60f1\",\n",
      "  \"consumerPid\": \"urn:uuid:b3324461-ae16-42b8-a3e5-cdeeedb4528f\",\n",
      "  \"dataAddress\": {\n",
      "    \"@type\": \"DataAddress\",\n",
      "    \"endpointType\": \"http\",\n",
      "    \"endpoint\": \"http://127.0.0.1:1200/data/urn:uuid:590cb615-954b-4e2a-967c-ed8f162d60f1\",\n",
      "    \"endpointProperties\": [\n",
      "      {\n",
      "        \"@type\": \"EndpointProperty\",\n",
      "        \"name\": \"authType\",\n",
      "        \"value\": \"\"\n",
      "      },\n",
      "      {\n",
      "        \"@type\": \"EndpointProperty\",\n",
      "        \"name\": \"authorization\",\n",
      "        \"value\": \"\"\n",
      "      }\n",
      "    ]\n",
      "  },\n",
      "  \"message\": {\n",
      "    \"@context\": [\n",
      "      \"https://w3id.org/dspace/2025/1/context.jsonld\"\n",
      "    ],\n",
      "    \"@type\": \"TransferProcess\",\n",
      "    \"providerPid\": \"urn:uuid:590cb615-954b-4e2a-967c-ed8f162d60f1\",\n",
      "    \"consumerPid\": \"urn:uuid:b3324461-ae16-42b8-a3e5-cdeeedb4528f\",\n",
      "    \"state\": \"STARTED\"\n",
      "  }\n",
      "}\n"
     ]
    }
   ],
   "execution_count": 332
  },
  {
   "metadata": {
    "ExecuteTime": {
     "end_time": "2025-06-18T22:35:20.987909Z",
     "start_time": "2025-06-18T22:35:20.973696Z"
    }
   },
   "cell_type": "code",
   "source": [
    "url = data_space_consumer + \"/api/v1/dataplane/\" + transfer_consumer_id\n",
    "response = requests.request(\"GET\", url, headers=json_header)\n",
    "response_as_json = response.json()\n",
    "consumer_data_address = response_as_json[\"process_address\"][\"url\"]\n",
    "print(json.dumps(response_as_json, indent=2))"
   ],
   "id": "45bb48df83adbb24",
   "outputs": [
    {
     "name": "stdout",
     "output_type": "stream",
     "text": [
      "{\n",
      "  \"id\": \"urn:uuid:b3324461-ae16-42b8-a3e5-cdeeedb4528f\",\n",
      "  \"process_direction\": \"PULL\",\n",
      "  \"upstream_hop\": {\n",
      "    \"protocol\": \"\",\n",
      "    \"url\": \"\",\n",
      "    \"auth_type\": \"\",\n",
      "    \"auth_content\": \"\"\n",
      "  },\n",
      "  \"downstream_hop\": {\n",
      "    \"protocol\": \"\",\n",
      "    \"url\": \"\",\n",
      "    \"auth_type\": \"\",\n",
      "    \"auth_content\": \"\"\n",
      "  },\n",
      "  \"process_address\": {\n",
      "    \"protocol\": \"http\",\n",
      "    \"url\": \"http://127.0.0.1:1100/data/urn:uuid:b3324461-ae16-42b8-a3e5-cdeeedb4528f\",\n",
      "    \"auth_type\": \"\",\n",
      "    \"auth_content\": \"\"\n",
      "  },\n",
      "  \"created_at\": \"2025-06-18T22:35:20.829505\",\n",
      "  \"updated_at\": \"2025-06-18T22:35:20.894450\",\n",
      "  \"state\": \"STARTED\"\n",
      "}\n"
     ]
    }
   ],
   "execution_count": 333
  },
  {
   "metadata": {
    "ExecuteTime": {
     "end_time": "2025-06-18T22:35:21.161317Z",
     "start_time": "2025-06-18T22:35:20.999527Z"
    }
   },
   "cell_type": "code",
   "source": [
    "try :\n",
    "    df = pd.read_json(consumer_data_address)\n",
    "    print(df)\n",
    "except HTTPError as e:\n",
    "    print(e)\n"
   ],
   "id": "6e9e83d8150b9676",
   "outputs": [
    {
     "name": "stdout",
     "output_type": "stream",
     "text": [
      "     postId   id                                               name  \\\n",
      "0         1    1                       id labore ex et quam laborum   \n",
      "1         1    2          quo vero reiciendis velit similique earum   \n",
      "2         1    3                      odio adipisci rerum aut animi   \n",
      "3         1    4                                     alias odio sit   \n",
      "4         1    5              vero eaque aliquid doloribus et culpa   \n",
      "..      ...  ...                                                ...   \n",
      "495     100  496  et occaecati asperiores quas voluptas ipsam no...   \n",
      "496     100  497             doloribus dolores ut dolores occaecati   \n",
      "497     100  498                           dolores minus aut libero   \n",
      "498     100  499  excepturi sunt cum a et rerum quo voluptatibus...   \n",
      "499     100  500                                 ex eaque eum natus   \n",
      "\n",
      "                            email  \\\n",
      "0              Eliseo@gardner.biz   \n",
      "1          Jayne_Kuhic@sydney.com   \n",
      "2             Nikita@garfield.biz   \n",
      "3                   Lew@alysha.tv   \n",
      "4               Hayden@althea.biz   \n",
      "..                            ...   \n",
      "495               Zola@lizzie.com   \n",
      "496             Dolly@mandy.co.uk   \n",
      "497             Davion@eldora.net   \n",
      "498  Wilburn_Labadie@araceli.name   \n",
      "499                Emma@joanny.ca   \n",
      "\n",
      "                                                  body  \n",
      "0    laudantium enim quasi est quidem magnam volupt...  \n",
      "1    est natus enim nihil est dolore omnis voluptat...  \n",
      "2    quia molestiae reprehenderit quasi aspernatur\\...  \n",
      "3    non et atque\\noccaecati deserunt quas accusant...  \n",
      "4    harum non quasi et ratione\\ntempore iure ex vo...  \n",
      "..                                                 ...  \n",
      "495  neque unde voluptatem iure\\nodio excepturi ips...  \n",
      "496  non dolor consequatur\\nlaboriosam ut deserunt ...  \n",
      "497  aliquam pariatur suscipit fugiat eos sunt\\nopt...  \n",
      "498  et necessitatibus tempora ipsum quaerat invent...  \n",
      "499  perspiciatis quis doloremque\\nveniam nisi eos ...  \n",
      "\n",
      "[500 rows x 5 columns]\n"
     ]
    }
   ],
   "execution_count": 334
  },
  {
   "metadata": {
    "ExecuteTime": {
     "end_time": "2025-06-18T22:35:21.323235Z",
     "start_time": "2025-06-18T22:35:21.176121Z"
    }
   },
   "cell_type": "code",
   "source": [
    "url = data_space_consumer + \"/api/v1/transfers/rpc/setup-suspension\"\n",
    "payload = {\n",
    "    \"providerParticipantId\": data_space_provider_participant_id,\n",
    "    \"providerPid\": transfer_provider_id,\n",
    "    \"consumerPid\": transfer_consumer_id,\n",
    "}\n",
    "response = requests.request(\"POST\", url, headers=json_header, data=json.dumps(payload))\n",
    "response_as_json = response.json()\n",
    "print(json.dumps(response_as_json, indent=2))"
   ],
   "id": "ed4a0bc53ceec45f",
   "outputs": [
    {
     "name": "stdout",
     "output_type": "stream",
     "text": [
      "{\n",
      "  \"providerPid\": \"urn:uuid:590cb615-954b-4e2a-967c-ed8f162d60f1\",\n",
      "  \"consumerPid\": \"urn:uuid:b3324461-ae16-42b8-a3e5-cdeeedb4528f\",\n",
      "  \"message\": {\n",
      "    \"@context\": [\n",
      "      \"https://w3id.org/dspace/2025/1/context.jsonld\"\n",
      "    ],\n",
      "    \"@type\": \"TransferProcess\",\n",
      "    \"providerPid\": \"urn:uuid:590cb615-954b-4e2a-967c-ed8f162d60f1\",\n",
      "    \"consumerPid\": \"urn:uuid:b3324461-ae16-42b8-a3e5-cdeeedb4528f\",\n",
      "    \"state\": \"SUSPENDED\"\n",
      "  }\n",
      "}\n"
     ]
    }
   ],
   "execution_count": 335
  },
  {
   "metadata": {
    "ExecuteTime": {
     "end_time": "2025-06-18T22:35:21.351538Z",
     "start_time": "2025-06-18T22:35:21.334879Z"
    }
   },
   "cell_type": "code",
   "source": [
    "try :\n",
    "    df = pd.read_json(consumer_data_address)\n",
    "    print(df)\n",
    "except HTTPError as e:\n",
    "    print(e)"
   ],
   "id": "fec52d4ca1de9ff7",
   "outputs": [
    {
     "name": "stdout",
     "output_type": "stream",
     "text": [
      "HTTP Error 403: Forbidden\n"
     ]
    }
   ],
   "execution_count": 336
  },
  {
   "metadata": {
    "ExecuteTime": {
     "end_time": "2025-06-18T22:35:21.525821Z",
     "start_time": "2025-06-18T22:35:21.365706Z"
    }
   },
   "cell_type": "code",
   "source": [
    "url = data_space_consumer + \"/api/v1/transfers/rpc/setup-start\"\n",
    "payload = {\n",
    "    \"providerParticipantId\": data_space_provider_participant_id,\n",
    "    \"providerPid\": transfer_provider_id,\n",
    "    \"consumerPid\": transfer_consumer_id,\n",
    "}\n",
    "response = requests.request(\"POST\", url, headers=json_header, data=json.dumps(payload))\n",
    "response_as_json = response.json()\n",
    "print(json.dumps(response_as_json, indent=2))"
   ],
   "id": "4b0a3076674ace5f",
   "outputs": [
    {
     "name": "stdout",
     "output_type": "stream",
     "text": [
      "{\n",
      "  \"providerPid\": \"urn:uuid:590cb615-954b-4e2a-967c-ed8f162d60f1\",\n",
      "  \"consumerPid\": \"urn:uuid:b3324461-ae16-42b8-a3e5-cdeeedb4528f\",\n",
      "  \"message\": {\n",
      "    \"@context\": [\n",
      "      \"https://w3id.org/dspace/2025/1/context.jsonld\"\n",
      "    ],\n",
      "    \"@type\": \"TransferProcess\",\n",
      "    \"providerPid\": \"urn:uuid:590cb615-954b-4e2a-967c-ed8f162d60f1\",\n",
      "    \"consumerPid\": \"urn:uuid:b3324461-ae16-42b8-a3e5-cdeeedb4528f\",\n",
      "    \"state\": \"STARTED\"\n",
      "  }\n",
      "}\n"
     ]
    }
   ],
   "execution_count": 337
  },
  {
   "metadata": {
    "ExecuteTime": {
     "end_time": "2025-06-18T22:35:21.610929Z",
     "start_time": "2025-06-18T22:35:21.559110Z"
    }
   },
   "cell_type": "code",
   "source": [
    "try :\n",
    "    df = pd.read_json(consumer_data_address)\n",
    "    print(df)\n",
    "except HTTPError as e:\n",
    "    print(e)"
   ],
   "id": "49197782572c3e99",
   "outputs": [
    {
     "name": "stdout",
     "output_type": "stream",
     "text": [
      "     postId   id                                               name  \\\n",
      "0         1    1                       id labore ex et quam laborum   \n",
      "1         1    2          quo vero reiciendis velit similique earum   \n",
      "2         1    3                      odio adipisci rerum aut animi   \n",
      "3         1    4                                     alias odio sit   \n",
      "4         1    5              vero eaque aliquid doloribus et culpa   \n",
      "..      ...  ...                                                ...   \n",
      "495     100  496  et occaecati asperiores quas voluptas ipsam no...   \n",
      "496     100  497             doloribus dolores ut dolores occaecati   \n",
      "497     100  498                           dolores minus aut libero   \n",
      "498     100  499  excepturi sunt cum a et rerum quo voluptatibus...   \n",
      "499     100  500                                 ex eaque eum natus   \n",
      "\n",
      "                            email  \\\n",
      "0              Eliseo@gardner.biz   \n",
      "1          Jayne_Kuhic@sydney.com   \n",
      "2             Nikita@garfield.biz   \n",
      "3                   Lew@alysha.tv   \n",
      "4               Hayden@althea.biz   \n",
      "..                            ...   \n",
      "495               Zola@lizzie.com   \n",
      "496             Dolly@mandy.co.uk   \n",
      "497             Davion@eldora.net   \n",
      "498  Wilburn_Labadie@araceli.name   \n",
      "499                Emma@joanny.ca   \n",
      "\n",
      "                                                  body  \n",
      "0    laudantium enim quasi est quidem magnam volupt...  \n",
      "1    est natus enim nihil est dolore omnis voluptat...  \n",
      "2    quia molestiae reprehenderit quasi aspernatur\\...  \n",
      "3    non et atque\\noccaecati deserunt quas accusant...  \n",
      "4    harum non quasi et ratione\\ntempore iure ex vo...  \n",
      "..                                                 ...  \n",
      "495  neque unde voluptatem iure\\nodio excepturi ips...  \n",
      "496  non dolor consequatur\\nlaboriosam ut deserunt ...  \n",
      "497  aliquam pariatur suscipit fugiat eos sunt\\nopt...  \n",
      "498  et necessitatibus tempora ipsum quaerat invent...  \n",
      "499  perspiciatis quis doloremque\\nveniam nisi eos ...  \n",
      "\n",
      "[500 rows x 5 columns]\n"
     ]
    }
   ],
   "execution_count": 338
  },
  {
   "metadata": {
    "ExecuteTime": {
     "end_time": "2025-06-18T22:35:21.746518Z",
     "start_time": "2025-06-18T22:35:21.623838Z"
    }
   },
   "cell_type": "code",
   "source": [
    "url = data_space_provider + \"/api/v1/transfers/rpc/setup-suspension\"\n",
    "payload = {\n",
    "    \"consumerParticipantId\": data_space_consumer_participant_id,\n",
    "    \"consumerCallbackAddress\": callback_address,\n",
    "    \"providerPid\": transfer_provider_id,\n",
    "    \"consumerPid\": transfer_consumer_id,\n",
    "}\n",
    "response = requests.request(\"POST\", url, headers=json_header, data=json.dumps(payload))\n",
    "response_as_json = response.json()\n",
    "print(json.dumps(response_as_json, indent=2))"
   ],
   "id": "b1ec9698272484c3",
   "outputs": [
    {
     "name": "stdout",
     "output_type": "stream",
     "text": [
      "{\n",
      "  \"providerPid\": \"urn:uuid:590cb615-954b-4e2a-967c-ed8f162d60f1\",\n",
      "  \"consumerPid\": \"urn:uuid:b3324461-ae16-42b8-a3e5-cdeeedb4528f\",\n",
      "  \"message\": {\n",
      "    \"@context\": [\n",
      "      \"https://w3id.org/dspace/2025/1/context.jsonld\"\n",
      "    ],\n",
      "    \"@type\": \"TransferProcess\",\n",
      "    \"providerPid\": \"urn:uuid:590cb615-954b-4e2a-967c-ed8f162d60f1\",\n",
      "    \"consumerPid\": \"urn:uuid:b3324461-ae16-42b8-a3e5-cdeeedb4528f\",\n",
      "    \"state\": \"SUSPENDED\"\n",
      "  }\n",
      "}\n"
     ]
    }
   ],
   "execution_count": 339
  },
  {
   "metadata": {
    "ExecuteTime": {
     "end_time": "2025-06-18T22:35:21.876681Z",
     "start_time": "2025-06-18T22:35:21.749843Z"
    }
   },
   "cell_type": "code",
   "source": [
    "url = data_space_provider + \"/api/v1/transfers/rpc/setup-completion\"\n",
    "payload = {\n",
    "    \"consumerParticipantId\": data_space_consumer_participant_id,\n",
    "    \"consumerCallbackAddress\": callback_address,\n",
    "    \"providerPid\": transfer_provider_id,\n",
    "    \"consumerPid\": transfer_consumer_id,\n",
    "}\n",
    "response = requests.request(\"POST\", url, headers=json_header, data=json.dumps(payload))\n",
    "response_as_json = response.json()\n",
    "print(json.dumps(response_as_json, indent=2))"
   ],
   "id": "a3bf1f3c1beb4e3",
   "outputs": [
    {
     "name": "stdout",
     "output_type": "stream",
     "text": [
      "{\n",
      "  \"providerPid\": \"urn:uuid:590cb615-954b-4e2a-967c-ed8f162d60f1\",\n",
      "  \"consumerPid\": \"urn:uuid:b3324461-ae16-42b8-a3e5-cdeeedb4528f\",\n",
      "  \"message\": {\n",
      "    \"@context\": [\n",
      "      \"https://w3id.org/dspace/2025/1/context.jsonld\"\n",
      "    ],\n",
      "    \"@type\": \"TransferProcess\",\n",
      "    \"providerPid\": \"urn:uuid:590cb615-954b-4e2a-967c-ed8f162d60f1\",\n",
      "    \"consumerPid\": \"urn:uuid:b3324461-ae16-42b8-a3e5-cdeeedb4528f\",\n",
      "    \"state\": \"COMPLETED\"\n",
      "  }\n",
      "}\n"
     ]
    }
   ],
   "execution_count": 340
  },
  {
   "metadata": {
    "ExecuteTime": {
     "end_time": "2025-06-18T22:35:21.886090Z",
     "start_time": "2025-06-18T22:35:21.884291Z"
    }
   },
   "cell_type": "code",
   "source": "",
   "id": "b0228ad8522b7a49",
   "outputs": [],
   "execution_count": null
  },
  {
   "metadata": {
    "ExecuteTime": {
     "end_time": "2025-06-18T22:35:21.895232Z",
     "start_time": "2025-06-18T22:35:21.893502Z"
    }
   },
   "cell_type": "code",
   "source": "",
   "id": "99b0cb0b417c143a",
   "outputs": [],
   "execution_count": null
  },
  {
   "metadata": {
    "ExecuteTime": {
     "end_time": "2025-06-18T22:35:21.908674Z",
     "start_time": "2025-06-18T22:35:21.907184Z"
    }
   },
   "cell_type": "code",
   "source": "",
   "id": "a60358323bff1fad",
   "outputs": [],
   "execution_count": null
  },
  {
   "metadata": {
    "ExecuteTime": {
     "end_time": "2025-06-18T22:35:21.922922Z",
     "start_time": "2025-06-18T22:35:21.921241Z"
    }
   },
   "cell_type": "code",
   "source": "",
   "id": "b0cde08f81af69f3",
   "outputs": [],
   "execution_count": null
  }
 ],
 "metadata": {
  "kernelspec": {
   "name": "python3",
   "language": "python",
   "display_name": "Python 3 (ipykernel)"
  }
 },
 "nbformat": 5,
 "nbformat_minor": 9
}
